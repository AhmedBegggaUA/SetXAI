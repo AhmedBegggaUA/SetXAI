{
 "cells": [
  {
   "cell_type": "code",
   "execution_count": null,
   "id": "9885f586",
   "metadata": {},
   "outputs": [],
   "source": [
    "import sys\n",
    "sys.path.insert(0, '../../')"
   ]
  },
  {
   "cell_type": "code",
   "execution_count": null,
   "id": "cb8167cc",
   "metadata": {},
   "outputs": [],
   "source": [
    "!ls"
   ]
  },
  {
   "cell_type": "code",
   "execution_count": null,
   "id": "f5eaa409",
   "metadata": {},
   "outputs": [],
   "source": [
    "import torch\n",
    "import torch.nn as nn\n",
    "import torch.nn.functional as F\n",
    "from src.model import MeanEncoder\n",
    "from MnistSet import MNISTSet\n",
    "from MnistSet import get_loader"
   ]
  },
  {
   "cell_type": "code",
   "execution_count": null,
   "id": "4e73951a",
   "metadata": {},
   "outputs": [],
   "source": [
    "batch_size = 32"
   ]
  },
  {
   "cell_type": "code",
   "execution_count": null,
   "id": "601bcdda",
   "metadata": {},
   "outputs": [],
   "source": [
    "train_loader = get_loader(\n",
    "            MNISTSet(train=True, full=True), batch_size=batch_size, num_workers=4)"
   ]
  },
  {
   "cell_type": "code",
   "execution_count": null,
   "id": "2e247b76",
   "metadata": {},
   "outputs": [],
   "source": [
    "test_loader = get_loader(\n",
    "            MNISTSet(train=False, full=True), batch_size=batch_size, num_workers=4)"
   ]
  },
  {
   "cell_type": "code",
   "execution_count": null,
   "id": "2a609fad",
   "metadata": {},
   "outputs": [],
   "source": [
    "from time import sleep\n",
    "from tqdm import tqdm"
   ]
  },
  {
   "cell_type": "code",
   "execution_count": null,
   "id": "7e2813eb",
   "metadata": {},
   "outputs": [],
   "source": [
    "set_channels = 2\n",
    "set_size = 342\n",
    "  \n",
    "hidden_dim = 32\n",
    "iters = 10\n",
    "latent_dim = 16\n",
    "lr = 0.001\n",
    "n_epochs = 100\n",
    "net = MeanEncoder(set_channels,latent_dim,hidden_dim)"
   ]
  },
  {
   "cell_type": "code",
   "execution_count": null,
   "id": "892fbc76",
   "metadata": {},
   "outputs": [],
   "source": [
    "net"
   ]
  },
  {
   "cell_type": "code",
   "execution_count": null,
   "id": "bb179dea",
   "metadata": {},
   "outputs": [],
   "source": [
    "optimizer = torch.optim.Adam([p for p in net.parameters() if p.requires_grad], lr=0.001)"
   ]
  },
  {
   "cell_type": "code",
   "execution_count": null,
   "id": "4d37b7b3",
   "metadata": {},
   "outputs": [],
   "source": [
    "net.train()\n",
    "for epoch in range(n_epochs):\n",
    "    with tqdm(train_loader, unit=\"batch\") as tepoch:\n",
    "        for i, sample in enumerate(tepoch):\n",
    "            tepoch.set_description(f\"Epoch {epoch}\")\n",
    "            input, target_set, target_mask = map(lambda x: x, sample)\n",
    "            #print(target_set.shape)\n",
    "            optimizer.zero_grad()\n",
    "            output = net(target_set,target_mask)\n",
    "            loss = F.cross_entropy(output, input)\n",
    "            acc = (output.max(dim=1)[1] == input).float().mean()\n",
    "            loss.backward()\n",
    "            optimizer.step()\n",
    "            tepoch.set_postfix(loss=loss.item(), acc=100. * acc.item())"
   ]
  },
  {
   "cell_type": "code",
   "execution_count": null,
   "id": "42c98434",
   "metadata": {},
   "outputs": [],
   "source": [
    "net.eval()\n",
    "with tqdm(test_loader, unit=\"batch\") as tepoch:\n",
    "    for i, sample in enumerate(tepoch):\n",
    "        tepoch.set_description(f\"Epoch {1}\")\n",
    "        input, target_set, target_mask = map(lambda x: x, sample)\n",
    "        output = net(target_set,target_mask)\n",
    "        loss = F.cross_entropy(output, input)\n",
    "        acc = (output.max(dim=1)[1] == input).float().mean()\n",
    "        tepoch.set_postfix(loss=loss.item(), acc=100. * acc.item())"
   ]
  },
  {
   "cell_type": "code",
   "execution_count": null,
   "id": "485df27b",
   "metadata": {},
   "outputs": [],
   "source": [
    "torch.save(net.state_dict(),'model_mean_encoder.pth')"
   ]
  }
 ],
 "metadata": {
  "kernelspec": {
   "display_name": "Python 3 (ipykernel)",
   "language": "python",
   "name": "python3"
  },
  "language_info": {
   "codemirror_mode": {
    "name": "ipython",
    "version": 3
   },
   "file_extension": ".py",
   "mimetype": "text/x-python",
   "name": "python",
   "nbconvert_exporter": "python",
   "pygments_lexer": "ipython3",
   "version": "3.8.13"
  }
 },
 "nbformat": 4,
 "nbformat_minor": 5
}
