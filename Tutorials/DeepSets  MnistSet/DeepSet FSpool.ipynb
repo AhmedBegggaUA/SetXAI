{
 "cells": [
  {
   "cell_type": "markdown",
   "id": "1ebac02f",
   "metadata": {
    "id": "1ebac02f"
   },
   "source": [
    "## Clasificación de los dígitos de Mnist en forma de set de puntos"
   ]
  },
  {
   "cell_type": "code",
   "execution_count": 1,
   "id": "eec49162",
   "metadata": {
    "id": "eec49162"
   },
   "outputs": [],
   "source": [
    "import sys\n",
    "sys.path.insert(0, '/Users/ahmedbegga/Desktop/TFG-Ahmed/SetXAI/')\n",
    "import torch\n",
    "import torch.nn as nn\n",
    "import torch.nn.functional as F\n",
    "from src.utils import *\n",
    "from src.fspool import *\n",
    "from src.model import *\n",
    "from data.MnistSet import *\n",
    "from time import sleep\n",
    "from tqdm import tqdm"
   ]
  },
  {
   "cell_type": "markdown",
   "id": "44398267",
   "metadata": {
    "id": "44398267"
   },
   "source": [
    "### Preparamos los datos de entreno y test"
   ]
  },
  {
   "cell_type": "code",
   "execution_count": 2,
   "id": "131c27bb",
   "metadata": {
    "id": "131c27bb"
   },
   "outputs": [],
   "source": [
    "batch_size = 32"
   ]
  },
  {
   "cell_type": "code",
   "execution_count": 3,
   "id": "f8fc83cc",
   "metadata": {
    "colab": {
     "base_uri": "https://localhost:8080/"
    },
    "id": "f8fc83cc",
    "outputId": "d576727e-8cf9-4079-c40a-19bb4960fd59"
   },
   "outputs": [],
   "source": [
    "train_loader = get_loader(\n",
    "            MNISTSet(train=True, full=True), batch_size=batch_size, num_workers=4)"
   ]
  },
  {
   "cell_type": "code",
   "execution_count": 4,
   "id": "042869da",
   "metadata": {
    "colab": {
     "base_uri": "https://localhost:8080/"
    },
    "id": "042869da",
    "outputId": "13389be2-34ff-409c-d40c-706630eca054"
   },
   "outputs": [],
   "source": [
    "test_loader = get_loader(\n",
    "            MNISTSet(train=False, full=True), batch_size=batch_size, num_workers=4)"
   ]
  },
  {
   "cell_type": "code",
   "execution_count": 5,
   "id": "5c853ace",
   "metadata": {
    "id": "5c853ace"
   },
   "outputs": [],
   "source": [
    "set_channels = 2\n",
    "set_size = 342\n",
    "hidden_dim = 32\n",
    "latent_dim = 16\n",
    "lr = 0.001\n",
    "n_epochs = 10\n",
    "net = FSEncoder(set_channels,latent_dim,hidden_dim)"
   ]
  },
  {
   "cell_type": "code",
   "execution_count": 6,
   "id": "Q0kJD0qnHWGR",
   "metadata": {
    "id": "Q0kJD0qnHWGR"
   },
   "outputs": [],
   "source": [
    "optimizer = torch.optim.Adam([p for p in net.parameters() if p.requires_grad], lr=0.001)"
   ]
  },
  {
   "cell_type": "code",
   "execution_count": 7,
   "id": "1ed41aa6",
   "metadata": {
    "id": "1ed41aa6"
   },
   "outputs": [
    {
     "data": {
      "text/plain": [
       "FSEncoder(\n",
       "  (conv): Sequential(\n",
       "    (0): Conv1d(2, 32, kernel_size=(1,), stride=(1,))\n",
       "    (1): ReLU(inplace=True)\n",
       "    (2): Conv1d(32, 32, kernel_size=(1,), stride=(1,))\n",
       "  )\n",
       "  (lin): Sequential(\n",
       "    (0): Linear(in_features=32, out_features=32, bias=True)\n",
       "    (1): ReLU(inplace=True)\n",
       "    (2): Linear(in_features=32, out_features=16, bias=True)\n",
       "  )\n",
       "  (classifier): Sequential(\n",
       "    (0): Linear(in_features=16, out_features=16, bias=True)\n",
       "    (1): ReLU()\n",
       "    (2): Linear(in_features=16, out_features=10, bias=True)\n",
       "  )\n",
       "  (pool): FSPool()\n",
       ")"
      ]
     },
     "execution_count": 7,
     "metadata": {},
     "output_type": "execute_result"
    }
   ],
   "source": [
    "net"
   ]
  },
  {
   "cell_type": "code",
   "execution_count": null,
   "id": "552283a8",
   "metadata": {
    "colab": {
     "base_uri": "https://localhost:8080/"
    },
    "id": "552283a8",
    "outputId": "13872a25-e5cd-420e-bba5-a8e4ce61f182"
   },
   "outputs": [],
   "source": [
    "net.train()\n",
    "for epoch in range(n_epochs):\n",
    "    with tqdm(train_loader, unit=\"batch\") as tepoch:\n",
    "        for i, sample in enumerate(tepoch):\n",
    "            tepoch.set_description(f\"Epoch {epoch}\")\n",
    "            input, target_set, target_mask = map(lambda x: x, sample)\n",
    "            optimizer.zero_grad()\n",
    "            output = net(target_set,target_mask)\n",
    "            loss = F.cross_entropy(output, input)\n",
    "            acc = (output.max(dim=1)[1] == input).float().mean()\n",
    "            loss.backward()\n",
    "            optimizer.step()\n",
    "            tepoch.set_postfix(loss=loss.item(), acc=100. * acc.item())"
   ]
  },
  {
   "cell_type": "code",
   "execution_count": null,
   "id": "eHXREpdVHywV",
   "metadata": {
    "colab": {
     "base_uri": "https://localhost:8080/"
    },
    "id": "eHXREpdVHywV",
    "outputId": "5eaf4c80-068a-499f-9455-b31ebcb5ec45"
   },
   "outputs": [],
   "source": [
    "net.eval()\n",
    "with tqdm(test_loader, unit=\"batch\") as tepoch:\n",
    "    for i, sample in enumerate(tepoch):\n",
    "        tepoch.set_description(f\"Epoch {1}\")\n",
    "        input, target_set, target_mask = map(lambda x: x.cuda(), sample)\n",
    "        output = net(target_set,target_mask)\n",
    "        loss = F.cross_entropy(output, input)\n",
    "        acc = (output.max(dim=1)[1] == input).float().mean()\n",
    "        tepoch.set_postfix(loss=loss.item(), acc=100. * acc.item())"
   ]
  },
  {
   "cell_type": "code",
   "execution_count": null,
   "id": "ac22cc0a",
   "metadata": {
    "id": "ac22cc0a"
   },
   "outputs": [],
   "source": [
    "#torch.save(net.state_dict(),'model.pth')"
   ]
  },
  {
   "cell_type": "code",
   "execution_count": 8,
   "id": "D8ViyjmmmjLp",
   "metadata": {
    "id": "D8ViyjmmmjLp"
   },
   "outputs": [],
   "source": [
    "model = torch.load('./FSEncoder_model_mnist.pth' ,map_location=torch.device('cpu'))\n",
    "miNet = FSEncoder(set_channels,latent_dim,hidden_dim)"
   ]
  },
  {
   "cell_type": "code",
   "execution_count": 9,
   "id": "DAGv7KMIm5cA",
   "metadata": {
    "colab": {
     "base_uri": "https://localhost:8080/"
    },
    "id": "DAGv7KMIm5cA",
    "outputId": "3b0b7405-3f2c-4da7-c820-951df018a64b"
   },
   "outputs": [
    {
     "data": {
      "text/plain": [
       "<All keys matched successfully>"
      ]
     },
     "execution_count": 9,
     "metadata": {},
     "output_type": "execute_result"
    }
   ],
   "source": [
    "miNet.load_state_dict(torch.load('./FSEncoder_model_mnist.pth' ,map_location=torch.device('cpu')))"
   ]
  },
  {
   "cell_type": "code",
   "execution_count": null,
   "id": "-ZqURtZOml2o",
   "metadata": {
    "colab": {
     "base_uri": "https://localhost:8080/"
    },
    "id": "-ZqURtZOml2o",
    "outputId": "da2fba4e-e25a-450d-94e9-3323b01c8e15"
   },
   "outputs": [
    {
     "name": "stderr",
     "output_type": "stream",
     "text": [
      "Epoch 0:  48%|█████████████▉               | 150/312 [03:49<04:32,  1.68s/batch, acc=100, loss=0.0423]"
     ]
    }
   ],
   "source": [
    "miNet = miNet\n",
    "miNet.eval()\n",
    "losses = []\n",
    "accs = []\n",
    "with tqdm(test_loader, unit=\"batch\") as tepoch:\n",
    "    for i, sample in enumerate(tepoch):\n",
    "        tepoch.set_description(f\"Epoch {0}\")\n",
    "        input, target_set, target_mask = map(lambda x: x, sample)\n",
    "        output = miNet(target_set,target_mask)\n",
    "        loss = F.cross_entropy(output, input)\n",
    "        acc = (output.max(dim=1)[1] == input).float().mean()\n",
    "        losses.append(loss.item())\n",
    "        accs.append(acc.item())\n",
    "        tepoch.set_postfix(loss=loss.item(), acc=100. * acc.item())\n",
    "print('loss: {}, acc: {}'.format(round(sum(losses)/len(losses),2),round(sum(accs)/len(accs),2)))"
   ]
  },
  {
   "cell_type": "code",
   "execution_count": null,
   "id": "1ec454af",
   "metadata": {},
   "outputs": [],
   "source": [
    "for name, param in miNet.named_parameters():\n",
    "    print(name, param.size())"
   ]
  },
  {
   "cell_type": "code",
   "execution_count": null,
   "id": "e240c09e",
   "metadata": {},
   "outputs": [],
   "source": [
    "model.classifier = nn.Sequential(*[miNet.conv[i] for i in range(3)])\n",
    "print(model.classifier)"
   ]
  },
  {
   "cell_type": "markdown",
   "id": "f3e7a48e",
   "metadata": {},
   "source": [
    "## Puntos Críticos"
   ]
  },
  {
   "cell_type": "code",
   "execution_count": null,
   "id": "1c69b3b6",
   "metadata": {},
   "outputs": [],
   "source": [
    "get_weight(miNet)"
   ]
  },
  {
   "cell_type": "code",
   "execution_count": null,
   "id": "77027b9c",
   "metadata": {},
   "outputs": [],
   "source": [
    "dataset_mnist_set = MNISTSet(full=True)\n",
    "class_names =   [ 0 , 1 , 2,  3 , 4 , 5 , 6 , 7 ,  8 ,  9]\n",
    "sampleSet = []\n",
    "sampleMask = []\n",
    "for i in range(len(class_names)):\n",
    "    for j in range(len(dataset_mnist_set)):\n",
    "        if i == dataset_mnist_set[j][0]:\n",
    "            sampleSet.append(dataset_mnist_set[j][1])\n",
    "            sampleMask.append(dataset_mnist_set[j][2])\n",
    "            break\n",
    "fig = plt.figure(figsize=(20, 20))\n",
    "\n",
    "for i,set in enumerate(sampleSet):\n",
    "    ax = fig.add_subplot(5, 5, i+1)\n",
    "    x = set[1, :]\n",
    "    y = set[0, :]\n",
    "    plt.scatter(x, y,color = 'k')\n",
    "    plt.axis([0, 1, 1, 0])\n",
    "    plt.title('Label: {}'.format(i))"
   ]
  },
  {
   "cell_type": "code",
   "execution_count": null,
   "id": "0a17c162",
   "metadata": {},
   "outputs": [],
   "source": [
    "with torch.no_grad():\n",
    "    for i in range(len(sampleSet)):\n",
    "        pred = miNet(sampleSet[i].unsqueeze(0),sampleMask[i].unsqueeze(0))\n",
    "        print(\"We obtained {}, and the expected is: {} with probaility\".format(np.argmax(pred).item(),class_names[i]))"
   ]
  },
  {
   "cell_type": "code",
   "execution_count": null,
   "id": "81af855d",
   "metadata": {},
   "outputs": [],
   "source": [
    "model1 = MaxEncoder(set_channels,latent_dim,hidden_dim)\n",
    "model1 = torch.nn.Sequential(*(list(miNet.children())[:-3]))\n",
    "print(model1)"
   ]
  },
  {
   "cell_type": "code",
   "execution_count": null,
   "id": "bd1e9c1f",
   "metadata": {},
   "outputs": [],
   "source": [
    "with torch.no_grad():\n",
    "    fig, ax = plt.subplots(1, 1, figsize=(15,5))\n",
    "    plt.subplot(1,2,1) \n",
    "    pred = model1(sampleSet[8].unsqueeze(0))\n",
    "    feature_map = pred\n",
    "    data = pred.squeeze(0).detach().numpy()\n",
    "    sn.heatmap(data, annot=False, fmt='g')\n",
    "    plt.title(\"Salida después de la primera capa\")\n",
    "    plt.subplot(1,2,2) \n",
    "    pred = pred.max(2)[0]\n",
    "    max_map = pred\n",
    "    print(max_map.shape)\n",
    "    data = pred.detach().numpy()\n",
    "    sn.heatmap(data, annot=False, fmt='g')\n",
    "    plt.title(\"Salida después de la operación invariante al orden\")\n",
    "    plt.show()"
   ]
  },
  {
   "cell_type": "code",
   "execution_count": null,
   "id": "46391ca9",
   "metadata": {},
   "outputs": [],
   "source": [
    "def critical_points_MaxEncoder(model, sample):\n",
    "    critical_points_y = []\n",
    "    critical_points_x = []\n",
    "    #Salida de la capa de convoluciones\n",
    "    pred = model(sample.unsqueeze(0))\n",
    "    features_map = pred.squeeze(0)\n",
    "    #print(features_map.shape)\n",
    "    #Aplicamos la operación invariante max\n",
    "    xmax = features_map.max(axis=1)[0]\n",
    "    #print(xmax.shape)\n",
    "    xmaxargs = features_map.argmax(axis=1)\n",
    "    #No nos quedamos con las coordenadas repetidas\n",
    "    newxmaxargs = np.unique(xmaxargs)\n",
    "    points = sample.numpy()\n",
    "    '''\n",
    "    critical = np.zeros(342)\n",
    "    for f in range(32):\n",
    "        for p in range(342):\n",
    "            if features_map[f,p] == xmax[f]:\n",
    "                critical[p] =critical[p]+1\n",
    "    sorted_critical = np.sort(-critical)\n",
    "    sorted_critical_args = -np.argsort(-critical)\n",
    "    print(sorted_critical_args*-1)\n",
    "    '''\n",
    "    \n",
    "    for k in range(len(newxmaxargs)):\n",
    "        critical_points_y.append(points[0,newxmaxargs[k]])\n",
    "        critical_points_x.append(points[1,newxmaxargs[k]])\n",
    "    x = np.array(critical_points_x)\n",
    "    y = np.array(critical_points_y)\n",
    "    s = np.stack((y,x))\n",
    "    return s "
   ]
  },
  {
   "cell_type": "code",
   "execution_count": null,
   "id": "7c9f46f0",
   "metadata": {},
   "outputs": [],
   "source": [
    "crit = dataset_mnist_set[800][1]\n",
    "s = critical_points_MaxEncoder(model1,crit)\n",
    "s.shape"
   ]
  },
  {
   "cell_type": "markdown",
   "id": "7ba28630",
   "metadata": {},
   "source": [
    "## Visualización de los puntos críticos"
   ]
  },
  {
   "cell_type": "code",
   "execution_count": null,
   "id": "fe9da133",
   "metadata": {},
   "outputs": [],
   "source": [
    "fig = plt.figure(figsize=(20, 20))\n",
    "for i,set in enumerate(sampleSet):\n",
    "    crit = critical_points_MaxEncoder(model1,set)\n",
    "    ax = fig.add_subplot(5, 5, i+1)\n",
    "    x = set[1, :]\n",
    "    y = set[0, :]\n",
    "    plt.scatter(x, y,color = 'c',s=40)\n",
    "    x = crit[1, :]\n",
    "    y = crit[0, :]\n",
    "    plt.scatter(x, y,marker='o',color = 'r',s=70)\n",
    "    plt.axis([0, 1, 1, 0])\n",
    "    plt.title('Puntos Criticos')\n",
    "plt.show()"
   ]
  },
  {
   "cell_type": "code",
   "execution_count": null,
   "id": "c27da29b",
   "metadata": {},
   "outputs": [],
   "source": [
    "crit = dataset_mnist_set[34][1]\n",
    "s = critical_points_MaxEncoder(model1,crit)\n",
    "st = torch.Tensor(s).unsqueeze(0)\n",
    "print(st.shape)\n",
    "muestraSintetica = torch.zeros(1,2,0)\n",
    "muestraSintetica = torch.cat((st,muestraSintetica,),2)\n",
    "mask_sintetica = torch.ones(1,st.size(2))\n",
    "print(muestraSintetica.shape)\n",
    "print(mask_sintetica.shape)"
   ]
  },
  {
   "cell_type": "code",
   "execution_count": null,
   "id": "24436ee0",
   "metadata": {},
   "outputs": [],
   "source": [
    "sam = muestraSintetica.squeeze(0)\n",
    "#print(sam)\n",
    "fig = plt.figure(figsize=(10, 5))\n",
    "ax = fig.add_subplot(1, 2,1)\n",
    "x1 = s[1, :]\n",
    "y1 = s[0, :]\n",
    "plt.scatter(x1, y1,c ='r',s=40)\n",
    "#plt.scatter(x1, y1,marker='x',color ='r')\n",
    "plt.axis([0, 1, 1, 0])\n",
    "ax = fig.add_subplot(1, 2,2)\n",
    "x = crit[1, :]\n",
    "y = crit[0, :]\n",
    "plt.scatter(x, y,marker='o',color = 'k',s=70)\n",
    "plt.axis([0, 1, 1, 0])\n",
    "plt.title('Puntos Criticos')\n",
    "plt.scatter(x1, y1,marker='o',color ='r')\n",
    "plt.show()"
   ]
  },
  {
   "cell_type": "code",
   "execution_count": null,
   "id": "30243bba",
   "metadata": {},
   "outputs": [],
   "source": [
    "same = 0\n",
    "not_same = 0\n",
    "for i, sample in enumerate(dataset_mnist_set):\n",
    "    s = critical_points_MaxEncoder(model1,sample[1])\n",
    "    st = torch.Tensor(s).unsqueeze(0)\n",
    "    pred = miNet(muestraSintetica,mask_sintetica)\n",
    "    muestraSintetica = torch.zeros(1,2,0)\n",
    "    muestraSintetica = torch.cat((st,muestraSintetica,),2)\n",
    "    mask_sintetica = torch.ones(1,st.size(2))\n",
    "    predMax = miNet(muestraSintetica,mask_sintetica)\n",
    "    pred = miNet(sample[1].unsqueeze(0),sample[2].unsqueeze(0))\n",
    "    if predMax.argmax() == pred.argmax()  :\n",
    "        same+=1\n",
    "    else:\n",
    "        not_same+=1\n",
    "print(\"Aciertos: \",same)\n",
    "print(\"Falladis: \",not_same)"
   ]
  },
  {
   "cell_type": "code",
   "execution_count": 44,
   "id": "627d446f",
   "metadata": {},
   "outputs": [
    {
     "data": {
      "image/png": "[encoded data removed]",
      "text/plain": [
       "<Figure size 432x288 with 1 Axes>"
      ]
     },
     "metadata": {
      "needs_background": "light"
     },
     "output_type": "display_data"
    },
    {
     "data": {
      "image/png": "[encoded data removed]",
      "text/plain": [
       "<Figure size 432x288 with 1 Axes>"
      ]
     },
     "metadata": {
      "needs_background": "light"
     },
     "output_type": "display_data"
    }
   ],
   "source": [
    "sam = sample.squeeze(0).numpy()\n",
    "x = sam[1, :]\n",
    "y = sam[0, :]\n",
    "pyplot.scatter(x, y,color ='b')\n",
    "x2 = critical_points_ahmed_x\n",
    "y2 = critical_points_ahmed_y\n",
    "pyplot.scatter(x2, y2,marker='x',color ='r')\n",
    "pyplot.axis([0, 1, 1, 0])\n",
    "pyplot.title('Label: {}'.format(expected))\n",
    "#plt.savefig('test.png')\n",
    "pyplot.show()\n",
    "\n",
    "x2 = critical_points_ahmed_x\n",
    "y2 = critical_points_ahmed_y\n",
    "pyplot.scatter(x2, y2,marker='x',color ='g')\n",
    "pyplot.axis([0, 1, 1, 0])\n",
    "pyplot.show()"
   ]
  },
  {
   "cell_type": "code",
   "execution_count": 45,
   "id": "a5376a85",
   "metadata": {},
   "outputs": [],
   "source": [
    "maxes = model2.pool.truco.argmin(2)[0].squeeze(0).numpy()\n",
    "mines = model2.pool.truco.argmax(2)[0].squeeze(0).numpy()"
   ]
  },
  {
   "cell_type": "code",
   "execution_count": 46,
   "id": "6dd253b4",
   "metadata": {},
   "outputs": [
    {
     "name": "stdout",
     "output_type": "stream",
     "text": [
      "64\n"
     ]
    }
   ],
   "source": [
    "points = sample.squeeze(0).numpy()\n",
    "critical_points_ahmed_x = []\n",
    "critical_points_ahmed_y = []\n",
    "for k in range(len(maxes)):\n",
    "    critical_points_ahmed_y.append(points[0,maxes[k]])\n",
    "    critical_points_ahmed_x.append(points[1,maxes[k]])\n",
    "for k in range(len(mines)):\n",
    "    critical_points_ahmed_y.append(points[0,mines[k]])\n",
    "    critical_points_ahmed_x.append(points[1,mines[k]])\n",
    "#criticos = critical_points.reshape(2,100)\n",
    "#print(critical_points_x)\n",
    "print(len(critical_points_ahmed_x))"
   ]
  },
  {
   "cell_type": "code",
   "execution_count": 47,
   "id": "42324792",
   "metadata": {},
   "outputs": [
    {
     "data": {
      "image/png": "[encoded data removed]",
      "text/plain": [
       "<Figure size 432x288 with 1 Axes>"
      ]
     },
     "metadata": {
      "needs_background": "light"
     },
     "output_type": "display_data"
    },
    {
     "data": {
      "image/png": "[encoded data removed]",
      "text/plain": [
       "<Figure size 432x288 with 1 Axes>"
      ]
     },
     "metadata": {
      "needs_background": "light"
     },
     "output_type": "display_data"
    }
   ],
   "source": [
    "sam = sample.squeeze(0).numpy()\n",
    "x = sam[1, :]\n",
    "y = sam[0, :]\n",
    "pyplot.scatter(x, y,color ='b')\n",
    "x2 = critical_points_ahmed_x\n",
    "y2 = critical_points_ahmed_y\n",
    "pyplot.scatter(x2, y2,marker='x',color ='r')\n",
    "pyplot.axis([0, 1, 1, 0])\n",
    "pyplot.title('Label: {}'.format(expected))\n",
    "#plt.savefig('test.png')\n",
    "pyplot.show()\n",
    "\n",
    "x2 = critical_points_ahmed_x\n",
    "y2 = critical_points_ahmed_y\n",
    "pyplot.scatter(x2, y2,marker='x',color ='g')\n",
    "pyplot.axis([0, 1, 1, 0])\n",
    "pyplot.show()"
   ]
  },
  {
   "cell_type": "markdown",
   "id": "dcad0455",
   "metadata": {},
   "source": [
    "La problematica aqui es que con la operación del fspool, lo que se hace es coger y aplicarle al tensor de entrada de [1,32,342] unos pesos (de los cuales supuestamente salen de hacer una interpolación) y una vez que se realiza dicho producto, se suma la dimensión 2.\n",
    "A la hora de hacer el unpooling, no se hace del todo debido a que creo que el código esta mal o algo, ya que lo que hace es coger el tensor fspool, y aplicarle nuevamente el vector de pesos(?), cosa que creo que esta mal y que lo mas conveniente sería aplicarle la inversa de dichos pesos "
   ]
  },
  {
   "cell_type": "code",
   "execution_count": null,
   "id": "d6e5ed08",
   "metadata": {},
   "outputs": [],
   "source": []
  },
  {
   "cell_type": "code",
   "execution_count": null,
   "id": "93152670",
   "metadata": {},
   "outputs": [],
   "source": [
    "miNet.pool.ahmed"
   ]
  },
  {
   "cell_type": "code",
   "execution_count": null,
   "id": "cf5670c7",
   "metadata": {},
   "outputs": [],
   "source": [
    "with torch.no_grad():\n",
    "    pool = FSPool(2, 1,True)\n",
    "    x = torch.arange(0, 2*3*4).view(3, 2, 4).float()\n",
    "    print('x', x)\n",
    "    y, perm = pool(x)\n",
    "    print('perm')\n",
    "    print(perm)\n",
    "    print('result')\n",
    "    print(y.sum())\n",
    "    z,m = pool.forward_transpose(y,perm)\n",
    "    print(z)\n",
    "    tensorFspool = x[0]\n",
    "    print(tensorFspool)\n",
    "    print(pool.forward(tensorFspool))"
   ]
  },
  {
   "cell_type": "code",
   "execution_count": null,
   "id": "3c78e9df",
   "metadata": {},
   "outputs": [],
   "source": []
  }
 ],
 "metadata": {
  "accelerator": "GPU",
  "colab": {
   "collapsed_sections": [],
   "name": "Clasificador_DeepSet.ipynb",
   "provenance": []
  },
  "kernelspec": {
   "display_name": "Python 3 (ipykernel)",
   "language": "python",
   "name": "python3"
  },
  "language_info": {
   "codemirror_mode": {
    "name": "ipython",
    "version": 3
   },
   "file_extension": ".py",
   "mimetype": "text/x-python",
   "name": "python",
   "nbconvert_exporter": "python",
   "pygments_lexer": "ipython3",
   "version": "3.8.13"
  }
 },
 "nbformat": 4,
 "nbformat_minor": 5
}
