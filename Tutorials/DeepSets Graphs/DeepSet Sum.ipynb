{
 "cells": [
  {
   "cell_type": "code",
   "execution_count": 1,
   "id": "d84542cc",
   "metadata": {},
   "outputs": [
    {
     "name": "stdout",
     "output_type": "stream",
     "text": [
      "DeepSet Max.ipynb DeepSet Sum.ipynb \u001b[34mdata\u001b[m\u001b[m\r\n"
     ]
    }
   ],
   "source": [
    "!ls"
   ]
  },
  {
   "cell_type": "code",
   "execution_count": 2,
   "id": "c5b73626",
   "metadata": {},
   "outputs": [
    {
     "name": "stdout",
     "output_type": "stream",
     "text": [
      "\n",
      "Dataset: MUTAG(188):\n",
      "====================\n",
      "Number of graphs: 188\n",
      "Number of features: 7\n",
      "Number of classes: 2\n",
      "\n",
      "Data(edge_index=[2, 38], x=[17, 7], edge_attr=[38, 4], y=[1])\n",
      "=============================================================\n",
      "Number of nodes: 17\n",
      "Number of edges: 38\n",
      "Average node degree: 2.24\n",
      "Has isolated nodes: False\n",
      "Has self-loops: False\n",
      "Is undirected: True\n"
     ]
    }
   ],
   "source": [
    "import torch\n",
    "from torch_geometric.datasets import TUDataset\n",
    "\n",
    "dataset = TUDataset(root='data/TUDataset', name='MUTAG')\n",
    "\n",
    "print()\n",
    "print(f'Dataset: {dataset}:')\n",
    "print('====================')\n",
    "print(f'Number of graphs: {len(dataset)}')\n",
    "print(f'Number of features: {dataset.num_features}')\n",
    "print(f'Number of classes: {dataset.num_classes}')\n",
    "\n",
    "data = dataset[0]  # Get the first graph object.\n",
    "\n",
    "print()\n",
    "print(data)\n",
    "print('=============================================================')\n",
    "\n",
    "# Gather some statistics about the first graph.\n",
    "print(f'Number of nodes: {data.num_nodes}')\n",
    "print(f'Number of edges: {data.num_edges}')\n",
    "print(f'Average node degree: {data.num_edges / data.num_nodes:.2f}')\n",
    "print(f'Has isolated nodes: {data.has_isolated_nodes()}')\n",
    "print(f'Has self-loops: {data.has_self_loops()}')\n",
    "print(f'Is undirected: {data.is_undirected()}')"
   ]
  },
  {
   "cell_type": "code",
   "execution_count": 3,
   "id": "897381ef",
   "metadata": {},
   "outputs": [
    {
     "data": {
      "text/plain": [
       "150.4"
      ]
     },
     "execution_count": 3,
     "metadata": {},
     "output_type": "execute_result"
    }
   ],
   "source": [
    "188*0.8"
   ]
  },
  {
   "cell_type": "code",
   "execution_count": 4,
   "id": "89a3ce9e",
   "metadata": {},
   "outputs": [
    {
     "name": "stdout",
     "output_type": "stream",
     "text": [
      "Number of training graphs: 150\n",
      "Number of test graphs: 38\n"
     ]
    }
   ],
   "source": [
    "#torch.manual_seed(12345)\n",
    "dataset = dataset.shuffle()\n",
    "\n",
    "train_dataset = dataset[:150]\n",
    "test_dataset = dataset[150:]\n",
    "\n",
    "print(f'Number of training graphs: {len(train_dataset)}')\n",
    "print(f'Number of test graphs: {len(test_dataset)}')"
   ]
  },
  {
   "cell_type": "code",
   "execution_count": 5,
   "id": "4d75c176",
   "metadata": {},
   "outputs": [
    {
     "name": "stdout",
     "output_type": "stream",
     "text": [
      "Step 1:\n",
      "=======\n",
      "Number of graphs in the current batch: 64\n",
      "DataBatch(edge_index=[2, 2532], x=[1144, 7], edge_attr=[2532, 4], y=[64], batch=[1144], ptr=[65])\n",
      "\n",
      "Step 2:\n",
      "=======\n",
      "Number of graphs in the current batch: 64\n",
      "DataBatch(edge_index=[2, 2436], x=[1111, 7], edge_attr=[2436, 4], y=[64], batch=[1111], ptr=[65])\n",
      "\n",
      "Step 3:\n",
      "=======\n",
      "Number of graphs in the current batch: 22\n",
      "DataBatch(edge_index=[2, 904], x=[409, 7], edge_attr=[904, 4], y=[22], batch=[409], ptr=[23])\n",
      "\n"
     ]
    }
   ],
   "source": [
    "from torch_geometric.loader import DataLoader\n",
    "\n",
    "train_loader = DataLoader(train_dataset, batch_size=64, shuffle=True)\n",
    "test_loader = DataLoader(test_dataset, batch_size=64, shuffle=False)\n",
    "\n",
    "for step, data in enumerate(train_loader):\n",
    "    print(f'Step {step + 1}:')\n",
    "    print('=======')\n",
    "    print(f'Number of graphs in the current batch: {data.num_graphs}')\n",
    "    print(data)\n",
    "    print()"
   ]
  },
  {
   "cell_type": "code",
   "execution_count": 6,
   "id": "afb3143c",
   "metadata": {},
   "outputs": [
    {
     "name": "stdout",
     "output_type": "stream",
     "text": [
      "GCN(\n",
      "  (conv1): GCNConv(7, 18)\n",
      "  (conv2): GCNConv(18, 18)\n",
      "  (conv3): GCNConv(18, 18)\n",
      "  (lin): Linear(in_features=18, out_features=2, bias=True)\n",
      ")\n"
     ]
    }
   ],
   "source": [
    "from torch.nn import Linear\n",
    "import torch.nn.functional as F\n",
    "from torch_geometric.nn import GCNConv\n",
    "from torch_geometric.nn import global_mean_pool, global_max_pool,global_sort_pool,global_add_pool\n",
    "\n",
    "\n",
    "class GCN(torch.nn.Module):\n",
    "    def __init__(self, hidden_channels):\n",
    "        super(GCN, self).__init__()\n",
    "        torch.manual_seed(12345)\n",
    "        self.conv1 = GCNConv(dataset.num_node_features, hidden_channels)\n",
    "        self.conv2 = GCNConv(hidden_channels, hidden_channels)\n",
    "        self.conv3 = GCNConv(hidden_channels, hidden_channels)\n",
    "        self.lin = Linear(hidden_channels, dataset.num_classes)\n",
    "        self.salidaConv = torch.zeros(0)\n",
    "        self.salidaPooling = torch.zeros(0)\n",
    "    def forward(self, x, edge_index, batch):\n",
    "        \n",
    "        # 1. Obtain node embeddings \n",
    "        x = self.conv1(x, edge_index)\n",
    "        x = x.relu()\n",
    "        x = self.conv2(x, edge_index)\n",
    "        x = x.relu()\n",
    "        x = self.conv3(x, edge_index)\n",
    "        self.salidaConv = x\n",
    "        #print(\"Primera shape\",x.shape)\n",
    "        # 2. Readout layer\n",
    "        #print(x.shape)\n",
    "        x = global_add_pool(x, batch)  # [batch_size, hidden_channels]\n",
    "        self.salidaPooling = x\n",
    "        #print(x)\n",
    "        #x = GlobalPooling(x,batch)\n",
    "        #x = x.sum(dim=0)\n",
    "        # 3. Apply a final classifier\n",
    "        x = F.dropout(x, p=0.5, training=self.training)\n",
    "        \n",
    "        x = self.lin(x)\n",
    "        #print(x.shape)\n",
    "        return x\n",
    "\n",
    "model = GCN(hidden_channels=18)\n",
    "print(model)"
   ]
  },
  {
   "cell_type": "code",
   "execution_count": 7,
   "id": "cb0333a0",
   "metadata": {
    "scrolled": false
   },
   "outputs": [
    {
     "name": "stdout",
     "output_type": "stream",
     "text": [
      "RUN:0,Test Acc:0.7368\n",
      "RUN:1,Test Acc:0.6842\n",
      "RUN:2,Test Acc:0.7895\n",
      "RUN:3,Test Acc:0.7895\n",
      "RUN:4,Test Acc:0.7895\n",
      "RUN:5,Test Acc:0.7368\n",
      "RUN:6,Test Acc:0.7632\n",
      "RUN:7,Test Acc:0.5526\n",
      "RUN:8,Test Acc:0.8158\n",
      "RUN:9,Test Acc:0.7632\n"
     ]
    }
   ],
   "source": [
    "model = GCN(hidden_channels=18)\n",
    "optimizer = torch.optim.Adam(model.parameters(), lr=0.01)\n",
    "criterion = torch.nn.CrossEntropyLoss()\n",
    "\n",
    "def train():\n",
    "    model.train()\n",
    "\n",
    "    for data in train_loader:  # Iterate in batches over the training dataset.\n",
    "        out = model(data.x, data.edge_index, data.batch)  # Perform a single forward pass.\n",
    "        #print(\"hola\",out)\n",
    "        #print(data.y)\n",
    "        loss = criterion(out, data.y)  # Compute the loss.\n",
    "        loss.backward()  # Derive gradients.\n",
    "        optimizer.step()  # Update parameters based on gradients.\n",
    "        optimizer.zero_grad()  # Clear gradients.\n",
    "def test(loader):\n",
    "    model.eval()\n",
    "\n",
    "    correct = 0\n",
    "    for data in loader:  # Iterate in batches over the training/test dataset.\n",
    "        out = model(data.x, data.edge_index, data.batch)  \n",
    "        pred = out.argmax(dim=1)  # Use the class with highest probability.\n",
    "        correct += int((pred == data.y).sum())  # Check against ground-truth labels.\n",
    "    return correct / len(loader.dataset)  # Derive ratio of correct predictions.\n",
    "resultados = []\n",
    "for i in range(10):\n",
    "    dataset = dataset.shuffle()\n",
    "\n",
    "    train_dataset = dataset[:150]\n",
    "    test_dataset = dataset[150:]\n",
    "\n",
    "    train_loader = DataLoader(train_dataset.shuffle(), batch_size=64, shuffle=True)\n",
    "    test_loader = DataLoader(test_dataset.shuffle(), batch_size=64, shuffle=False)\n",
    "    model = GCN(hidden_channels=18)\n",
    "    optimizer = torch.optim.Adam(model.parameters(), lr=0.01)\n",
    "    criterion = torch.nn.CrossEntropyLoss()\n",
    "    for epoch in range(1, 50):\n",
    "        train()\n",
    "        train_acc = test(train_loader)\n",
    "        test_acc = test(test_loader)\n",
    "        #print(f'Epoch: {epoch:03d}, Train Acc: {train_acc:.4f}, Test Acc: {test_acc:.4f}')\n",
    "    print(f'RUN:{i},Test Acc:{test_acc:.4f}')\n",
    "    resultados.append(test_acc)"
   ]
  },
  {
   "cell_type": "code",
   "execution_count": 8,
   "id": "05d5f074",
   "metadata": {},
   "outputs": [
    {
     "name": "stdout",
     "output_type": "stream",
     "text": [
      "tensor(0.7421)\n",
      "tensor(0.0763)\n"
     ]
    }
   ],
   "source": [
    "res= torch.Tensor(resultados)\n",
    "print(torch.mean(res))\n",
    "print(torch.std(res))\n"
   ]
  },
  {
   "cell_type": "code",
   "execution_count": 9,
   "id": "da0a9d0e",
   "metadata": {},
   "outputs": [
    {
     "name": "stdout",
     "output_type": "stream",
     "text": [
      "DataBatch(edge_index=[2, 54], x=[23, 7], edge_attr=[54, 4], y=[1], batch=1, ptr=[2])\n",
      "tensor([1])\n",
      "tensor([0, 1])\n",
      "Accuracy:  0.0\n"
     ]
    }
   ],
   "source": [
    "test_loader = DataLoader(test_dataset[2:], batch_size=1, shuffle=False)\n",
    "sample = next(iter(test_loader))\n",
    "sample.batch =torch.tensor(1)\n",
    "print(sample)\n",
    "print(sample.y)\n",
    "out = model(sample.x,sample.edge_index, sample.batch)  # Perform a single forward pass.\n",
    "pred = out.argmax(dim=1)  # Use the class with highest probability.\n",
    "print(pred)\n",
    "correct = 0\n",
    "correct += int((pred[0] == sample[0].y).sum())  # Check against ground-truth labels.\n",
    "print(\"Accuracy: \",(correct/1)*100)#Batch_size"
   ]
  },
  {
   "cell_type": "code",
   "execution_count": 10,
   "id": "80db837b",
   "metadata": {},
   "outputs": [
    {
     "name": "stdout",
     "output_type": "stream",
     "text": [
      "torch.Size([23, 18])\n",
      "torch.Size([23, 18])\n",
      "torch.Size([2, 18])\n",
      "[4, 16, 18, 19, 20, 21]\n"
     ]
    }
   ],
   "source": [
    "#Nodos criticos\n",
    "Conv_out= model.salidaConv\n",
    "print(model.salidaConv.shape)\n",
    "critical_nodes = Conv_out.argmax(0).unique().tolist()\n",
    "Pool_out = model.salidaPooling\n",
    "print(Conv_out.shape)\n",
    "print(Pool_out.shape)\n",
    "print(critical_nodes)\n",
    "#print(Conv_out)"
   ]
  },
  {
   "cell_type": "code",
   "execution_count": 11,
   "id": "ff40bae5",
   "metadata": {},
   "outputs": [
    {
     "name": "stdout",
     "output_type": "stream",
     "text": [
      "DataBatch(edge_index=[2, 54], x=[23, 7], edge_attr=[54, 4], y=[1], batch=1, ptr=[2])\n",
      "tensor([22, 21,  2, 11,  1,  5,  6, 18, 14,  9, 10,  0, 12,  3,  8, 15, 16, 17,\n",
      "         7, 19, 20,  4, 13])\n"
     ]
    },
    {
     "data": {
      "image/png": "[encoded data removed]",
      "text/plain": [
       "<Figure size 432x288 with 1 Axes>"
      ]
     },
     "metadata": {},
     "output_type": "display_data"
    }
   ],
   "source": [
    "import networkx as nx\n",
    "from torch_geometric.utils import *\n",
    "#loader =  DataLoader(dataset, batch_size=1, shuffle=False)\n",
    "grafo_init = sample\n",
    "print(grafo_init)\n",
    "A = to_networkx(grafo_init, to_undirected=True)\n",
    "l=[]\n",
    "for a in A.nodes:\n",
    "    l.append(a)\n",
    "ed= []\n",
    "for e in A.edges:\n",
    "    ed.append(e)\n",
    "import igraph as ig\n",
    "import chart_studio.plotly\n",
    "Edges= ed\n",
    "G=ig.Graph(Edges, directed=False)\n",
    "labels= l\n",
    "#groups = A.node_attr_dict_factory\n",
    "N = len(A.nodes)\n",
    "#print(N)\n",
    "layt=G.layout('kk', dim=3)\n",
    "#print(layt)\n",
    "Xn=[layt[k][0] for k in range(N)]# x-coordinates of nodes\n",
    "Yn=[layt[k][1] for k in range(N)]# y-coordinates\n",
    "Zn=[layt[k][2] for k in range(N)]# z-coordinates\n",
    "Xe=[]\n",
    "Ye=[]\n",
    "Ze=[]\n",
    "#print(Edges)\n",
    "for e in Edges:\n",
    "    Xe+=[layt[e[0]][0],layt[e[1]][0], None]# x-coordinates of edge ends\n",
    "    Ye+=[layt[e[0]][1],layt[e[1]][1], None]\n",
    "    Ze+=[layt[e[0]][2],layt[e[1]][2], None]\n",
    "nx.draw(A)\n",
    "\n",
    "deg_centrality = list(nx.degree_centrality(A).values())\n",
    "print(torch.Tensor(deg_centrality).argsort())\n",
    "node_adjacencies = []\n",
    "node_text = []\n",
    "for node, adjacencies in enumerate(A.nodes()):\n",
    "    #print(adjacencies,critical_nodes)\n",
    "    if adjacencies in critical_nodes :\n",
    "        node_adjacencies.append('rgb(256,0,0)')\n",
    "    else:\n",
    "        node_adjacencies.append('rgb(0,0,0)')\n",
    "    #node_text.append('# of connections: '+str(len(adjacencies[1])))"
   ]
  },
  {
   "cell_type": "code",
   "execution_count": 12,
   "id": "81331e28",
   "metadata": {},
   "outputs": [],
   "source": [
    "from chart_studio import plotly\n",
    "import plotly.graph_objs as go\n",
    "\n",
    "trace1=go.Scatter3d(x=Xe,\n",
    "               y=Ye,\n",
    "               z=Ze,\n",
    "               mode='lines',\n",
    "               line=dict(color='rgb(125,125,125)', width=1),\n",
    "               hoverinfo='none'\n",
    "               )\n",
    "\n",
    "trace2=go.Scatter3d(x=Xn,\n",
    "               y=Yn,\n",
    "               z=Zn,\n",
    "               mode='markers',\n",
    "               name='actors',\n",
    "               marker=dict(symbol='circle',\n",
    "                             size=6,\n",
    "                             #color='#ff7f0e',\n",
    "                             colorscale='Viridis',\n",
    "                             line=dict(color='rgb(50,50,50)', width=0.5)\n",
    "                             ),\n",
    "               text=labels,\n",
    "               hoverinfo='text'\n",
    "               )\n",
    "trace2.marker.color = node_adjacencies\n",
    "#print(trace2)\n",
    "axis=dict(showbackground=False,\n",
    "          showline=False,\n",
    "          zeroline=False,\n",
    "          showgrid=False,\n",
    "          showticklabels=False,\n",
    "          title=''\n",
    "          )\n",
    "\n",
    "layout = go.Layout(\n",
    "         title=\"3D graph visualization of Mutag dataset  by : Ahmed\",\n",
    "         width=1000,\n",
    "         height=1000,\n",
    "         showlegend=False,\n",
    "         scene=dict(\n",
    "             xaxis=dict(axis),\n",
    "             yaxis=dict(axis),\n",
    "             zaxis=dict(axis),\n",
    "        ),\n",
    "     margin=dict(\n",
    "        t=100\n",
    "    ),\n",
    "    hovermode='closest',\n",
    "    annotations=[\n",
    "           dict(\n",
    "           showarrow=False,\n",
    "            text=\"Data source: <a href='https://plotly.com/python/v3/3d-network-graph/</a>\",\n",
    "            xref='paper',\n",
    "            yref='paper',\n",
    "            x=0,\n",
    "            y=0.1,\n",
    "            xanchor='left',\n",
    "            yanchor='bottom',\n",
    "            font=dict(\n",
    "            size=14\n",
    "            )\n",
    "            )\n",
    "        ],    )"
   ]
  },
  {
   "cell_type": "code",
   "execution_count": 13,
   "id": "c38af594",
   "metadata": {},
   "outputs": [
    {
     "data": {
      "text/html": [
       "        <script type=\"text/javascript\">\n",
       "        window.PlotlyConfig = {MathJaxConfig: 'local'};\n",
       "        if (window.MathJax) {MathJax.Hub.Config({SVG: {font: \"STIX-Web\"}});}\n",
       "        if (typeof require !== 'undefined') {\n",
       "        require.undef(\"plotly\");\n",
       "        requirejs.config({\n",
       "            paths: {\n",
       "                'plotly': ['https://cdn.plot.ly/plotly-2.9.0.min']\n",
       "            }\n",
       "        });\n",
       "        require(['plotly'], function(Plotly) {\n",
       "            window._Plotly = Plotly;\n",
       "        });\n",
       "        }\n",
       "        </script>\n",
       "        "
      ]
     },
     "metadata": {},
     "output_type": "display_data"
    },
    {
     "data": {
      "text/html": [
       "        <script type=\"text/javascript\">\n",
       "        window.PlotlyConfig = {MathJaxConfig: 'local'};\n",
       "        if (window.MathJax) {MathJax.Hub.Config({SVG: {font: \"STIX-Web\"}});}\n",
       "        if (typeof require !== 'undefined') {\n",
       "        require.undef(\"plotly\");\n",
       "        requirejs.config({\n",
       "            paths: {\n",
       "                'plotly': ['https://cdn.plot.ly/plotly-2.9.0.min']\n",
       "            }\n",
       "        });\n",
       "        require(['plotly'], function(Plotly) {\n",
       "            window._Plotly = Plotly;\n",
       "        });\n",
       "        }\n",
       "        </script>\n",
       "        "
      ]
     },
     "metadata": {},
     "output_type": "display_data"
    },
    {
     "data": {
      "application/vnd.plotly.v1+json": {
       "config": {
        "linkText": "Export to plot.ly",
        "plotlyServerURL": "https://plot.ly",
        "showLink": false
       },
       "data": [
        {
         "hoverinfo": "none",
         "line": {
          "color": "rgb(125,125,125)",
          "width": 1
         },
         "mode": "lines",
         "type": "scatter3d",
         "x": [
          0.214936487465065,
          -0.1814512855349403,
          null,
          0.214936487465065,
          0.4031596315263443,
          null,
          -0.1814512855349403,
          -0.3263443857185235,
          null,
          -0.3263443857185235,
          -0.15532004053029858,
          null,
          -0.15532004053029858,
          0.2678457344574014,
          null,
          -0.15532004053029858,
          -0.2715538969714344,
          null,
          0.2678457344574014,
          0.4031596315263443,
          null,
          0.2678457344574014,
          0.4963817434125843,
          null,
          0.4963817434125843,
          0.3958360921298399,
          null,
          0.3958360921298399,
          0.6382203306048363,
          null,
          0.3958360921298399,
          -0.02066907841065631,
          null,
          0.6382203306048363,
          1.0285565147032834,
          null,
          0.6382203306048363,
          0.43428613457932935,
          null,
          1.0285565147032834,
          1.2400981263059379,
          null,
          1.2400981263059379,
          1.0431667152570956,
          null,
          1.0431667152570956,
          0.6561756399146078,
          null,
          0.6561756399146078,
          0.43428613457932935,
          null,
          0.43428613457932935,
          0.033714875762236314,
          null,
          0.033714875762236314,
          -0.22376086716444898,
          null,
          -0.22376086716444898,
          -0.02066907841065631,
          null,
          -0.22376086716444898,
          -0.6129118855966291,
          null,
          -0.02066907841065631,
          -0.2715538969714344,
          null,
          -0.2715538969714344,
          -0.6091778441328568,
          null,
          -0.6091778441328568,
          -0.6129118855966291,
          null,
          -0.6129118855966291,
          -0.9642219733222607,
          null,
          -0.9642219733222607,
          -0.8752644125652673,
          null,
          -0.9642219733222607,
          -1.5447958673248379,
          null
         ],
         "y": [
          0.7041989685281825,
          1.1287124650861298,
          null,
          0.7041989685281825,
          0.31713327988497697,
          null,
          1.1287124650861298,
          1.1029215615008163,
          null,
          1.1029215615008163,
          0.7269117752758514,
          null,
          0.7269117752758514,
          0.27728472757773254,
          null,
          0.7269117752758514,
          0.6574890543196441,
          null,
          0.27728472757773254,
          0.31713327988497697,
          null,
          0.27728472757773254,
          -0.14590321418997465,
          null,
          -0.14590321418997465,
          -0.23661655627085504,
          null,
          -0.23661655627085504,
          -0.6760849072671917,
          null,
          -0.23661655627085504,
          0.2113245050650503,
          null,
          -0.6760849072671917,
          -1.1526419116874251,
          null,
          -0.6760849072671917,
          -0.640684833396629,
          null,
          -1.1526419116874251,
          -1.5583827611604004,
          null,
          -1.5583827611604004,
          -1.516686139892048,
          null,
          -1.516686139892048,
          -1.0570188103202647,
          null,
          -1.0570188103202647,
          -0.640684833396629,
          null,
          -0.640684833396629,
          -0.19616101466114286,
          null,
          -0.19616101466114286,
          0.25228944242919715,
          null,
          0.25228944242919715,
          0.2113245050650503,
          null,
          0.25228944242919715,
          0.728667841909854,
          null,
          0.2113245050650503,
          0.6574890543196441,
          null,
          0.6574890543196441,
          0.9328348742415208,
          null,
          0.9328348742415208,
          0.728667841909854,
          null,
          0.728667841909854,
          1.0254472930157221,
          null,
          1.0254472930157221,
          1.5059298946754525,
          null,
          1.0254472930157221,
          0.9732024913066205,
          null
         ],
         "z": [
          -2.084876907861622,
          -1.8764864855207866,
          null,
          -2.084876907861622,
          -1.6589702471924561,
          null,
          -1.8764864855207866,
          -1.2882661548233916,
          null,
          -1.2882661548233916,
          -0.8324817918862624,
          null,
          -0.8324817918862624,
          -1.0650416881997107,
          null,
          -0.8324817918862624,
          -0.22270350998988264,
          null,
          -1.0650416881997107,
          -1.6589702471924561,
          null,
          -1.0650416881997107,
          -0.6803094974381234,
          null,
          -0.6803094974381234,
          -0.06609463649533442,
          null,
          -0.06609463649533442,
          0.3154479994821846,
          null,
          -0.06609463649533442,
          0.1475706068345367,
          null,
          0.3154479994821846,
          0.2757742260816757,
          null,
          0.3154479994821846,
          0.9405276049252658,
          null,
          0.2757742260816757,
          0.6715756864149238,
          null,
          0.6715756864149238,
          1.2539380810773468,
          null,
          1.2539380810773468,
          1.3295065854876473,
          null,
          1.3295065854876473,
          0.9405276049252658,
          null,
          0.9405276049252658,
          1.1072062403931984,
          null,
          1.1072062403931984,
          0.7539082989269683,
          null,
          0.7539082989269683,
          0.1475706068345367,
          null,
          0.7539082989269683,
          0.7898644267080137,
          null,
          0.1475706068345367,
          -0.22270350998988264,
          null,
          -0.22270350998988264,
          0.19884677321877658,
          null,
          0.19884677321877658,
          0.7898644267080137,
          null,
          0.7898644267080137,
          1.19945810232156,
          null,
          1.19945810232156,
          1.561880344235482,
          null,
          1.19945810232156,
          1.3736158839196155,
          null
         ]
        },
        {
         "hoverinfo": "text",
         "marker": {
          "color": [
           "rgb(0,0,0)",
           "rgb(0,0,0)",
           "rgb(0,0,0)",
           "rgb(0,0,0)",
           "rgb(256,0,0)",
           "rgb(0,0,0)",
           "rgb(0,0,0)",
           "rgb(0,0,0)",
           "rgb(0,0,0)",
           "rgb(0,0,0)",
           "rgb(0,0,0)",
           "rgb(0,0,0)",
           "rgb(0,0,0)",
           "rgb(0,0,0)",
           "rgb(0,0,0)",
           "rgb(0,0,0)",
           "rgb(256,0,0)",
           "rgb(0,0,0)",
           "rgb(256,0,0)",
           "rgb(256,0,0)",
           "rgb(256,0,0)",
           "rgb(256,0,0)",
           "rgb(0,0,0)"
          ],
          "colorscale": [
           [
            0,
            "#440154"
           ],
           [
            0.1111111111111111,
            "#482878"
           ],
           [
            0.2222222222222222,
            "#3e4989"
           ],
           [
            0.3333333333333333,
            "#31688e"
           ],
           [
            0.4444444444444444,
            "#26828e"
           ],
           [
            0.5555555555555556,
            "#1f9e89"
           ],
           [
            0.6666666666666666,
            "#35b779"
           ],
           [
            0.7777777777777778,
            "#6ece58"
           ],
           [
            0.8888888888888888,
            "#b5de2b"
           ],
           [
            1,
            "#fde725"
           ]
          ],
          "line": {
           "color": "rgb(50,50,50)",
           "width": 0.5
          },
          "size": 6,
          "symbol": "circle"
         },
         "mode": "markers",
         "name": "actors",
         "text": [
          "0",
          "1",
          "2",
          "3",
          "4",
          "5",
          "6",
          "7",
          "8",
          "9",
          "10",
          "11",
          "12",
          "13",
          "14",
          "15",
          "16",
          "17",
          "18",
          "19",
          "20",
          "21",
          "22"
         ],
         "type": "scatter3d",
         "x": [
          0.214936487465065,
          -0.1814512855349403,
          -0.3263443857185235,
          -0.15532004053029858,
          0.2678457344574014,
          0.4031596315263443,
          0.4963817434125843,
          0.3958360921298399,
          0.6382203306048363,
          1.0285565147032834,
          1.2400981263059379,
          1.0431667152570956,
          0.6561756399146078,
          0.43428613457932935,
          0.033714875762236314,
          -0.22376086716444898,
          -0.02066907841065631,
          -0.2715538969714344,
          -0.6091778441328568,
          -0.6129118855966291,
          -0.9642219733222607,
          -0.8752644125652673,
          -1.5447958673248379
         ],
         "y": [
          0.7041989685281825,
          1.1287124650861298,
          1.1029215615008163,
          0.7269117752758514,
          0.27728472757773254,
          0.31713327988497697,
          -0.14590321418997465,
          -0.23661655627085504,
          -0.6760849072671917,
          -1.1526419116874251,
          -1.5583827611604004,
          -1.516686139892048,
          -1.0570188103202647,
          -0.640684833396629,
          -0.19616101466114286,
          0.25228944242919715,
          0.2113245050650503,
          0.6574890543196441,
          0.9328348742415208,
          0.728667841909854,
          1.0254472930157221,
          1.5059298946754525,
          0.9732024913066205
         ],
         "z": [
          -2.084876907861622,
          -1.8764864855207866,
          -1.2882661548233916,
          -0.8324817918862624,
          -1.0650416881997107,
          -1.6589702471924561,
          -0.6803094974381234,
          -0.06609463649533442,
          0.3154479994821846,
          0.2757742260816757,
          0.6715756864149238,
          1.2539380810773468,
          1.3295065854876473,
          0.9405276049252658,
          1.1072062403931984,
          0.7539082989269683,
          0.1475706068345367,
          -0.22270350998988264,
          0.19884677321877658,
          0.7898644267080137,
          1.19945810232156,
          1.561880344235482,
          1.3736158839196155
         ]
        }
       ],
       "layout": {
        "annotations": [
         {
          "font": {
           "size": 14
          },
          "showarrow": false,
          "text": "Data source: <a href='https://plotly.com/python/v3/3d-network-graph/</a>",
          "x": 0,
          "xanchor": "left",
          "xref": "paper",
          "y": 0.1,
          "yanchor": "bottom",
          "yref": "paper"
         }
        ],
        "height": 1000,
        "hovermode": "closest",
        "margin": {
         "t": 100
        },
        "scene": {
         "xaxis": {
          "showbackground": false,
          "showgrid": false,
          "showline": false,
          "showticklabels": false,
          "title": {
           "text": ""
          },
          "zeroline": false
         },
         "yaxis": {
          "showbackground": false,
          "showgrid": false,
          "showline": false,
          "showticklabels": false,
          "title": {
           "text": ""
          },
          "zeroline": false
         },
         "zaxis": {
          "showbackground": false,
          "showgrid": false,
          "showline": false,
          "showticklabels": false,
          "title": {
           "text": ""
          },
          "zeroline": false
         }
        },
        "showlegend": false,
        "template": {
         "data": {
          "bar": [
           {
            "error_x": {
             "color": "#2a3f5f"
            },
            "error_y": {
             "color": "#2a3f5f"
            },
            "marker": {
             "line": {
              "color": "#E5ECF6",
              "width": 0.5
             },
             "pattern": {
              "fillmode": "overlay",
              "size": 10,
              "solidity": 0.2
             }
            },
            "type": "bar"
           }
          ],
          "barpolar": [
           {
            "marker": {
             "line": {
              "color": "#E5ECF6",
              "width": 0.5
             },
             "pattern": {
              "fillmode": "overlay",
              "size": 10,
              "solidity": 0.2
             }
            },
            "type": "barpolar"
           }
          ],
          "carpet": [
           {
            "aaxis": {
             "endlinecolor": "#2a3f5f",
             "gridcolor": "white",
             "linecolor": "white",
             "minorgridcolor": "white",
             "startlinecolor": "#2a3f5f"
            },
            "baxis": {
             "endlinecolor": "#2a3f5f",
             "gridcolor": "white",
             "linecolor": "white",
             "minorgridcolor": "white",
             "startlinecolor": "#2a3f5f"
            },
            "type": "carpet"
           }
          ],
          "choropleth": [
           {
            "colorbar": {
             "outlinewidth": 0,
             "ticks": ""
            },
            "type": "choropleth"
           }
          ],
          "contour": [
           {
            "colorbar": {
             "outlinewidth": 0,
             "ticks": ""
            },
            "colorscale": [
             [
              0,
              "#0d0887"
             ],
             [
              0.1111111111111111,
              "#46039f"
             ],
             [
              0.2222222222222222,
              "#7201a8"
             ],
             [
              0.3333333333333333,
              "#9c179e"
             ],
             [
              0.4444444444444444,
              "#bd3786"
             ],
             [
              0.5555555555555556,
              "#d8576b"
             ],
             [
              0.6666666666666666,
              "#ed7953"
             ],
             [
              0.7777777777777778,
              "#fb9f3a"
             ],
             [
              0.8888888888888888,
              "#fdca26"
             ],
             [
              1,
              "#f0f921"
             ]
            ],
            "type": "contour"
           }
          ],
          "contourcarpet": [
           {
            "colorbar": {
             "outlinewidth": 0,
             "ticks": ""
            },
            "type": "contourcarpet"
           }
          ],
          "heatmap": [
           {
            "colorbar": {
             "outlinewidth": 0,
             "ticks": ""
            },
            "colorscale": [
             [
              0,
              "#0d0887"
             ],
             [
              0.1111111111111111,
              "#46039f"
             ],
             [
              0.2222222222222222,
              "#7201a8"
             ],
             [
              0.3333333333333333,
              "#9c179e"
             ],
             [
              0.4444444444444444,
              "#bd3786"
             ],
             [
              0.5555555555555556,
              "#d8576b"
             ],
             [
              0.6666666666666666,
              "#ed7953"
             ],
             [
              0.7777777777777778,
              "#fb9f3a"
             ],
             [
              0.8888888888888888,
              "#fdca26"
             ],
             [
              1,
              "#f0f921"
             ]
            ],
            "type": "heatmap"
           }
          ],
          "heatmapgl": [
           {
            "colorbar": {
             "outlinewidth": 0,
             "ticks": ""
            },
            "colorscale": [
             [
              0,
              "#0d0887"
             ],
             [
              0.1111111111111111,
              "#46039f"
             ],
             [
              0.2222222222222222,
              "#7201a8"
             ],
             [
              0.3333333333333333,
              "#9c179e"
             ],
             [
              0.4444444444444444,
              "#bd3786"
             ],
             [
              0.5555555555555556,
              "#d8576b"
             ],
             [
              0.6666666666666666,
              "#ed7953"
             ],
             [
              0.7777777777777778,
              "#fb9f3a"
             ],
             [
              0.8888888888888888,
              "#fdca26"
             ],
             [
              1,
              "#f0f921"
             ]
            ],
            "type": "heatmapgl"
           }
          ],
          "histogram": [
           {
            "marker": {
             "pattern": {
              "fillmode": "overlay",
              "size": 10,
              "solidity": 0.2
             }
            },
            "type": "histogram"
           }
          ],
          "histogram2d": [
           {
            "colorbar": {
             "outlinewidth": 0,
             "ticks": ""
            },
            "colorscale": [
             [
              0,
              "#0d0887"
             ],
             [
              0.1111111111111111,
              "#46039f"
             ],
             [
              0.2222222222222222,
              "#7201a8"
             ],
             [
              0.3333333333333333,
              "#9c179e"
             ],
             [
              0.4444444444444444,
              "#bd3786"
             ],
             [
              0.5555555555555556,
              "#d8576b"
             ],
             [
              0.6666666666666666,
              "#ed7953"
             ],
             [
              0.7777777777777778,
              "#fb9f3a"
             ],
             [
              0.8888888888888888,
              "#fdca26"
             ],
             [
              1,
              "#f0f921"
             ]
            ],
            "type": "histogram2d"
           }
          ],
          "histogram2dcontour": [
           {
            "colorbar": {
             "outlinewidth": 0,
             "ticks": ""
            },
            "colorscale": [
             [
              0,
              "#0d0887"
             ],
             [
              0.1111111111111111,
              "#46039f"
             ],
             [
              0.2222222222222222,
              "#7201a8"
             ],
             [
              0.3333333333333333,
              "#9c179e"
             ],
             [
              0.4444444444444444,
              "#bd3786"
             ],
             [
              0.5555555555555556,
              "#d8576b"
             ],
             [
              0.6666666666666666,
              "#ed7953"
             ],
             [
              0.7777777777777778,
              "#fb9f3a"
             ],
             [
              0.8888888888888888,
              "#fdca26"
             ],
             [
              1,
              "#f0f921"
             ]
            ],
            "type": "histogram2dcontour"
           }
          ],
          "mesh3d": [
           {
            "colorbar": {
             "outlinewidth": 0,
             "ticks": ""
            },
            "type": "mesh3d"
           }
          ],
          "parcoords": [
           {
            "line": {
             "colorbar": {
              "outlinewidth": 0,
              "ticks": ""
             }
            },
            "type": "parcoords"
           }
          ],
          "pie": [
           {
            "automargin": true,
            "type": "pie"
           }
          ],
          "scatter": [
           {
            "marker": {
             "colorbar": {
              "outlinewidth": 0,
              "ticks": ""
             }
            },
            "type": "scatter"
           }
          ],
          "scatter3d": [
           {
            "line": {
             "colorbar": {
              "outlinewidth": 0,
              "ticks": ""
             }
            },
            "marker": {
             "colorbar": {
              "outlinewidth": 0,
              "ticks": ""
             }
            },
            "type": "scatter3d"
           }
          ],
          "scattercarpet": [
           {
            "marker": {
             "colorbar": {
              "outlinewidth": 0,
              "ticks": ""
             }
            },
            "type": "scattercarpet"
           }
          ],
          "scattergeo": [
           {
            "marker": {
             "colorbar": {
              "outlinewidth": 0,
              "ticks": ""
             }
            },
            "type": "scattergeo"
           }
          ],
          "scattergl": [
           {
            "marker": {
             "colorbar": {
              "outlinewidth": 0,
              "ticks": ""
             }
            },
            "type": "scattergl"
           }
          ],
          "scattermapbox": [
           {
            "marker": {
             "colorbar": {
              "outlinewidth": 0,
              "ticks": ""
             }
            },
            "type": "scattermapbox"
           }
          ],
          "scatterpolar": [
           {
            "marker": {
             "colorbar": {
              "outlinewidth": 0,
              "ticks": ""
             }
            },
            "type": "scatterpolar"
           }
          ],
          "scatterpolargl": [
           {
            "marker": {
             "colorbar": {
              "outlinewidth": 0,
              "ticks": ""
             }
            },
            "type": "scatterpolargl"
           }
          ],
          "scatterternary": [
           {
            "marker": {
             "colorbar": {
              "outlinewidth": 0,
              "ticks": ""
             }
            },
            "type": "scatterternary"
           }
          ],
          "surface": [
           {
            "colorbar": {
             "outlinewidth": 0,
             "ticks": ""
            },
            "colorscale": [
             [
              0,
              "#0d0887"
             ],
             [
              0.1111111111111111,
              "#46039f"
             ],
             [
              0.2222222222222222,
              "#7201a8"
             ],
             [
              0.3333333333333333,
              "#9c179e"
             ],
             [
              0.4444444444444444,
              "#bd3786"
             ],
             [
              0.5555555555555556,
              "#d8576b"
             ],
             [
              0.6666666666666666,
              "#ed7953"
             ],
             [
              0.7777777777777778,
              "#fb9f3a"
             ],
             [
              0.8888888888888888,
              "#fdca26"
             ],
             [
              1,
              "#f0f921"
             ]
            ],
            "type": "surface"
           }
          ],
          "table": [
           {
            "cells": {
             "fill": {
              "color": "#EBF0F8"
             },
             "line": {
              "color": "white"
             }
            },
            "header": {
             "fill": {
              "color": "#C8D4E3"
             },
             "line": {
              "color": "white"
             }
            },
            "type": "table"
           }
          ]
         },
         "layout": {
          "annotationdefaults": {
           "arrowcolor": "#2a3f5f",
           "arrowhead": 0,
           "arrowwidth": 1
          },
          "autotypenumbers": "strict",
          "coloraxis": {
           "colorbar": {
            "outlinewidth": 0,
            "ticks": ""
           }
          },
          "colorscale": {
           "diverging": [
            [
             0,
             "#8e0152"
            ],
            [
             0.1,
             "#c51b7d"
            ],
            [
             0.2,
             "#de77ae"
            ],
            [
             0.3,
             "#f1b6da"
            ],
            [
             0.4,
             "#fde0ef"
            ],
            [
             0.5,
             "#f7f7f7"
            ],
            [
             0.6,
             "#e6f5d0"
            ],
            [
             0.7,
             "#b8e186"
            ],
            [
             0.8,
             "#7fbc41"
            ],
            [
             0.9,
             "#4d9221"
            ],
            [
             1,
             "#276419"
            ]
           ],
           "sequential": [
            [
             0,
             "#0d0887"
            ],
            [
             0.1111111111111111,
             "#46039f"
            ],
            [
             0.2222222222222222,
             "#7201a8"
            ],
            [
             0.3333333333333333,
             "#9c179e"
            ],
            [
             0.4444444444444444,
             "#bd3786"
            ],
            [
             0.5555555555555556,
             "#d8576b"
            ],
            [
             0.6666666666666666,
             "#ed7953"
            ],
            [
             0.7777777777777778,
             "#fb9f3a"
            ],
            [
             0.8888888888888888,
             "#fdca26"
            ],
            [
             1,
             "#f0f921"
            ]
           ],
           "sequentialminus": [
            [
             0,
             "#0d0887"
            ],
            [
             0.1111111111111111,
             "#46039f"
            ],
            [
             0.2222222222222222,
             "#7201a8"
            ],
            [
             0.3333333333333333,
             "#9c179e"
            ],
            [
             0.4444444444444444,
             "#bd3786"
            ],
            [
             0.5555555555555556,
             "#d8576b"
            ],
            [
             0.6666666666666666,
             "#ed7953"
            ],
            [
             0.7777777777777778,
             "#fb9f3a"
            ],
            [
             0.8888888888888888,
             "#fdca26"
            ],
            [
             1,
             "#f0f921"
            ]
           ]
          },
          "colorway": [
           "#636efa",
           "#EF553B",
           "#00cc96",
           "#ab63fa",
           "#FFA15A",
           "#19d3f3",
           "#FF6692",
           "#B6E880",
           "#FF97FF",
           "#FECB52"
          ],
          "font": {
           "color": "#2a3f5f"
          },
          "geo": {
           "bgcolor": "white",
           "lakecolor": "white",
           "landcolor": "#E5ECF6",
           "showlakes": true,
           "showland": true,
           "subunitcolor": "white"
          },
          "hoverlabel": {
           "align": "left"
          },
          "hovermode": "closest",
          "mapbox": {
           "style": "light"
          },
          "paper_bgcolor": "white",
          "plot_bgcolor": "#E5ECF6",
          "polar": {
           "angularaxis": {
            "gridcolor": "white",
            "linecolor": "white",
            "ticks": ""
           },
           "bgcolor": "#E5ECF6",
           "radialaxis": {
            "gridcolor": "white",
            "linecolor": "white",
            "ticks": ""
           }
          },
          "scene": {
           "xaxis": {
            "backgroundcolor": "#E5ECF6",
            "gridcolor": "white",
            "gridwidth": 2,
            "linecolor": "white",
            "showbackground": true,
            "ticks": "",
            "zerolinecolor": "white"
           },
           "yaxis": {
            "backgroundcolor": "#E5ECF6",
            "gridcolor": "white",
            "gridwidth": 2,
            "linecolor": "white",
            "showbackground": true,
            "ticks": "",
            "zerolinecolor": "white"
           },
           "zaxis": {
            "backgroundcolor": "#E5ECF6",
            "gridcolor": "white",
            "gridwidth": 2,
            "linecolor": "white",
            "showbackground": true,
            "ticks": "",
            "zerolinecolor": "white"
           }
          },
          "shapedefaults": {
           "line": {
            "color": "#2a3f5f"
           }
          },
          "ternary": {
           "aaxis": {
            "gridcolor": "white",
            "linecolor": "white",
            "ticks": ""
           },
           "baxis": {
            "gridcolor": "white",
            "linecolor": "white",
            "ticks": ""
           },
           "bgcolor": "#E5ECF6",
           "caxis": {
            "gridcolor": "white",
            "linecolor": "white",
            "ticks": ""
           }
          },
          "title": {
           "x": 0.05
          },
          "xaxis": {
           "automargin": true,
           "gridcolor": "white",
           "linecolor": "white",
           "ticks": "",
           "title": {
            "standoff": 15
           },
           "zerolinecolor": "white",
           "zerolinewidth": 2
          },
          "yaxis": {
           "automargin": true,
           "gridcolor": "white",
           "linecolor": "white",
           "ticks": "",
           "title": {
            "standoff": 15
           },
           "zerolinecolor": "white",
           "zerolinewidth": 2
          }
         }
        },
        "title": {
         "text": "3D graph visualization of Mutag dataset  by : Ahmed"
        },
        "width": 1000
       }
      },
      "text/html": [
       "<div>                            <div id=\"ead35a82-f4ce-4677-8935-9a27b96cb5c0\" class=\"plotly-graph-div\" style=\"height:1000px; width:1000px;\"></div>            <script type=\"text/javascript\">                require([\"plotly\"], function(Plotly) {                    window.PLOTLYENV=window.PLOTLYENV || {};                                    if (document.getElementById(\"ead35a82-f4ce-4677-8935-9a27b96cb5c0\")) {                    Plotly.newPlot(                        \"ead35a82-f4ce-4677-8935-9a27b96cb5c0\",                        [{\"hoverinfo\":\"none\",\"line\":{\"color\":\"rgb(125,125,125)\",\"width\":1},\"mode\":\"lines\",\"x\":[0.214936487465065,-0.1814512855349403,null,0.214936487465065,0.4031596315263443,null,-0.1814512855349403,-0.3263443857185235,null,-0.3263443857185235,-0.15532004053029858,null,-0.15532004053029858,0.2678457344574014,null,-0.15532004053029858,-0.2715538969714344,null,0.2678457344574014,0.4031596315263443,null,0.2678457344574014,0.4963817434125843,null,0.4963817434125843,0.3958360921298399,null,0.3958360921298399,0.6382203306048363,null,0.3958360921298399,-0.02066907841065631,null,0.6382203306048363,1.0285565147032834,null,0.6382203306048363,0.43428613457932935,null,1.0285565147032834,1.2400981263059379,null,1.2400981263059379,1.0431667152570956,null,1.0431667152570956,0.6561756399146078,null,0.6561756399146078,0.43428613457932935,null,0.43428613457932935,0.033714875762236314,null,0.033714875762236314,-0.22376086716444898,null,-0.22376086716444898,-0.02066907841065631,null,-0.22376086716444898,-0.6129118855966291,null,-0.02066907841065631,-0.2715538969714344,null,-0.2715538969714344,-0.6091778441328568,null,-0.6091778441328568,-0.6129118855966291,null,-0.6129118855966291,-0.9642219733222607,null,-0.9642219733222607,-0.8752644125652673,null,-0.9642219733222607,-1.5447958673248379,null],\"y\":[0.7041989685281825,1.1287124650861298,null,0.7041989685281825,0.31713327988497697,null,1.1287124650861298,1.1029215615008163,null,1.1029215615008163,0.7269117752758514,null,0.7269117752758514,0.27728472757773254,null,0.7269117752758514,0.6574890543196441,null,0.27728472757773254,0.31713327988497697,null,0.27728472757773254,-0.14590321418997465,null,-0.14590321418997465,-0.23661655627085504,null,-0.23661655627085504,-0.6760849072671917,null,-0.23661655627085504,0.2113245050650503,null,-0.6760849072671917,-1.1526419116874251,null,-0.6760849072671917,-0.640684833396629,null,-1.1526419116874251,-1.5583827611604004,null,-1.5583827611604004,-1.516686139892048,null,-1.516686139892048,-1.0570188103202647,null,-1.0570188103202647,-0.640684833396629,null,-0.640684833396629,-0.19616101466114286,null,-0.19616101466114286,0.25228944242919715,null,0.25228944242919715,0.2113245050650503,null,0.25228944242919715,0.728667841909854,null,0.2113245050650503,0.6574890543196441,null,0.6574890543196441,0.9328348742415208,null,0.9328348742415208,0.728667841909854,null,0.728667841909854,1.0254472930157221,null,1.0254472930157221,1.5059298946754525,null,1.0254472930157221,0.9732024913066205,null],\"z\":[-2.084876907861622,-1.8764864855207866,null,-2.084876907861622,-1.6589702471924561,null,-1.8764864855207866,-1.2882661548233916,null,-1.2882661548233916,-0.8324817918862624,null,-0.8324817918862624,-1.0650416881997107,null,-0.8324817918862624,-0.22270350998988264,null,-1.0650416881997107,-1.6589702471924561,null,-1.0650416881997107,-0.6803094974381234,null,-0.6803094974381234,-0.06609463649533442,null,-0.06609463649533442,0.3154479994821846,null,-0.06609463649533442,0.1475706068345367,null,0.3154479994821846,0.2757742260816757,null,0.3154479994821846,0.9405276049252658,null,0.2757742260816757,0.6715756864149238,null,0.6715756864149238,1.2539380810773468,null,1.2539380810773468,1.3295065854876473,null,1.3295065854876473,0.9405276049252658,null,0.9405276049252658,1.1072062403931984,null,1.1072062403931984,0.7539082989269683,null,0.7539082989269683,0.1475706068345367,null,0.7539082989269683,0.7898644267080137,null,0.1475706068345367,-0.22270350998988264,null,-0.22270350998988264,0.19884677321877658,null,0.19884677321877658,0.7898644267080137,null,0.7898644267080137,1.19945810232156,null,1.19945810232156,1.561880344235482,null,1.19945810232156,1.3736158839196155,null],\"type\":\"scatter3d\"},{\"hoverinfo\":\"text\",\"marker\":{\"color\":[\"rgb(0,0,0)\",\"rgb(0,0,0)\",\"rgb(0,0,0)\",\"rgb(0,0,0)\",\"rgb(256,0,0)\",\"rgb(0,0,0)\",\"rgb(0,0,0)\",\"rgb(0,0,0)\",\"rgb(0,0,0)\",\"rgb(0,0,0)\",\"rgb(0,0,0)\",\"rgb(0,0,0)\",\"rgb(0,0,0)\",\"rgb(0,0,0)\",\"rgb(0,0,0)\",\"rgb(0,0,0)\",\"rgb(256,0,0)\",\"rgb(0,0,0)\",\"rgb(256,0,0)\",\"rgb(256,0,0)\",\"rgb(256,0,0)\",\"rgb(256,0,0)\",\"rgb(0,0,0)\"],\"colorscale\":[[0.0,\"#440154\"],[0.1111111111111111,\"#482878\"],[0.2222222222222222,\"#3e4989\"],[0.3333333333333333,\"#31688e\"],[0.4444444444444444,\"#26828e\"],[0.5555555555555556,\"#1f9e89\"],[0.6666666666666666,\"#35b779\"],[0.7777777777777778,\"#6ece58\"],[0.8888888888888888,\"#b5de2b\"],[1.0,\"#fde725\"]],\"line\":{\"color\":\"rgb(50,50,50)\",\"width\":0.5},\"size\":6,\"symbol\":\"circle\"},\"mode\":\"markers\",\"name\":\"actors\",\"text\":[\"0\",\"1\",\"2\",\"3\",\"4\",\"5\",\"6\",\"7\",\"8\",\"9\",\"10\",\"11\",\"12\",\"13\",\"14\",\"15\",\"16\",\"17\",\"18\",\"19\",\"20\",\"21\",\"22\"],\"x\":[0.214936487465065,-0.1814512855349403,-0.3263443857185235,-0.15532004053029858,0.2678457344574014,0.4031596315263443,0.4963817434125843,0.3958360921298399,0.6382203306048363,1.0285565147032834,1.2400981263059379,1.0431667152570956,0.6561756399146078,0.43428613457932935,0.033714875762236314,-0.22376086716444898,-0.02066907841065631,-0.2715538969714344,-0.6091778441328568,-0.6129118855966291,-0.9642219733222607,-0.8752644125652673,-1.5447958673248379],\"y\":[0.7041989685281825,1.1287124650861298,1.1029215615008163,0.7269117752758514,0.27728472757773254,0.31713327988497697,-0.14590321418997465,-0.23661655627085504,-0.6760849072671917,-1.1526419116874251,-1.5583827611604004,-1.516686139892048,-1.0570188103202647,-0.640684833396629,-0.19616101466114286,0.25228944242919715,0.2113245050650503,0.6574890543196441,0.9328348742415208,0.728667841909854,1.0254472930157221,1.5059298946754525,0.9732024913066205],\"z\":[-2.084876907861622,-1.8764864855207866,-1.2882661548233916,-0.8324817918862624,-1.0650416881997107,-1.6589702471924561,-0.6803094974381234,-0.06609463649533442,0.3154479994821846,0.2757742260816757,0.6715756864149238,1.2539380810773468,1.3295065854876473,0.9405276049252658,1.1072062403931984,0.7539082989269683,0.1475706068345367,-0.22270350998988264,0.19884677321877658,0.7898644267080137,1.19945810232156,1.561880344235482,1.3736158839196155],\"type\":\"scatter3d\"}],                        {\"annotations\":[{\"font\":{\"size\":14},\"showarrow\":false,\"text\":\"Data source: <a href='https://plotly.com/python/v3/3d-network-graph/</a>\",\"x\":0,\"xanchor\":\"left\",\"xref\":\"paper\",\"y\":0.1,\"yanchor\":\"bottom\",\"yref\":\"paper\"}],\"height\":1000,\"hovermode\":\"closest\",\"margin\":{\"t\":100},\"scene\":{\"xaxis\":{\"showbackground\":false,\"showgrid\":false,\"showline\":false,\"showticklabels\":false,\"title\":{\"text\":\"\"},\"zeroline\":false},\"yaxis\":{\"showbackground\":false,\"showgrid\":false,\"showline\":false,\"showticklabels\":false,\"title\":{\"text\":\"\"},\"zeroline\":false},\"zaxis\":{\"showbackground\":false,\"showgrid\":false,\"showline\":false,\"showticklabels\":false,\"title\":{\"text\":\"\"},\"zeroline\":false}},\"showlegend\":false,\"template\":{\"data\":{\"barpolar\":[{\"marker\":{\"line\":{\"color\":\"#E5ECF6\",\"width\":0.5},\"pattern\":{\"fillmode\":\"overlay\",\"size\":10,\"solidity\":0.2}},\"type\":\"barpolar\"}],\"bar\":[{\"error_x\":{\"color\":\"#2a3f5f\"},\"error_y\":{\"color\":\"#2a3f5f\"},\"marker\":{\"line\":{\"color\":\"#E5ECF6\",\"width\":0.5},\"pattern\":{\"fillmode\":\"overlay\",\"size\":10,\"solidity\":0.2}},\"type\":\"bar\"}],\"carpet\":[{\"aaxis\":{\"endlinecolor\":\"#2a3f5f\",\"gridcolor\":\"white\",\"linecolor\":\"white\",\"minorgridcolor\":\"white\",\"startlinecolor\":\"#2a3f5f\"},\"baxis\":{\"endlinecolor\":\"#2a3f5f\",\"gridcolor\":\"white\",\"linecolor\":\"white\",\"minorgridcolor\":\"white\",\"startlinecolor\":\"#2a3f5f\"},\"type\":\"carpet\"}],\"choropleth\":[{\"colorbar\":{\"outlinewidth\":0,\"ticks\":\"\"},\"type\":\"choropleth\"}],\"contourcarpet\":[{\"colorbar\":{\"outlinewidth\":0,\"ticks\":\"\"},\"type\":\"contourcarpet\"}],\"contour\":[{\"colorbar\":{\"outlinewidth\":0,\"ticks\":\"\"},\"colorscale\":[[0.0,\"#0d0887\"],[0.1111111111111111,\"#46039f\"],[0.2222222222222222,\"#7201a8\"],[0.3333333333333333,\"#9c179e\"],[0.4444444444444444,\"#bd3786\"],[0.5555555555555556,\"#d8576b\"],[0.6666666666666666,\"#ed7953\"],[0.7777777777777778,\"#fb9f3a\"],[0.8888888888888888,\"#fdca26\"],[1.0,\"#f0f921\"]],\"type\":\"contour\"}],\"heatmapgl\":[{\"colorbar\":{\"outlinewidth\":0,\"ticks\":\"\"},\"colorscale\":[[0.0,\"#0d0887\"],[0.1111111111111111,\"#46039f\"],[0.2222222222222222,\"#7201a8\"],[0.3333333333333333,\"#9c179e\"],[0.4444444444444444,\"#bd3786\"],[0.5555555555555556,\"#d8576b\"],[0.6666666666666666,\"#ed7953\"],[0.7777777777777778,\"#fb9f3a\"],[0.8888888888888888,\"#fdca26\"],[1.0,\"#f0f921\"]],\"type\":\"heatmapgl\"}],\"heatmap\":[{\"colorbar\":{\"outlinewidth\":0,\"ticks\":\"\"},\"colorscale\":[[0.0,\"#0d0887\"],[0.1111111111111111,\"#46039f\"],[0.2222222222222222,\"#7201a8\"],[0.3333333333333333,\"#9c179e\"],[0.4444444444444444,\"#bd3786\"],[0.5555555555555556,\"#d8576b\"],[0.6666666666666666,\"#ed7953\"],[0.7777777777777778,\"#fb9f3a\"],[0.8888888888888888,\"#fdca26\"],[1.0,\"#f0f921\"]],\"type\":\"heatmap\"}],\"histogram2dcontour\":[{\"colorbar\":{\"outlinewidth\":0,\"ticks\":\"\"},\"colorscale\":[[0.0,\"#0d0887\"],[0.1111111111111111,\"#46039f\"],[0.2222222222222222,\"#7201a8\"],[0.3333333333333333,\"#9c179e\"],[0.4444444444444444,\"#bd3786\"],[0.5555555555555556,\"#d8576b\"],[0.6666666666666666,\"#ed7953\"],[0.7777777777777778,\"#fb9f3a\"],[0.8888888888888888,\"#fdca26\"],[1.0,\"#f0f921\"]],\"type\":\"histogram2dcontour\"}],\"histogram2d\":[{\"colorbar\":{\"outlinewidth\":0,\"ticks\":\"\"},\"colorscale\":[[0.0,\"#0d0887\"],[0.1111111111111111,\"#46039f\"],[0.2222222222222222,\"#7201a8\"],[0.3333333333333333,\"#9c179e\"],[0.4444444444444444,\"#bd3786\"],[0.5555555555555556,\"#d8576b\"],[0.6666666666666666,\"#ed7953\"],[0.7777777777777778,\"#fb9f3a\"],[0.8888888888888888,\"#fdca26\"],[1.0,\"#f0f921\"]],\"type\":\"histogram2d\"}],\"histogram\":[{\"marker\":{\"pattern\":{\"fillmode\":\"overlay\",\"size\":10,\"solidity\":0.2}},\"type\":\"histogram\"}],\"mesh3d\":[{\"colorbar\":{\"outlinewidth\":0,\"ticks\":\"\"},\"type\":\"mesh3d\"}],\"parcoords\":[{\"line\":{\"colorbar\":{\"outlinewidth\":0,\"ticks\":\"\"}},\"type\":\"parcoords\"}],\"pie\":[{\"automargin\":true,\"type\":\"pie\"}],\"scatter3d\":[{\"line\":{\"colorbar\":{\"outlinewidth\":0,\"ticks\":\"\"}},\"marker\":{\"colorbar\":{\"outlinewidth\":0,\"ticks\":\"\"}},\"type\":\"scatter3d\"}],\"scattercarpet\":[{\"marker\":{\"colorbar\":{\"outlinewidth\":0,\"ticks\":\"\"}},\"type\":\"scattercarpet\"}],\"scattergeo\":[{\"marker\":{\"colorbar\":{\"outlinewidth\":0,\"ticks\":\"\"}},\"type\":\"scattergeo\"}],\"scattergl\":[{\"marker\":{\"colorbar\":{\"outlinewidth\":0,\"ticks\":\"\"}},\"type\":\"scattergl\"}],\"scattermapbox\":[{\"marker\":{\"colorbar\":{\"outlinewidth\":0,\"ticks\":\"\"}},\"type\":\"scattermapbox\"}],\"scatterpolargl\":[{\"marker\":{\"colorbar\":{\"outlinewidth\":0,\"ticks\":\"\"}},\"type\":\"scatterpolargl\"}],\"scatterpolar\":[{\"marker\":{\"colorbar\":{\"outlinewidth\":0,\"ticks\":\"\"}},\"type\":\"scatterpolar\"}],\"scatter\":[{\"marker\":{\"colorbar\":{\"outlinewidth\":0,\"ticks\":\"\"}},\"type\":\"scatter\"}],\"scatterternary\":[{\"marker\":{\"colorbar\":{\"outlinewidth\":0,\"ticks\":\"\"}},\"type\":\"scatterternary\"}],\"surface\":[{\"colorbar\":{\"outlinewidth\":0,\"ticks\":\"\"},\"colorscale\":[[0.0,\"#0d0887\"],[0.1111111111111111,\"#46039f\"],[0.2222222222222222,\"#7201a8\"],[0.3333333333333333,\"#9c179e\"],[0.4444444444444444,\"#bd3786\"],[0.5555555555555556,\"#d8576b\"],[0.6666666666666666,\"#ed7953\"],[0.7777777777777778,\"#fb9f3a\"],[0.8888888888888888,\"#fdca26\"],[1.0,\"#f0f921\"]],\"type\":\"surface\"}],\"table\":[{\"cells\":{\"fill\":{\"color\":\"#EBF0F8\"},\"line\":{\"color\":\"white\"}},\"header\":{\"fill\":{\"color\":\"#C8D4E3\"},\"line\":{\"color\":\"white\"}},\"type\":\"table\"}]},\"layout\":{\"annotationdefaults\":{\"arrowcolor\":\"#2a3f5f\",\"arrowhead\":0,\"arrowwidth\":1},\"autotypenumbers\":\"strict\",\"coloraxis\":{\"colorbar\":{\"outlinewidth\":0,\"ticks\":\"\"}},\"colorscale\":{\"diverging\":[[0,\"#8e0152\"],[0.1,\"#c51b7d\"],[0.2,\"#de77ae\"],[0.3,\"#f1b6da\"],[0.4,\"#fde0ef\"],[0.5,\"#f7f7f7\"],[0.6,\"#e6f5d0\"],[0.7,\"#b8e186\"],[0.8,\"#7fbc41\"],[0.9,\"#4d9221\"],[1,\"#276419\"]],\"sequential\":[[0.0,\"#0d0887\"],[0.1111111111111111,\"#46039f\"],[0.2222222222222222,\"#7201a8\"],[0.3333333333333333,\"#9c179e\"],[0.4444444444444444,\"#bd3786\"],[0.5555555555555556,\"#d8576b\"],[0.6666666666666666,\"#ed7953\"],[0.7777777777777778,\"#fb9f3a\"],[0.8888888888888888,\"#fdca26\"],[1.0,\"#f0f921\"]],\"sequentialminus\":[[0.0,\"#0d0887\"],[0.1111111111111111,\"#46039f\"],[0.2222222222222222,\"#7201a8\"],[0.3333333333333333,\"#9c179e\"],[0.4444444444444444,\"#bd3786\"],[0.5555555555555556,\"#d8576b\"],[0.6666666666666666,\"#ed7953\"],[0.7777777777777778,\"#fb9f3a\"],[0.8888888888888888,\"#fdca26\"],[1.0,\"#f0f921\"]]},\"colorway\":[\"#636efa\",\"#EF553B\",\"#00cc96\",\"#ab63fa\",\"#FFA15A\",\"#19d3f3\",\"#FF6692\",\"#B6E880\",\"#FF97FF\",\"#FECB52\"],\"font\":{\"color\":\"#2a3f5f\"},\"geo\":{\"bgcolor\":\"white\",\"lakecolor\":\"white\",\"landcolor\":\"#E5ECF6\",\"showlakes\":true,\"showland\":true,\"subunitcolor\":\"white\"},\"hoverlabel\":{\"align\":\"left\"},\"hovermode\":\"closest\",\"mapbox\":{\"style\":\"light\"},\"paper_bgcolor\":\"white\",\"plot_bgcolor\":\"#E5ECF6\",\"polar\":{\"angularaxis\":{\"gridcolor\":\"white\",\"linecolor\":\"white\",\"ticks\":\"\"},\"bgcolor\":\"#E5ECF6\",\"radialaxis\":{\"gridcolor\":\"white\",\"linecolor\":\"white\",\"ticks\":\"\"}},\"scene\":{\"xaxis\":{\"backgroundcolor\":\"#E5ECF6\",\"gridcolor\":\"white\",\"gridwidth\":2,\"linecolor\":\"white\",\"showbackground\":true,\"ticks\":\"\",\"zerolinecolor\":\"white\"},\"yaxis\":{\"backgroundcolor\":\"#E5ECF6\",\"gridcolor\":\"white\",\"gridwidth\":2,\"linecolor\":\"white\",\"showbackground\":true,\"ticks\":\"\",\"zerolinecolor\":\"white\"},\"zaxis\":{\"backgroundcolor\":\"#E5ECF6\",\"gridcolor\":\"white\",\"gridwidth\":2,\"linecolor\":\"white\",\"showbackground\":true,\"ticks\":\"\",\"zerolinecolor\":\"white\"}},\"shapedefaults\":{\"line\":{\"color\":\"#2a3f5f\"}},\"ternary\":{\"aaxis\":{\"gridcolor\":\"white\",\"linecolor\":\"white\",\"ticks\":\"\"},\"baxis\":{\"gridcolor\":\"white\",\"linecolor\":\"white\",\"ticks\":\"\"},\"bgcolor\":\"#E5ECF6\",\"caxis\":{\"gridcolor\":\"white\",\"linecolor\":\"white\",\"ticks\":\"\"}},\"title\":{\"x\":0.05},\"xaxis\":{\"automargin\":true,\"gridcolor\":\"white\",\"linecolor\":\"white\",\"ticks\":\"\",\"title\":{\"standoff\":15},\"zerolinecolor\":\"white\",\"zerolinewidth\":2},\"yaxis\":{\"automargin\":true,\"gridcolor\":\"white\",\"linecolor\":\"white\",\"ticks\":\"\",\"title\":{\"standoff\":15},\"zerolinecolor\":\"white\",\"zerolinewidth\":2}}},\"title\":{\"text\":\"3D graph visualization of Mutag dataset  by : Ahmed\"},\"width\":1000},                        {\"responsive\": true}                    ).then(function(){\n",
       "                            \n",
       "var gd = document.getElementById('ead35a82-f4ce-4677-8935-9a27b96cb5c0');\n",
       "var x = new MutationObserver(function (mutations, observer) {{\n",
       "        var display = window.getComputedStyle(gd).display;\n",
       "        if (!display || display === 'none') {{\n",
       "            console.log([gd, 'removed!']);\n",
       "            Plotly.purge(gd);\n",
       "            observer.disconnect();\n",
       "        }}\n",
       "}});\n",
       "\n",
       "// Listen for the removal of the full notebook cells\n",
       "var notebookContainer = gd.closest('#notebook-container');\n",
       "if (notebookContainer) {{\n",
       "    x.observe(notebookContainer, {childList: true});\n",
       "}}\n",
       "\n",
       "// Listen for the clearing of the current output cell\n",
       "var outputEl = gd.closest('.output');\n",
       "if (outputEl) {{\n",
       "    x.observe(outputEl, {childList: true});\n",
       "}}\n",
       "\n",
       "                        })                };                });            </script>        </div>"
      ]
     },
     "metadata": {},
     "output_type": "display_data"
    }
   ],
   "source": [
    "import pandas as pd\n",
    "import numpy as np\n",
    "%matplotlib inline\n",
    "import plotly.graph_objs as go\n",
    "from  plotly.offline import plot\n",
    "import chart_studio.plotly as py\n",
    "import cufflinks as cf\n",
    "cf.go_offline()\n",
    "from plotly.offline import download_plotlyjs, init_notebook_mode, plot,iplot\n",
    "init_notebook_mode(connected='true')\n",
    "data=[trace1, trace2]\n",
    "fig=go.Figure(data=data, layout=layout)\n",
    "\n",
    "iplot(fig, filename='Les-Miserables')"
   ]
  },
  {
   "cell_type": "code",
   "execution_count": 14,
   "id": "cdb42289",
   "metadata": {},
   "outputs": [
    {
     "name": "stdout",
     "output_type": "stream",
     "text": [
      "\n",
      "Dataset: PROTEINS(1113):\n",
      "====================\n",
      "Number of graphs: 1113\n",
      "Number of features: 3\n",
      "Number of classes: 2\n",
      "\n",
      "Data(edge_index=[2, 162], x=[42, 3], y=[1])\n",
      "=============================================================\n",
      "Number of nodes: 42\n",
      "Number of edges: 162\n",
      "Average node degree: 3.86\n",
      "Has isolated nodes: False\n",
      "Has self-loops: False\n",
      "Is undirected: True\n"
     ]
    }
   ],
   "source": [
    "import torch\n",
    "from torch_geometric.datasets import TUDataset\n",
    "\n",
    "dataset = TUDataset(root='data/TUDataset', name='PROTEINS')\n",
    "\n",
    "print()\n",
    "print(f'Dataset: {dataset}:')\n",
    "print('====================')\n",
    "print(f'Number of graphs: {len(dataset)}')\n",
    "print(f'Number of features: {dataset.num_features}')\n",
    "print(f'Number of classes: {dataset.num_classes}')\n",
    "\n",
    "data = dataset[0]  # Get the first graph object.\n",
    "\n",
    "print()\n",
    "print(data)\n",
    "print('=============================================================')\n",
    "\n",
    "# Gather some statistics about the first graph.\n",
    "print(f'Number of nodes: {data.num_nodes}')\n",
    "print(f'Number of edges: {data.num_edges}')\n",
    "print(f'Average node degree: {data.num_edges / data.num_nodes:.2f}')\n",
    "print(f'Has isolated nodes: {data.has_isolated_nodes()}')\n",
    "print(f'Has self-loops: {data.has_self_loops()}')\n",
    "print(f'Is undirected: {data.is_undirected()}')"
   ]
  },
  {
   "cell_type": "code",
   "execution_count": 15,
   "id": "b97fb924",
   "metadata": {},
   "outputs": [
    {
     "name": "stdout",
     "output_type": "stream",
     "text": [
      "Number of training graphs: 890\n",
      "Number of test graphs: 223\n"
     ]
    }
   ],
   "source": [
    "#torch.manual_seed(12345)\n",
    "dataset = dataset.shuffle()\n",
    "\n",
    "train_dataset = dataset[:890]\n",
    "test_dataset = dataset[890:]\n",
    "\n",
    "print(f'Number of training graphs: {len(train_dataset)}')\n",
    "print(f'Number of test graphs: {len(test_dataset)}')"
   ]
  },
  {
   "cell_type": "code",
   "execution_count": 16,
   "id": "60ebfcf0",
   "metadata": {},
   "outputs": [
    {
     "data": {
      "text/plain": [
       "890.4000000000001"
      ]
     },
     "execution_count": 16,
     "metadata": {},
     "output_type": "execute_result"
    }
   ],
   "source": [
    "1113*0.8"
   ]
  },
  {
   "cell_type": "code",
   "execution_count": 17,
   "id": "1c983090",
   "metadata": {},
   "outputs": [
    {
     "name": "stdout",
     "output_type": "stream",
     "text": [
      "GCN(\n",
      "  (conv1): GCNConv(3, 18)\n",
      "  (conv2): GCNConv(18, 18)\n",
      "  (conv3): GCNConv(18, 18)\n",
      "  (lin): Linear(in_features=18, out_features=2, bias=True)\n",
      ")\n"
     ]
    }
   ],
   "source": [
    "from torch.nn import Linear\n",
    "import torch.nn.functional as F\n",
    "from torch_geometric.nn import GCNConv\n",
    "from torch_geometric.nn import global_mean_pool, global_max_pool,global_sort_pool\n",
    "\n",
    "\n",
    "class GCN(torch.nn.Module):\n",
    "    def __init__(self, hidden_channels):\n",
    "        super(GCN, self).__init__()\n",
    "        torch.manual_seed(12345)\n",
    "        self.conv1 = GCNConv(dataset.num_node_features, hidden_channels)\n",
    "        self.conv2 = GCNConv(hidden_channels, hidden_channels)\n",
    "        self.conv3 = GCNConv(hidden_channels, hidden_channels)\n",
    "        self.lin = Linear(hidden_channels, dataset.num_classes)\n",
    "        self.salidaConv = torch.zeros(0)\n",
    "        self.salidaPooling = torch.zeros(0)\n",
    "    def forward(self, x, edge_index, batch):\n",
    "        \n",
    "        # 1. Obtain node embeddings \n",
    "        x = self.conv1(x, edge_index)\n",
    "        x = x.relu()\n",
    "        x = self.conv2(x, edge_index)\n",
    "        x = x.relu()\n",
    "        x = self.conv3(x, edge_index)\n",
    "        self.salidaConv = x\n",
    "        #print(\"Primera shape\",x.shape)\n",
    "        # 2. Readout layer\n",
    "        #print(x.shape)\n",
    "        x = global_max_pool(x, batch)  # [batch_size, hidden_channels]\n",
    "        self.salidaPooling = x\n",
    "        #print(x)\n",
    "        #x = GlobalPooling(x,batch)\n",
    "        #x = x.sum(dim=0)\n",
    "        # 3. Apply a final classifier\n",
    "        x = F.dropout(x, p=0.5, training=self.training)\n",
    "        \n",
    "        x = self.lin(x)\n",
    "        #print(x.shape)\n",
    "        return x\n",
    "\n",
    "model = GCN(hidden_channels=18)\n",
    "print(model)"
   ]
  },
  {
   "cell_type": "code",
   "execution_count": 24,
   "id": "c51ee0be",
   "metadata": {},
   "outputs": [
    {
     "name": "stdout",
     "output_type": "stream",
     "text": [
      "RUN:0,Test Acc:0.7248\n",
      "RUN:1,Test Acc:0.7373\n",
      "RUN:2,Test Acc:0.7238\n",
      "RUN:3,Test Acc:0.7269\n",
      "RUN:4,Test Acc:0.7425\n",
      "RUN:5,Test Acc:0.7310\n",
      "RUN:6,Test Acc:0.7321\n",
      "RUN:7,Test Acc:0.7290\n",
      "RUN:8,Test Acc:0.7092\n",
      "RUN:9,Test Acc:0.7321\n"
     ]
    }
   ],
   "source": [
    "model = GCN(hidden_channels=20)\n",
    "optimizer = torch.optim.Adam(model.parameters(), lr=0.01)\n",
    "criterion = torch.nn.CrossEntropyLoss()\n",
    "\n",
    "def train():\n",
    "    model.train()\n",
    "\n",
    "    for data in train_loader:  # Iterate in batches over the training dataset.\n",
    "        out = model(data.x, data.edge_index, data.batch)  # Perform a single forward pass.\n",
    "        #print(\"hola\",out)\n",
    "        #print(data.y)\n",
    "        loss = criterion(out, data.y)  # Compute the loss.\n",
    "        loss.backward()  # Derive gradients.\n",
    "        optimizer.step()  # Update parameters based on gradients.\n",
    "        optimizer.zero_grad()  # Clear gradients.\n",
    "def test(loader):\n",
    "    model.eval()\n",
    "\n",
    "    correct = 0\n",
    "    for data in loader:  # Iterate in batches over the training/test dataset.\n",
    "        out = model(data.x, data.edge_index, data.batch)  \n",
    "        pred = out.argmax(dim=1)  # Use the class with highest probability.\n",
    "        correct += int((pred == data.y).sum())  # Check against ground-truth labels.\n",
    "    return correct / len(loader.dataset)  # Derive ratio of correct predictions.\n",
    "resultados = []\n",
    "for i in range(10):\n",
    "    dataset = dataset.shuffle()\n",
    "\n",
    "    train_dataset = dataset[:150]\n",
    "    test_dataset = dataset[150:]\n",
    "\n",
    "    train_loader = DataLoader(train_dataset.shuffle(), batch_size=64, shuffle=True)\n",
    "    test_loader = DataLoader(test_dataset.shuffle(), batch_size=64, shuffle=False)\n",
    "    model = GCN(hidden_channels=18)\n",
    "    optimizer = torch.optim.Adam(model.parameters(), lr=0.01)\n",
    "    criterion = torch.nn.CrossEntropyLoss()\n",
    "    for epoch in range(1, 50):\n",
    "        train()\n",
    "        train_acc = test(train_loader)\n",
    "        test_acc = test(test_loader)\n",
    "        #print(f'Epoch: {epoch:03d}, Train Acc: {train_acc:.4f}, Test Acc: {test_acc:.4f}')\n",
    "    print(f'RUN:{i},Test Acc:{test_acc:.4f}')\n",
    "    resultados.append(test_acc)"
   ]
  },
  {
   "cell_type": "code",
   "execution_count": 19,
   "id": "71b33b58",
   "metadata": {},
   "outputs": [
    {
     "name": "stdout",
     "output_type": "stream",
     "text": [
      "tensor(0.7130)\n",
      "tensor(0.0286)\n"
     ]
    }
   ],
   "source": [
    "res= torch.Tensor(resultados)\n",
    "print(torch.mean(res))\n",
    "print(torch.std(res))\n"
   ]
  },
  {
   "cell_type": "code",
   "execution_count": 20,
   "id": "d5a5d5d3",
   "metadata": {},
   "outputs": [
    {
     "name": "stdout",
     "output_type": "stream",
     "text": [
      "DataBatch(edge_index=[2, 62], x=[18, 3], y=[1], batch=1, ptr=[2])\n",
      "tensor([0])\n",
      "tensor([0, 0])\n",
      "Accuracy:  100.0\n"
     ]
    }
   ],
   "source": [
    "test_loader = DataLoader(test_dataset[4:], batch_size=1, shuffle=False)\n",
    "sample = next(iter(test_loader))\n",
    "sample.batch =torch.tensor(1)\n",
    "print(sample)\n",
    "print(sample.y)\n",
    "out = model(sample.x,sample.edge_index, sample.batch)  # Perform a single forward pass.\n",
    "pred = out.argmax(dim=1)  # Use the class with highest probability.\n",
    "print(pred)\n",
    "correct = 0\n",
    "correct += int((pred[0] == sample[0].y).sum())  # Check against ground-truth labels.\n",
    "print(\"Accuracy: \",(correct/1)*100)#Batch_size"
   ]
  },
  {
   "cell_type": "code",
   "execution_count": 21,
   "id": "18cfcc24",
   "metadata": {},
   "outputs": [
    {
     "name": "stdout",
     "output_type": "stream",
     "text": [
      "DataBatch(edge_index=[2, 62], x=[18, 3], y=[1], batch=1, ptr=[2])\n",
      "18\n",
      "<Layout with 18 vertices and 3 dimensions>\n",
      "[(0, 7), (0, 8), (0, 9), (1, 7), (1, 10), (1, 11), (2, 3), (2, 11), (2, 12), (3, 4), (3, 12), (3, 16), (4, 16), (4, 17), (5, 6), (5, 13), (5, 14), (5, 15), (6, 13), (6, 14), (7, 8), (7, 9), (7, 10), (8, 9), (10, 11), (11, 12), (12, 16), (13, 14), (14, 15), (14, 17), (15, 17)]\n"
     ]
    },
    {
     "data": {
      "image/png": "[encoded data removed]",
      "text/plain": [
       "<Figure size 432x288 with 1 Axes>"
      ]
     },
     "metadata": {},
     "output_type": "display_data"
    }
   ],
   "source": [
    "import networkx as nx\n",
    "from torch_geometric.utils import *\n",
    "#loader =  DataLoader(dataset, batch_size=1, shuffle=False)\n",
    "grafo_init = sample\n",
    "print(grafo_init)\n",
    "A = to_networkx(grafo_init, to_undirected=True)\n",
    "l=[]\n",
    "for a in A.nodes:\n",
    "    l.append(a)\n",
    "ed= []\n",
    "for e in A.edges:\n",
    "    ed.append(e)\n",
    "import igraph as ig\n",
    "import chart_studio.plotly\n",
    "Edges= ed\n",
    "G=ig.Graph(Edges, directed=False)\n",
    "labels= l\n",
    "#groups = A.node_attr_dict_factory\n",
    "N = len(A.nodes)\n",
    "print(N)\n",
    "layt=G.layout('kk', dim=3)\n",
    "print(layt)\n",
    "Xn=[layt[k][0] for k in range(N)]# x-coordinates of nodes\n",
    "Yn=[layt[k][1] for k in range(N)]# y-coordinates\n",
    "Zn=[layt[k][2] for k in range(N)]# z-coordinates\n",
    "Xe=[]\n",
    "Ye=[]\n",
    "Ze=[]\n",
    "print(Edges)\n",
    "for e in Edges:\n",
    "    Xe+=[layt[e[0]][0],layt[e[1]][0], None]# x-coordinates of edge ends\n",
    "    Ye+=[layt[e[0]][1],layt[e[1]][1], None]\n",
    "    Ze+=[layt[e[0]][2],layt[e[1]][2], None]\n",
    "nx.draw(A)\n",
    "node_adjacencies = []\n",
    "node_text = []\n",
    "for node, adjacencies in enumerate(A.nodes()):\n",
    "    #print(adjacencies,critical_nodes)\n",
    "    if adjacencies in critical_nodes :\n",
    "        node_adjacencies.append('rgb(256,0,0)')\n",
    "    else:\n",
    "        node_adjacencies.append('rgb(0,0,0)')\n",
    "    #node_text.append('# of connections: '+str(len(adjacencies[1])))"
   ]
  },
  {
   "cell_type": "code",
   "execution_count": 22,
   "id": "190c9485",
   "metadata": {},
   "outputs": [],
   "source": [
    "from chart_studio import plotly\n",
    "import plotly.graph_objs as go\n",
    "\n",
    "trace1=go.Scatter3d(x=Xe,\n",
    "               y=Ye,\n",
    "               z=Ze,\n",
    "               mode='lines',\n",
    "               line=dict(color='rgb(125,125,125)', width=1),\n",
    "               hoverinfo='none'\n",
    "               )\n",
    "\n",
    "trace2=go.Scatter3d(x=Xn,\n",
    "               y=Yn,\n",
    "               z=Zn,\n",
    "               mode='markers',\n",
    "               name='actors',\n",
    "               marker=dict(symbol='circle',\n",
    "                             size=6,\n",
    "                             #color='#ff7f0e',\n",
    "                             colorscale='Viridis',\n",
    "                             line=dict(color='rgb(50,50,50)', width=0.5)\n",
    "                             ),\n",
    "               text=labels,\n",
    "               hoverinfo='text'\n",
    "               )\n",
    "trace2.marker.color = node_adjacencies\n",
    "#print(trace2)\n",
    "axis=dict(showbackground=False,\n",
    "          showline=False,\n",
    "          zeroline=False,\n",
    "          showgrid=False,\n",
    "          showticklabels=False,\n",
    "          title=''\n",
    "          )\n",
    "\n",
    "layout = go.Layout(\n",
    "         title=\"3D graph visualization of Mutag dataset  by : Ahmed\",\n",
    "         width=1000,\n",
    "         height=1000,\n",
    "         showlegend=False,\n",
    "         scene=dict(\n",
    "             xaxis=dict(axis),\n",
    "             yaxis=dict(axis),\n",
    "             zaxis=dict(axis),\n",
    "        ),\n",
    "     margin=dict(\n",
    "        t=100\n",
    "    ),\n",
    "    hovermode='closest',\n",
    "    annotations=[\n",
    "           dict(\n",
    "           showarrow=False,\n",
    "            text=\"Data source: <a href='https://plotly.com/python/v3/3d-network-graph/</a>\",\n",
    "            xref='paper',\n",
    "            yref='paper',\n",
    "            x=0,\n",
    "            y=0.1,\n",
    "            xanchor='left',\n",
    "            yanchor='bottom',\n",
    "            font=dict(\n",
    "            size=14\n",
    "            )\n",
    "            )\n",
    "        ],    )"
   ]
  },
  {
   "cell_type": "code",
   "execution_count": 23,
   "id": "03502a13",
   "metadata": {},
   "outputs": [
    {
     "data": {
      "text/html": [
       "        <script type=\"text/javascript\">\n",
       "        window.PlotlyConfig = {MathJaxConfig: 'local'};\n",
       "        if (window.MathJax) {MathJax.Hub.Config({SVG: {font: \"STIX-Web\"}});}\n",
       "        if (typeof require !== 'undefined') {\n",
       "        require.undef(\"plotly\");\n",
       "        requirejs.config({\n",
       "            paths: {\n",
       "                'plotly': ['https://cdn.plot.ly/plotly-2.9.0.min']\n",
       "            }\n",
       "        });\n",
       "        require(['plotly'], function(Plotly) {\n",
       "            window._Plotly = Plotly;\n",
       "        });\n",
       "        }\n",
       "        </script>\n",
       "        "
      ]
     },
     "metadata": {},
     "output_type": "display_data"
    },
    {
     "data": {
      "text/html": [
       "        <script type=\"text/javascript\">\n",
       "        window.PlotlyConfig = {MathJaxConfig: 'local'};\n",
       "        if (window.MathJax) {MathJax.Hub.Config({SVG: {font: \"STIX-Web\"}});}\n",
       "        if (typeof require !== 'undefined') {\n",
       "        require.undef(\"plotly\");\n",
       "        requirejs.config({\n",
       "            paths: {\n",
       "                'plotly': ['https://cdn.plot.ly/plotly-2.9.0.min']\n",
       "            }\n",
       "        });\n",
       "        require(['plotly'], function(Plotly) {\n",
       "            window._Plotly = Plotly;\n",
       "        });\n",
       "        }\n",
       "        </script>\n",
       "        "
      ]
     },
     "metadata": {},
     "output_type": "display_data"
    },
    {
     "data": {
      "application/vnd.plotly.v1+json": {
       "config": {
        "linkText": "Export to plot.ly",
        "plotlyServerURL": "https://plot.ly",
        "showLink": false
       },
       "data": [
        {
         "hoverinfo": "none",
         "line": {
          "color": "rgb(125,125,125)",
          "width": 1
         },
         "mode": "lines",
         "type": "scatter3d",
         "x": [
          -1.4929829843368485,
          -1.306372226994045,
          null,
          -1.4929829843368485,
          -1.7915403371805962,
          null,
          -1.4929829843368485,
          -1.5445034764512413,
          null,
          -0.9061102374057245,
          -1.306372226994045,
          null,
          -0.9061102374057245,
          -1.0333112858436662,
          null,
          -0.9061102374057245,
          -0.6424202412262038,
          null,
          -0.4930512803971741,
          -0.03733953713956592,
          null,
          -0.4930512803971741,
          -0.6424202412262038,
          null,
          -0.4930512803971741,
          -0.18787304727708468,
          null,
          -0.03733953713956592,
          0.4124313311753526,
          null,
          -0.03733953713956592,
          -0.18787304727708468,
          null,
          -0.03733953713956592,
          0.26705359582406,
          null,
          0.4124313311753526,
          0.26705359582406,
          null,
          0.4124313311753526,
          0.7500057819722853,
          null,
          1.3466849694418777,
          1.6273284889392414,
          null,
          1.3466849694418777,
          1.3431256232673745,
          null,
          1.3466849694418777,
          1.139307279933504,
          null,
          1.3466849694418777,
          0.9402143265130898,
          null,
          1.6273284889392414,
          1.3431256232673745,
          null,
          1.6273284889392414,
          1.139307279933504,
          null,
          -1.306372226994045,
          -1.7915403371805962,
          null,
          -1.306372226994045,
          -1.5445034764512413,
          null,
          -1.306372226994045,
          -1.0333112858436662,
          null,
          -1.7915403371805962,
          -1.5445034764512413,
          null,
          -1.0333112858436662,
          -0.6424202412262038,
          null,
          -0.6424202412262038,
          -0.18787304727708468,
          null,
          -0.18787304727708468,
          0.26705359582406,
          null,
          1.3431256232673745,
          1.139307279933504,
          null,
          1.139307279933504,
          0.9402143265130898,
          null,
          1.139307279933504,
          0.7500057819722853,
          null,
          0.9402143265130898,
          0.7500057819722853,
          null
         ],
         "y": [
          0.16722591692678737,
          -0.06079770352045775,
          null,
          0.16722591692678737,
          -0.008576097607632711,
          null,
          0.16722591692678737,
          -0.288575358579444,
          null,
          0.11665513528007455,
          -0.06079770352045775,
          null,
          0.11665513528007455,
          -0.2749231916339273,
          null,
          0.11665513528007455,
          -0.09238642055456359,
          null,
          -0.0007086240169796621,
          -0.09377893714060395,
          null,
          -0.0007086240169796621,
          -0.09238642055456359,
          null,
          -0.0007086240169796621,
          -0.18342907519000717,
          null,
          -0.09377893714060395,
          -0.19084847960155016,
          null,
          -0.09377893714060395,
          -0.18342907519000717,
          null,
          -0.09377893714060395,
          -0.28042782654684556,
          null,
          -0.19084847960155016,
          -0.28042782654684556,
          null,
          -0.19084847960155016,
          -0.22084352889469985,
          null,
          -0.31407136827498283,
          -0.03076983005635044,
          null,
          -0.31407136827498283,
          0.1690727443958828,
          null,
          -0.31407136827498283,
          -0.07712156041207976,
          null,
          -0.31407136827498283,
          -0.5004059383961599,
          null,
          -0.03076983005635044,
          0.1690727443958828,
          null,
          -0.03076983005635044,
          -0.07712156041207976,
          null,
          -0.06079770352045775,
          -0.008576097607632711,
          null,
          -0.06079770352045775,
          -0.288575358579444,
          null,
          -0.06079770352045775,
          -0.2749231916339273,
          null,
          -0.008576097607632711,
          -0.288575358579444,
          null,
          -0.2749231916339273,
          -0.09238642055456359,
          null,
          -0.09238642055456359,
          -0.18342907519000717,
          null,
          -0.18342907519000717,
          -0.28042782654684556,
          null,
          0.1690727443958828,
          -0.07712156041207976,
          null,
          -0.07712156041207976,
          -0.5004059383961599,
          null,
          -0.07712156041207976,
          -0.22084352889469985,
          null,
          -0.5004059383961599,
          -0.22084352889469985,
          null
         ],
         "z": [
          -1.5661347440509392,
          -1.1651416295343502,
          null,
          -1.5661347440509392,
          -1.2598862512944764,
          null,
          -1.5661347440509392,
          -1.5372231093068878,
          null,
          -0.8945223144833957,
          -1.1651416295343502,
          null,
          -0.8945223144833957,
          -0.7842163277197398,
          null,
          -0.8945223144833957,
          -0.5089965445479477,
          null,
          -0.028094166567309706,
          0.16878344578728824,
          null,
          -0.028094166567309706,
          -0.5089965445479477,
          null,
          -0.028094166567309706,
          -0.3073536283920631,
          null,
          0.16878344578728824,
          0.3656701212431629,
          null,
          0.16878344578728824,
          -0.3073536283920631,
          null,
          0.16878344578728824,
          -0.1113580781341437,
          null,
          0.3656701212431629,
          -0.1113580781341437,
          null,
          0.3656701212431629,
          0.735437567920025,
          null,
          1.3681249163959563,
          1.0940372559392824,
          null,
          1.3681249163959563,
          1.3952371108425168,
          null,
          1.3681249163959563,
          1.015118278702331,
          null,
          1.3681249163959563,
          1.1059640404195832,
          null,
          1.0940372559392824,
          1.3952371108425168,
          null,
          1.0940372559392824,
          1.015118278702331,
          null,
          -1.1651416295343502,
          -1.2598862512944764,
          null,
          -1.1651416295343502,
          -1.5372231093068878,
          null,
          -1.1651416295343502,
          -0.7842163277197398,
          null,
          -1.2598862512944764,
          -1.5372231093068878,
          null,
          -0.7842163277197398,
          -0.5089965445479477,
          null,
          -0.5089965445479477,
          -0.3073536283920631,
          null,
          -0.3073536283920631,
          -0.1113580781341437,
          null,
          1.3952371108425168,
          1.015118278702331,
          null,
          1.015118278702331,
          1.1059640404195832,
          null,
          1.015118278702331,
          0.735437567920025,
          null,
          1.1059640404195832,
          0.735437567920025,
          null
         ]
        },
        {
         "hoverinfo": "text",
         "marker": {
          "color": [
           "rgb(0,0,0)",
           "rgb(0,0,0)",
           "rgb(0,0,0)",
           "rgb(0,0,0)",
           "rgb(256,0,0)",
           "rgb(0,0,0)",
           "rgb(0,0,0)",
           "rgb(0,0,0)",
           "rgb(0,0,0)",
           "rgb(0,0,0)",
           "rgb(0,0,0)",
           "rgb(0,0,0)",
           "rgb(0,0,0)",
           "rgb(0,0,0)",
           "rgb(0,0,0)",
           "rgb(0,0,0)",
           "rgb(256,0,0)",
           "rgb(0,0,0)"
          ],
          "colorscale": [
           [
            0,
            "#440154"
           ],
           [
            0.1111111111111111,
            "#482878"
           ],
           [
            0.2222222222222222,
            "#3e4989"
           ],
           [
            0.3333333333333333,
            "#31688e"
           ],
           [
            0.4444444444444444,
            "#26828e"
           ],
           [
            0.5555555555555556,
            "#1f9e89"
           ],
           [
            0.6666666666666666,
            "#35b779"
           ],
           [
            0.7777777777777778,
            "#6ece58"
           ],
           [
            0.8888888888888888,
            "#b5de2b"
           ],
           [
            1,
            "#fde725"
           ]
          ],
          "line": {
           "color": "rgb(50,50,50)",
           "width": 0.5
          },
          "size": 6,
          "symbol": "circle"
         },
         "mode": "markers",
         "name": "actors",
         "text": [
          "0",
          "1",
          "2",
          "3",
          "4",
          "5",
          "6",
          "7",
          "8",
          "9",
          "10",
          "11",
          "12",
          "13",
          "14",
          "15",
          "16",
          "17"
         ],
         "type": "scatter3d",
         "x": [
          -1.4929829843368485,
          -0.9061102374057245,
          -0.4930512803971741,
          -0.03733953713956592,
          0.4124313311753526,
          1.3466849694418777,
          1.6273284889392414,
          -1.306372226994045,
          -1.7915403371805962,
          -1.5445034764512413,
          -1.0333112858436662,
          -0.6424202412262038,
          -0.18787304727708468,
          1.3431256232673745,
          1.139307279933504,
          0.9402143265130898,
          0.26705359582406,
          0.7500057819722853
         ],
         "y": [
          0.16722591692678737,
          0.11665513528007455,
          -0.0007086240169796621,
          -0.09377893714060395,
          -0.19084847960155016,
          -0.31407136827498283,
          -0.03076983005635044,
          -0.06079770352045775,
          -0.008576097607632711,
          -0.288575358579444,
          -0.2749231916339273,
          -0.09238642055456359,
          -0.18342907519000717,
          0.1690727443958828,
          -0.07712156041207976,
          -0.5004059383961599,
          -0.28042782654684556,
          -0.22084352889469985
         ],
         "z": [
          -1.5661347440509392,
          -0.8945223144833957,
          -0.028094166567309706,
          0.16878344578728824,
          0.3656701212431629,
          1.3681249163959563,
          1.0940372559392824,
          -1.1651416295343502,
          -1.2598862512944764,
          -1.5372231093068878,
          -0.7842163277197398,
          -0.5089965445479477,
          -0.3073536283920631,
          1.3952371108425168,
          1.015118278702331,
          1.1059640404195832,
          -0.1113580781341437,
          0.735437567920025
         ]
        }
       ],
       "layout": {
        "annotations": [
         {
          "font": {
           "size": 14
          },
          "showarrow": false,
          "text": "Data source: <a href='https://plotly.com/python/v3/3d-network-graph/</a>",
          "x": 0,
          "xanchor": "left",
          "xref": "paper",
          "y": 0.1,
          "yanchor": "bottom",
          "yref": "paper"
         }
        ],
        "height": 1000,
        "hovermode": "closest",
        "margin": {
         "t": 100
        },
        "scene": {
         "xaxis": {
          "showbackground": false,
          "showgrid": false,
          "showline": false,
          "showticklabels": false,
          "title": {
           "text": ""
          },
          "zeroline": false
         },
         "yaxis": {
          "showbackground": false,
          "showgrid": false,
          "showline": false,
          "showticklabels": false,
          "title": {
           "text": ""
          },
          "zeroline": false
         },
         "zaxis": {
          "showbackground": false,
          "showgrid": false,
          "showline": false,
          "showticklabels": false,
          "title": {
           "text": ""
          },
          "zeroline": false
         }
        },
        "showlegend": false,
        "template": {
         "data": {
          "bar": [
           {
            "error_x": {
             "color": "#2a3f5f"
            },
            "error_y": {
             "color": "#2a3f5f"
            },
            "marker": {
             "line": {
              "color": "#E5ECF6",
              "width": 0.5
             },
             "pattern": {
              "fillmode": "overlay",
              "size": 10,
              "solidity": 0.2
             }
            },
            "type": "bar"
           }
          ],
          "barpolar": [
           {
            "marker": {
             "line": {
              "color": "#E5ECF6",
              "width": 0.5
             },
             "pattern": {
              "fillmode": "overlay",
              "size": 10,
              "solidity": 0.2
             }
            },
            "type": "barpolar"
           }
          ],
          "carpet": [
           {
            "aaxis": {
             "endlinecolor": "#2a3f5f",
             "gridcolor": "white",
             "linecolor": "white",
             "minorgridcolor": "white",
             "startlinecolor": "#2a3f5f"
            },
            "baxis": {
             "endlinecolor": "#2a3f5f",
             "gridcolor": "white",
             "linecolor": "white",
             "minorgridcolor": "white",
             "startlinecolor": "#2a3f5f"
            },
            "type": "carpet"
           }
          ],
          "choropleth": [
           {
            "colorbar": {
             "outlinewidth": 0,
             "ticks": ""
            },
            "type": "choropleth"
           }
          ],
          "contour": [
           {
            "colorbar": {
             "outlinewidth": 0,
             "ticks": ""
            },
            "colorscale": [
             [
              0,
              "#0d0887"
             ],
             [
              0.1111111111111111,
              "#46039f"
             ],
             [
              0.2222222222222222,
              "#7201a8"
             ],
             [
              0.3333333333333333,
              "#9c179e"
             ],
             [
              0.4444444444444444,
              "#bd3786"
             ],
             [
              0.5555555555555556,
              "#d8576b"
             ],
             [
              0.6666666666666666,
              "#ed7953"
             ],
             [
              0.7777777777777778,
              "#fb9f3a"
             ],
             [
              0.8888888888888888,
              "#fdca26"
             ],
             [
              1,
              "#f0f921"
             ]
            ],
            "type": "contour"
           }
          ],
          "contourcarpet": [
           {
            "colorbar": {
             "outlinewidth": 0,
             "ticks": ""
            },
            "type": "contourcarpet"
           }
          ],
          "heatmap": [
           {
            "colorbar": {
             "outlinewidth": 0,
             "ticks": ""
            },
            "colorscale": [
             [
              0,
              "#0d0887"
             ],
             [
              0.1111111111111111,
              "#46039f"
             ],
             [
              0.2222222222222222,
              "#7201a8"
             ],
             [
              0.3333333333333333,
              "#9c179e"
             ],
             [
              0.4444444444444444,
              "#bd3786"
             ],
             [
              0.5555555555555556,
              "#d8576b"
             ],
             [
              0.6666666666666666,
              "#ed7953"
             ],
             [
              0.7777777777777778,
              "#fb9f3a"
             ],
             [
              0.8888888888888888,
              "#fdca26"
             ],
             [
              1,
              "#f0f921"
             ]
            ],
            "type": "heatmap"
           }
          ],
          "heatmapgl": [
           {
            "colorbar": {
             "outlinewidth": 0,
             "ticks": ""
            },
            "colorscale": [
             [
              0,
              "#0d0887"
             ],
             [
              0.1111111111111111,
              "#46039f"
             ],
             [
              0.2222222222222222,
              "#7201a8"
             ],
             [
              0.3333333333333333,
              "#9c179e"
             ],
             [
              0.4444444444444444,
              "#bd3786"
             ],
             [
              0.5555555555555556,
              "#d8576b"
             ],
             [
              0.6666666666666666,
              "#ed7953"
             ],
             [
              0.7777777777777778,
              "#fb9f3a"
             ],
             [
              0.8888888888888888,
              "#fdca26"
             ],
             [
              1,
              "#f0f921"
             ]
            ],
            "type": "heatmapgl"
           }
          ],
          "histogram": [
           {
            "marker": {
             "pattern": {
              "fillmode": "overlay",
              "size": 10,
              "solidity": 0.2
             }
            },
            "type": "histogram"
           }
          ],
          "histogram2d": [
           {
            "colorbar": {
             "outlinewidth": 0,
             "ticks": ""
            },
            "colorscale": [
             [
              0,
              "#0d0887"
             ],
             [
              0.1111111111111111,
              "#46039f"
             ],
             [
              0.2222222222222222,
              "#7201a8"
             ],
             [
              0.3333333333333333,
              "#9c179e"
             ],
             [
              0.4444444444444444,
              "#bd3786"
             ],
             [
              0.5555555555555556,
              "#d8576b"
             ],
             [
              0.6666666666666666,
              "#ed7953"
             ],
             [
              0.7777777777777778,
              "#fb9f3a"
             ],
             [
              0.8888888888888888,
              "#fdca26"
             ],
             [
              1,
              "#f0f921"
             ]
            ],
            "type": "histogram2d"
           }
          ],
          "histogram2dcontour": [
           {
            "colorbar": {
             "outlinewidth": 0,
             "ticks": ""
            },
            "colorscale": [
             [
              0,
              "#0d0887"
             ],
             [
              0.1111111111111111,
              "#46039f"
             ],
             [
              0.2222222222222222,
              "#7201a8"
             ],
             [
              0.3333333333333333,
              "#9c179e"
             ],
             [
              0.4444444444444444,
              "#bd3786"
             ],
             [
              0.5555555555555556,
              "#d8576b"
             ],
             [
              0.6666666666666666,
              "#ed7953"
             ],
             [
              0.7777777777777778,
              "#fb9f3a"
             ],
             [
              0.8888888888888888,
              "#fdca26"
             ],
             [
              1,
              "#f0f921"
             ]
            ],
            "type": "histogram2dcontour"
           }
          ],
          "mesh3d": [
           {
            "colorbar": {
             "outlinewidth": 0,
             "ticks": ""
            },
            "type": "mesh3d"
           }
          ],
          "parcoords": [
           {
            "line": {
             "colorbar": {
              "outlinewidth": 0,
              "ticks": ""
             }
            },
            "type": "parcoords"
           }
          ],
          "pie": [
           {
            "automargin": true,
            "type": "pie"
           }
          ],
          "scatter": [
           {
            "marker": {
             "colorbar": {
              "outlinewidth": 0,
              "ticks": ""
             }
            },
            "type": "scatter"
           }
          ],
          "scatter3d": [
           {
            "line": {
             "colorbar": {
              "outlinewidth": 0,
              "ticks": ""
             }
            },
            "marker": {
             "colorbar": {
              "outlinewidth": 0,
              "ticks": ""
             }
            },
            "type": "scatter3d"
           }
          ],
          "scattercarpet": [
           {
            "marker": {
             "colorbar": {
              "outlinewidth": 0,
              "ticks": ""
             }
            },
            "type": "scattercarpet"
           }
          ],
          "scattergeo": [
           {
            "marker": {
             "colorbar": {
              "outlinewidth": 0,
              "ticks": ""
             }
            },
            "type": "scattergeo"
           }
          ],
          "scattergl": [
           {
            "marker": {
             "colorbar": {
              "outlinewidth": 0,
              "ticks": ""
             }
            },
            "type": "scattergl"
           }
          ],
          "scattermapbox": [
           {
            "marker": {
             "colorbar": {
              "outlinewidth": 0,
              "ticks": ""
             }
            },
            "type": "scattermapbox"
           }
          ],
          "scatterpolar": [
           {
            "marker": {
             "colorbar": {
              "outlinewidth": 0,
              "ticks": ""
             }
            },
            "type": "scatterpolar"
           }
          ],
          "scatterpolargl": [
           {
            "marker": {
             "colorbar": {
              "outlinewidth": 0,
              "ticks": ""
             }
            },
            "type": "scatterpolargl"
           }
          ],
          "scatterternary": [
           {
            "marker": {
             "colorbar": {
              "outlinewidth": 0,
              "ticks": ""
             }
            },
            "type": "scatterternary"
           }
          ],
          "surface": [
           {
            "colorbar": {
             "outlinewidth": 0,
             "ticks": ""
            },
            "colorscale": [
             [
              0,
              "#0d0887"
             ],
             [
              0.1111111111111111,
              "#46039f"
             ],
             [
              0.2222222222222222,
              "#7201a8"
             ],
             [
              0.3333333333333333,
              "#9c179e"
             ],
             [
              0.4444444444444444,
              "#bd3786"
             ],
             [
              0.5555555555555556,
              "#d8576b"
             ],
             [
              0.6666666666666666,
              "#ed7953"
             ],
             [
              0.7777777777777778,
              "#fb9f3a"
             ],
             [
              0.8888888888888888,
              "#fdca26"
             ],
             [
              1,
              "#f0f921"
             ]
            ],
            "type": "surface"
           }
          ],
          "table": [
           {
            "cells": {
             "fill": {
              "color": "#EBF0F8"
             },
             "line": {
              "color": "white"
             }
            },
            "header": {
             "fill": {
              "color": "#C8D4E3"
             },
             "line": {
              "color": "white"
             }
            },
            "type": "table"
           }
          ]
         },
         "layout": {
          "annotationdefaults": {
           "arrowcolor": "#2a3f5f",
           "arrowhead": 0,
           "arrowwidth": 1
          },
          "autotypenumbers": "strict",
          "coloraxis": {
           "colorbar": {
            "outlinewidth": 0,
            "ticks": ""
           }
          },
          "colorscale": {
           "diverging": [
            [
             0,
             "#8e0152"
            ],
            [
             0.1,
             "#c51b7d"
            ],
            [
             0.2,
             "#de77ae"
            ],
            [
             0.3,
             "#f1b6da"
            ],
            [
             0.4,
             "#fde0ef"
            ],
            [
             0.5,
             "#f7f7f7"
            ],
            [
             0.6,
             "#e6f5d0"
            ],
            [
             0.7,
             "#b8e186"
            ],
            [
             0.8,
             "#7fbc41"
            ],
            [
             0.9,
             "#4d9221"
            ],
            [
             1,
             "#276419"
            ]
           ],
           "sequential": [
            [
             0,
             "#0d0887"
            ],
            [
             0.1111111111111111,
             "#46039f"
            ],
            [
             0.2222222222222222,
             "#7201a8"
            ],
            [
             0.3333333333333333,
             "#9c179e"
            ],
            [
             0.4444444444444444,
             "#bd3786"
            ],
            [
             0.5555555555555556,
             "#d8576b"
            ],
            [
             0.6666666666666666,
             "#ed7953"
            ],
            [
             0.7777777777777778,
             "#fb9f3a"
            ],
            [
             0.8888888888888888,
             "#fdca26"
            ],
            [
             1,
             "#f0f921"
            ]
           ],
           "sequentialminus": [
            [
             0,
             "#0d0887"
            ],
            [
             0.1111111111111111,
             "#46039f"
            ],
            [
             0.2222222222222222,
             "#7201a8"
            ],
            [
             0.3333333333333333,
             "#9c179e"
            ],
            [
             0.4444444444444444,
             "#bd3786"
            ],
            [
             0.5555555555555556,
             "#d8576b"
            ],
            [
             0.6666666666666666,
             "#ed7953"
            ],
            [
             0.7777777777777778,
             "#fb9f3a"
            ],
            [
             0.8888888888888888,
             "#fdca26"
            ],
            [
             1,
             "#f0f921"
            ]
           ]
          },
          "colorway": [
           "#636efa",
           "#EF553B",
           "#00cc96",
           "#ab63fa",
           "#FFA15A",
           "#19d3f3",
           "#FF6692",
           "#B6E880",
           "#FF97FF",
           "#FECB52"
          ],
          "font": {
           "color": "#2a3f5f"
          },
          "geo": {
           "bgcolor": "white",
           "lakecolor": "white",
           "landcolor": "#E5ECF6",
           "showlakes": true,
           "showland": true,
           "subunitcolor": "white"
          },
          "hoverlabel": {
           "align": "left"
          },
          "hovermode": "closest",
          "mapbox": {
           "style": "light"
          },
          "paper_bgcolor": "white",
          "plot_bgcolor": "#E5ECF6",
          "polar": {
           "angularaxis": {
            "gridcolor": "white",
            "linecolor": "white",
            "ticks": ""
           },
           "bgcolor": "#E5ECF6",
           "radialaxis": {
            "gridcolor": "white",
            "linecolor": "white",
            "ticks": ""
           }
          },
          "scene": {
           "xaxis": {
            "backgroundcolor": "#E5ECF6",
            "gridcolor": "white",
            "gridwidth": 2,
            "linecolor": "white",
            "showbackground": true,
            "ticks": "",
            "zerolinecolor": "white"
           },
           "yaxis": {
            "backgroundcolor": "#E5ECF6",
            "gridcolor": "white",
            "gridwidth": 2,
            "linecolor": "white",
            "showbackground": true,
            "ticks": "",
            "zerolinecolor": "white"
           },
           "zaxis": {
            "backgroundcolor": "#E5ECF6",
            "gridcolor": "white",
            "gridwidth": 2,
            "linecolor": "white",
            "showbackground": true,
            "ticks": "",
            "zerolinecolor": "white"
           }
          },
          "shapedefaults": {
           "line": {
            "color": "#2a3f5f"
           }
          },
          "ternary": {
           "aaxis": {
            "gridcolor": "white",
            "linecolor": "white",
            "ticks": ""
           },
           "baxis": {
            "gridcolor": "white",
            "linecolor": "white",
            "ticks": ""
           },
           "bgcolor": "#E5ECF6",
           "caxis": {
            "gridcolor": "white",
            "linecolor": "white",
            "ticks": ""
           }
          },
          "title": {
           "x": 0.05
          },
          "xaxis": {
           "automargin": true,
           "gridcolor": "white",
           "linecolor": "white",
           "ticks": "",
           "title": {
            "standoff": 15
           },
           "zerolinecolor": "white",
           "zerolinewidth": 2
          },
          "yaxis": {
           "automargin": true,
           "gridcolor": "white",
           "linecolor": "white",
           "ticks": "",
           "title": {
            "standoff": 15
           },
           "zerolinecolor": "white",
           "zerolinewidth": 2
          }
         }
        },
        "title": {
         "text": "3D graph visualization of Mutag dataset  by : Ahmed"
        },
        "width": 1000
       }
      },
      "text/html": [
       "<div>                            <div id=\"c06d4b39-f00a-41d0-ac87-0ea91911cd3a\" class=\"plotly-graph-div\" style=\"height:1000px; width:1000px;\"></div>            <script type=\"text/javascript\">                require([\"plotly\"], function(Plotly) {                    window.PLOTLYENV=window.PLOTLYENV || {};                                    if (document.getElementById(\"c06d4b39-f00a-41d0-ac87-0ea91911cd3a\")) {                    Plotly.newPlot(                        \"c06d4b39-f00a-41d0-ac87-0ea91911cd3a\",                        [{\"hoverinfo\":\"none\",\"line\":{\"color\":\"rgb(125,125,125)\",\"width\":1},\"mode\":\"lines\",\"x\":[-1.4929829843368485,-1.306372226994045,null,-1.4929829843368485,-1.7915403371805962,null,-1.4929829843368485,-1.5445034764512413,null,-0.9061102374057245,-1.306372226994045,null,-0.9061102374057245,-1.0333112858436662,null,-0.9061102374057245,-0.6424202412262038,null,-0.4930512803971741,-0.03733953713956592,null,-0.4930512803971741,-0.6424202412262038,null,-0.4930512803971741,-0.18787304727708468,null,-0.03733953713956592,0.4124313311753526,null,-0.03733953713956592,-0.18787304727708468,null,-0.03733953713956592,0.26705359582406,null,0.4124313311753526,0.26705359582406,null,0.4124313311753526,0.7500057819722853,null,1.3466849694418777,1.6273284889392414,null,1.3466849694418777,1.3431256232673745,null,1.3466849694418777,1.139307279933504,null,1.3466849694418777,0.9402143265130898,null,1.6273284889392414,1.3431256232673745,null,1.6273284889392414,1.139307279933504,null,-1.306372226994045,-1.7915403371805962,null,-1.306372226994045,-1.5445034764512413,null,-1.306372226994045,-1.0333112858436662,null,-1.7915403371805962,-1.5445034764512413,null,-1.0333112858436662,-0.6424202412262038,null,-0.6424202412262038,-0.18787304727708468,null,-0.18787304727708468,0.26705359582406,null,1.3431256232673745,1.139307279933504,null,1.139307279933504,0.9402143265130898,null,1.139307279933504,0.7500057819722853,null,0.9402143265130898,0.7500057819722853,null],\"y\":[0.16722591692678737,-0.06079770352045775,null,0.16722591692678737,-0.008576097607632711,null,0.16722591692678737,-0.288575358579444,null,0.11665513528007455,-0.06079770352045775,null,0.11665513528007455,-0.2749231916339273,null,0.11665513528007455,-0.09238642055456359,null,-0.0007086240169796621,-0.09377893714060395,null,-0.0007086240169796621,-0.09238642055456359,null,-0.0007086240169796621,-0.18342907519000717,null,-0.09377893714060395,-0.19084847960155016,null,-0.09377893714060395,-0.18342907519000717,null,-0.09377893714060395,-0.28042782654684556,null,-0.19084847960155016,-0.28042782654684556,null,-0.19084847960155016,-0.22084352889469985,null,-0.31407136827498283,-0.03076983005635044,null,-0.31407136827498283,0.1690727443958828,null,-0.31407136827498283,-0.07712156041207976,null,-0.31407136827498283,-0.5004059383961599,null,-0.03076983005635044,0.1690727443958828,null,-0.03076983005635044,-0.07712156041207976,null,-0.06079770352045775,-0.008576097607632711,null,-0.06079770352045775,-0.288575358579444,null,-0.06079770352045775,-0.2749231916339273,null,-0.008576097607632711,-0.288575358579444,null,-0.2749231916339273,-0.09238642055456359,null,-0.09238642055456359,-0.18342907519000717,null,-0.18342907519000717,-0.28042782654684556,null,0.1690727443958828,-0.07712156041207976,null,-0.07712156041207976,-0.5004059383961599,null,-0.07712156041207976,-0.22084352889469985,null,-0.5004059383961599,-0.22084352889469985,null],\"z\":[-1.5661347440509392,-1.1651416295343502,null,-1.5661347440509392,-1.2598862512944764,null,-1.5661347440509392,-1.5372231093068878,null,-0.8945223144833957,-1.1651416295343502,null,-0.8945223144833957,-0.7842163277197398,null,-0.8945223144833957,-0.5089965445479477,null,-0.028094166567309706,0.16878344578728824,null,-0.028094166567309706,-0.5089965445479477,null,-0.028094166567309706,-0.3073536283920631,null,0.16878344578728824,0.3656701212431629,null,0.16878344578728824,-0.3073536283920631,null,0.16878344578728824,-0.1113580781341437,null,0.3656701212431629,-0.1113580781341437,null,0.3656701212431629,0.735437567920025,null,1.3681249163959563,1.0940372559392824,null,1.3681249163959563,1.3952371108425168,null,1.3681249163959563,1.015118278702331,null,1.3681249163959563,1.1059640404195832,null,1.0940372559392824,1.3952371108425168,null,1.0940372559392824,1.015118278702331,null,-1.1651416295343502,-1.2598862512944764,null,-1.1651416295343502,-1.5372231093068878,null,-1.1651416295343502,-0.7842163277197398,null,-1.2598862512944764,-1.5372231093068878,null,-0.7842163277197398,-0.5089965445479477,null,-0.5089965445479477,-0.3073536283920631,null,-0.3073536283920631,-0.1113580781341437,null,1.3952371108425168,1.015118278702331,null,1.015118278702331,1.1059640404195832,null,1.015118278702331,0.735437567920025,null,1.1059640404195832,0.735437567920025,null],\"type\":\"scatter3d\"},{\"hoverinfo\":\"text\",\"marker\":{\"color\":[\"rgb(0,0,0)\",\"rgb(0,0,0)\",\"rgb(0,0,0)\",\"rgb(0,0,0)\",\"rgb(256,0,0)\",\"rgb(0,0,0)\",\"rgb(0,0,0)\",\"rgb(0,0,0)\",\"rgb(0,0,0)\",\"rgb(0,0,0)\",\"rgb(0,0,0)\",\"rgb(0,0,0)\",\"rgb(0,0,0)\",\"rgb(0,0,0)\",\"rgb(0,0,0)\",\"rgb(0,0,0)\",\"rgb(256,0,0)\",\"rgb(0,0,0)\"],\"colorscale\":[[0.0,\"#440154\"],[0.1111111111111111,\"#482878\"],[0.2222222222222222,\"#3e4989\"],[0.3333333333333333,\"#31688e\"],[0.4444444444444444,\"#26828e\"],[0.5555555555555556,\"#1f9e89\"],[0.6666666666666666,\"#35b779\"],[0.7777777777777778,\"#6ece58\"],[0.8888888888888888,\"#b5de2b\"],[1.0,\"#fde725\"]],\"line\":{\"color\":\"rgb(50,50,50)\",\"width\":0.5},\"size\":6,\"symbol\":\"circle\"},\"mode\":\"markers\",\"name\":\"actors\",\"text\":[\"0\",\"1\",\"2\",\"3\",\"4\",\"5\",\"6\",\"7\",\"8\",\"9\",\"10\",\"11\",\"12\",\"13\",\"14\",\"15\",\"16\",\"17\"],\"x\":[-1.4929829843368485,-0.9061102374057245,-0.4930512803971741,-0.03733953713956592,0.4124313311753526,1.3466849694418777,1.6273284889392414,-1.306372226994045,-1.7915403371805962,-1.5445034764512413,-1.0333112858436662,-0.6424202412262038,-0.18787304727708468,1.3431256232673745,1.139307279933504,0.9402143265130898,0.26705359582406,0.7500057819722853],\"y\":[0.16722591692678737,0.11665513528007455,-0.0007086240169796621,-0.09377893714060395,-0.19084847960155016,-0.31407136827498283,-0.03076983005635044,-0.06079770352045775,-0.008576097607632711,-0.288575358579444,-0.2749231916339273,-0.09238642055456359,-0.18342907519000717,0.1690727443958828,-0.07712156041207976,-0.5004059383961599,-0.28042782654684556,-0.22084352889469985],\"z\":[-1.5661347440509392,-0.8945223144833957,-0.028094166567309706,0.16878344578728824,0.3656701212431629,1.3681249163959563,1.0940372559392824,-1.1651416295343502,-1.2598862512944764,-1.5372231093068878,-0.7842163277197398,-0.5089965445479477,-0.3073536283920631,1.3952371108425168,1.015118278702331,1.1059640404195832,-0.1113580781341437,0.735437567920025],\"type\":\"scatter3d\"}],                        {\"annotations\":[{\"font\":{\"size\":14},\"showarrow\":false,\"text\":\"Data source: <a href='https://plotly.com/python/v3/3d-network-graph/</a>\",\"x\":0,\"xanchor\":\"left\",\"xref\":\"paper\",\"y\":0.1,\"yanchor\":\"bottom\",\"yref\":\"paper\"}],\"height\":1000,\"hovermode\":\"closest\",\"margin\":{\"t\":100},\"scene\":{\"xaxis\":{\"showbackground\":false,\"showgrid\":false,\"showline\":false,\"showticklabels\":false,\"title\":{\"text\":\"\"},\"zeroline\":false},\"yaxis\":{\"showbackground\":false,\"showgrid\":false,\"showline\":false,\"showticklabels\":false,\"title\":{\"text\":\"\"},\"zeroline\":false},\"zaxis\":{\"showbackground\":false,\"showgrid\":false,\"showline\":false,\"showticklabels\":false,\"title\":{\"text\":\"\"},\"zeroline\":false}},\"showlegend\":false,\"template\":{\"data\":{\"barpolar\":[{\"marker\":{\"line\":{\"color\":\"#E5ECF6\",\"width\":0.5},\"pattern\":{\"fillmode\":\"overlay\",\"size\":10,\"solidity\":0.2}},\"type\":\"barpolar\"}],\"bar\":[{\"error_x\":{\"color\":\"#2a3f5f\"},\"error_y\":{\"color\":\"#2a3f5f\"},\"marker\":{\"line\":{\"color\":\"#E5ECF6\",\"width\":0.5},\"pattern\":{\"fillmode\":\"overlay\",\"size\":10,\"solidity\":0.2}},\"type\":\"bar\"}],\"carpet\":[{\"aaxis\":{\"endlinecolor\":\"#2a3f5f\",\"gridcolor\":\"white\",\"linecolor\":\"white\",\"minorgridcolor\":\"white\",\"startlinecolor\":\"#2a3f5f\"},\"baxis\":{\"endlinecolor\":\"#2a3f5f\",\"gridcolor\":\"white\",\"linecolor\":\"white\",\"minorgridcolor\":\"white\",\"startlinecolor\":\"#2a3f5f\"},\"type\":\"carpet\"}],\"choropleth\":[{\"colorbar\":{\"outlinewidth\":0,\"ticks\":\"\"},\"type\":\"choropleth\"}],\"contourcarpet\":[{\"colorbar\":{\"outlinewidth\":0,\"ticks\":\"\"},\"type\":\"contourcarpet\"}],\"contour\":[{\"colorbar\":{\"outlinewidth\":0,\"ticks\":\"\"},\"colorscale\":[[0.0,\"#0d0887\"],[0.1111111111111111,\"#46039f\"],[0.2222222222222222,\"#7201a8\"],[0.3333333333333333,\"#9c179e\"],[0.4444444444444444,\"#bd3786\"],[0.5555555555555556,\"#d8576b\"],[0.6666666666666666,\"#ed7953\"],[0.7777777777777778,\"#fb9f3a\"],[0.8888888888888888,\"#fdca26\"],[1.0,\"#f0f921\"]],\"type\":\"contour\"}],\"heatmapgl\":[{\"colorbar\":{\"outlinewidth\":0,\"ticks\":\"\"},\"colorscale\":[[0.0,\"#0d0887\"],[0.1111111111111111,\"#46039f\"],[0.2222222222222222,\"#7201a8\"],[0.3333333333333333,\"#9c179e\"],[0.4444444444444444,\"#bd3786\"],[0.5555555555555556,\"#d8576b\"],[0.6666666666666666,\"#ed7953\"],[0.7777777777777778,\"#fb9f3a\"],[0.8888888888888888,\"#fdca26\"],[1.0,\"#f0f921\"]],\"type\":\"heatmapgl\"}],\"heatmap\":[{\"colorbar\":{\"outlinewidth\":0,\"ticks\":\"\"},\"colorscale\":[[0.0,\"#0d0887\"],[0.1111111111111111,\"#46039f\"],[0.2222222222222222,\"#7201a8\"],[0.3333333333333333,\"#9c179e\"],[0.4444444444444444,\"#bd3786\"],[0.5555555555555556,\"#d8576b\"],[0.6666666666666666,\"#ed7953\"],[0.7777777777777778,\"#fb9f3a\"],[0.8888888888888888,\"#fdca26\"],[1.0,\"#f0f921\"]],\"type\":\"heatmap\"}],\"histogram2dcontour\":[{\"colorbar\":{\"outlinewidth\":0,\"ticks\":\"\"},\"colorscale\":[[0.0,\"#0d0887\"],[0.1111111111111111,\"#46039f\"],[0.2222222222222222,\"#7201a8\"],[0.3333333333333333,\"#9c179e\"],[0.4444444444444444,\"#bd3786\"],[0.5555555555555556,\"#d8576b\"],[0.6666666666666666,\"#ed7953\"],[0.7777777777777778,\"#fb9f3a\"],[0.8888888888888888,\"#fdca26\"],[1.0,\"#f0f921\"]],\"type\":\"histogram2dcontour\"}],\"histogram2d\":[{\"colorbar\":{\"outlinewidth\":0,\"ticks\":\"\"},\"colorscale\":[[0.0,\"#0d0887\"],[0.1111111111111111,\"#46039f\"],[0.2222222222222222,\"#7201a8\"],[0.3333333333333333,\"#9c179e\"],[0.4444444444444444,\"#bd3786\"],[0.5555555555555556,\"#d8576b\"],[0.6666666666666666,\"#ed7953\"],[0.7777777777777778,\"#fb9f3a\"],[0.8888888888888888,\"#fdca26\"],[1.0,\"#f0f921\"]],\"type\":\"histogram2d\"}],\"histogram\":[{\"marker\":{\"pattern\":{\"fillmode\":\"overlay\",\"size\":10,\"solidity\":0.2}},\"type\":\"histogram\"}],\"mesh3d\":[{\"colorbar\":{\"outlinewidth\":0,\"ticks\":\"\"},\"type\":\"mesh3d\"}],\"parcoords\":[{\"line\":{\"colorbar\":{\"outlinewidth\":0,\"ticks\":\"\"}},\"type\":\"parcoords\"}],\"pie\":[{\"automargin\":true,\"type\":\"pie\"}],\"scatter3d\":[{\"line\":{\"colorbar\":{\"outlinewidth\":0,\"ticks\":\"\"}},\"marker\":{\"colorbar\":{\"outlinewidth\":0,\"ticks\":\"\"}},\"type\":\"scatter3d\"}],\"scattercarpet\":[{\"marker\":{\"colorbar\":{\"outlinewidth\":0,\"ticks\":\"\"}},\"type\":\"scattercarpet\"}],\"scattergeo\":[{\"marker\":{\"colorbar\":{\"outlinewidth\":0,\"ticks\":\"\"}},\"type\":\"scattergeo\"}],\"scattergl\":[{\"marker\":{\"colorbar\":{\"outlinewidth\":0,\"ticks\":\"\"}},\"type\":\"scattergl\"}],\"scattermapbox\":[{\"marker\":{\"colorbar\":{\"outlinewidth\":0,\"ticks\":\"\"}},\"type\":\"scattermapbox\"}],\"scatterpolargl\":[{\"marker\":{\"colorbar\":{\"outlinewidth\":0,\"ticks\":\"\"}},\"type\":\"scatterpolargl\"}],\"scatterpolar\":[{\"marker\":{\"colorbar\":{\"outlinewidth\":0,\"ticks\":\"\"}},\"type\":\"scatterpolar\"}],\"scatter\":[{\"marker\":{\"colorbar\":{\"outlinewidth\":0,\"ticks\":\"\"}},\"type\":\"scatter\"}],\"scatterternary\":[{\"marker\":{\"colorbar\":{\"outlinewidth\":0,\"ticks\":\"\"}},\"type\":\"scatterternary\"}],\"surface\":[{\"colorbar\":{\"outlinewidth\":0,\"ticks\":\"\"},\"colorscale\":[[0.0,\"#0d0887\"],[0.1111111111111111,\"#46039f\"],[0.2222222222222222,\"#7201a8\"],[0.3333333333333333,\"#9c179e\"],[0.4444444444444444,\"#bd3786\"],[0.5555555555555556,\"#d8576b\"],[0.6666666666666666,\"#ed7953\"],[0.7777777777777778,\"#fb9f3a\"],[0.8888888888888888,\"#fdca26\"],[1.0,\"#f0f921\"]],\"type\":\"surface\"}],\"table\":[{\"cells\":{\"fill\":{\"color\":\"#EBF0F8\"},\"line\":{\"color\":\"white\"}},\"header\":{\"fill\":{\"color\":\"#C8D4E3\"},\"line\":{\"color\":\"white\"}},\"type\":\"table\"}]},\"layout\":{\"annotationdefaults\":{\"arrowcolor\":\"#2a3f5f\",\"arrowhead\":0,\"arrowwidth\":1},\"autotypenumbers\":\"strict\",\"coloraxis\":{\"colorbar\":{\"outlinewidth\":0,\"ticks\":\"\"}},\"colorscale\":{\"diverging\":[[0,\"#8e0152\"],[0.1,\"#c51b7d\"],[0.2,\"#de77ae\"],[0.3,\"#f1b6da\"],[0.4,\"#fde0ef\"],[0.5,\"#f7f7f7\"],[0.6,\"#e6f5d0\"],[0.7,\"#b8e186\"],[0.8,\"#7fbc41\"],[0.9,\"#4d9221\"],[1,\"#276419\"]],\"sequential\":[[0.0,\"#0d0887\"],[0.1111111111111111,\"#46039f\"],[0.2222222222222222,\"#7201a8\"],[0.3333333333333333,\"#9c179e\"],[0.4444444444444444,\"#bd3786\"],[0.5555555555555556,\"#d8576b\"],[0.6666666666666666,\"#ed7953\"],[0.7777777777777778,\"#fb9f3a\"],[0.8888888888888888,\"#fdca26\"],[1.0,\"#f0f921\"]],\"sequentialminus\":[[0.0,\"#0d0887\"],[0.1111111111111111,\"#46039f\"],[0.2222222222222222,\"#7201a8\"],[0.3333333333333333,\"#9c179e\"],[0.4444444444444444,\"#bd3786\"],[0.5555555555555556,\"#d8576b\"],[0.6666666666666666,\"#ed7953\"],[0.7777777777777778,\"#fb9f3a\"],[0.8888888888888888,\"#fdca26\"],[1.0,\"#f0f921\"]]},\"colorway\":[\"#636efa\",\"#EF553B\",\"#00cc96\",\"#ab63fa\",\"#FFA15A\",\"#19d3f3\",\"#FF6692\",\"#B6E880\",\"#FF97FF\",\"#FECB52\"],\"font\":{\"color\":\"#2a3f5f\"},\"geo\":{\"bgcolor\":\"white\",\"lakecolor\":\"white\",\"landcolor\":\"#E5ECF6\",\"showlakes\":true,\"showland\":true,\"subunitcolor\":\"white\"},\"hoverlabel\":{\"align\":\"left\"},\"hovermode\":\"closest\",\"mapbox\":{\"style\":\"light\"},\"paper_bgcolor\":\"white\",\"plot_bgcolor\":\"#E5ECF6\",\"polar\":{\"angularaxis\":{\"gridcolor\":\"white\",\"linecolor\":\"white\",\"ticks\":\"\"},\"bgcolor\":\"#E5ECF6\",\"radialaxis\":{\"gridcolor\":\"white\",\"linecolor\":\"white\",\"ticks\":\"\"}},\"scene\":{\"xaxis\":{\"backgroundcolor\":\"#E5ECF6\",\"gridcolor\":\"white\",\"gridwidth\":2,\"linecolor\":\"white\",\"showbackground\":true,\"ticks\":\"\",\"zerolinecolor\":\"white\"},\"yaxis\":{\"backgroundcolor\":\"#E5ECF6\",\"gridcolor\":\"white\",\"gridwidth\":2,\"linecolor\":\"white\",\"showbackground\":true,\"ticks\":\"\",\"zerolinecolor\":\"white\"},\"zaxis\":{\"backgroundcolor\":\"#E5ECF6\",\"gridcolor\":\"white\",\"gridwidth\":2,\"linecolor\":\"white\",\"showbackground\":true,\"ticks\":\"\",\"zerolinecolor\":\"white\"}},\"shapedefaults\":{\"line\":{\"color\":\"#2a3f5f\"}},\"ternary\":{\"aaxis\":{\"gridcolor\":\"white\",\"linecolor\":\"white\",\"ticks\":\"\"},\"baxis\":{\"gridcolor\":\"white\",\"linecolor\":\"white\",\"ticks\":\"\"},\"bgcolor\":\"#E5ECF6\",\"caxis\":{\"gridcolor\":\"white\",\"linecolor\":\"white\",\"ticks\":\"\"}},\"title\":{\"x\":0.05},\"xaxis\":{\"automargin\":true,\"gridcolor\":\"white\",\"linecolor\":\"white\",\"ticks\":\"\",\"title\":{\"standoff\":15},\"zerolinecolor\":\"white\",\"zerolinewidth\":2},\"yaxis\":{\"automargin\":true,\"gridcolor\":\"white\",\"linecolor\":\"white\",\"ticks\":\"\",\"title\":{\"standoff\":15},\"zerolinecolor\":\"white\",\"zerolinewidth\":2}}},\"title\":{\"text\":\"3D graph visualization of Mutag dataset  by : Ahmed\"},\"width\":1000},                        {\"responsive\": true}                    ).then(function(){\n",
       "                            \n",
       "var gd = document.getElementById('c06d4b39-f00a-41d0-ac87-0ea91911cd3a');\n",
       "var x = new MutationObserver(function (mutations, observer) {{\n",
       "        var display = window.getComputedStyle(gd).display;\n",
       "        if (!display || display === 'none') {{\n",
       "            console.log([gd, 'removed!']);\n",
       "            Plotly.purge(gd);\n",
       "            observer.disconnect();\n",
       "        }}\n",
       "}});\n",
       "\n",
       "// Listen for the removal of the full notebook cells\n",
       "var notebookContainer = gd.closest('#notebook-container');\n",
       "if (notebookContainer) {{\n",
       "    x.observe(notebookContainer, {childList: true});\n",
       "}}\n",
       "\n",
       "// Listen for the clearing of the current output cell\n",
       "var outputEl = gd.closest('.output');\n",
       "if (outputEl) {{\n",
       "    x.observe(outputEl, {childList: true});\n",
       "}}\n",
       "\n",
       "                        })                };                });            </script>        </div>"
      ]
     },
     "metadata": {},
     "output_type": "display_data"
    }
   ],
   "source": [
    "import pandas as pd\n",
    "import numpy as np\n",
    "%matplotlib inline\n",
    "import plotly.graph_objs as go\n",
    "from  plotly.offline import plot\n",
    "import chart_studio.plotly as py\n",
    "import cufflinks as cf\n",
    "cf.go_offline()\n",
    "from plotly.offline import download_plotlyjs, init_notebook_mode, plot,iplot\n",
    "init_notebook_mode(connected='true')\n",
    "data=[trace1, trace2]\n",
    "fig=go.Figure(data=data, layout=layout)\n",
    "\n",
    "iplot(fig, filename='Les-Miserables')"
   ]
  }
 ],
 "metadata": {
  "kernelspec": {
   "display_name": "Python 3 (ipykernel)",
   "language": "python",
   "name": "python3"
  },
  "language_info": {
   "codemirror_mode": {
    "name": "ipython",
    "version": 3
   },
   "file_extension": ".py",
   "mimetype": "text/x-python",
   "name": "python",
   "nbconvert_exporter": "python",
   "pygments_lexer": "ipython3",
   "version": "3.8.13"
  }
 },
 "nbformat": 4,
 "nbformat_minor": 5
}
