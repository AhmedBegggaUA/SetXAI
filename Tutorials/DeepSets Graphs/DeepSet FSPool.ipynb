{
 "cells": [
  {
   "cell_type": "markdown",
   "id": "7bd79945",
   "metadata": {},
   "source": [
    "# Clasificación de grafos con redout FSPool"
   ]
  },
  {
   "cell_type": "code",
   "execution_count": 1,
   "id": "c5b73626",
   "metadata": {},
   "outputs": [
    {
     "name": "stdout",
     "output_type": "stream",
     "text": [
      "\n",
      "Dataset: MUTAG(188):\n",
      "====================\n",
      "Number of graphs: 188\n",
      "Number of features: 7\n",
      "Number of classes: 2\n",
      "\n",
      "Data(edge_index=[2, 38], x=[17, 7], edge_attr=[38, 4], y=[1])\n",
      "=============================================================\n",
      "Number of nodes: 17\n",
      "Number of edges: 38\n",
      "Average node degree: 2.24\n",
      "Has isolated nodes: False\n",
      "Has self-loops: False\n",
      "Is undirected: True\n"
     ]
    }
   ],
   "source": [
    "import sys\n",
    "sys.path.insert(0, '/Users/ahmedbegga/Desktop/TFG-Ahmed/SetXAI/')\n",
    "from torch_geometric.datasets import TUDataset\n",
    "from torch_geometric.utils import *\n",
    "from src.fspool import FSPool\n",
    "from torch_scatter import scatter\n",
    "import torch\n",
    "from torch.nn import Linear\n",
    "import torch.nn.functional as F\n",
    "from torch_geometric.nn import GCNConv,DenseGraphConv, dense_mincut_pool\n",
    "from torch_geometric.nn import global_mean_pool, global_max_pool,global_sort_pool\n",
    "dataset = TUDataset(root='data/TUDataset', name='MUTAG')\n",
    "\n",
    "print()\n",
    "print(f'Dataset: {dataset}:')\n",
    "print('====================')\n",
    "print(f'Number of graphs: {len(dataset)}')\n",
    "print(f'Number of features: {dataset.num_features}')\n",
    "print(f'Number of classes: {dataset.num_classes}')\n",
    "\n",
    "data = dataset[0]  # Get the first graph object.\n",
    "\n",
    "print()\n",
    "print(data)\n",
    "print('=============================================================')\n",
    "\n",
    "# Gather some statistics about the first graph.\n",
    "print(f'Number of nodes: {data.num_nodes}')\n",
    "print(f'Number of edges: {data.num_edges}')\n",
    "print(f'Average node degree: {data.num_edges / data.num_nodes:.2f}')\n",
    "print(f'Has isolated nodes: {data.has_isolated_nodes()}')\n",
    "print(f'Has self-loops: {data.has_self_loops()}')\n",
    "print(f'Is undirected: {data.is_undirected()}')\n",
    "#torch.manual_seed(12345)\n",
    "#print(f'Number of training graphs: {len(train_dataset)}')\n",
    "#print(f'Number of test graphs: {len(test_dataset)}')"
   ]
  },
  {
   "cell_type": "code",
   "execution_count": 2,
   "id": "4d75c176",
   "metadata": {},
   "outputs": [
    {
     "name": "stdout",
     "output_type": "stream",
     "text": [
      "Step 1:\n",
      "=======\n",
      "Number of graphs in the current batch: 20\n",
      "DataBatch(edge_index=[2, 774], x=[349, 7], edge_attr=[774, 4], y=[20], batch=[349], ptr=[21])\n",
      "\n",
      "Step 2:\n",
      "=======\n",
      "Number of graphs in the current batch: 20\n",
      "DataBatch(edge_index=[2, 736], x=[339, 7], edge_attr=[736, 4], y=[20], batch=[339], ptr=[21])\n",
      "\n",
      "Step 3:\n",
      "=======\n",
      "Number of graphs in the current batch: 20\n",
      "DataBatch(edge_index=[2, 752], x=[347, 7], edge_attr=[752, 4], y=[20], batch=[347], ptr=[21])\n",
      "\n",
      "Step 4:\n",
      "=======\n",
      "Number of graphs in the current batch: 20\n",
      "DataBatch(edge_index=[2, 816], x=[364, 7], edge_attr=[816, 4], y=[20], batch=[364], ptr=[21])\n",
      "\n",
      "Step 5:\n",
      "=======\n",
      "Number of graphs in the current batch: 20\n",
      "DataBatch(edge_index=[2, 832], x=[378, 7], edge_attr=[832, 4], y=[20], batch=[378], ptr=[21])\n",
      "\n",
      "Step 6:\n",
      "=======\n",
      "Number of graphs in the current batch: 20\n",
      "DataBatch(edge_index=[2, 800], x=[362, 7], edge_attr=[800, 4], y=[20], batch=[362], ptr=[21])\n",
      "\n",
      "Step 7:\n",
      "=======\n",
      "Number of graphs in the current batch: 20\n",
      "DataBatch(edge_index=[2, 826], x=[370, 7], edge_attr=[826, 4], y=[20], batch=[370], ptr=[21])\n",
      "\n",
      "Step 8:\n",
      "=======\n",
      "Number of graphs in the current batch: 10\n",
      "DataBatch(edge_index=[2, 394], x=[175, 7], edge_attr=[394, 4], y=[10], batch=[175], ptr=[11])\n",
      "\n"
     ]
    }
   ],
   "source": [
    "from torch_geometric.loader import DataLoader\n",
    "train_loader = DataLoader(dataset[:150], batch_size=20, shuffle=True)\n",
    "test_loader = DataLoader(dataset[150:], batch_size=20, shuffle=False)\n",
    "for step, data in enumerate(train_loader):\n",
    "    print(f'Step {step + 1}:')\n",
    "    print('=======')\n",
    "    print(f'Number of graphs in the current batch: {data.num_graphs}')\n",
    "    print(data)\n",
    "    print()"
   ]
  },
  {
   "cell_type": "code",
   "execution_count": 21,
   "id": "917b3dc9",
   "metadata": {},
   "outputs": [],
   "source": [
    "class Net(torch.nn.Module):\n",
    "    def __init__(self, in_channels, out_channels, hidden_channels=32):\n",
    "        super(Net, self).__init__()\n",
    "\n",
    "        # GCN Layer - MLP - Dense GCN Layer\n",
    "        self.conv1 = GCNConv(in_channels, hidden_channels)\n",
    "        num_of_centers =  16 # k\n",
    "        # The degree of the node belonging to any of the centers\n",
    "        self.pool1 = Linear(hidden_channels, num_of_centers) \n",
    "        self.conv2 = DenseGraphConv(hidden_channels, hidden_channels)\n",
    "        # MLPs towards out \n",
    "        self.lin1 = Linear(hidden_channels, hidden_channels)\n",
    "        self.lin2 = Linear(hidden_channels, out_channels)\n",
    "        self.weight = torch.nn.Parameter(torch.zeros(16,32))\n",
    "        torch.nn.init.normal_(self.weight)\n",
    "        #torch.nn.init.normal_(self.pool1)\n",
    "        # Input: Batch of 20 graphs, each node F=3 features \n",
    "        #        N1 + N2 + ... + N2 = 661\n",
    "        # TSNE here?\n",
    "        self.salidaConv = torch.zeros(0)\n",
    "    def forward(self, x, edge_index, batch):    # x torch.Size([661, 3]),  data.batch  torch.Size([661])  \n",
    "        # CONV1: Expand features from F=3 to F' = 32\n",
    "        x = F.relu(self.conv1(x, edge_index))   # x torch.Size([661, 32]) \n",
    "        \n",
    "        # Make all x_i of size N=MAX(N1,...,N20), e.g. N=40: \n",
    "        x, mask = to_dense_batch(x, batch)      # x torch.Size([20, N, 32]) ; mask torch.Size([20, N]) batch_size=20\n",
    "        #print(\"x size\", x.size())\n",
    "        \n",
    "        # Make all adjacencies of size NxN \n",
    "        adj = to_dense_adj(edge_index, batch)   # adj torch.Size([20, N, N])\n",
    "        #print(\"adj_size\", adj.size())\n",
    "        \n",
    "        # MLP of k=16 outputs s\n",
    "        #print(\"adj_size\", adj.size())\n",
    "        s = self.pool1(x) # s torch.Size([20, N, k])\n",
    "        #print(\"s_size\", s.size())\n",
    "        self.salidaConv = x\n",
    "        # MINCUT_POOL\n",
    "        # Call to dense_cut_mincut_pool to get coarsened x, adj and the losses: k=16\n",
    "        x, adj, mincut_loss, ortho_loss = dense_mincut_pool(x, adj, s, mask) # x torch.Size([20, 16, 32]),  adj torch.Size([20, 16, 16])\n",
    "        #print(\"Coarsened x and adj sizes:\", x.size(), adj.size())\n",
    "\n",
    "        # CONV2: Now on coarsened x and adj: \n",
    "        x = self.conv2(x, adj) #x torch.Size([20, 16, 32])\n",
    "        #print(\"x_2 size\", x.size())\n",
    "        \n",
    "        # Readout for each of the 20 graphs\n",
    "        #x = x.mean(dim=1) # x torch.Size([20, 32])\n",
    "        #x = x.sum(dim=1) # x torch.Size([20, 32])\n",
    "        #x, _ = x.sort(dim=1)\n",
    "        #x = torch.einsum('nlc, lc -> nc', x, self.weight)\n",
    "        #print(x.shape)\n",
    "        x =  x * self.weight\n",
    "        #x = x.max(dim=1)[0]\n",
    "        x = x.sum(dim=1)\n",
    "        #print(\"mean x_2 size\", x.size())\n",
    "        # Final MLP for graph classification: hidden channels = 32\n",
    "        x = F.relu(self.lin1(x)) # x torch.Size([20, 32])\n",
    "        #print(\"final x1 size\", x.size())\n",
    "        x = self.lin2(x) #x torch.Size([20, 2])\n",
    "        #print(\"final x2 size\", x.size())\n",
    "        return F.log_softmax(x, dim=-1)"
   ]
  },
  {
   "cell_type": "code",
   "execution_count": 28,
   "id": "4868cc1e",
   "metadata": {
    "scrolled": true
   },
   "outputs": [
    {
     "name": "stdout",
     "output_type": "stream",
     "text": [
      "Epoch: 001, Train Loss: 0.749, Train Acc: 0.707, Test Loss: 0.686, Test Acc: 0.579\n",
      "Epoch: 002, Train Loss: 0.644, Train Acc: 0.660, Test Loss: 0.579, Test Acc: 0.684\n",
      "Epoch: 003, Train Loss: 0.587, Train Acc: 0.660, Test Loss: 0.530, Test Acc: 0.684\n",
      "Epoch: 004, Train Loss: 0.573, Train Acc: 0.660, Test Loss: 0.512, Test Acc: 0.684\n",
      "Epoch: 005, Train Loss: 0.569, Train Acc: 0.660, Test Loss: 0.508, Test Acc: 0.684\n",
      "Epoch: 006, Train Loss: 0.559, Train Acc: 0.660, Test Loss: 0.504, Test Acc: 0.684\n",
      "Epoch: 007, Train Loss: 0.551, Train Acc: 0.660, Test Loss: 0.503, Test Acc: 0.684\n",
      "Epoch: 008, Train Loss: 0.540, Train Acc: 0.660, Test Loss: 0.492, Test Acc: 0.684\n",
      "Epoch: 009, Train Loss: 0.530, Train Acc: 0.660, Test Loss: 0.483, Test Acc: 0.684\n",
      "Epoch: 010, Train Loss: 0.519, Train Acc: 0.667, Test Loss: 0.485, Test Acc: 0.684\n",
      "Epoch: 011, Train Loss: 0.503, Train Acc: 0.700, Test Loss: 0.474, Test Acc: 0.763\n",
      "Epoch: 012, Train Loss: 0.486, Train Acc: 0.740, Test Loss: 0.465, Test Acc: 0.763\n",
      "Epoch: 013, Train Loss: 0.469, Train Acc: 0.787, Test Loss: 0.460, Test Acc: 0.789\n",
      "Epoch: 014, Train Loss: 0.452, Train Acc: 0.813, Test Loss: 0.455, Test Acc: 0.816\n",
      "Epoch: 015, Train Loss: 0.435, Train Acc: 0.827, Test Loss: 0.458, Test Acc: 0.816\n",
      "Epoch: 016, Train Loss: 0.420, Train Acc: 0.853, Test Loss: 0.458, Test Acc: 0.842\n",
      "Epoch: 017, Train Loss: 0.408, Train Acc: 0.860, Test Loss: 0.462, Test Acc: 0.842\n",
      "Epoch: 018, Train Loss: 0.397, Train Acc: 0.860, Test Loss: 0.462, Test Acc: 0.816\n",
      "Epoch: 019, Train Loss: 0.385, Train Acc: 0.840, Test Loss: 0.479, Test Acc: 0.789\n",
      "Epoch: 020, Train Loss: 0.389, Train Acc: 0.847, Test Loss: 0.460, Test Acc: 0.816\n",
      "Epoch: 021, Train Loss: 0.378, Train Acc: 0.847, Test Loss: 0.459, Test Acc: 0.816\n",
      "Epoch: 022, Train Loss: 0.390, Train Acc: 0.833, Test Loss: 0.501, Test Acc: 0.789\n",
      "Epoch: 023, Train Loss: 0.371, Train Acc: 0.847, Test Loss: 0.447, Test Acc: 0.816\n",
      "Epoch: 024, Train Loss: 0.360, Train Acc: 0.847, Test Loss: 0.518, Test Acc: 0.789\n",
      "Epoch: 025, Train Loss: 0.366, Train Acc: 0.847, Test Loss: 0.519, Test Acc: 0.789\n",
      "Epoch: 026, Train Loss: 0.374, Train Acc: 0.847, Test Loss: 0.452, Test Acc: 0.816\n",
      "Epoch: 027, Train Loss: 0.351, Train Acc: 0.840, Test Loss: 0.543, Test Acc: 0.789\n",
      "Epoch: 028, Train Loss: 0.364, Train Acc: 0.867, Test Loss: 0.494, Test Acc: 0.816\n",
      "Epoch: 029, Train Loss: 0.358, Train Acc: 0.853, Test Loss: 0.472, Test Acc: 0.816\n",
      "Epoch: 030, Train Loss: 0.355, Train Acc: 0.867, Test Loss: 0.512, Test Acc: 0.816\n",
      "Epoch: 031, Train Loss: 0.346, Train Acc: 0.853, Test Loss: 0.473, Test Acc: 0.816\n",
      "Epoch: 032, Train Loss: 0.354, Train Acc: 0.867, Test Loss: 0.502, Test Acc: 0.816\n",
      "Epoch: 033, Train Loss: 0.349, Train Acc: 0.867, Test Loss: 0.498, Test Acc: 0.816\n",
      "Epoch: 034, Train Loss: 0.351, Train Acc: 0.867, Test Loss: 0.482, Test Acc: 0.816\n",
      "Epoch: 035, Train Loss: 0.344, Train Acc: 0.860, Test Loss: 0.532, Test Acc: 0.816\n",
      "Epoch: 036, Train Loss: 0.348, Train Acc: 0.867, Test Loss: 0.509, Test Acc: 0.816\n",
      "Epoch: 037, Train Loss: 0.350, Train Acc: 0.867, Test Loss: 0.496, Test Acc: 0.816\n",
      "Epoch: 038, Train Loss: 0.350, Train Acc: 0.867, Test Loss: 0.501, Test Acc: 0.816\n",
      "Epoch: 039, Train Loss: 0.345, Train Acc: 0.867, Test Loss: 0.511, Test Acc: 0.816\n",
      "Epoch: 040, Train Loss: 0.346, Train Acc: 0.867, Test Loss: 0.507, Test Acc: 0.816\n",
      "Epoch: 041, Train Loss: 0.348, Train Acc: 0.867, Test Loss: 0.520, Test Acc: 0.816\n",
      "Epoch: 042, Train Loss: 0.348, Train Acc: 0.867, Test Loss: 0.500, Test Acc: 0.816\n",
      "Epoch: 043, Train Loss: 0.344, Train Acc: 0.867, Test Loss: 0.524, Test Acc: 0.816\n",
      "Epoch: 044, Train Loss: 0.351, Train Acc: 0.867, Test Loss: 0.498, Test Acc: 0.816\n",
      "Epoch: 045, Train Loss: 0.347, Train Acc: 0.867, Test Loss: 0.486, Test Acc: 0.816\n",
      "Epoch: 046, Train Loss: 0.344, Train Acc: 0.867, Test Loss: 0.516, Test Acc: 0.816\n",
      "Epoch: 047, Train Loss: 0.346, Train Acc: 0.867, Test Loss: 0.494, Test Acc: 0.816\n",
      "Epoch: 048, Train Loss: 0.344, Train Acc: 0.880, Test Loss: 0.521, Test Acc: 0.816\n",
      "Epoch: 049, Train Loss: 0.347, Train Acc: 0.867, Test Loss: 0.490, Test Acc: 0.816\n",
      "RUN:0,Test Acc:0.8158\n",
      "Epoch: 001, Train Loss: 0.662, Train Acc: 0.653, Test Loss: 0.578, Test Acc: 0.711\n",
      "Epoch: 002, Train Loss: 0.624, Train Acc: 0.653, Test Loss: 0.490, Test Acc: 0.711\n",
      "Epoch: 003, Train Loss: 0.595, Train Acc: 0.653, Test Loss: 0.429, Test Acc: 0.711\n",
      "Epoch: 004, Train Loss: 0.575, Train Acc: 0.653, Test Loss: 0.395, Test Acc: 0.711\n",
      "Epoch: 005, Train Loss: 0.562, Train Acc: 0.653, Test Loss: 0.367, Test Acc: 0.711\n",
      "Epoch: 006, Train Loss: 0.548, Train Acc: 0.653, Test Loss: 0.362, Test Acc: 0.711\n",
      "Epoch: 007, Train Loss: 0.527, Train Acc: 0.693, Test Loss: 0.333, Test Acc: 0.711\n",
      "Epoch: 008, Train Loss: 0.506, Train Acc: 0.733, Test Loss: 0.298, Test Acc: 0.789\n",
      "Epoch: 009, Train Loss: 0.484, Train Acc: 0.753, Test Loss: 0.288, Test Acc: 0.842\n",
      "Epoch: 010, Train Loss: 0.465, Train Acc: 0.780, Test Loss: 0.252, Test Acc: 0.842\n",
      "Epoch: 011, Train Loss: 0.450, Train Acc: 0.813, Test Loss: 0.224, Test Acc: 0.895\n",
      "Epoch: 012, Train Loss: 0.435, Train Acc: 0.813, Test Loss: 0.198, Test Acc: 0.895\n",
      "Epoch: 013, Train Loss: 0.433, Train Acc: 0.833, Test Loss: 0.184, Test Acc: 0.895\n",
      "Epoch: 014, Train Loss: 0.414, Train Acc: 0.833, Test Loss: 0.162, Test Acc: 0.895\n",
      "Epoch: 015, Train Loss: 0.413, Train Acc: 0.833, Test Loss: 0.193, Test Acc: 0.895\n",
      "Epoch: 016, Train Loss: 0.405, Train Acc: 0.840, Test Loss: 0.170, Test Acc: 0.895\n",
      "Epoch: 017, Train Loss: 0.404, Train Acc: 0.840, Test Loss: 0.154, Test Acc: 0.895\n",
      "Epoch: 018, Train Loss: 0.395, Train Acc: 0.840, Test Loss: 0.169, Test Acc: 0.895\n",
      "Epoch: 019, Train Loss: 0.399, Train Acc: 0.840, Test Loss: 0.138, Test Acc: 0.895\n",
      "Epoch: 020, Train Loss: 0.386, Train Acc: 0.840, Test Loss: 0.167, Test Acc: 0.895\n",
      "Epoch: 021, Train Loss: 0.385, Train Acc: 0.840, Test Loss: 0.140, Test Acc: 0.895\n",
      "Epoch: 022, Train Loss: 0.393, Train Acc: 0.840, Test Loss: 0.128, Test Acc: 0.895\n",
      "Epoch: 023, Train Loss: 0.388, Train Acc: 0.833, Test Loss: 0.137, Test Acc: 0.895\n",
      "Epoch: 024, Train Loss: 0.389, Train Acc: 0.847, Test Loss: 0.151, Test Acc: 0.895\n",
      "Epoch: 025, Train Loss: 0.388, Train Acc: 0.840, Test Loss: 0.127, Test Acc: 0.895\n",
      "Epoch: 026, Train Loss: 0.379, Train Acc: 0.847, Test Loss: 0.156, Test Acc: 0.895\n",
      "Epoch: 027, Train Loss: 0.378, Train Acc: 0.840, Test Loss: 0.120, Test Acc: 0.895\n",
      "Epoch: 028, Train Loss: 0.388, Train Acc: 0.847, Test Loss: 0.137, Test Acc: 0.895\n",
      "Epoch: 029, Train Loss: 0.379, Train Acc: 0.853, Test Loss: 0.116, Test Acc: 0.895\n",
      "Epoch: 030, Train Loss: 0.377, Train Acc: 0.847, Test Loss: 0.132, Test Acc: 0.895\n",
      "Epoch: 031, Train Loss: 0.376, Train Acc: 0.847, Test Loss: 0.136, Test Acc: 0.895\n",
      "Epoch: 032, Train Loss: 0.377, Train Acc: 0.847, Test Loss: 0.132, Test Acc: 0.895\n",
      "Epoch: 033, Train Loss: 0.394, Train Acc: 0.847, Test Loss: 0.141, Test Acc: 0.895\n",
      "Epoch: 034, Train Loss: 0.386, Train Acc: 0.827, Test Loss: 0.103, Test Acc: 0.895\n",
      "Epoch: 035, Train Loss: 0.390, Train Acc: 0.840, Test Loss: 0.185, Test Acc: 0.895\n",
      "Epoch: 036, Train Loss: 0.378, Train Acc: 0.853, Test Loss: 0.112, Test Acc: 0.895\n",
      "Epoch: 037, Train Loss: 0.376, Train Acc: 0.847, Test Loss: 0.147, Test Acc: 0.895\n",
      "Epoch: 038, Train Loss: 0.375, Train Acc: 0.847, Test Loss: 0.132, Test Acc: 0.895\n",
      "Epoch: 039, Train Loss: 0.374, Train Acc: 0.847, Test Loss: 0.130, Test Acc: 0.895\n",
      "Epoch: 040, Train Loss: 0.380, Train Acc: 0.853, Test Loss: 0.116, Test Acc: 0.895\n",
      "Epoch: 041, Train Loss: 0.373, Train Acc: 0.860, Test Loss: 0.153, Test Acc: 0.895\n",
      "Epoch: 042, Train Loss: 0.371, Train Acc: 0.847, Test Loss: 0.125, Test Acc: 0.895\n",
      "Epoch: 043, Train Loss: 0.370, Train Acc: 0.847, Test Loss: 0.129, Test Acc: 0.895\n",
      "Epoch: 044, Train Loss: 0.369, Train Acc: 0.847, Test Loss: 0.122, Test Acc: 0.895\n",
      "Epoch: 045, Train Loss: 0.369, Train Acc: 0.860, Test Loss: 0.146, Test Acc: 0.895\n",
      "Epoch: 046, Train Loss: 0.371, Train Acc: 0.847, Test Loss: 0.119, Test Acc: 0.895\n",
      "Epoch: 047, Train Loss: 0.369, Train Acc: 0.860, Test Loss: 0.140, Test Acc: 0.895\n",
      "Epoch: 048, Train Loss: 0.373, Train Acc: 0.847, Test Loss: 0.119, Test Acc: 0.895\n",
      "Epoch: 049, Train Loss: 0.368, Train Acc: 0.860, Test Loss: 0.150, Test Acc: 0.895\n",
      "RUN:1,Test Acc:0.8947\n",
      "Epoch: 001, Train Loss: 0.636, Train Acc: 0.647, Test Loss: 0.556, Test Acc: 0.737\n",
      "Epoch: 002, Train Loss: 0.607, Train Acc: 0.647, Test Loss: 0.508, Test Acc: 0.737\n"
     ]
    },
    {
     "name": "stdout",
     "output_type": "stream",
     "text": [
      "Epoch: 003, Train Loss: 0.584, Train Acc: 0.647, Test Loss: 0.476, Test Acc: 0.737\n",
      "Epoch: 004, Train Loss: 0.567, Train Acc: 0.647, Test Loss: 0.462, Test Acc: 0.737\n",
      "Epoch: 005, Train Loss: 0.547, Train Acc: 0.647, Test Loss: 0.444, Test Acc: 0.737\n",
      "Epoch: 006, Train Loss: 0.529, Train Acc: 0.673, Test Loss: 0.408, Test Acc: 0.789\n",
      "Epoch: 007, Train Loss: 0.504, Train Acc: 0.720, Test Loss: 0.378, Test Acc: 0.816\n",
      "Epoch: 008, Train Loss: 0.483, Train Acc: 0.787, Test Loss: 0.367, Test Acc: 0.868\n",
      "Epoch: 009, Train Loss: 0.459, Train Acc: 0.787, Test Loss: 0.334, Test Acc: 0.868\n",
      "Epoch: 010, Train Loss: 0.448, Train Acc: 0.827, Test Loss: 0.315, Test Acc: 0.895\n",
      "Epoch: 011, Train Loss: 0.441, Train Acc: 0.840, Test Loss: 0.315, Test Acc: 0.895\n",
      "Epoch: 012, Train Loss: 0.417, Train Acc: 0.833, Test Loss: 0.289, Test Acc: 0.895\n",
      "Epoch: 013, Train Loss: 0.415, Train Acc: 0.840, Test Loss: 0.286, Test Acc: 0.895\n",
      "Epoch: 014, Train Loss: 0.405, Train Acc: 0.833, Test Loss: 0.286, Test Acc: 0.895\n",
      "Epoch: 015, Train Loss: 0.407, Train Acc: 0.833, Test Loss: 0.277, Test Acc: 0.895\n",
      "Epoch: 016, Train Loss: 0.414, Train Acc: 0.840, Test Loss: 0.264, Test Acc: 0.895\n",
      "Epoch: 017, Train Loss: 0.412, Train Acc: 0.820, Test Loss: 0.274, Test Acc: 0.947\n",
      "Epoch: 018, Train Loss: 0.390, Train Acc: 0.833, Test Loss: 0.260, Test Acc: 0.895\n",
      "Epoch: 019, Train Loss: 0.409, Train Acc: 0.833, Test Loss: 0.263, Test Acc: 0.947\n",
      "Epoch: 020, Train Loss: 0.400, Train Acc: 0.833, Test Loss: 0.256, Test Acc: 0.895\n",
      "Epoch: 021, Train Loss: 0.394, Train Acc: 0.833, Test Loss: 0.260, Test Acc: 0.947\n",
      "Epoch: 022, Train Loss: 0.389, Train Acc: 0.833, Test Loss: 0.250, Test Acc: 0.895\n",
      "Epoch: 023, Train Loss: 0.392, Train Acc: 0.833, Test Loss: 0.250, Test Acc: 0.947\n",
      "Epoch: 024, Train Loss: 0.390, Train Acc: 0.833, Test Loss: 0.257, Test Acc: 0.947\n",
      "Epoch: 025, Train Loss: 0.387, Train Acc: 0.833, Test Loss: 0.248, Test Acc: 0.947\n",
      "Epoch: 026, Train Loss: 0.390, Train Acc: 0.833, Test Loss: 0.246, Test Acc: 0.947\n",
      "Epoch: 027, Train Loss: 0.387, Train Acc: 0.833, Test Loss: 0.243, Test Acc: 0.947\n",
      "Epoch: 028, Train Loss: 0.388, Train Acc: 0.833, Test Loss: 0.245, Test Acc: 0.947\n",
      "Epoch: 029, Train Loss: 0.386, Train Acc: 0.833, Test Loss: 0.244, Test Acc: 0.947\n",
      "Epoch: 030, Train Loss: 0.387, Train Acc: 0.833, Test Loss: 0.242, Test Acc: 0.947\n",
      "Epoch: 031, Train Loss: 0.386, Train Acc: 0.833, Test Loss: 0.243, Test Acc: 0.947\n",
      "Epoch: 032, Train Loss: 0.395, Train Acc: 0.833, Test Loss: 0.245, Test Acc: 0.947\n",
      "Epoch: 033, Train Loss: 0.403, Train Acc: 0.833, Test Loss: 0.240, Test Acc: 0.895\n",
      "Epoch: 034, Train Loss: 0.386, Train Acc: 0.833, Test Loss: 0.256, Test Acc: 0.947\n",
      "Epoch: 035, Train Loss: 0.393, Train Acc: 0.833, Test Loss: 0.240, Test Acc: 0.947\n",
      "Epoch: 036, Train Loss: 0.401, Train Acc: 0.833, Test Loss: 0.241, Test Acc: 0.947\n",
      "Epoch: 037, Train Loss: 0.397, Train Acc: 0.840, Test Loss: 0.251, Test Acc: 0.947\n",
      "Epoch: 038, Train Loss: 0.411, Train Acc: 0.833, Test Loss: 0.243, Test Acc: 0.895\n",
      "Epoch: 039, Train Loss: 0.400, Train Acc: 0.840, Test Loss: 0.257, Test Acc: 0.947\n",
      "Epoch: 040, Train Loss: 0.383, Train Acc: 0.833, Test Loss: 0.241, Test Acc: 0.947\n",
      "Epoch: 041, Train Loss: 0.386, Train Acc: 0.833, Test Loss: 0.244, Test Acc: 0.947\n",
      "Epoch: 042, Train Loss: 0.384, Train Acc: 0.833, Test Loss: 0.239, Test Acc: 0.947\n",
      "Epoch: 043, Train Loss: 0.382, Train Acc: 0.833, Test Loss: 0.244, Test Acc: 0.947\n",
      "Epoch: 044, Train Loss: 0.385, Train Acc: 0.833, Test Loss: 0.240, Test Acc: 0.947\n",
      "Epoch: 045, Train Loss: 0.383, Train Acc: 0.833, Test Loss: 0.240, Test Acc: 0.947\n",
      "Epoch: 046, Train Loss: 0.384, Train Acc: 0.833, Test Loss: 0.241, Test Acc: 0.947\n",
      "Epoch: 047, Train Loss: 0.388, Train Acc: 0.833, Test Loss: 0.236, Test Acc: 0.947\n",
      "Epoch: 048, Train Loss: 0.381, Train Acc: 0.840, Test Loss: 0.245, Test Acc: 0.947\n",
      "Epoch: 049, Train Loss: 0.387, Train Acc: 0.840, Test Loss: 0.246, Test Acc: 0.947\n",
      "RUN:2,Test Acc:0.9474\n",
      "Epoch: 001, Train Loss: 0.622, Train Acc: 0.660, Test Loss: 0.515, Test Acc: 0.684\n",
      "Epoch: 002, Train Loss: 0.595, Train Acc: 0.660, Test Loss: 0.468, Test Acc: 0.684\n",
      "Epoch: 003, Train Loss: 0.573, Train Acc: 0.660, Test Loss: 0.458, Test Acc: 0.684\n",
      "Epoch: 004, Train Loss: 0.557, Train Acc: 0.660, Test Loss: 0.449, Test Acc: 0.684\n",
      "Epoch: 005, Train Loss: 0.539, Train Acc: 0.660, Test Loss: 0.431, Test Acc: 0.684\n",
      "Epoch: 006, Train Loss: 0.517, Train Acc: 0.687, Test Loss: 0.408, Test Acc: 0.684\n",
      "Epoch: 007, Train Loss: 0.497, Train Acc: 0.753, Test Loss: 0.384, Test Acc: 0.711\n",
      "Epoch: 008, Train Loss: 0.474, Train Acc: 0.773, Test Loss: 0.358, Test Acc: 0.684\n",
      "Epoch: 009, Train Loss: 0.448, Train Acc: 0.840, Test Loss: 0.352, Test Acc: 0.763\n",
      "Epoch: 010, Train Loss: 0.427, Train Acc: 0.847, Test Loss: 0.327, Test Acc: 0.763\n",
      "Epoch: 011, Train Loss: 0.407, Train Acc: 0.847, Test Loss: 0.306, Test Acc: 0.789\n",
      "Epoch: 012, Train Loss: 0.400, Train Acc: 0.847, Test Loss: 0.291, Test Acc: 0.789\n",
      "Epoch: 013, Train Loss: 0.407, Train Acc: 0.847, Test Loss: 0.295, Test Acc: 0.816\n",
      "Epoch: 014, Train Loss: 0.386, Train Acc: 0.847, Test Loss: 0.264, Test Acc: 0.789\n",
      "Epoch: 015, Train Loss: 0.368, Train Acc: 0.860, Test Loss: 0.297, Test Acc: 0.842\n",
      "Epoch: 016, Train Loss: 0.376, Train Acc: 0.847, Test Loss: 0.264, Test Acc: 0.816\n",
      "Epoch: 017, Train Loss: 0.365, Train Acc: 0.860, Test Loss: 0.283, Test Acc: 0.842\n",
      "Epoch: 018, Train Loss: 0.362, Train Acc: 0.860, Test Loss: 0.263, Test Acc: 0.842\n",
      "Epoch: 019, Train Loss: 0.366, Train Acc: 0.860, Test Loss: 0.260, Test Acc: 0.842\n",
      "Epoch: 020, Train Loss: 0.360, Train Acc: 0.860, Test Loss: 0.279, Test Acc: 0.842\n",
      "Epoch: 021, Train Loss: 0.354, Train Acc: 0.860, Test Loss: 0.253, Test Acc: 0.842\n",
      "Epoch: 022, Train Loss: 0.360, Train Acc: 0.860, Test Loss: 0.255, Test Acc: 0.842\n",
      "Epoch: 023, Train Loss: 0.368, Train Acc: 0.860, Test Loss: 0.277, Test Acc: 0.842\n",
      "Epoch: 024, Train Loss: 0.354, Train Acc: 0.860, Test Loss: 0.254, Test Acc: 0.842\n",
      "Epoch: 025, Train Loss: 0.353, Train Acc: 0.860, Test Loss: 0.266, Test Acc: 0.842\n",
      "Epoch: 026, Train Loss: 0.355, Train Acc: 0.860, Test Loss: 0.270, Test Acc: 0.842\n",
      "Epoch: 027, Train Loss: 0.357, Train Acc: 0.860, Test Loss: 0.272, Test Acc: 0.842\n",
      "Epoch: 028, Train Loss: 0.355, Train Acc: 0.860, Test Loss: 0.257, Test Acc: 0.842\n",
      "Epoch: 029, Train Loss: 0.350, Train Acc: 0.860, Test Loss: 0.271, Test Acc: 0.842\n",
      "Epoch: 030, Train Loss: 0.352, Train Acc: 0.867, Test Loss: 0.278, Test Acc: 0.868\n",
      "Epoch: 031, Train Loss: 0.360, Train Acc: 0.860, Test Loss: 0.263, Test Acc: 0.842\n",
      "Epoch: 032, Train Loss: 0.350, Train Acc: 0.860, Test Loss: 0.267, Test Acc: 0.842\n",
      "Epoch: 033, Train Loss: 0.350, Train Acc: 0.860, Test Loss: 0.269, Test Acc: 0.842\n",
      "Epoch: 034, Train Loss: 0.352, Train Acc: 0.860, Test Loss: 0.268, Test Acc: 0.842\n",
      "Epoch: 035, Train Loss: 0.356, Train Acc: 0.867, Test Loss: 0.288, Test Acc: 0.868\n",
      "Epoch: 036, Train Loss: 0.351, Train Acc: 0.860, Test Loss: 0.262, Test Acc: 0.842\n",
      "Epoch: 037, Train Loss: 0.365, Train Acc: 0.860, Test Loss: 0.261, Test Acc: 0.842\n",
      "Epoch: 038, Train Loss: 0.352, Train Acc: 0.860, Test Loss: 0.293, Test Acc: 0.868\n",
      "Epoch: 039, Train Loss: 0.354, Train Acc: 0.860, Test Loss: 0.257, Test Acc: 0.842\n",
      "Epoch: 040, Train Loss: 0.348, Train Acc: 0.867, Test Loss: 0.283, Test Acc: 0.868\n",
      "Epoch: 041, Train Loss: 0.357, Train Acc: 0.860, Test Loss: 0.270, Test Acc: 0.842\n",
      "Epoch: 042, Train Loss: 0.359, Train Acc: 0.860, Test Loss: 0.257, Test Acc: 0.842\n",
      "Epoch: 043, Train Loss: 0.347, Train Acc: 0.860, Test Loss: 0.296, Test Acc: 0.868\n",
      "Epoch: 044, Train Loss: 0.351, Train Acc: 0.860, Test Loss: 0.274, Test Acc: 0.842\n",
      "Epoch: 045, Train Loss: 0.357, Train Acc: 0.860, Test Loss: 0.260, Test Acc: 0.842\n",
      "Epoch: 046, Train Loss: 0.349, Train Acc: 0.867, Test Loss: 0.282, Test Acc: 0.868\n",
      "Epoch: 047, Train Loss: 0.352, Train Acc: 0.860, Test Loss: 0.272, Test Acc: 0.842\n",
      "Epoch: 048, Train Loss: 0.349, Train Acc: 0.860, Test Loss: 0.268, Test Acc: 0.842\n",
      "Epoch: 049, Train Loss: 0.349, Train Acc: 0.860, Test Loss: 0.262, Test Acc: 0.842\n",
      "RUN:3,Test Acc:0.8421\n",
      "Epoch: 001, Train Loss: 0.646, Train Acc: 0.680, Test Loss: 0.611, Test Acc: 0.605\n",
      "Epoch: 002, Train Loss: 0.553, Train Acc: 0.680, Test Loss: 0.629, Test Acc: 0.605\n",
      "Epoch: 003, Train Loss: 0.537, Train Acc: 0.680, Test Loss: 0.602, Test Acc: 0.605\n",
      "Epoch: 004, Train Loss: 0.511, Train Acc: 0.680, Test Loss: 0.583, Test Acc: 0.605\n"
     ]
    },
    {
     "name": "stdout",
     "output_type": "stream",
     "text": [
      "Epoch: 005, Train Loss: 0.490, Train Acc: 0.680, Test Loss: 0.579, Test Acc: 0.605\n",
      "Epoch: 006, Train Loss: 0.465, Train Acc: 0.740, Test Loss: 0.572, Test Acc: 0.684\n",
      "Epoch: 007, Train Loss: 0.441, Train Acc: 0.793, Test Loss: 0.562, Test Acc: 0.711\n",
      "Epoch: 008, Train Loss: 0.420, Train Acc: 0.840, Test Loss: 0.558, Test Acc: 0.711\n",
      "Epoch: 009, Train Loss: 0.407, Train Acc: 0.840, Test Loss: 0.560, Test Acc: 0.711\n",
      "Epoch: 010, Train Loss: 0.379, Train Acc: 0.860, Test Loss: 0.555, Test Acc: 0.684\n",
      "Epoch: 011, Train Loss: 0.368, Train Acc: 0.887, Test Loss: 0.554, Test Acc: 0.684\n",
      "Epoch: 012, Train Loss: 0.380, Train Acc: 0.867, Test Loss: 0.584, Test Acc: 0.684\n",
      "Epoch: 013, Train Loss: 0.337, Train Acc: 0.880, Test Loss: 0.562, Test Acc: 0.737\n",
      "Epoch: 014, Train Loss: 0.334, Train Acc: 0.880, Test Loss: 0.596, Test Acc: 0.684\n",
      "Epoch: 015, Train Loss: 0.343, Train Acc: 0.893, Test Loss: 0.588, Test Acc: 0.684\n",
      "Epoch: 016, Train Loss: 0.333, Train Acc: 0.880, Test Loss: 0.581, Test Acc: 0.737\n",
      "Epoch: 017, Train Loss: 0.333, Train Acc: 0.880, Test Loss: 0.645, Test Acc: 0.684\n",
      "Epoch: 018, Train Loss: 0.298, Train Acc: 0.893, Test Loss: 0.591, Test Acc: 0.737\n",
      "Epoch: 019, Train Loss: 0.330, Train Acc: 0.887, Test Loss: 0.599, Test Acc: 0.737\n",
      "Epoch: 020, Train Loss: 0.318, Train Acc: 0.887, Test Loss: 0.635, Test Acc: 0.684\n",
      "Epoch: 021, Train Loss: 0.314, Train Acc: 0.887, Test Loss: 0.605, Test Acc: 0.737\n",
      "Epoch: 022, Train Loss: 0.305, Train Acc: 0.887, Test Loss: 0.633, Test Acc: 0.737\n",
      "Epoch: 023, Train Loss: 0.316, Train Acc: 0.887, Test Loss: 0.614, Test Acc: 0.737\n",
      "Epoch: 024, Train Loss: 0.308, Train Acc: 0.887, Test Loss: 0.615, Test Acc: 0.737\n",
      "Epoch: 025, Train Loss: 0.310, Train Acc: 0.887, Test Loss: 0.633, Test Acc: 0.737\n",
      "Epoch: 026, Train Loss: 0.310, Train Acc: 0.887, Test Loss: 0.619, Test Acc: 0.737\n",
      "Epoch: 027, Train Loss: 0.310, Train Acc: 0.887, Test Loss: 0.644, Test Acc: 0.737\n",
      "Epoch: 028, Train Loss: 0.302, Train Acc: 0.887, Test Loss: 0.622, Test Acc: 0.737\n",
      "Epoch: 029, Train Loss: 0.306, Train Acc: 0.887, Test Loss: 0.629, Test Acc: 0.737\n",
      "Epoch: 030, Train Loss: 0.303, Train Acc: 0.887, Test Loss: 0.625, Test Acc: 0.737\n",
      "Epoch: 031, Train Loss: 0.301, Train Acc: 0.887, Test Loss: 0.636, Test Acc: 0.737\n",
      "Epoch: 032, Train Loss: 0.304, Train Acc: 0.887, Test Loss: 0.644, Test Acc: 0.737\n",
      "Epoch: 033, Train Loss: 0.303, Train Acc: 0.887, Test Loss: 0.640, Test Acc: 0.737\n",
      "Epoch: 034, Train Loss: 0.303, Train Acc: 0.887, Test Loss: 0.649, Test Acc: 0.737\n",
      "Epoch: 035, Train Loss: 0.323, Train Acc: 0.887, Test Loss: 0.641, Test Acc: 0.737\n",
      "Epoch: 036, Train Loss: 0.300, Train Acc: 0.887, Test Loss: 0.670, Test Acc: 0.737\n",
      "Epoch: 037, Train Loss: 0.302, Train Acc: 0.900, Test Loss: 0.633, Test Acc: 0.737\n",
      "Epoch: 038, Train Loss: 0.307, Train Acc: 0.887, Test Loss: 0.642, Test Acc: 0.737\n",
      "Epoch: 039, Train Loss: 0.303, Train Acc: 0.887, Test Loss: 0.664, Test Acc: 0.737\n",
      "Epoch: 040, Train Loss: 0.323, Train Acc: 0.900, Test Loss: 0.637, Test Acc: 0.737\n",
      "Epoch: 041, Train Loss: 0.320, Train Acc: 0.887, Test Loss: 0.678, Test Acc: 0.737\n",
      "Epoch: 042, Train Loss: 0.295, Train Acc: 0.900, Test Loss: 0.635, Test Acc: 0.737\n",
      "Epoch: 043, Train Loss: 0.309, Train Acc: 0.893, Test Loss: 0.636, Test Acc: 0.737\n",
      "Epoch: 044, Train Loss: 0.304, Train Acc: 0.887, Test Loss: 0.658, Test Acc: 0.737\n",
      "Epoch: 045, Train Loss: 0.300, Train Acc: 0.887, Test Loss: 0.645, Test Acc: 0.737\n",
      "Epoch: 046, Train Loss: 0.303, Train Acc: 0.900, Test Loss: 0.641, Test Acc: 0.737\n",
      "Epoch: 047, Train Loss: 0.295, Train Acc: 0.887, Test Loss: 0.664, Test Acc: 0.737\n",
      "Epoch: 048, Train Loss: 0.304, Train Acc: 0.887, Test Loss: 0.648, Test Acc: 0.737\n",
      "Epoch: 049, Train Loss: 0.299, Train Acc: 0.900, Test Loss: 0.648, Test Acc: 0.737\n",
      "RUN:4,Test Acc:0.7368\n",
      "Epoch: 001, Train Loss: 0.670, Train Acc: 0.680, Test Loss: 0.584, Test Acc: 0.605\n",
      "Epoch: 002, Train Loss: 0.593, Train Acc: 0.680, Test Loss: 0.512, Test Acc: 0.605\n",
      "Epoch: 003, Train Loss: 0.559, Train Acc: 0.680, Test Loss: 0.494, Test Acc: 0.605\n",
      "Epoch: 004, Train Loss: 0.550, Train Acc: 0.680, Test Loss: 0.479, Test Acc: 0.605\n",
      "Epoch: 005, Train Loss: 0.540, Train Acc: 0.680, Test Loss: 0.464, Test Acc: 0.605\n",
      "Epoch: 006, Train Loss: 0.524, Train Acc: 0.680, Test Loss: 0.446, Test Acc: 0.605\n",
      "Epoch: 007, Train Loss: 0.514, Train Acc: 0.680, Test Loss: 0.430, Test Acc: 0.605\n",
      "Epoch: 008, Train Loss: 0.497, Train Acc: 0.707, Test Loss: 0.409, Test Acc: 0.632\n",
      "Epoch: 009, Train Loss: 0.484, Train Acc: 0.733, Test Loss: 0.391, Test Acc: 0.684\n",
      "Epoch: 010, Train Loss: 0.468, Train Acc: 0.760, Test Loss: 0.375, Test Acc: 0.842\n",
      "Epoch: 011, Train Loss: 0.456, Train Acc: 0.800, Test Loss: 0.363, Test Acc: 0.921\n",
      "Epoch: 012, Train Loss: 0.441, Train Acc: 0.800, Test Loss: 0.341, Test Acc: 0.921\n",
      "Epoch: 013, Train Loss: 0.429, Train Acc: 0.807, Test Loss: 0.327, Test Acc: 0.921\n",
      "Epoch: 014, Train Loss: 0.443, Train Acc: 0.807, Test Loss: 0.319, Test Acc: 0.921\n",
      "Epoch: 015, Train Loss: 0.415, Train Acc: 0.820, Test Loss: 0.329, Test Acc: 0.947\n",
      "Epoch: 016, Train Loss: 0.416, Train Acc: 0.833, Test Loss: 0.305, Test Acc: 0.921\n",
      "Epoch: 017, Train Loss: 0.407, Train Acc: 0.813, Test Loss: 0.302, Test Acc: 0.947\n",
      "Epoch: 018, Train Loss: 0.409, Train Acc: 0.820, Test Loss: 0.302, Test Acc: 0.947\n",
      "Epoch: 019, Train Loss: 0.395, Train Acc: 0.827, Test Loss: 0.295, Test Acc: 0.947\n",
      "Epoch: 020, Train Loss: 0.400, Train Acc: 0.820, Test Loss: 0.292, Test Acc: 0.947\n",
      "Epoch: 021, Train Loss: 0.395, Train Acc: 0.820, Test Loss: 0.291, Test Acc: 0.947\n",
      "Epoch: 022, Train Loss: 0.393, Train Acc: 0.820, Test Loss: 0.288, Test Acc: 0.947\n",
      "Epoch: 023, Train Loss: 0.397, Train Acc: 0.833, Test Loss: 0.293, Test Acc: 0.947\n",
      "Epoch: 024, Train Loss: 0.390, Train Acc: 0.820, Test Loss: 0.286, Test Acc: 0.947\n",
      "Epoch: 025, Train Loss: 0.388, Train Acc: 0.833, Test Loss: 0.287, Test Acc: 0.947\n",
      "Epoch: 026, Train Loss: 0.385, Train Acc: 0.833, Test Loss: 0.286, Test Acc: 0.947\n",
      "Epoch: 027, Train Loss: 0.387, Train Acc: 0.820, Test Loss: 0.286, Test Acc: 0.947\n",
      "Epoch: 028, Train Loss: 0.391, Train Acc: 0.833, Test Loss: 0.287, Test Acc: 0.947\n",
      "Epoch: 029, Train Loss: 0.396, Train Acc: 0.840, Test Loss: 0.301, Test Acc: 0.947\n",
      "Epoch: 030, Train Loss: 0.381, Train Acc: 0.820, Test Loss: 0.299, Test Acc: 0.921\n",
      "Epoch: 031, Train Loss: 0.390, Train Acc: 0.833, Test Loss: 0.289, Test Acc: 0.947\n",
      "Epoch: 032, Train Loss: 0.386, Train Acc: 0.833, Test Loss: 0.289, Test Acc: 0.947\n",
      "Epoch: 033, Train Loss: 0.388, Train Acc: 0.820, Test Loss: 0.292, Test Acc: 0.947\n",
      "Epoch: 034, Train Loss: 0.384, Train Acc: 0.833, Test Loss: 0.291, Test Acc: 0.947\n",
      "Epoch: 035, Train Loss: 0.385, Train Acc: 0.833, Test Loss: 0.289, Test Acc: 0.947\n",
      "Epoch: 036, Train Loss: 0.385, Train Acc: 0.833, Test Loss: 0.291, Test Acc: 0.947\n",
      "Epoch: 037, Train Loss: 0.383, Train Acc: 0.847, Test Loss: 0.296, Test Acc: 0.947\n",
      "Epoch: 038, Train Loss: 0.390, Train Acc: 0.833, Test Loss: 0.291, Test Acc: 0.947\n",
      "Epoch: 039, Train Loss: 0.378, Train Acc: 0.833, Test Loss: 0.289, Test Acc: 0.947\n",
      "Epoch: 040, Train Loss: 0.377, Train Acc: 0.833, Test Loss: 0.288, Test Acc: 0.947\n",
      "Epoch: 041, Train Loss: 0.379, Train Acc: 0.833, Test Loss: 0.290, Test Acc: 0.947\n",
      "Epoch: 042, Train Loss: 0.388, Train Acc: 0.847, Test Loss: 0.292, Test Acc: 0.947\n",
      "Epoch: 043, Train Loss: 0.380, Train Acc: 0.820, Test Loss: 0.299, Test Acc: 0.947\n",
      "Epoch: 044, Train Loss: 0.378, Train Acc: 0.833, Test Loss: 0.293, Test Acc: 0.947\n",
      "Epoch: 045, Train Loss: 0.387, Train Acc: 0.840, Test Loss: 0.305, Test Acc: 0.947\n",
      "Epoch: 046, Train Loss: 0.379, Train Acc: 0.833, Test Loss: 0.303, Test Acc: 0.947\n",
      "Epoch: 047, Train Loss: 0.388, Train Acc: 0.833, Test Loss: 0.301, Test Acc: 0.947\n",
      "Epoch: 048, Train Loss: 0.381, Train Acc: 0.847, Test Loss: 0.306, Test Acc: 0.947\n",
      "Epoch: 049, Train Loss: 0.377, Train Acc: 0.833, Test Loss: 0.301, Test Acc: 0.947\n",
      "RUN:5,Test Acc:0.9474\n",
      "Epoch: 001, Train Loss: 0.714, Train Acc: 0.733, Test Loss: 0.653, Test Acc: 0.737\n",
      "Epoch: 002, Train Loss: 0.618, Train Acc: 0.687, Test Loss: 0.634, Test Acc: 0.579\n",
      "Epoch: 003, Train Loss: 0.567, Train Acc: 0.687, Test Loss: 0.626, Test Acc: 0.579\n",
      "Epoch: 004, Train Loss: 0.534, Train Acc: 0.687, Test Loss: 0.626, Test Acc: 0.579\n",
      "Epoch: 005, Train Loss: 0.522, Train Acc: 0.687, Test Loss: 0.625, Test Acc: 0.579\n",
      "Epoch: 006, Train Loss: 0.512, Train Acc: 0.687, Test Loss: 0.603, Test Acc: 0.579\n",
      "Epoch: 007, Train Loss: 0.499, Train Acc: 0.693, Test Loss: 0.579, Test Acc: 0.605\n",
      "Epoch: 008, Train Loss: 0.484, Train Acc: 0.707, Test Loss: 0.574, Test Acc: 0.658\n"
     ]
    },
    {
     "name": "stdout",
     "output_type": "stream",
     "text": [
      "Epoch: 009, Train Loss: 0.468, Train Acc: 0.727, Test Loss: 0.563, Test Acc: 0.763\n",
      "Epoch: 010, Train Loss: 0.451, Train Acc: 0.780, Test Loss: 0.545, Test Acc: 0.763\n",
      "Epoch: 011, Train Loss: 0.433, Train Acc: 0.793, Test Loss: 0.537, Test Acc: 0.763\n",
      "Epoch: 012, Train Loss: 0.425, Train Acc: 0.813, Test Loss: 0.534, Test Acc: 0.789\n",
      "Epoch: 013, Train Loss: 0.418, Train Acc: 0.860, Test Loss: 0.520, Test Acc: 0.816\n",
      "Epoch: 014, Train Loss: 0.402, Train Acc: 0.820, Test Loss: 0.534, Test Acc: 0.789\n",
      "Epoch: 015, Train Loss: 0.382, Train Acc: 0.840, Test Loss: 0.519, Test Acc: 0.789\n",
      "Epoch: 016, Train Loss: 0.377, Train Acc: 0.860, Test Loss: 0.520, Test Acc: 0.816\n",
      "Epoch: 017, Train Loss: 0.368, Train Acc: 0.860, Test Loss: 0.518, Test Acc: 0.816\n",
      "Epoch: 018, Train Loss: 0.367, Train Acc: 0.847, Test Loss: 0.513, Test Acc: 0.816\n",
      "Epoch: 019, Train Loss: 0.364, Train Acc: 0.847, Test Loss: 0.512, Test Acc: 0.816\n",
      "Epoch: 020, Train Loss: 0.352, Train Acc: 0.853, Test Loss: 0.508, Test Acc: 0.816\n",
      "Epoch: 021, Train Loss: 0.360, Train Acc: 0.847, Test Loss: 0.511, Test Acc: 0.816\n",
      "Epoch: 022, Train Loss: 0.348, Train Acc: 0.853, Test Loss: 0.508, Test Acc: 0.816\n",
      "Epoch: 023, Train Loss: 0.357, Train Acc: 0.853, Test Loss: 0.509, Test Acc: 0.816\n",
      "Epoch: 024, Train Loss: 0.355, Train Acc: 0.847, Test Loss: 0.516, Test Acc: 0.816\n",
      "Epoch: 025, Train Loss: 0.346, Train Acc: 0.867, Test Loss: 0.508, Test Acc: 0.816\n",
      "Epoch: 026, Train Loss: 0.340, Train Acc: 0.853, Test Loss: 0.513, Test Acc: 0.816\n",
      "Epoch: 027, Train Loss: 0.355, Train Acc: 0.847, Test Loss: 0.524, Test Acc: 0.816\n",
      "Epoch: 028, Train Loss: 0.328, Train Acc: 0.860, Test Loss: 0.513, Test Acc: 0.789\n",
      "Epoch: 029, Train Loss: 0.358, Train Acc: 0.853, Test Loss: 0.519, Test Acc: 0.816\n",
      "Epoch: 030, Train Loss: 0.348, Train Acc: 0.867, Test Loss: 0.503, Test Acc: 0.789\n",
      "Epoch: 031, Train Loss: 0.342, Train Acc: 0.853, Test Loss: 0.517, Test Acc: 0.816\n",
      "Epoch: 032, Train Loss: 0.338, Train Acc: 0.867, Test Loss: 0.504, Test Acc: 0.816\n",
      "Epoch: 033, Train Loss: 0.336, Train Acc: 0.867, Test Loss: 0.509, Test Acc: 0.816\n",
      "Epoch: 034, Train Loss: 0.338, Train Acc: 0.867, Test Loss: 0.507, Test Acc: 0.816\n",
      "Epoch: 035, Train Loss: 0.337, Train Acc: 0.853, Test Loss: 0.519, Test Acc: 0.816\n",
      "Epoch: 036, Train Loss: 0.332, Train Acc: 0.867, Test Loss: 0.509, Test Acc: 0.816\n",
      "Epoch: 037, Train Loss: 0.334, Train Acc: 0.867, Test Loss: 0.514, Test Acc: 0.816\n",
      "Epoch: 038, Train Loss: 0.333, Train Acc: 0.867, Test Loss: 0.522, Test Acc: 0.816\n",
      "Epoch: 039, Train Loss: 0.337, Train Acc: 0.867, Test Loss: 0.518, Test Acc: 0.816\n",
      "Epoch: 040, Train Loss: 0.330, Train Acc: 0.867, Test Loss: 0.521, Test Acc: 0.816\n",
      "Epoch: 041, Train Loss: 0.329, Train Acc: 0.867, Test Loss: 0.525, Test Acc: 0.816\n",
      "Epoch: 042, Train Loss: 0.330, Train Acc: 0.867, Test Loss: 0.527, Test Acc: 0.816\n",
      "Epoch: 043, Train Loss: 0.335, Train Acc: 0.873, Test Loss: 0.534, Test Acc: 0.816\n",
      "Epoch: 044, Train Loss: 0.363, Train Acc: 0.880, Test Loss: 0.513, Test Acc: 0.789\n",
      "Epoch: 045, Train Loss: 0.325, Train Acc: 0.853, Test Loss: 0.542, Test Acc: 0.789\n",
      "Epoch: 046, Train Loss: 0.341, Train Acc: 0.867, Test Loss: 0.520, Test Acc: 0.816\n",
      "Epoch: 047, Train Loss: 0.332, Train Acc: 0.867, Test Loss: 0.518, Test Acc: 0.816\n",
      "Epoch: 048, Train Loss: 0.326, Train Acc: 0.867, Test Loss: 0.525, Test Acc: 0.816\n",
      "Epoch: 049, Train Loss: 0.325, Train Acc: 0.867, Test Loss: 0.529, Test Acc: 0.816\n",
      "RUN:6,Test Acc:0.8158\n",
      "Epoch: 001, Train Loss: 0.611, Train Acc: 0.680, Test Loss: 0.638, Test Acc: 0.605\n",
      "Epoch: 002, Train Loss: 0.585, Train Acc: 0.680, Test Loss: 0.641, Test Acc: 0.605\n",
      "Epoch: 003, Train Loss: 0.566, Train Acc: 0.680, Test Loss: 0.627, Test Acc: 0.605\n",
      "Epoch: 004, Train Loss: 0.548, Train Acc: 0.680, Test Loss: 0.607, Test Acc: 0.605\n",
      "Epoch: 005, Train Loss: 0.528, Train Acc: 0.680, Test Loss: 0.579, Test Acc: 0.605\n",
      "Epoch: 006, Train Loss: 0.507, Train Acc: 0.680, Test Loss: 0.554, Test Acc: 0.605\n",
      "Epoch: 007, Train Loss: 0.486, Train Acc: 0.727, Test Loss: 0.537, Test Acc: 0.684\n",
      "Epoch: 008, Train Loss: 0.461, Train Acc: 0.767, Test Loss: 0.542, Test Acc: 0.658\n",
      "Epoch: 009, Train Loss: 0.446, Train Acc: 0.833, Test Loss: 0.485, Test Acc: 0.737\n",
      "Epoch: 010, Train Loss: 0.413, Train Acc: 0.813, Test Loss: 0.515, Test Acc: 0.711\n",
      "Epoch: 011, Train Loss: 0.394, Train Acc: 0.833, Test Loss: 0.494, Test Acc: 0.737\n",
      "Epoch: 012, Train Loss: 0.380, Train Acc: 0.867, Test Loss: 0.470, Test Acc: 0.737\n",
      "Epoch: 013, Train Loss: 0.373, Train Acc: 0.873, Test Loss: 0.513, Test Acc: 0.737\n",
      "Epoch: 014, Train Loss: 0.356, Train Acc: 0.867, Test Loss: 0.476, Test Acc: 0.763\n",
      "Epoch: 015, Train Loss: 0.348, Train Acc: 0.880, Test Loss: 0.523, Test Acc: 0.737\n",
      "Epoch: 016, Train Loss: 0.341, Train Acc: 0.867, Test Loss: 0.490, Test Acc: 0.763\n",
      "Epoch: 017, Train Loss: 0.341, Train Acc: 0.867, Test Loss: 0.527, Test Acc: 0.737\n",
      "Epoch: 018, Train Loss: 0.339, Train Acc: 0.867, Test Loss: 0.517, Test Acc: 0.763\n",
      "Epoch: 019, Train Loss: 0.332, Train Acc: 0.867, Test Loss: 0.547, Test Acc: 0.737\n",
      "Epoch: 020, Train Loss: 0.345, Train Acc: 0.867, Test Loss: 0.533, Test Acc: 0.763\n",
      "Epoch: 021, Train Loss: 0.341, Train Acc: 0.860, Test Loss: 0.571, Test Acc: 0.737\n",
      "Epoch: 022, Train Loss: 0.332, Train Acc: 0.873, Test Loss: 0.497, Test Acc: 0.789\n",
      "Epoch: 023, Train Loss: 0.336, Train Acc: 0.867, Test Loss: 0.553, Test Acc: 0.737\n",
      "Epoch: 024, Train Loss: 0.324, Train Acc: 0.873, Test Loss: 0.500, Test Acc: 0.789\n",
      "Epoch: 025, Train Loss: 0.338, Train Acc: 0.867, Test Loss: 0.540, Test Acc: 0.763\n",
      "Epoch: 026, Train Loss: 0.345, Train Acc: 0.867, Test Loss: 0.546, Test Acc: 0.763\n",
      "Epoch: 027, Train Loss: 0.326, Train Acc: 0.867, Test Loss: 0.519, Test Acc: 0.763\n",
      "Epoch: 028, Train Loss: 0.325, Train Acc: 0.867, Test Loss: 0.527, Test Acc: 0.763\n",
      "Epoch: 029, Train Loss: 0.331, Train Acc: 0.860, Test Loss: 0.565, Test Acc: 0.737\n",
      "Epoch: 030, Train Loss: 0.329, Train Acc: 0.873, Test Loss: 0.516, Test Acc: 0.789\n",
      "Epoch: 031, Train Loss: 0.342, Train Acc: 0.867, Test Loss: 0.542, Test Acc: 0.763\n",
      "Epoch: 032, Train Loss: 0.326, Train Acc: 0.873, Test Loss: 0.523, Test Acc: 0.789\n",
      "Epoch: 033, Train Loss: 0.325, Train Acc: 0.867, Test Loss: 0.534, Test Acc: 0.763\n",
      "Epoch: 034, Train Loss: 0.326, Train Acc: 0.873, Test Loss: 0.536, Test Acc: 0.789\n",
      "Epoch: 035, Train Loss: 0.327, Train Acc: 0.873, Test Loss: 0.525, Test Acc: 0.789\n",
      "Epoch: 036, Train Loss: 0.323, Train Acc: 0.873, Test Loss: 0.509, Test Acc: 0.789\n",
      "Epoch: 037, Train Loss: 0.330, Train Acc: 0.867, Test Loss: 0.547, Test Acc: 0.763\n",
      "Epoch: 038, Train Loss: 0.326, Train Acc: 0.867, Test Loss: 0.572, Test Acc: 0.737\n",
      "Epoch: 039, Train Loss: 0.325, Train Acc: 0.873, Test Loss: 0.524, Test Acc: 0.789\n",
      "Epoch: 040, Train Loss: 0.333, Train Acc: 0.867, Test Loss: 0.552, Test Acc: 0.763\n",
      "Epoch: 041, Train Loss: 0.334, Train Acc: 0.860, Test Loss: 0.591, Test Acc: 0.737\n",
      "Epoch: 042, Train Loss: 0.324, Train Acc: 0.873, Test Loss: 0.511, Test Acc: 0.789\n",
      "Epoch: 043, Train Loss: 0.351, Train Acc: 0.873, Test Loss: 0.520, Test Acc: 0.789\n",
      "Epoch: 044, Train Loss: 0.337, Train Acc: 0.867, Test Loss: 0.623, Test Acc: 0.737\n",
      "Epoch: 045, Train Loss: 0.327, Train Acc: 0.873, Test Loss: 0.527, Test Acc: 0.789\n",
      "Epoch: 046, Train Loss: 0.344, Train Acc: 0.873, Test Loss: 0.504, Test Acc: 0.789\n",
      "Epoch: 047, Train Loss: 0.317, Train Acc: 0.867, Test Loss: 0.609, Test Acc: 0.737\n",
      "Epoch: 048, Train Loss: 0.336, Train Acc: 0.867, Test Loss: 0.556, Test Acc: 0.763\n",
      "Epoch: 049, Train Loss: 0.325, Train Acc: 0.873, Test Loss: 0.504, Test Acc: 0.789\n",
      "RUN:7,Test Acc:0.7895\n",
      "Epoch: 001, Train Loss: 0.633, Train Acc: 0.653, Test Loss: 0.558, Test Acc: 0.711\n",
      "Epoch: 002, Train Loss: 0.582, Train Acc: 0.653, Test Loss: 0.544, Test Acc: 0.711\n",
      "Epoch: 003, Train Loss: 0.568, Train Acc: 0.653, Test Loss: 0.538, Test Acc: 0.711\n",
      "Epoch: 004, Train Loss: 0.555, Train Acc: 0.653, Test Loss: 0.534, Test Acc: 0.711\n",
      "Epoch: 005, Train Loss: 0.542, Train Acc: 0.653, Test Loss: 0.523, Test Acc: 0.711\n",
      "Epoch: 006, Train Loss: 0.524, Train Acc: 0.653, Test Loss: 0.511, Test Acc: 0.711\n",
      "Epoch: 007, Train Loss: 0.506, Train Acc: 0.653, Test Loss: 0.503, Test Acc: 0.711\n",
      "Epoch: 008, Train Loss: 0.489, Train Acc: 0.720, Test Loss: 0.490, Test Acc: 0.763\n",
      "Epoch: 009, Train Loss: 0.464, Train Acc: 0.813, Test Loss: 0.501, Test Acc: 0.816\n",
      "Epoch: 010, Train Loss: 0.443, Train Acc: 0.780, Test Loss: 0.478, Test Acc: 0.763\n",
      "Epoch: 011, Train Loss: 0.428, Train Acc: 0.847, Test Loss: 0.486, Test Acc: 0.816\n"
     ]
    },
    {
     "name": "stdout",
     "output_type": "stream",
     "text": [
      "Epoch: 012, Train Loss: 0.400, Train Acc: 0.813, Test Loss: 0.480, Test Acc: 0.816\n",
      "Epoch: 013, Train Loss: 0.379, Train Acc: 0.860, Test Loss: 0.492, Test Acc: 0.816\n",
      "Epoch: 014, Train Loss: 0.379, Train Acc: 0.847, Test Loss: 0.497, Test Acc: 0.816\n",
      "Epoch: 015, Train Loss: 0.351, Train Acc: 0.860, Test Loss: 0.509, Test Acc: 0.816\n",
      "Epoch: 016, Train Loss: 0.333, Train Acc: 0.867, Test Loss: 0.522, Test Acc: 0.816\n",
      "Epoch: 017, Train Loss: 0.327, Train Acc: 0.867, Test Loss: 0.543, Test Acc: 0.816\n",
      "Epoch: 018, Train Loss: 0.318, Train Acc: 0.867, Test Loss: 0.558, Test Acc: 0.816\n",
      "Epoch: 019, Train Loss: 0.321, Train Acc: 0.867, Test Loss: 0.589, Test Acc: 0.816\n",
      "Epoch: 020, Train Loss: 0.320, Train Acc: 0.867, Test Loss: 0.595, Test Acc: 0.816\n",
      "Epoch: 021, Train Loss: 0.305, Train Acc: 0.867, Test Loss: 0.607, Test Acc: 0.816\n",
      "Epoch: 022, Train Loss: 0.314, Train Acc: 0.873, Test Loss: 0.621, Test Acc: 0.816\n",
      "Epoch: 023, Train Loss: 0.300, Train Acc: 0.867, Test Loss: 0.636, Test Acc: 0.816\n",
      "Epoch: 024, Train Loss: 0.300, Train Acc: 0.867, Test Loss: 0.649, Test Acc: 0.816\n",
      "Epoch: 025, Train Loss: 0.297, Train Acc: 0.867, Test Loss: 0.656, Test Acc: 0.816\n",
      "Epoch: 026, Train Loss: 0.290, Train Acc: 0.873, Test Loss: 0.658, Test Acc: 0.763\n",
      "Epoch: 027, Train Loss: 0.296, Train Acc: 0.867, Test Loss: 0.666, Test Acc: 0.816\n",
      "Epoch: 028, Train Loss: 0.296, Train Acc: 0.873, Test Loss: 0.668, Test Acc: 0.763\n",
      "Epoch: 029, Train Loss: 0.294, Train Acc: 0.873, Test Loss: 0.676, Test Acc: 0.816\n",
      "Epoch: 030, Train Loss: 0.291, Train Acc: 0.873, Test Loss: 0.685, Test Acc: 0.763\n",
      "Epoch: 031, Train Loss: 0.292, Train Acc: 0.873, Test Loss: 0.694, Test Acc: 0.763\n",
      "Epoch: 032, Train Loss: 0.285, Train Acc: 0.873, Test Loss: 0.705, Test Acc: 0.763\n",
      "Epoch: 033, Train Loss: 0.291, Train Acc: 0.873, Test Loss: 0.713, Test Acc: 0.763\n",
      "Epoch: 034, Train Loss: 0.282, Train Acc: 0.880, Test Loss: 0.714, Test Acc: 0.737\n",
      "Epoch: 035, Train Loss: 0.289, Train Acc: 0.880, Test Loss: 0.728, Test Acc: 0.816\n",
      "Epoch: 036, Train Loss: 0.282, Train Acc: 0.880, Test Loss: 0.724, Test Acc: 0.737\n",
      "Epoch: 037, Train Loss: 0.290, Train Acc: 0.880, Test Loss: 0.734, Test Acc: 0.737\n",
      "Epoch: 038, Train Loss: 0.314, Train Acc: 0.873, Test Loss: 0.735, Test Acc: 0.789\n",
      "Epoch: 039, Train Loss: 0.298, Train Acc: 0.880, Test Loss: 0.732, Test Acc: 0.816\n",
      "Epoch: 040, Train Loss: 0.293, Train Acc: 0.880, Test Loss: 0.723, Test Acc: 0.684\n",
      "Epoch: 041, Train Loss: 0.291, Train Acc: 0.873, Test Loss: 0.744, Test Acc: 0.789\n",
      "Epoch: 042, Train Loss: 0.287, Train Acc: 0.880, Test Loss: 0.718, Test Acc: 0.684\n",
      "Epoch: 043, Train Loss: 0.277, Train Acc: 0.893, Test Loss: 0.734, Test Acc: 0.789\n",
      "Epoch: 044, Train Loss: 0.284, Train Acc: 0.873, Test Loss: 0.725, Test Acc: 0.763\n",
      "Epoch: 045, Train Loss: 0.279, Train Acc: 0.900, Test Loss: 0.725, Test Acc: 0.711\n",
      "Epoch: 046, Train Loss: 0.312, Train Acc: 0.873, Test Loss: 0.729, Test Acc: 0.763\n",
      "Epoch: 047, Train Loss: 0.313, Train Acc: 0.893, Test Loss: 0.743, Test Acc: 0.789\n",
      "Epoch: 048, Train Loss: 0.287, Train Acc: 0.880, Test Loss: 0.723, Test Acc: 0.684\n",
      "Epoch: 049, Train Loss: 0.282, Train Acc: 0.880, Test Loss: 0.737, Test Acc: 0.816\n",
      "RUN:8,Test Acc:0.8158\n",
      "Epoch: 001, Train Loss: 0.646, Train Acc: 0.640, Test Loss: 0.555, Test Acc: 0.763\n",
      "Epoch: 002, Train Loss: 0.608, Train Acc: 0.640, Test Loss: 0.501, Test Acc: 0.763\n",
      "Epoch: 003, Train Loss: 0.605, Train Acc: 0.640, Test Loss: 0.483, Test Acc: 0.763\n",
      "Epoch: 004, Train Loss: 0.601, Train Acc: 0.640, Test Loss: 0.471, Test Acc: 0.763\n",
      "Epoch: 005, Train Loss: 0.589, Train Acc: 0.640, Test Loss: 0.474, Test Acc: 0.763\n",
      "Epoch: 006, Train Loss: 0.579, Train Acc: 0.640, Test Loss: 0.472, Test Acc: 0.763\n",
      "Epoch: 007, Train Loss: 0.573, Train Acc: 0.640, Test Loss: 0.441, Test Acc: 0.763\n",
      "Epoch: 008, Train Loss: 0.555, Train Acc: 0.640, Test Loss: 0.417, Test Acc: 0.763\n",
      "Epoch: 009, Train Loss: 0.546, Train Acc: 0.640, Test Loss: 0.380, Test Acc: 0.763\n",
      "Epoch: 010, Train Loss: 0.529, Train Acc: 0.747, Test Loss: 0.387, Test Acc: 0.816\n",
      "Epoch: 011, Train Loss: 0.509, Train Acc: 0.720, Test Loss: 0.325, Test Acc: 0.789\n",
      "Epoch: 012, Train Loss: 0.487, Train Acc: 0.800, Test Loss: 0.313, Test Acc: 0.895\n",
      "Epoch: 013, Train Loss: 0.472, Train Acc: 0.813, Test Loss: 0.281, Test Acc: 0.895\n",
      "Epoch: 014, Train Loss: 0.451, Train Acc: 0.813, Test Loss: 0.231, Test Acc: 0.895\n",
      "Epoch: 015, Train Loss: 0.433, Train Acc: 0.827, Test Loss: 0.228, Test Acc: 0.842\n",
      "Epoch: 016, Train Loss: 0.433, Train Acc: 0.833, Test Loss: 0.189, Test Acc: 0.895\n",
      "Epoch: 017, Train Loss: 0.435, Train Acc: 0.833, Test Loss: 0.175, Test Acc: 0.868\n",
      "Epoch: 018, Train Loss: 0.415, Train Acc: 0.827, Test Loss: 0.190, Test Acc: 0.842\n",
      "Epoch: 019, Train Loss: 0.406, Train Acc: 0.833, Test Loss: 0.151, Test Acc: 0.895\n",
      "Epoch: 020, Train Loss: 0.409, Train Acc: 0.833, Test Loss: 0.184, Test Acc: 0.868\n",
      "Epoch: 021, Train Loss: 0.397, Train Acc: 0.833, Test Loss: 0.146, Test Acc: 0.868\n",
      "Epoch: 022, Train Loss: 0.395, Train Acc: 0.840, Test Loss: 0.150, Test Acc: 0.868\n",
      "Epoch: 023, Train Loss: 0.388, Train Acc: 0.847, Test Loss: 0.161, Test Acc: 0.895\n",
      "Epoch: 024, Train Loss: 0.385, Train Acc: 0.847, Test Loss: 0.148, Test Acc: 0.895\n",
      "Epoch: 025, Train Loss: 0.383, Train Acc: 0.847, Test Loss: 0.136, Test Acc: 0.895\n",
      "Epoch: 026, Train Loss: 0.383, Train Acc: 0.847, Test Loss: 0.128, Test Acc: 0.895\n",
      "Epoch: 027, Train Loss: 0.379, Train Acc: 0.847, Test Loss: 0.162, Test Acc: 0.921\n",
      "Epoch: 028, Train Loss: 0.376, Train Acc: 0.847, Test Loss: 0.126, Test Acc: 0.895\n",
      "Epoch: 029, Train Loss: 0.381, Train Acc: 0.847, Test Loss: 0.134, Test Acc: 0.895\n",
      "Epoch: 030, Train Loss: 0.378, Train Acc: 0.847, Test Loss: 0.136, Test Acc: 0.895\n",
      "Epoch: 031, Train Loss: 0.373, Train Acc: 0.847, Test Loss: 0.127, Test Acc: 0.895\n",
      "Epoch: 032, Train Loss: 0.381, Train Acc: 0.847, Test Loss: 0.127, Test Acc: 0.895\n",
      "Epoch: 033, Train Loss: 0.400, Train Acc: 0.853, Test Loss: 0.139, Test Acc: 0.921\n",
      "Epoch: 034, Train Loss: 0.373, Train Acc: 0.847, Test Loss: 0.109, Test Acc: 0.895\n",
      "Epoch: 035, Train Loss: 0.385, Train Acc: 0.847, Test Loss: 0.159, Test Acc: 0.921\n",
      "Epoch: 036, Train Loss: 0.384, Train Acc: 0.847, Test Loss: 0.117, Test Acc: 0.895\n",
      "Epoch: 037, Train Loss: 0.375, Train Acc: 0.847, Test Loss: 0.154, Test Acc: 0.921\n",
      "Epoch: 038, Train Loss: 0.374, Train Acc: 0.847, Test Loss: 0.126, Test Acc: 0.895\n",
      "Epoch: 039, Train Loss: 0.368, Train Acc: 0.853, Test Loss: 0.149, Test Acc: 0.921\n",
      "Epoch: 040, Train Loss: 0.373, Train Acc: 0.847, Test Loss: 0.127, Test Acc: 0.895\n",
      "Epoch: 041, Train Loss: 0.383, Train Acc: 0.847, Test Loss: 0.120, Test Acc: 0.895\n",
      "Epoch: 042, Train Loss: 0.377, Train Acc: 0.847, Test Loss: 0.160, Test Acc: 0.921\n",
      "Epoch: 043, Train Loss: 0.365, Train Acc: 0.847, Test Loss: 0.115, Test Acc: 0.895\n",
      "Epoch: 044, Train Loss: 0.384, Train Acc: 0.853, Test Loss: 0.123, Test Acc: 0.921\n",
      "Epoch: 045, Train Loss: 0.374, Train Acc: 0.847, Test Loss: 0.113, Test Acc: 0.895\n",
      "Epoch: 046, Train Loss: 0.365, Train Acc: 0.827, Test Loss: 0.167, Test Acc: 0.842\n",
      "Epoch: 047, Train Loss: 0.369, Train Acc: 0.847, Test Loss: 0.117, Test Acc: 0.921\n",
      "Epoch: 048, Train Loss: 0.375, Train Acc: 0.853, Test Loss: 0.122, Test Acc: 0.921\n",
      "Epoch: 049, Train Loss: 0.368, Train Acc: 0.853, Test Loss: 0.127, Test Acc: 0.921\n",
      "RUN:9,Test Acc:0.9211\n"
     ]
    }
   ],
   "source": [
    "def train(epoch):\n",
    "    model.train()\n",
    "    loss_all = 0\n",
    "    k = 0\n",
    "    nG = 0\n",
    "    for data in train_loader:\n",
    "        data = data.to(device)\n",
    "        #print(data.x.size(), data.edge_index.size(),data.batch.size(), k)\n",
    "        data\n",
    "        nG += data.num_graphs\n",
    "        optimizer.zero_grad()\n",
    "        out= model(data.x, data.edge_index, data.batch) # data.batch  torch.Size([783])\n",
    "        loss = F.nll_loss(out, data.y.view(-1))\n",
    "        loss.backward()\n",
    "        loss_all += data.y.size(0) * loss.item()\n",
    "        optimizer.step()\n",
    "        k = k + 1\n",
    "    #print(\"Training graphs per epoch\", nG)\n",
    "    return loss_all / len(train_dataset)\n",
    "\n",
    "\n",
    "@torch.no_grad()\n",
    "def test(loader):\n",
    "    model.eval()\n",
    "    correct = 0\n",
    "\n",
    "    for data in loader:\n",
    "        data = data.to(device)\n",
    "        pred = model(data.x, data.edge_index, data.batch)\n",
    "        loss = F.nll_loss(pred, data.y.view(-1))\n",
    "        correct += pred.max(dim=1)[1].eq(data.y.view(-1)).sum().item()\n",
    "\n",
    "    return loss, correct / len(loader.dataset)\n",
    "\n",
    "\n",
    "best_val_loss = float('inf')\n",
    "patience = start_patience = 50\n",
    "resultados = []\n",
    "for i in range(10):\n",
    "    dataset = dataset.shuffle()\n",
    "    train_dataset = dataset[:150]\n",
    "    test_dataset = dataset[150:]\n",
    "    train_loader = DataLoader(train_dataset, batch_size=20, shuffle=True)\n",
    "    test_loader = DataLoader(test_dataset, batch_size=20, shuffle=False)\n",
    "    device = torch.device('cuda' if torch.cuda.is_available() else 'cpu')\n",
    "    model = Net(dataset.num_features, dataset.num_classes).to(device)\n",
    "    optimizer = torch.optim.Adam(model.parameters(), lr=0.001, weight_decay=1e-4)\n",
    "    for epoch in range(1, 50):\n",
    "        train_loss = train(epoch)\n",
    "        _, train_acc = test(train_loader)\n",
    "        test_loss, test_acc = test(test_loader)\n",
    "        print('Epoch: {:03d}, '\n",
    "              'Train Loss: {:.3f}, Train Acc: {:.3f}, '\n",
    "              'Test Loss: {:.3f}, Test Acc: {:.3f}'.format(epoch, train_loss,\n",
    "                                                           train_acc,\n",
    "                                                            test_loss,\n",
    "                                                           test_acc))\n",
    "    print(f'RUN:{i},Test Acc:{test_acc:.4f}')\n",
    "    resultados.append(test_acc)"
   ]
  },
  {
   "cell_type": "code",
   "execution_count": 29,
   "id": "93558f22",
   "metadata": {},
   "outputs": [
    {
     "name": "stdout",
     "output_type": "stream",
     "text": [
      "tensor(0.8526)\n",
      "tensor(0.0715)\n"
     ]
    }
   ],
   "source": [
    "res= torch.Tensor(resultados)\n",
    "print(torch.mean(res))\n",
    "print(torch.std(res))\n"
   ]
  },
  {
   "cell_type": "code",
   "execution_count": 30,
   "id": "da0a9d0e",
   "metadata": {},
   "outputs": [
    {
     "name": "stdout",
     "output_type": "stream",
     "text": [
      "DataBatch(edge_index=[2, 62], x=[28, 7], edge_attr=[62, 4], y=[1], batch=[28], ptr=[2])\n",
      "tensor([1])\n",
      "tensor([1])\n",
      "Accuracy:  100.0\n"
     ]
    }
   ],
   "source": [
    "test_loader = DataLoader(test_dataset[3:], batch_size=1, shuffle=False)\n",
    "sample = next(iter(test_loader))\n",
    "#sample.batch =torch.tensor(1)\n",
    "print(sample)\n",
    "print(sample.y)\n",
    "out = model(sample.x,sample.edge_index, sample.batch)  # Perform a single forward pass.\n",
    "pred = out.argmax(dim=1)  # Use the class with highest probability.\n",
    "print(pred)\n",
    "correct = 0\n",
    "correct += int((pred[0] == sample[0].y).sum())  # Check against ground-truth labels.\n",
    "print(\"Accuracy: \",(correct/1)*100)#Batch_size"
   ]
  },
  {
   "cell_type": "code",
   "execution_count": 32,
   "id": "80db837b",
   "metadata": {},
   "outputs": [
    {
     "name": "stdout",
     "output_type": "stream",
     "text": [
      "torch.Size([1, 28, 32])\n",
      "torch.Size([1, 28, 32])\n",
      "[0, 2, 3, 6, 16, 17]\n",
      "[0.0, 1.0, 2.0, 3.0, 4.0, 5.0, 6.0, 7.0, 8.0, 9.0, 10.0, 11.0, 12.0, 13.0, 14.0, 15.0, 16.0, 17.0, 18.0, 19.0, 20.0, 21.0, 22.0, 23.0, 24.0, 25.0, 26.0, 27.0]\n"
     ]
    }
   ],
   "source": [
    "#https://www.geeksforgeeks.org/network-centrality-measures-in-a-graph-using-networkx-python/\n",
    "#Nodos criticos\n",
    "import networkx as nx\n",
    "Conv_out= model.salidaConv\n",
    "print(model.salidaConv.shape)\n",
    "critical_nodes = Conv_out.argmax(1).unique().tolist()\n",
    "#Pool_out = model.salidaPooling\n",
    "print(Conv_out.shape)\n",
    "#print(Pool_out.shape)\n",
    "print(critical_nodes)\n",
    "#print(Conv_out)\n",
    "grafo_init = sample\n",
    "A = to_networkx(grafo_init, to_undirected=True)\n",
    "deg_centrality = list(nx.closeness_centrality(A))\n",
    "print(torch.Tensor(deg_centrality).tolist())"
   ]
  },
  {
   "cell_type": "code",
   "execution_count": 33,
   "id": "ff40bae5",
   "metadata": {},
   "outputs": [
    {
     "name": "stdout",
     "output_type": "stream",
     "text": [
      "DataBatch(edge_index=[2, 62], x=[28, 7], edge_attr=[62, 4], y=[1], batch=[28], ptr=[2])\n"
     ]
    },
    {
     "data": {
      "image/png": "[encoded data removed]",
      "text/plain": [
       "<Figure size 432x288 with 1 Axes>"
      ]
     },
     "metadata": {},
     "output_type": "display_data"
    }
   ],
   "source": [
    "\n",
    "#loader =  DataLoader(dataset, batch_size=1, shuffle=False)\n",
    "grafo_init = sample\n",
    "print(grafo_init)\n",
    "A = to_networkx(grafo_init, to_undirected=True)\n",
    "l=[]\n",
    "for a in A.nodes:\n",
    "    l.append(a)\n",
    "ed= []\n",
    "for e in A.edges:\n",
    "    ed.append(e)\n",
    "import igraph as ig\n",
    "import chart_studio.plotly\n",
    "Edges= ed\n",
    "G=ig.Graph(Edges, directed=False)\n",
    "labels= l\n",
    "#groups = A.node_attr_dict_factory\n",
    "N = len(A.nodes)\n",
    "#print(N)\n",
    "layt=G.layout('kk', dim=3)\n",
    "#print(layt)\n",
    "Xn=[layt[k][0] for k in range(N)]# x-coordinates of nodes\n",
    "Yn=[layt[k][1] for k in range(N)]# y-coordinates\n",
    "Zn=[layt[k][2] for k in range(N)]# z-coordinates\n",
    "Xe=[]\n",
    "Ye=[]\n",
    "Ze=[]\n",
    "#print(Edges)\n",
    "for e in Edges:\n",
    "    Xe+=[layt[e[0]][0],layt[e[1]][0], None]# x-coordinates of edge ends\n",
    "    Ye+=[layt[e[0]][1],layt[e[1]][1], None]\n",
    "    Ze+=[layt[e[0]][2],layt[e[1]][2], None]\n",
    "nx.draw(A)\n",
    "\n",
    "\n",
    "node_adjacencies = []\n",
    "node_text = []\n",
    "for node, adjacencies in enumerate(A.nodes()):\n",
    "    #print(adjacencies,critical_nodes)\n",
    "    if adjacencies in critical_nodes :\n",
    "        node_adjacencies.append('rgb(256,0,0)')\n",
    "    else:\n",
    "        node_adjacencies.append('rgb(0,0,0)')\n",
    "    #node_text.append('# of connections: '+str(len(adjacencies[1])))"
   ]
  },
  {
   "cell_type": "code",
   "execution_count": 34,
   "id": "81331e28",
   "metadata": {},
   "outputs": [],
   "source": [
    "from chart_studio import plotly\n",
    "import plotly.graph_objs as go\n",
    "\n",
    "trace1=go.Scatter3d(x=Xe,\n",
    "               y=Ye,\n",
    "               z=Ze,\n",
    "               mode='lines',\n",
    "               line=dict(color='rgb(125,125,125)', width=1),\n",
    "               hoverinfo='none'\n",
    "               )\n",
    "\n",
    "trace2=go.Scatter3d(x=Xn,\n",
    "               y=Yn,\n",
    "               z=Zn,\n",
    "               mode='markers',\n",
    "               name='actors',\n",
    "               marker=dict(symbol='circle',\n",
    "                             size=6,\n",
    "                             #color='#ff7f0e',\n",
    "                             colorscale='Viridis',\n",
    "                             line=dict(color='rgb(50,50,50)', width=0.5)\n",
    "                             ),\n",
    "               text=labels,\n",
    "               hoverinfo='text'\n",
    "               )\n",
    "trace2.marker.color = node_adjacencies\n",
    "#print(trace2)\n",
    "axis=dict(showbackground=False,\n",
    "          showline=False,\n",
    "          zeroline=False,\n",
    "          showgrid=False,\n",
    "          showticklabels=False,\n",
    "          title=''\n",
    "          )\n",
    "\n",
    "layout = go.Layout(\n",
    "         title=\"3D graph visualization of Mutag dataset  by : Ahmed\",\n",
    "         width=1000,\n",
    "         height=1000,\n",
    "         showlegend=False,\n",
    "         scene=dict(\n",
    "             xaxis=dict(axis),\n",
    "             yaxis=dict(axis),\n",
    "             zaxis=dict(axis),\n",
    "        ),\n",
    "     margin=dict(\n",
    "        t=100\n",
    "    ),\n",
    "    hovermode='closest',)"
   ]
  },
  {
   "cell_type": "code",
   "execution_count": 35,
   "id": "7781d695",
   "metadata": {},
   "outputs": [
    {
     "data": {
      "text/html": [
       "        <script type=\"text/javascript\">\n",
       "        window.PlotlyConfig = {MathJaxConfig: 'local'};\n",
       "        if (window.MathJax) {MathJax.Hub.Config({SVG: {font: \"STIX-Web\"}});}\n",
       "        if (typeof require !== 'undefined') {\n",
       "        require.undef(\"plotly\");\n",
       "        requirejs.config({\n",
       "            paths: {\n",
       "                'plotly': ['https://cdn.plot.ly/plotly-2.9.0.min']\n",
       "            }\n",
       "        });\n",
       "        require(['plotly'], function(Plotly) {\n",
       "            window._Plotly = Plotly;\n",
       "        });\n",
       "        }\n",
       "        </script>\n",
       "        "
      ]
     },
     "metadata": {},
     "output_type": "display_data"
    },
    {
     "data": {
      "text/html": [
       "        <script type=\"text/javascript\">\n",
       "        window.PlotlyConfig = {MathJaxConfig: 'local'};\n",
       "        if (window.MathJax) {MathJax.Hub.Config({SVG: {font: \"STIX-Web\"}});}\n",
       "        if (typeof require !== 'undefined') {\n",
       "        require.undef(\"plotly\");\n",
       "        requirejs.config({\n",
       "            paths: {\n",
       "                'plotly': ['https://cdn.plot.ly/plotly-2.9.0.min']\n",
       "            }\n",
       "        });\n",
       "        require(['plotly'], function(Plotly) {\n",
       "            window._Plotly = Plotly;\n",
       "        });\n",
       "        }\n",
       "        </script>\n",
       "        "
      ]
     },
     "metadata": {},
     "output_type": "display_data"
    },
    {
     "data": {
      "application/vnd.plotly.v1+json": {
       "config": {
        "linkText": "Export to plot.ly",
        "plotlyServerURL": "https://plot.ly",
        "showLink": false
       },
       "data": [
        {
         "hoverinfo": "none",
         "line": {
          "color": "rgb(125,125,125)",
          "width": 1
         },
         "mode": "lines",
         "type": "scatter3d",
         "x": [
          -0.7936653802184988,
          -0.16607972609720684,
          null,
          -0.7936653802184988,
          -1.0214585290414118,
          null,
          -0.16607972609720684,
          0.32958427424582526,
          null,
          0.32958427424582526,
          0.9973512636792449,
          null,
          0.32958427424582526,
          0.1454703489823745,
          null,
          0.9973512636792449,
          1.474924740100846,
          null,
          0.9973512636792449,
          1.268830377303513,
          null,
          1.474924740100846,
          1.3656151841855533,
          null,
          1.3656151841855533,
          0.6769250729334987,
          null,
          1.3656151841855533,
          1.9483033324033745,
          null,
          0.6769250729334987,
          0.1454703489823745,
          null,
          0.6769250729334987,
          0.40317417488697027,
          null,
          0.1454703489823745,
          -0.5525535927811269,
          null,
          -0.5525535927811269,
          -1.0214585290414118,
          null,
          -0.5525535927811269,
          -0.7991708358771488,
          null,
          -1.0214585290414118,
          -1.6795690088483504,
          null,
          -1.6795690088483504,
          -1.8818236959666035,
          null,
          -1.6795690088483504,
          -2.147655461088201,
          null,
          -1.8818236959666035,
          -1.4973446568684163,
          null,
          -1.4973446568684163,
          -0.7991708358771488,
          null,
          -1.4973446568684163,
          -1.8834357753417785,
          null,
          -0.7991708358771488,
          -0.25778082878514835,
          null,
          -0.25778082878514835,
          0.40317417488697027,
          null,
          -1.8834357753417785,
          -2.2289873702204615,
          null,
          -1.8834357753417785,
          -2.1215266685752545,
          null,
          -2.147655461088201,
          -2.6891502735057733,
          null,
          -2.147655461088201,
          -2.3210915332507356,
          null,
          1.9483033324033745,
          2.3283067525625514,
          null,
          1.9483033324033745,
          2.422331907499936,
          null,
          1.268830377303513,
          1.5744907634482948,
          null,
          1.268830377303513,
          1.4079446088881342,
          null
         ],
         "y": [
          -1.0053310898705736,
          -1.0127008587619903,
          null,
          -1.0053310898705736,
          -0.5893873004388738,
          null,
          -1.0127008587619903,
          -0.5154572284762107,
          null,
          -0.5154572284762107,
          -0.5152974151667046,
          null,
          -0.5154572284762107,
          -0.10161405952960971,
          null,
          -0.5152974151667046,
          -0.2370766714669428,
          null,
          -0.5152974151667046,
          -0.6951494800595663,
          null,
          -0.2370766714669428,
          0.10137252456504,
          null,
          0.10137252456504,
          0.23964517589672668,
          null,
          0.10137252456504,
          0.1944368341803802,
          null,
          0.23964517589672668,
          -0.10161405952960971,
          null,
          0.23964517589672668,
          0.8155404822610596,
          null,
          -0.10161405952960971,
          -0.030667247006197405,
          null,
          -0.030667247006197405,
          -0.5893873004388738,
          null,
          -0.030667247006197405,
          0.6008152960523366,
          null,
          -0.5893873004388738,
          -0.5576262416148129,
          null,
          -0.5576262416148129,
          0.10413891053283346,
          null,
          -0.5576262416148129,
          -1.0495229579561054,
          null,
          0.10413891053283346,
          0.706429662944918,
          null,
          0.706429662944918,
          0.6008152960523366,
          null,
          0.706429662944918,
          1.2850489194387262,
          null,
          0.6008152960523366,
          0.9390424106923294,
          null,
          0.9390424106923294,
          0.8155404822610596,
          null,
          1.2850489194387262,
          1.7297428055810258,
          null,
          1.2850489194387262,
          1.609710374873259,
          null,
          -1.0495229579561054,
          -1.2950389158840878,
          null,
          -1.0495229579561054,
          -1.441584176136759,
          null,
          0.1944368341803802,
          -0.13185668106794138,
          null,
          0.1944368341803802,
          0.6747550158386183,
          null,
          -0.6951494800595663,
          -1.2549937459672147,
          null,
          -0.6951494800595663,
          -0.4215256752398171,
          null
         ],
         "z": [
          -0.8592797766408564,
          -1.1221891463720743,
          null,
          -0.8592797766408564,
          -0.33401938695142774,
          null,
          -1.1221891463720743,
          -1.0339027047750349,
          null,
          -1.0339027047750349,
          -1.2885210199431156,
          null,
          -1.0339027047750349,
          -0.4571548242683999,
          null,
          -1.2885210199431156,
          -0.8355049912248632,
          null,
          -1.2885210199431156,
          -1.9077225759511514,
          null,
          -0.8355049912248632,
          -0.21569088598799713,
          null,
          -0.21569088598799713,
          -0.08432269705775103,
          null,
          -0.21569088598799713,
          0.16018304779486722,
          null,
          -0.08432269705775103,
          -0.4571548242683999,
          null,
          -0.08432269705775103,
          0.22258798253292833,
          null,
          -0.4571548242683999,
          -0.25808809406661054,
          null,
          -0.25808809406661054,
          -0.33401938695142774,
          null,
          -0.25808809406661054,
          0.02172237594901751,
          null,
          -0.33401938695142774,
          -0.05732096830244517,
          null,
          -0.05732096830244517,
          0.12111530870375466,
          null,
          -0.05732096830244517,
          0.11116872107813901,
          null,
          0.12111530870375466,
          0.13194571020386248,
          null,
          0.13194571020386248,
          0.02172237594901751,
          null,
          0.13194571020386248,
          0.20682521565137896,
          null,
          0.02172237594901751,
          0.32701850510744745,
          null,
          0.32701850510744745,
          0.22258798253292833,
          null,
          0.20682521565137896,
          -0.16970862999145422,
          null,
          0.20682521565137896,
          0.7485836510652598,
          null,
          0.11116872107813901,
          -0.20807269078731944,
          null,
          0.11116872107813901,
          0.6358737213425906,
          null,
          0.16018304779486722,
          0.616316445037395,
          null,
          0.16018304779486722,
          0.1589301535968042,
          null,
          -1.9077225759511514,
          -2.1285006798769,
          null,
          -1.9077225759511514,
          -2.511621324782713,
          null
         ]
        },
        {
         "hoverinfo": "text",
         "marker": {
          "color": [
           "rgb(256,0,0)",
           "rgb(0,0,0)",
           "rgb(256,0,0)",
           "rgb(256,0,0)",
           "rgb(0,0,0)",
           "rgb(0,0,0)",
           "rgb(256,0,0)",
           "rgb(0,0,0)",
           "rgb(0,0,0)",
           "rgb(0,0,0)",
           "rgb(0,0,0)",
           "rgb(0,0,0)",
           "rgb(0,0,0)",
           "rgb(0,0,0)",
           "rgb(0,0,0)",
           "rgb(0,0,0)",
           "rgb(256,0,0)",
           "rgb(256,0,0)",
           "rgb(0,0,0)",
           "rgb(0,0,0)",
           "rgb(0,0,0)",
           "rgb(0,0,0)",
           "rgb(0,0,0)",
           "rgb(0,0,0)",
           "rgb(0,0,0)",
           "rgb(0,0,0)",
           "rgb(0,0,0)",
           "rgb(0,0,0)"
          ],
          "colorscale": [
           [
            0,
            "#440154"
           ],
           [
            0.1111111111111111,
            "#482878"
           ],
           [
            0.2222222222222222,
            "#3e4989"
           ],
           [
            0.3333333333333333,
            "#31688e"
           ],
           [
            0.4444444444444444,
            "#26828e"
           ],
           [
            0.5555555555555556,
            "#1f9e89"
           ],
           [
            0.6666666666666666,
            "#35b779"
           ],
           [
            0.7777777777777778,
            "#6ece58"
           ],
           [
            0.8888888888888888,
            "#b5de2b"
           ],
           [
            1,
            "#fde725"
           ]
          ],
          "line": {
           "color": "rgb(50,50,50)",
           "width": 0.5
          },
          "size": 6,
          "symbol": "circle"
         },
         "mode": "markers",
         "name": "actors",
         "text": [
          "0",
          "1",
          "2",
          "3",
          "4",
          "5",
          "6",
          "7",
          "8",
          "9",
          "10",
          "11",
          "12",
          "13",
          "14",
          "15",
          "16",
          "17",
          "18",
          "19",
          "20",
          "21",
          "22",
          "23",
          "24",
          "25",
          "26",
          "27"
         ],
         "type": "scatter3d",
         "x": [
          -0.7936653802184988,
          -0.16607972609720684,
          0.32958427424582526,
          0.9973512636792449,
          1.474924740100846,
          1.3656151841855533,
          0.6769250729334987,
          0.1454703489823745,
          -0.5525535927811269,
          -1.0214585290414118,
          -1.6795690088483504,
          -1.8818236959666035,
          -1.4973446568684163,
          -0.7991708358771488,
          -0.25778082878514835,
          0.40317417488697027,
          -1.8834357753417785,
          -2.2289873702204615,
          -2.1215266685752545,
          -2.147655461088201,
          -2.6891502735057733,
          -2.3210915332507356,
          1.9483033324033745,
          2.3283067525625514,
          2.422331907499936,
          1.268830377303513,
          1.5744907634482948,
          1.4079446088881342
         ],
         "y": [
          -1.0053310898705736,
          -1.0127008587619903,
          -0.5154572284762107,
          -0.5152974151667046,
          -0.2370766714669428,
          0.10137252456504,
          0.23964517589672668,
          -0.10161405952960971,
          -0.030667247006197405,
          -0.5893873004388738,
          -0.5576262416148129,
          0.10413891053283346,
          0.706429662944918,
          0.6008152960523366,
          0.9390424106923294,
          0.8155404822610596,
          1.2850489194387262,
          1.7297428055810258,
          1.609710374873259,
          -1.0495229579561054,
          -1.2950389158840878,
          -1.441584176136759,
          0.1944368341803802,
          -0.13185668106794138,
          0.6747550158386183,
          -0.6951494800595663,
          -1.2549937459672147,
          -0.4215256752398171
         ],
         "z": [
          -0.8592797766408564,
          -1.1221891463720743,
          -1.0339027047750349,
          -1.2885210199431156,
          -0.8355049912248632,
          -0.21569088598799713,
          -0.08432269705775103,
          -0.4571548242683999,
          -0.25808809406661054,
          -0.33401938695142774,
          -0.05732096830244517,
          0.12111530870375466,
          0.13194571020386248,
          0.02172237594901751,
          0.32701850510744745,
          0.22258798253292833,
          0.20682521565137896,
          -0.16970862999145422,
          0.7485836510652598,
          0.11116872107813901,
          -0.20807269078731944,
          0.6358737213425906,
          0.16018304779486722,
          0.616316445037395,
          0.1589301535968042,
          -1.9077225759511514,
          -2.1285006798769,
          -2.511621324782713
         ]
        }
       ],
       "layout": {
        "height": 1000,
        "hovermode": "closest",
        "margin": {
         "t": 100
        },
        "scene": {
         "xaxis": {
          "showbackground": false,
          "showgrid": false,
          "showline": false,
          "showticklabels": false,
          "title": {
           "text": ""
          },
          "zeroline": false
         },
         "yaxis": {
          "showbackground": false,
          "showgrid": false,
          "showline": false,
          "showticklabels": false,
          "title": {
           "text": ""
          },
          "zeroline": false
         },
         "zaxis": {
          "showbackground": false,
          "showgrid": false,
          "showline": false,
          "showticklabels": false,
          "title": {
           "text": ""
          },
          "zeroline": false
         }
        },
        "showlegend": false,
        "template": {
         "data": {
          "bar": [
           {
            "error_x": {
             "color": "#2a3f5f"
            },
            "error_y": {
             "color": "#2a3f5f"
            },
            "marker": {
             "line": {
              "color": "#E5ECF6",
              "width": 0.5
             },
             "pattern": {
              "fillmode": "overlay",
              "size": 10,
              "solidity": 0.2
             }
            },
            "type": "bar"
           }
          ],
          "barpolar": [
           {
            "marker": {
             "line": {
              "color": "#E5ECF6",
              "width": 0.5
             },
             "pattern": {
              "fillmode": "overlay",
              "size": 10,
              "solidity": 0.2
             }
            },
            "type": "barpolar"
           }
          ],
          "carpet": [
           {
            "aaxis": {
             "endlinecolor": "#2a3f5f",
             "gridcolor": "white",
             "linecolor": "white",
             "minorgridcolor": "white",
             "startlinecolor": "#2a3f5f"
            },
            "baxis": {
             "endlinecolor": "#2a3f5f",
             "gridcolor": "white",
             "linecolor": "white",
             "minorgridcolor": "white",
             "startlinecolor": "#2a3f5f"
            },
            "type": "carpet"
           }
          ],
          "choropleth": [
           {
            "colorbar": {
             "outlinewidth": 0,
             "ticks": ""
            },
            "type": "choropleth"
           }
          ],
          "contour": [
           {
            "colorbar": {
             "outlinewidth": 0,
             "ticks": ""
            },
            "colorscale": [
             [
              0,
              "#0d0887"
             ],
             [
              0.1111111111111111,
              "#46039f"
             ],
             [
              0.2222222222222222,
              "#7201a8"
             ],
             [
              0.3333333333333333,
              "#9c179e"
             ],
             [
              0.4444444444444444,
              "#bd3786"
             ],
             [
              0.5555555555555556,
              "#d8576b"
             ],
             [
              0.6666666666666666,
              "#ed7953"
             ],
             [
              0.7777777777777778,
              "#fb9f3a"
             ],
             [
              0.8888888888888888,
              "#fdca26"
             ],
             [
              1,
              "#f0f921"
             ]
            ],
            "type": "contour"
           }
          ],
          "contourcarpet": [
           {
            "colorbar": {
             "outlinewidth": 0,
             "ticks": ""
            },
            "type": "contourcarpet"
           }
          ],
          "heatmap": [
           {
            "colorbar": {
             "outlinewidth": 0,
             "ticks": ""
            },
            "colorscale": [
             [
              0,
              "#0d0887"
             ],
             [
              0.1111111111111111,
              "#46039f"
             ],
             [
              0.2222222222222222,
              "#7201a8"
             ],
             [
              0.3333333333333333,
              "#9c179e"
             ],
             [
              0.4444444444444444,
              "#bd3786"
             ],
             [
              0.5555555555555556,
              "#d8576b"
             ],
             [
              0.6666666666666666,
              "#ed7953"
             ],
             [
              0.7777777777777778,
              "#fb9f3a"
             ],
             [
              0.8888888888888888,
              "#fdca26"
             ],
             [
              1,
              "#f0f921"
             ]
            ],
            "type": "heatmap"
           }
          ],
          "heatmapgl": [
           {
            "colorbar": {
             "outlinewidth": 0,
             "ticks": ""
            },
            "colorscale": [
             [
              0,
              "#0d0887"
             ],
             [
              0.1111111111111111,
              "#46039f"
             ],
             [
              0.2222222222222222,
              "#7201a8"
             ],
             [
              0.3333333333333333,
              "#9c179e"
             ],
             [
              0.4444444444444444,
              "#bd3786"
             ],
             [
              0.5555555555555556,
              "#d8576b"
             ],
             [
              0.6666666666666666,
              "#ed7953"
             ],
             [
              0.7777777777777778,
              "#fb9f3a"
             ],
             [
              0.8888888888888888,
              "#fdca26"
             ],
             [
              1,
              "#f0f921"
             ]
            ],
            "type": "heatmapgl"
           }
          ],
          "histogram": [
           {
            "marker": {
             "pattern": {
              "fillmode": "overlay",
              "size": 10,
              "solidity": 0.2
             }
            },
            "type": "histogram"
           }
          ],
          "histogram2d": [
           {
            "colorbar": {
             "outlinewidth": 0,
             "ticks": ""
            },
            "colorscale": [
             [
              0,
              "#0d0887"
             ],
             [
              0.1111111111111111,
              "#46039f"
             ],
             [
              0.2222222222222222,
              "#7201a8"
             ],
             [
              0.3333333333333333,
              "#9c179e"
             ],
             [
              0.4444444444444444,
              "#bd3786"
             ],
             [
              0.5555555555555556,
              "#d8576b"
             ],
             [
              0.6666666666666666,
              "#ed7953"
             ],
             [
              0.7777777777777778,
              "#fb9f3a"
             ],
             [
              0.8888888888888888,
              "#fdca26"
             ],
             [
              1,
              "#f0f921"
             ]
            ],
            "type": "histogram2d"
           }
          ],
          "histogram2dcontour": [
           {
            "colorbar": {
             "outlinewidth": 0,
             "ticks": ""
            },
            "colorscale": [
             [
              0,
              "#0d0887"
             ],
             [
              0.1111111111111111,
              "#46039f"
             ],
             [
              0.2222222222222222,
              "#7201a8"
             ],
             [
              0.3333333333333333,
              "#9c179e"
             ],
             [
              0.4444444444444444,
              "#bd3786"
             ],
             [
              0.5555555555555556,
              "#d8576b"
             ],
             [
              0.6666666666666666,
              "#ed7953"
             ],
             [
              0.7777777777777778,
              "#fb9f3a"
             ],
             [
              0.8888888888888888,
              "#fdca26"
             ],
             [
              1,
              "#f0f921"
             ]
            ],
            "type": "histogram2dcontour"
           }
          ],
          "mesh3d": [
           {
            "colorbar": {
             "outlinewidth": 0,
             "ticks": ""
            },
            "type": "mesh3d"
           }
          ],
          "parcoords": [
           {
            "line": {
             "colorbar": {
              "outlinewidth": 0,
              "ticks": ""
             }
            },
            "type": "parcoords"
           }
          ],
          "pie": [
           {
            "automargin": true,
            "type": "pie"
           }
          ],
          "scatter": [
           {
            "marker": {
             "colorbar": {
              "outlinewidth": 0,
              "ticks": ""
             }
            },
            "type": "scatter"
           }
          ],
          "scatter3d": [
           {
            "line": {
             "colorbar": {
              "outlinewidth": 0,
              "ticks": ""
             }
            },
            "marker": {
             "colorbar": {
              "outlinewidth": 0,
              "ticks": ""
             }
            },
            "type": "scatter3d"
           }
          ],
          "scattercarpet": [
           {
            "marker": {
             "colorbar": {
              "outlinewidth": 0,
              "ticks": ""
             }
            },
            "type": "scattercarpet"
           }
          ],
          "scattergeo": [
           {
            "marker": {
             "colorbar": {
              "outlinewidth": 0,
              "ticks": ""
             }
            },
            "type": "scattergeo"
           }
          ],
          "scattergl": [
           {
            "marker": {
             "colorbar": {
              "outlinewidth": 0,
              "ticks": ""
             }
            },
            "type": "scattergl"
           }
          ],
          "scattermapbox": [
           {
            "marker": {
             "colorbar": {
              "outlinewidth": 0,
              "ticks": ""
             }
            },
            "type": "scattermapbox"
           }
          ],
          "scatterpolar": [
           {
            "marker": {
             "colorbar": {
              "outlinewidth": 0,
              "ticks": ""
             }
            },
            "type": "scatterpolar"
           }
          ],
          "scatterpolargl": [
           {
            "marker": {
             "colorbar": {
              "outlinewidth": 0,
              "ticks": ""
             }
            },
            "type": "scatterpolargl"
           }
          ],
          "scatterternary": [
           {
            "marker": {
             "colorbar": {
              "outlinewidth": 0,
              "ticks": ""
             }
            },
            "type": "scatterternary"
           }
          ],
          "surface": [
           {
            "colorbar": {
             "outlinewidth": 0,
             "ticks": ""
            },
            "colorscale": [
             [
              0,
              "#0d0887"
             ],
             [
              0.1111111111111111,
              "#46039f"
             ],
             [
              0.2222222222222222,
              "#7201a8"
             ],
             [
              0.3333333333333333,
              "#9c179e"
             ],
             [
              0.4444444444444444,
              "#bd3786"
             ],
             [
              0.5555555555555556,
              "#d8576b"
             ],
             [
              0.6666666666666666,
              "#ed7953"
             ],
             [
              0.7777777777777778,
              "#fb9f3a"
             ],
             [
              0.8888888888888888,
              "#fdca26"
             ],
             [
              1,
              "#f0f921"
             ]
            ],
            "type": "surface"
           }
          ],
          "table": [
           {
            "cells": {
             "fill": {
              "color": "#EBF0F8"
             },
             "line": {
              "color": "white"
             }
            },
            "header": {
             "fill": {
              "color": "#C8D4E3"
             },
             "line": {
              "color": "white"
             }
            },
            "type": "table"
           }
          ]
         },
         "layout": {
          "annotationdefaults": {
           "arrowcolor": "#2a3f5f",
           "arrowhead": 0,
           "arrowwidth": 1
          },
          "autotypenumbers": "strict",
          "coloraxis": {
           "colorbar": {
            "outlinewidth": 0,
            "ticks": ""
           }
          },
          "colorscale": {
           "diverging": [
            [
             0,
             "#8e0152"
            ],
            [
             0.1,
             "#c51b7d"
            ],
            [
             0.2,
             "#de77ae"
            ],
            [
             0.3,
             "#f1b6da"
            ],
            [
             0.4,
             "#fde0ef"
            ],
            [
             0.5,
             "#f7f7f7"
            ],
            [
             0.6,
             "#e6f5d0"
            ],
            [
             0.7,
             "#b8e186"
            ],
            [
             0.8,
             "#7fbc41"
            ],
            [
             0.9,
             "#4d9221"
            ],
            [
             1,
             "#276419"
            ]
           ],
           "sequential": [
            [
             0,
             "#0d0887"
            ],
            [
             0.1111111111111111,
             "#46039f"
            ],
            [
             0.2222222222222222,
             "#7201a8"
            ],
            [
             0.3333333333333333,
             "#9c179e"
            ],
            [
             0.4444444444444444,
             "#bd3786"
            ],
            [
             0.5555555555555556,
             "#d8576b"
            ],
            [
             0.6666666666666666,
             "#ed7953"
            ],
            [
             0.7777777777777778,
             "#fb9f3a"
            ],
            [
             0.8888888888888888,
             "#fdca26"
            ],
            [
             1,
             "#f0f921"
            ]
           ],
           "sequentialminus": [
            [
             0,
             "#0d0887"
            ],
            [
             0.1111111111111111,
             "#46039f"
            ],
            [
             0.2222222222222222,
             "#7201a8"
            ],
            [
             0.3333333333333333,
             "#9c179e"
            ],
            [
             0.4444444444444444,
             "#bd3786"
            ],
            [
             0.5555555555555556,
             "#d8576b"
            ],
            [
             0.6666666666666666,
             "#ed7953"
            ],
            [
             0.7777777777777778,
             "#fb9f3a"
            ],
            [
             0.8888888888888888,
             "#fdca26"
            ],
            [
             1,
             "#f0f921"
            ]
           ]
          },
          "colorway": [
           "#636efa",
           "#EF553B",
           "#00cc96",
           "#ab63fa",
           "#FFA15A",
           "#19d3f3",
           "#FF6692",
           "#B6E880",
           "#FF97FF",
           "#FECB52"
          ],
          "font": {
           "color": "#2a3f5f"
          },
          "geo": {
           "bgcolor": "white",
           "lakecolor": "white",
           "landcolor": "#E5ECF6",
           "showlakes": true,
           "showland": true,
           "subunitcolor": "white"
          },
          "hoverlabel": {
           "align": "left"
          },
          "hovermode": "closest",
          "mapbox": {
           "style": "light"
          },
          "paper_bgcolor": "white",
          "plot_bgcolor": "#E5ECF6",
          "polar": {
           "angularaxis": {
            "gridcolor": "white",
            "linecolor": "white",
            "ticks": ""
           },
           "bgcolor": "#E5ECF6",
           "radialaxis": {
            "gridcolor": "white",
            "linecolor": "white",
            "ticks": ""
           }
          },
          "scene": {
           "xaxis": {
            "backgroundcolor": "#E5ECF6",
            "gridcolor": "white",
            "gridwidth": 2,
            "linecolor": "white",
            "showbackground": true,
            "ticks": "",
            "zerolinecolor": "white"
           },
           "yaxis": {
            "backgroundcolor": "#E5ECF6",
            "gridcolor": "white",
            "gridwidth": 2,
            "linecolor": "white",
            "showbackground": true,
            "ticks": "",
            "zerolinecolor": "white"
           },
           "zaxis": {
            "backgroundcolor": "#E5ECF6",
            "gridcolor": "white",
            "gridwidth": 2,
            "linecolor": "white",
            "showbackground": true,
            "ticks": "",
            "zerolinecolor": "white"
           }
          },
          "shapedefaults": {
           "line": {
            "color": "#2a3f5f"
           }
          },
          "ternary": {
           "aaxis": {
            "gridcolor": "white",
            "linecolor": "white",
            "ticks": ""
           },
           "baxis": {
            "gridcolor": "white",
            "linecolor": "white",
            "ticks": ""
           },
           "bgcolor": "#E5ECF6",
           "caxis": {
            "gridcolor": "white",
            "linecolor": "white",
            "ticks": ""
           }
          },
          "title": {
           "x": 0.05
          },
          "xaxis": {
           "automargin": true,
           "gridcolor": "white",
           "linecolor": "white",
           "ticks": "",
           "title": {
            "standoff": 15
           },
           "zerolinecolor": "white",
           "zerolinewidth": 2
          },
          "yaxis": {
           "automargin": true,
           "gridcolor": "white",
           "linecolor": "white",
           "ticks": "",
           "title": {
            "standoff": 15
           },
           "zerolinecolor": "white",
           "zerolinewidth": 2
          }
         }
        },
        "title": {
         "text": "3D graph visualization of Mutag dataset  by : Ahmed"
        },
        "width": 1000
       }
      },
      "text/html": [
       "<div>                            <div id=\"3fa8eda2-c9fe-4abf-b39f-66c20458bee9\" class=\"plotly-graph-div\" style=\"height:1000px; width:1000px;\"></div>            <script type=\"text/javascript\">                require([\"plotly\"], function(Plotly) {                    window.PLOTLYENV=window.PLOTLYENV || {};                                    if (document.getElementById(\"3fa8eda2-c9fe-4abf-b39f-66c20458bee9\")) {                    Plotly.newPlot(                        \"3fa8eda2-c9fe-4abf-b39f-66c20458bee9\",                        [{\"hoverinfo\":\"none\",\"line\":{\"color\":\"rgb(125,125,125)\",\"width\":1},\"mode\":\"lines\",\"x\":[-0.7936653802184988,-0.16607972609720684,null,-0.7936653802184988,-1.0214585290414118,null,-0.16607972609720684,0.32958427424582526,null,0.32958427424582526,0.9973512636792449,null,0.32958427424582526,0.1454703489823745,null,0.9973512636792449,1.474924740100846,null,0.9973512636792449,1.268830377303513,null,1.474924740100846,1.3656151841855533,null,1.3656151841855533,0.6769250729334987,null,1.3656151841855533,1.9483033324033745,null,0.6769250729334987,0.1454703489823745,null,0.6769250729334987,0.40317417488697027,null,0.1454703489823745,-0.5525535927811269,null,-0.5525535927811269,-1.0214585290414118,null,-0.5525535927811269,-0.7991708358771488,null,-1.0214585290414118,-1.6795690088483504,null,-1.6795690088483504,-1.8818236959666035,null,-1.6795690088483504,-2.147655461088201,null,-1.8818236959666035,-1.4973446568684163,null,-1.4973446568684163,-0.7991708358771488,null,-1.4973446568684163,-1.8834357753417785,null,-0.7991708358771488,-0.25778082878514835,null,-0.25778082878514835,0.40317417488697027,null,-1.8834357753417785,-2.2289873702204615,null,-1.8834357753417785,-2.1215266685752545,null,-2.147655461088201,-2.6891502735057733,null,-2.147655461088201,-2.3210915332507356,null,1.9483033324033745,2.3283067525625514,null,1.9483033324033745,2.422331907499936,null,1.268830377303513,1.5744907634482948,null,1.268830377303513,1.4079446088881342,null],\"y\":[-1.0053310898705736,-1.0127008587619903,null,-1.0053310898705736,-0.5893873004388738,null,-1.0127008587619903,-0.5154572284762107,null,-0.5154572284762107,-0.5152974151667046,null,-0.5154572284762107,-0.10161405952960971,null,-0.5152974151667046,-0.2370766714669428,null,-0.5152974151667046,-0.6951494800595663,null,-0.2370766714669428,0.10137252456504,null,0.10137252456504,0.23964517589672668,null,0.10137252456504,0.1944368341803802,null,0.23964517589672668,-0.10161405952960971,null,0.23964517589672668,0.8155404822610596,null,-0.10161405952960971,-0.030667247006197405,null,-0.030667247006197405,-0.5893873004388738,null,-0.030667247006197405,0.6008152960523366,null,-0.5893873004388738,-0.5576262416148129,null,-0.5576262416148129,0.10413891053283346,null,-0.5576262416148129,-1.0495229579561054,null,0.10413891053283346,0.706429662944918,null,0.706429662944918,0.6008152960523366,null,0.706429662944918,1.2850489194387262,null,0.6008152960523366,0.9390424106923294,null,0.9390424106923294,0.8155404822610596,null,1.2850489194387262,1.7297428055810258,null,1.2850489194387262,1.609710374873259,null,-1.0495229579561054,-1.2950389158840878,null,-1.0495229579561054,-1.441584176136759,null,0.1944368341803802,-0.13185668106794138,null,0.1944368341803802,0.6747550158386183,null,-0.6951494800595663,-1.2549937459672147,null,-0.6951494800595663,-0.4215256752398171,null],\"z\":[-0.8592797766408564,-1.1221891463720743,null,-0.8592797766408564,-0.33401938695142774,null,-1.1221891463720743,-1.0339027047750349,null,-1.0339027047750349,-1.2885210199431156,null,-1.0339027047750349,-0.4571548242683999,null,-1.2885210199431156,-0.8355049912248632,null,-1.2885210199431156,-1.9077225759511514,null,-0.8355049912248632,-0.21569088598799713,null,-0.21569088598799713,-0.08432269705775103,null,-0.21569088598799713,0.16018304779486722,null,-0.08432269705775103,-0.4571548242683999,null,-0.08432269705775103,0.22258798253292833,null,-0.4571548242683999,-0.25808809406661054,null,-0.25808809406661054,-0.33401938695142774,null,-0.25808809406661054,0.02172237594901751,null,-0.33401938695142774,-0.05732096830244517,null,-0.05732096830244517,0.12111530870375466,null,-0.05732096830244517,0.11116872107813901,null,0.12111530870375466,0.13194571020386248,null,0.13194571020386248,0.02172237594901751,null,0.13194571020386248,0.20682521565137896,null,0.02172237594901751,0.32701850510744745,null,0.32701850510744745,0.22258798253292833,null,0.20682521565137896,-0.16970862999145422,null,0.20682521565137896,0.7485836510652598,null,0.11116872107813901,-0.20807269078731944,null,0.11116872107813901,0.6358737213425906,null,0.16018304779486722,0.616316445037395,null,0.16018304779486722,0.1589301535968042,null,-1.9077225759511514,-2.1285006798769,null,-1.9077225759511514,-2.511621324782713,null],\"type\":\"scatter3d\"},{\"hoverinfo\":\"text\",\"marker\":{\"color\":[\"rgb(256,0,0)\",\"rgb(0,0,0)\",\"rgb(256,0,0)\",\"rgb(256,0,0)\",\"rgb(0,0,0)\",\"rgb(0,0,0)\",\"rgb(256,0,0)\",\"rgb(0,0,0)\",\"rgb(0,0,0)\",\"rgb(0,0,0)\",\"rgb(0,0,0)\",\"rgb(0,0,0)\",\"rgb(0,0,0)\",\"rgb(0,0,0)\",\"rgb(0,0,0)\",\"rgb(0,0,0)\",\"rgb(256,0,0)\",\"rgb(256,0,0)\",\"rgb(0,0,0)\",\"rgb(0,0,0)\",\"rgb(0,0,0)\",\"rgb(0,0,0)\",\"rgb(0,0,0)\",\"rgb(0,0,0)\",\"rgb(0,0,0)\",\"rgb(0,0,0)\",\"rgb(0,0,0)\",\"rgb(0,0,0)\"],\"colorscale\":[[0.0,\"#440154\"],[0.1111111111111111,\"#482878\"],[0.2222222222222222,\"#3e4989\"],[0.3333333333333333,\"#31688e\"],[0.4444444444444444,\"#26828e\"],[0.5555555555555556,\"#1f9e89\"],[0.6666666666666666,\"#35b779\"],[0.7777777777777778,\"#6ece58\"],[0.8888888888888888,\"#b5de2b\"],[1.0,\"#fde725\"]],\"line\":{\"color\":\"rgb(50,50,50)\",\"width\":0.5},\"size\":6,\"symbol\":\"circle\"},\"mode\":\"markers\",\"name\":\"actors\",\"text\":[\"0\",\"1\",\"2\",\"3\",\"4\",\"5\",\"6\",\"7\",\"8\",\"9\",\"10\",\"11\",\"12\",\"13\",\"14\",\"15\",\"16\",\"17\",\"18\",\"19\",\"20\",\"21\",\"22\",\"23\",\"24\",\"25\",\"26\",\"27\"],\"x\":[-0.7936653802184988,-0.16607972609720684,0.32958427424582526,0.9973512636792449,1.474924740100846,1.3656151841855533,0.6769250729334987,0.1454703489823745,-0.5525535927811269,-1.0214585290414118,-1.6795690088483504,-1.8818236959666035,-1.4973446568684163,-0.7991708358771488,-0.25778082878514835,0.40317417488697027,-1.8834357753417785,-2.2289873702204615,-2.1215266685752545,-2.147655461088201,-2.6891502735057733,-2.3210915332507356,1.9483033324033745,2.3283067525625514,2.422331907499936,1.268830377303513,1.5744907634482948,1.4079446088881342],\"y\":[-1.0053310898705736,-1.0127008587619903,-0.5154572284762107,-0.5152974151667046,-0.2370766714669428,0.10137252456504,0.23964517589672668,-0.10161405952960971,-0.030667247006197405,-0.5893873004388738,-0.5576262416148129,0.10413891053283346,0.706429662944918,0.6008152960523366,0.9390424106923294,0.8155404822610596,1.2850489194387262,1.7297428055810258,1.609710374873259,-1.0495229579561054,-1.2950389158840878,-1.441584176136759,0.1944368341803802,-0.13185668106794138,0.6747550158386183,-0.6951494800595663,-1.2549937459672147,-0.4215256752398171],\"z\":[-0.8592797766408564,-1.1221891463720743,-1.0339027047750349,-1.2885210199431156,-0.8355049912248632,-0.21569088598799713,-0.08432269705775103,-0.4571548242683999,-0.25808809406661054,-0.33401938695142774,-0.05732096830244517,0.12111530870375466,0.13194571020386248,0.02172237594901751,0.32701850510744745,0.22258798253292833,0.20682521565137896,-0.16970862999145422,0.7485836510652598,0.11116872107813901,-0.20807269078731944,0.6358737213425906,0.16018304779486722,0.616316445037395,0.1589301535968042,-1.9077225759511514,-2.1285006798769,-2.511621324782713],\"type\":\"scatter3d\"}],                        {\"height\":1000,\"hovermode\":\"closest\",\"margin\":{\"t\":100},\"scene\":{\"xaxis\":{\"showbackground\":false,\"showgrid\":false,\"showline\":false,\"showticklabels\":false,\"title\":{\"text\":\"\"},\"zeroline\":false},\"yaxis\":{\"showbackground\":false,\"showgrid\":false,\"showline\":false,\"showticklabels\":false,\"title\":{\"text\":\"\"},\"zeroline\":false},\"zaxis\":{\"showbackground\":false,\"showgrid\":false,\"showline\":false,\"showticklabels\":false,\"title\":{\"text\":\"\"},\"zeroline\":false}},\"showlegend\":false,\"template\":{\"data\":{\"barpolar\":[{\"marker\":{\"line\":{\"color\":\"#E5ECF6\",\"width\":0.5},\"pattern\":{\"fillmode\":\"overlay\",\"size\":10,\"solidity\":0.2}},\"type\":\"barpolar\"}],\"bar\":[{\"error_x\":{\"color\":\"#2a3f5f\"},\"error_y\":{\"color\":\"#2a3f5f\"},\"marker\":{\"line\":{\"color\":\"#E5ECF6\",\"width\":0.5},\"pattern\":{\"fillmode\":\"overlay\",\"size\":10,\"solidity\":0.2}},\"type\":\"bar\"}],\"carpet\":[{\"aaxis\":{\"endlinecolor\":\"#2a3f5f\",\"gridcolor\":\"white\",\"linecolor\":\"white\",\"minorgridcolor\":\"white\",\"startlinecolor\":\"#2a3f5f\"},\"baxis\":{\"endlinecolor\":\"#2a3f5f\",\"gridcolor\":\"white\",\"linecolor\":\"white\",\"minorgridcolor\":\"white\",\"startlinecolor\":\"#2a3f5f\"},\"type\":\"carpet\"}],\"choropleth\":[{\"colorbar\":{\"outlinewidth\":0,\"ticks\":\"\"},\"type\":\"choropleth\"}],\"contourcarpet\":[{\"colorbar\":{\"outlinewidth\":0,\"ticks\":\"\"},\"type\":\"contourcarpet\"}],\"contour\":[{\"colorbar\":{\"outlinewidth\":0,\"ticks\":\"\"},\"colorscale\":[[0.0,\"#0d0887\"],[0.1111111111111111,\"#46039f\"],[0.2222222222222222,\"#7201a8\"],[0.3333333333333333,\"#9c179e\"],[0.4444444444444444,\"#bd3786\"],[0.5555555555555556,\"#d8576b\"],[0.6666666666666666,\"#ed7953\"],[0.7777777777777778,\"#fb9f3a\"],[0.8888888888888888,\"#fdca26\"],[1.0,\"#f0f921\"]],\"type\":\"contour\"}],\"heatmapgl\":[{\"colorbar\":{\"outlinewidth\":0,\"ticks\":\"\"},\"colorscale\":[[0.0,\"#0d0887\"],[0.1111111111111111,\"#46039f\"],[0.2222222222222222,\"#7201a8\"],[0.3333333333333333,\"#9c179e\"],[0.4444444444444444,\"#bd3786\"],[0.5555555555555556,\"#d8576b\"],[0.6666666666666666,\"#ed7953\"],[0.7777777777777778,\"#fb9f3a\"],[0.8888888888888888,\"#fdca26\"],[1.0,\"#f0f921\"]],\"type\":\"heatmapgl\"}],\"heatmap\":[{\"colorbar\":{\"outlinewidth\":0,\"ticks\":\"\"},\"colorscale\":[[0.0,\"#0d0887\"],[0.1111111111111111,\"#46039f\"],[0.2222222222222222,\"#7201a8\"],[0.3333333333333333,\"#9c179e\"],[0.4444444444444444,\"#bd3786\"],[0.5555555555555556,\"#d8576b\"],[0.6666666666666666,\"#ed7953\"],[0.7777777777777778,\"#fb9f3a\"],[0.8888888888888888,\"#fdca26\"],[1.0,\"#f0f921\"]],\"type\":\"heatmap\"}],\"histogram2dcontour\":[{\"colorbar\":{\"outlinewidth\":0,\"ticks\":\"\"},\"colorscale\":[[0.0,\"#0d0887\"],[0.1111111111111111,\"#46039f\"],[0.2222222222222222,\"#7201a8\"],[0.3333333333333333,\"#9c179e\"],[0.4444444444444444,\"#bd3786\"],[0.5555555555555556,\"#d8576b\"],[0.6666666666666666,\"#ed7953\"],[0.7777777777777778,\"#fb9f3a\"],[0.8888888888888888,\"#fdca26\"],[1.0,\"#f0f921\"]],\"type\":\"histogram2dcontour\"}],\"histogram2d\":[{\"colorbar\":{\"outlinewidth\":0,\"ticks\":\"\"},\"colorscale\":[[0.0,\"#0d0887\"],[0.1111111111111111,\"#46039f\"],[0.2222222222222222,\"#7201a8\"],[0.3333333333333333,\"#9c179e\"],[0.4444444444444444,\"#bd3786\"],[0.5555555555555556,\"#d8576b\"],[0.6666666666666666,\"#ed7953\"],[0.7777777777777778,\"#fb9f3a\"],[0.8888888888888888,\"#fdca26\"],[1.0,\"#f0f921\"]],\"type\":\"histogram2d\"}],\"histogram\":[{\"marker\":{\"pattern\":{\"fillmode\":\"overlay\",\"size\":10,\"solidity\":0.2}},\"type\":\"histogram\"}],\"mesh3d\":[{\"colorbar\":{\"outlinewidth\":0,\"ticks\":\"\"},\"type\":\"mesh3d\"}],\"parcoords\":[{\"line\":{\"colorbar\":{\"outlinewidth\":0,\"ticks\":\"\"}},\"type\":\"parcoords\"}],\"pie\":[{\"automargin\":true,\"type\":\"pie\"}],\"scatter3d\":[{\"line\":{\"colorbar\":{\"outlinewidth\":0,\"ticks\":\"\"}},\"marker\":{\"colorbar\":{\"outlinewidth\":0,\"ticks\":\"\"}},\"type\":\"scatter3d\"}],\"scattercarpet\":[{\"marker\":{\"colorbar\":{\"outlinewidth\":0,\"ticks\":\"\"}},\"type\":\"scattercarpet\"}],\"scattergeo\":[{\"marker\":{\"colorbar\":{\"outlinewidth\":0,\"ticks\":\"\"}},\"type\":\"scattergeo\"}],\"scattergl\":[{\"marker\":{\"colorbar\":{\"outlinewidth\":0,\"ticks\":\"\"}},\"type\":\"scattergl\"}],\"scattermapbox\":[{\"marker\":{\"colorbar\":{\"outlinewidth\":0,\"ticks\":\"\"}},\"type\":\"scattermapbox\"}],\"scatterpolargl\":[{\"marker\":{\"colorbar\":{\"outlinewidth\":0,\"ticks\":\"\"}},\"type\":\"scatterpolargl\"}],\"scatterpolar\":[{\"marker\":{\"colorbar\":{\"outlinewidth\":0,\"ticks\":\"\"}},\"type\":\"scatterpolar\"}],\"scatter\":[{\"marker\":{\"colorbar\":{\"outlinewidth\":0,\"ticks\":\"\"}},\"type\":\"scatter\"}],\"scatterternary\":[{\"marker\":{\"colorbar\":{\"outlinewidth\":0,\"ticks\":\"\"}},\"type\":\"scatterternary\"}],\"surface\":[{\"colorbar\":{\"outlinewidth\":0,\"ticks\":\"\"},\"colorscale\":[[0.0,\"#0d0887\"],[0.1111111111111111,\"#46039f\"],[0.2222222222222222,\"#7201a8\"],[0.3333333333333333,\"#9c179e\"],[0.4444444444444444,\"#bd3786\"],[0.5555555555555556,\"#d8576b\"],[0.6666666666666666,\"#ed7953\"],[0.7777777777777778,\"#fb9f3a\"],[0.8888888888888888,\"#fdca26\"],[1.0,\"#f0f921\"]],\"type\":\"surface\"}],\"table\":[{\"cells\":{\"fill\":{\"color\":\"#EBF0F8\"},\"line\":{\"color\":\"white\"}},\"header\":{\"fill\":{\"color\":\"#C8D4E3\"},\"line\":{\"color\":\"white\"}},\"type\":\"table\"}]},\"layout\":{\"annotationdefaults\":{\"arrowcolor\":\"#2a3f5f\",\"arrowhead\":0,\"arrowwidth\":1},\"autotypenumbers\":\"strict\",\"coloraxis\":{\"colorbar\":{\"outlinewidth\":0,\"ticks\":\"\"}},\"colorscale\":{\"diverging\":[[0,\"#8e0152\"],[0.1,\"#c51b7d\"],[0.2,\"#de77ae\"],[0.3,\"#f1b6da\"],[0.4,\"#fde0ef\"],[0.5,\"#f7f7f7\"],[0.6,\"#e6f5d0\"],[0.7,\"#b8e186\"],[0.8,\"#7fbc41\"],[0.9,\"#4d9221\"],[1,\"#276419\"]],\"sequential\":[[0.0,\"#0d0887\"],[0.1111111111111111,\"#46039f\"],[0.2222222222222222,\"#7201a8\"],[0.3333333333333333,\"#9c179e\"],[0.4444444444444444,\"#bd3786\"],[0.5555555555555556,\"#d8576b\"],[0.6666666666666666,\"#ed7953\"],[0.7777777777777778,\"#fb9f3a\"],[0.8888888888888888,\"#fdca26\"],[1.0,\"#f0f921\"]],\"sequentialminus\":[[0.0,\"#0d0887\"],[0.1111111111111111,\"#46039f\"],[0.2222222222222222,\"#7201a8\"],[0.3333333333333333,\"#9c179e\"],[0.4444444444444444,\"#bd3786\"],[0.5555555555555556,\"#d8576b\"],[0.6666666666666666,\"#ed7953\"],[0.7777777777777778,\"#fb9f3a\"],[0.8888888888888888,\"#fdca26\"],[1.0,\"#f0f921\"]]},\"colorway\":[\"#636efa\",\"#EF553B\",\"#00cc96\",\"#ab63fa\",\"#FFA15A\",\"#19d3f3\",\"#FF6692\",\"#B6E880\",\"#FF97FF\",\"#FECB52\"],\"font\":{\"color\":\"#2a3f5f\"},\"geo\":{\"bgcolor\":\"white\",\"lakecolor\":\"white\",\"landcolor\":\"#E5ECF6\",\"showlakes\":true,\"showland\":true,\"subunitcolor\":\"white\"},\"hoverlabel\":{\"align\":\"left\"},\"hovermode\":\"closest\",\"mapbox\":{\"style\":\"light\"},\"paper_bgcolor\":\"white\",\"plot_bgcolor\":\"#E5ECF6\",\"polar\":{\"angularaxis\":{\"gridcolor\":\"white\",\"linecolor\":\"white\",\"ticks\":\"\"},\"bgcolor\":\"#E5ECF6\",\"radialaxis\":{\"gridcolor\":\"white\",\"linecolor\":\"white\",\"ticks\":\"\"}},\"scene\":{\"xaxis\":{\"backgroundcolor\":\"#E5ECF6\",\"gridcolor\":\"white\",\"gridwidth\":2,\"linecolor\":\"white\",\"showbackground\":true,\"ticks\":\"\",\"zerolinecolor\":\"white\"},\"yaxis\":{\"backgroundcolor\":\"#E5ECF6\",\"gridcolor\":\"white\",\"gridwidth\":2,\"linecolor\":\"white\",\"showbackground\":true,\"ticks\":\"\",\"zerolinecolor\":\"white\"},\"zaxis\":{\"backgroundcolor\":\"#E5ECF6\",\"gridcolor\":\"white\",\"gridwidth\":2,\"linecolor\":\"white\",\"showbackground\":true,\"ticks\":\"\",\"zerolinecolor\":\"white\"}},\"shapedefaults\":{\"line\":{\"color\":\"#2a3f5f\"}},\"ternary\":{\"aaxis\":{\"gridcolor\":\"white\",\"linecolor\":\"white\",\"ticks\":\"\"},\"baxis\":{\"gridcolor\":\"white\",\"linecolor\":\"white\",\"ticks\":\"\"},\"bgcolor\":\"#E5ECF6\",\"caxis\":{\"gridcolor\":\"white\",\"linecolor\":\"white\",\"ticks\":\"\"}},\"title\":{\"x\":0.05},\"xaxis\":{\"automargin\":true,\"gridcolor\":\"white\",\"linecolor\":\"white\",\"ticks\":\"\",\"title\":{\"standoff\":15},\"zerolinecolor\":\"white\",\"zerolinewidth\":2},\"yaxis\":{\"automargin\":true,\"gridcolor\":\"white\",\"linecolor\":\"white\",\"ticks\":\"\",\"title\":{\"standoff\":15},\"zerolinecolor\":\"white\",\"zerolinewidth\":2}}},\"title\":{\"text\":\"3D graph visualization of Mutag dataset  by : Ahmed\"},\"width\":1000},                        {\"responsive\": true}                    ).then(function(){\n",
       "                            \n",
       "var gd = document.getElementById('3fa8eda2-c9fe-4abf-b39f-66c20458bee9');\n",
       "var x = new MutationObserver(function (mutations, observer) {{\n",
       "        var display = window.getComputedStyle(gd).display;\n",
       "        if (!display || display === 'none') {{\n",
       "            console.log([gd, 'removed!']);\n",
       "            Plotly.purge(gd);\n",
       "            observer.disconnect();\n",
       "        }}\n",
       "}});\n",
       "\n",
       "// Listen for the removal of the full notebook cells\n",
       "var notebookContainer = gd.closest('#notebook-container');\n",
       "if (notebookContainer) {{\n",
       "    x.observe(notebookContainer, {childList: true});\n",
       "}}\n",
       "\n",
       "// Listen for the clearing of the current output cell\n",
       "var outputEl = gd.closest('.output');\n",
       "if (outputEl) {{\n",
       "    x.observe(outputEl, {childList: true});\n",
       "}}\n",
       "\n",
       "                        })                };                });            </script>        </div>"
      ]
     },
     "metadata": {},
     "output_type": "display_data"
    }
   ],
   "source": [
    "import pandas as pd\n",
    "import numpy as np\n",
    "%matplotlib inline\n",
    "import plotly.graph_objs as go\n",
    "from  plotly.offline import plot\n",
    "import chart_studio.plotly as py\n",
    "import cufflinks as cf\n",
    "cf.go_offline()\n",
    "from plotly.offline import download_plotlyjs, init_notebook_mode, plot,iplot\n",
    "init_notebook_mode(connected='true')\n",
    "data=[trace1, trace2]\n",
    "fig=go.Figure(data=data, layout=layout)\n",
    "\n",
    "iplot(fig, filename='Les-Miserables')"
   ]
  },
  {
   "cell_type": "code",
   "execution_count": 47,
   "id": "9c537632",
   "metadata": {},
   "outputs": [
    {
     "name": "stdout",
     "output_type": "stream",
     "text": [
      "\n",
      "Dataset: PROTEINS(1113):\n",
      "====================\n",
      "Number of graphs: 1113\n",
      "Number of features: 3\n",
      "Number of classes: 2\n",
      "\n",
      "Data(edge_index=[2, 162], x=[42, 3], y=[1])\n",
      "=============================================================\n",
      "Number of nodes: 42\n",
      "Number of edges: 162\n",
      "Average node degree: 3.86\n",
      "Has isolated nodes: False\n",
      "Has self-loops: False\n",
      "Is undirected: True\n"
     ]
    }
   ],
   "source": [
    "dataset = TUDataset(root='data/TUDataset', name='PROTEINS')\n",
    "\n",
    "print()\n",
    "print(f'Dataset: {dataset}:')\n",
    "print('====================')\n",
    "print(f'Number of graphs: {len(dataset)}')\n",
    "print(f'Number of features: {dataset.num_features}')\n",
    "print(f'Number of classes: {dataset.num_classes}')\n",
    "\n",
    "data = dataset[0]  # Get the first graph object.\n",
    "\n",
    "print()\n",
    "print(data)\n",
    "print('=============================================================')\n",
    "\n",
    "# Gather some statistics about the first graph.\n",
    "print(f'Number of nodes: {data.num_nodes}')\n",
    "print(f'Number of edges: {data.num_edges}')\n",
    "print(f'Average node degree: {data.num_edges / data.num_nodes:.2f}')\n",
    "print(f'Has isolated nodes: {data.has_isolated_nodes()}')\n",
    "print(f'Has self-loops: {data.has_self_loops()}')\n",
    "print(f'Is undirected: {data.is_undirected()}')"
   ]
  },
  {
   "cell_type": "code",
   "execution_count": 48,
   "id": "3449bf4e",
   "metadata": {
    "scrolled": true
   },
   "outputs": [
    {
     "name": "stdout",
     "output_type": "stream",
     "text": [
      "Number of training graphs: 890\n",
      "Number of test graphs: 223\n"
     ]
    }
   ],
   "source": [
    "#torch.manual_seed(12345)\n",
    "dataset = dataset.shuffle()\n",
    "\n",
    "train_dataset = dataset[:890]\n",
    "test_dataset = dataset[890:]\n",
    "\n",
    "print(f'Number of training graphs: {len(train_dataset)}')\n",
    "print(f'Number of test graphs: {len(test_dataset)}')"
   ]
  },
  {
   "cell_type": "code",
   "execution_count": 49,
   "id": "a4d0635a",
   "metadata": {},
   "outputs": [
    {
     "name": "stdout",
     "output_type": "stream",
     "text": [
      "Step 1:\n",
      "=======\n",
      "Number of graphs in the current batch: 64\n",
      "DataBatch(edge_index=[2, 8734], x=[2375, 3], y=[64], batch=[2375], ptr=[65])\n",
      "\n",
      "Step 2:\n",
      "=======\n",
      "Number of graphs in the current batch: 64\n",
      "DataBatch(edge_index=[2, 7820], x=[1997, 3], y=[64], batch=[1997], ptr=[65])\n",
      "\n",
      "Step 3:\n",
      "=======\n",
      "Number of graphs in the current batch: 64\n",
      "DataBatch(edge_index=[2, 13182], x=[3552, 3], y=[64], batch=[3552], ptr=[65])\n",
      "\n",
      "Step 4:\n",
      "=======\n",
      "Number of graphs in the current batch: 64\n",
      "DataBatch(edge_index=[2, 9062], x=[2394, 3], y=[64], batch=[2394], ptr=[65])\n",
      "\n",
      "Step 5:\n",
      "=======\n",
      "Number of graphs in the current batch: 64\n",
      "DataBatch(edge_index=[2, 7222], x=[1856, 3], y=[64], batch=[1856], ptr=[65])\n",
      "\n",
      "Step 6:\n",
      "=======\n",
      "Number of graphs in the current batch: 64\n",
      "DataBatch(edge_index=[2, 9230], x=[2503, 3], y=[64], batch=[2503], ptr=[65])\n",
      "\n",
      "Step 7:\n",
      "=======\n",
      "Number of graphs in the current batch: 64\n",
      "DataBatch(edge_index=[2, 12968], x=[3516, 3], y=[64], batch=[3516], ptr=[65])\n",
      "\n",
      "Step 8:\n",
      "=======\n",
      "Number of graphs in the current batch: 64\n",
      "DataBatch(edge_index=[2, 10094], x=[2764, 3], y=[64], batch=[2764], ptr=[65])\n",
      "\n",
      "Step 9:\n",
      "=======\n",
      "Number of graphs in the current batch: 64\n",
      "DataBatch(edge_index=[2, 9934], x=[2732, 3], y=[64], batch=[2732], ptr=[65])\n",
      "\n",
      "Step 10:\n",
      "=======\n",
      "Number of graphs in the current batch: 64\n",
      "DataBatch(edge_index=[2, 8704], x=[2440, 3], y=[64], batch=[2440], ptr=[65])\n",
      "\n",
      "Step 11:\n",
      "=======\n",
      "Number of graphs in the current batch: 64\n",
      "DataBatch(edge_index=[2, 9010], x=[2390, 3], y=[64], batch=[2390], ptr=[65])\n",
      "\n",
      "Step 12:\n",
      "=======\n",
      "Number of graphs in the current batch: 64\n",
      "DataBatch(edge_index=[2, 7822], x=[2069, 3], y=[64], batch=[2069], ptr=[65])\n",
      "\n",
      "Step 13:\n",
      "=======\n",
      "Number of graphs in the current batch: 64\n",
      "DataBatch(edge_index=[2, 9336], x=[2495, 3], y=[64], batch=[2495], ptr=[65])\n",
      "\n",
      "Step 14:\n",
      "=======\n",
      "Number of graphs in the current batch: 58\n",
      "DataBatch(edge_index=[2, 8564], x=[2235, 3], y=[58], batch=[2235], ptr=[59])\n",
      "\n"
     ]
    }
   ],
   "source": [
    "from torch_geometric.loader import DataLoader\n",
    "\n",
    "\n",
    "\n",
    "for step, data in enumerate(train_loader):\n",
    "    print(f'Step {step + 1}:')\n",
    "    print('=======')\n",
    "    print(f'Number of graphs in the current batch: {data.num_graphs}')\n",
    "    print(data)\n",
    "    print()"
   ]
  },
  {
   "cell_type": "code",
   "execution_count": 55,
   "id": "545de6e8",
   "metadata": {
    "scrolled": true
   },
   "outputs": [
    {
     "name": "stdout",
     "output_type": "stream",
     "text": [
      "Epoch: 001, Train Loss: 0.639, Train Acc: 0.596, Test Loss: 0.552, Test Acc: 0.596\n",
      "Epoch: 002, Train Loss: 0.605, Train Acc: 0.670, Test Loss: 0.545, Test Acc: 0.691\n",
      "Epoch: 003, Train Loss: 0.585, Train Acc: 0.730, Test Loss: 0.525, Test Acc: 0.762\n",
      "Epoch: 004, Train Loss: 0.570, Train Acc: 0.736, Test Loss: 0.510, Test Acc: 0.776\n",
      "Epoch: 005, Train Loss: 0.558, Train Acc: 0.734, Test Loss: 0.497, Test Acc: 0.780\n",
      "Epoch: 006, Train Loss: 0.548, Train Acc: 0.735, Test Loss: 0.491, Test Acc: 0.780\n",
      "Epoch: 007, Train Loss: 0.544, Train Acc: 0.743, Test Loss: 0.474, Test Acc: 0.785\n",
      "Epoch: 008, Train Loss: 0.536, Train Acc: 0.745, Test Loss: 0.482, Test Acc: 0.776\n",
      "Epoch: 009, Train Loss: 0.541, Train Acc: 0.735, Test Loss: 0.485, Test Acc: 0.771\n",
      "Epoch: 010, Train Loss: 0.533, Train Acc: 0.747, Test Loss: 0.471, Test Acc: 0.776\n",
      "Epoch: 011, Train Loss: 0.523, Train Acc: 0.748, Test Loss: 0.463, Test Acc: 0.789\n",
      "Epoch: 012, Train Loss: 0.523, Train Acc: 0.744, Test Loss: 0.463, Test Acc: 0.776\n",
      "Epoch: 013, Train Loss: 0.518, Train Acc: 0.751, Test Loss: 0.453, Test Acc: 0.771\n",
      "Epoch: 014, Train Loss: 0.518, Train Acc: 0.749, Test Loss: 0.458, Test Acc: 0.780\n",
      "Epoch: 015, Train Loss: 0.517, Train Acc: 0.751, Test Loss: 0.458, Test Acc: 0.785\n",
      "Epoch: 016, Train Loss: 0.514, Train Acc: 0.748, Test Loss: 0.452, Test Acc: 0.767\n",
      "Epoch: 017, Train Loss: 0.511, Train Acc: 0.757, Test Loss: 0.458, Test Acc: 0.780\n",
      "Epoch: 018, Train Loss: 0.511, Train Acc: 0.757, Test Loss: 0.459, Test Acc: 0.780\n",
      "Epoch: 019, Train Loss: 0.509, Train Acc: 0.754, Test Loss: 0.448, Test Acc: 0.776\n",
      "Epoch: 020, Train Loss: 0.508, Train Acc: 0.753, Test Loss: 0.462, Test Acc: 0.789\n",
      "Epoch: 021, Train Loss: 0.505, Train Acc: 0.754, Test Loss: 0.450, Test Acc: 0.776\n",
      "Epoch: 022, Train Loss: 0.507, Train Acc: 0.755, Test Loss: 0.457, Test Acc: 0.767\n",
      "Epoch: 023, Train Loss: 0.509, Train Acc: 0.754, Test Loss: 0.452, Test Acc: 0.771\n",
      "Epoch: 024, Train Loss: 0.507, Train Acc: 0.753, Test Loss: 0.463, Test Acc: 0.794\n",
      "Epoch: 025, Train Loss: 0.506, Train Acc: 0.754, Test Loss: 0.452, Test Acc: 0.762\n",
      "Epoch: 026, Train Loss: 0.505, Train Acc: 0.756, Test Loss: 0.451, Test Acc: 0.767\n",
      "Epoch: 027, Train Loss: 0.501, Train Acc: 0.755, Test Loss: 0.461, Test Acc: 0.794\n",
      "Epoch: 028, Train Loss: 0.503, Train Acc: 0.753, Test Loss: 0.455, Test Acc: 0.767\n",
      "Epoch: 029, Train Loss: 0.509, Train Acc: 0.762, Test Loss: 0.453, Test Acc: 0.758\n",
      "Epoch: 030, Train Loss: 0.503, Train Acc: 0.760, Test Loss: 0.449, Test Acc: 0.749\n",
      "Epoch: 031, Train Loss: 0.501, Train Acc: 0.761, Test Loss: 0.454, Test Acc: 0.776\n",
      "Epoch: 032, Train Loss: 0.501, Train Acc: 0.756, Test Loss: 0.456, Test Acc: 0.785\n",
      "Epoch: 033, Train Loss: 0.501, Train Acc: 0.758, Test Loss: 0.450, Test Acc: 0.771\n",
      "Epoch: 034, Train Loss: 0.504, Train Acc: 0.756, Test Loss: 0.459, Test Acc: 0.789\n",
      "Epoch: 035, Train Loss: 0.507, Train Acc: 0.760, Test Loss: 0.465, Test Acc: 0.794\n",
      "Epoch: 036, Train Loss: 0.516, Train Acc: 0.755, Test Loss: 0.450, Test Acc: 0.753\n",
      "Epoch: 037, Train Loss: 0.523, Train Acc: 0.754, Test Loss: 0.461, Test Acc: 0.776\n",
      "Epoch: 038, Train Loss: 0.505, Train Acc: 0.758, Test Loss: 0.458, Test Acc: 0.767\n",
      "Epoch: 039, Train Loss: 0.502, Train Acc: 0.758, Test Loss: 0.455, Test Acc: 0.771\n",
      "Epoch: 040, Train Loss: 0.501, Train Acc: 0.762, Test Loss: 0.454, Test Acc: 0.785\n",
      "Epoch: 041, Train Loss: 0.498, Train Acc: 0.760, Test Loss: 0.458, Test Acc: 0.789\n",
      "Epoch: 042, Train Loss: 0.499, Train Acc: 0.766, Test Loss: 0.455, Test Acc: 0.785\n",
      "Epoch: 043, Train Loss: 0.498, Train Acc: 0.764, Test Loss: 0.453, Test Acc: 0.767\n",
      "Epoch: 044, Train Loss: 0.498, Train Acc: 0.762, Test Loss: 0.454, Test Acc: 0.753\n",
      "Epoch: 045, Train Loss: 0.499, Train Acc: 0.762, Test Loss: 0.453, Test Acc: 0.780\n",
      "Epoch: 046, Train Loss: 0.498, Train Acc: 0.764, Test Loss: 0.449, Test Acc: 0.767\n",
      "Epoch: 047, Train Loss: 0.508, Train Acc: 0.755, Test Loss: 0.463, Test Acc: 0.780\n",
      "Epoch: 048, Train Loss: 0.500, Train Acc: 0.754, Test Loss: 0.451, Test Acc: 0.762\n",
      "Epoch: 049, Train Loss: 0.501, Train Acc: 0.758, Test Loss: 0.461, Test Acc: 0.776\n",
      "RUN:0,Test Acc:0.7758\n",
      "Epoch: 001, Train Loss: 0.602, Train Acc: 0.692, Test Loss: 0.600, Test Acc: 0.713\n",
      "Epoch: 002, Train Loss: 0.567, Train Acc: 0.731, Test Loss: 0.601, Test Acc: 0.744\n",
      "Epoch: 003, Train Loss: 0.555, Train Acc: 0.734, Test Loss: 0.589, Test Acc: 0.735\n",
      "Epoch: 004, Train Loss: 0.549, Train Acc: 0.737, Test Loss: 0.583, Test Acc: 0.717\n",
      "Epoch: 005, Train Loss: 0.542, Train Acc: 0.740, Test Loss: 0.574, Test Acc: 0.735\n",
      "Epoch: 006, Train Loss: 0.540, Train Acc: 0.744, Test Loss: 0.566, Test Acc: 0.735\n",
      "Epoch: 007, Train Loss: 0.539, Train Acc: 0.742, Test Loss: 0.567, Test Acc: 0.717\n",
      "Epoch: 008, Train Loss: 0.534, Train Acc: 0.740, Test Loss: 0.559, Test Acc: 0.726\n",
      "Epoch: 009, Train Loss: 0.526, Train Acc: 0.743, Test Loss: 0.560, Test Acc: 0.722\n",
      "Epoch: 010, Train Loss: 0.524, Train Acc: 0.747, Test Loss: 0.558, Test Acc: 0.749\n",
      "Epoch: 011, Train Loss: 0.522, Train Acc: 0.747, Test Loss: 0.553, Test Acc: 0.731\n",
      "Epoch: 012, Train Loss: 0.514, Train Acc: 0.749, Test Loss: 0.558, Test Acc: 0.735\n",
      "Epoch: 013, Train Loss: 0.507, Train Acc: 0.758, Test Loss: 0.560, Test Acc: 0.740\n",
      "Epoch: 014, Train Loss: 0.507, Train Acc: 0.756, Test Loss: 0.573, Test Acc: 0.749\n",
      "Epoch: 015, Train Loss: 0.511, Train Acc: 0.761, Test Loss: 0.574, Test Acc: 0.735\n",
      "Epoch: 016, Train Loss: 0.498, Train Acc: 0.762, Test Loss: 0.562, Test Acc: 0.744\n",
      "Epoch: 017, Train Loss: 0.496, Train Acc: 0.764, Test Loss: 0.572, Test Acc: 0.744\n",
      "Epoch: 018, Train Loss: 0.494, Train Acc: 0.755, Test Loss: 0.570, Test Acc: 0.740\n",
      "Epoch: 019, Train Loss: 0.496, Train Acc: 0.755, Test Loss: 0.564, Test Acc: 0.740\n",
      "Epoch: 020, Train Loss: 0.496, Train Acc: 0.767, Test Loss: 0.568, Test Acc: 0.749\n",
      "Epoch: 021, Train Loss: 0.493, Train Acc: 0.764, Test Loss: 0.567, Test Acc: 0.758\n",
      "Epoch: 022, Train Loss: 0.492, Train Acc: 0.765, Test Loss: 0.550, Test Acc: 0.758\n",
      "Epoch: 023, Train Loss: 0.492, Train Acc: 0.763, Test Loss: 0.561, Test Acc: 0.753\n",
      "Epoch: 024, Train Loss: 0.490, Train Acc: 0.769, Test Loss: 0.560, Test Acc: 0.749\n",
      "Epoch: 025, Train Loss: 0.492, Train Acc: 0.761, Test Loss: 0.571, Test Acc: 0.762\n",
      "Epoch: 026, Train Loss: 0.490, Train Acc: 0.766, Test Loss: 0.568, Test Acc: 0.758\n",
      "Epoch: 027, Train Loss: 0.494, Train Acc: 0.763, Test Loss: 0.551, Test Acc: 0.749\n",
      "Epoch: 028, Train Loss: 0.490, Train Acc: 0.765, Test Loss: 0.567, Test Acc: 0.758\n",
      "Epoch: 029, Train Loss: 0.490, Train Acc: 0.766, Test Loss: 0.548, Test Acc: 0.767\n",
      "Epoch: 030, Train Loss: 0.490, Train Acc: 0.761, Test Loss: 0.556, Test Acc: 0.758\n",
      "Epoch: 031, Train Loss: 0.489, Train Acc: 0.769, Test Loss: 0.558, Test Acc: 0.740\n",
      "Epoch: 032, Train Loss: 0.488, Train Acc: 0.763, Test Loss: 0.549, Test Acc: 0.753\n",
      "Epoch: 033, Train Loss: 0.489, Train Acc: 0.769, Test Loss: 0.549, Test Acc: 0.753\n",
      "Epoch: 034, Train Loss: 0.488, Train Acc: 0.758, Test Loss: 0.565, Test Acc: 0.753\n",
      "Epoch: 035, Train Loss: 0.493, Train Acc: 0.766, Test Loss: 0.566, Test Acc: 0.762\n",
      "Epoch: 036, Train Loss: 0.491, Train Acc: 0.769, Test Loss: 0.555, Test Acc: 0.762\n",
      "Epoch: 037, Train Loss: 0.489, Train Acc: 0.764, Test Loss: 0.555, Test Acc: 0.762\n",
      "Epoch: 038, Train Loss: 0.486, Train Acc: 0.767, Test Loss: 0.554, Test Acc: 0.762\n",
      "Epoch: 039, Train Loss: 0.492, Train Acc: 0.765, Test Loss: 0.549, Test Acc: 0.767\n",
      "Epoch: 040, Train Loss: 0.494, Train Acc: 0.771, Test Loss: 0.576, Test Acc: 0.758\n",
      "Epoch: 041, Train Loss: 0.488, Train Acc: 0.764, Test Loss: 0.560, Test Acc: 0.762\n",
      "Epoch: 042, Train Loss: 0.485, Train Acc: 0.771, Test Loss: 0.544, Test Acc: 0.762\n",
      "Epoch: 043, Train Loss: 0.488, Train Acc: 0.771, Test Loss: 0.553, Test Acc: 0.762\n",
      "Epoch: 044, Train Loss: 0.490, Train Acc: 0.767, Test Loss: 0.559, Test Acc: 0.767\n",
      "Epoch: 045, Train Loss: 0.488, Train Acc: 0.767, Test Loss: 0.549, Test Acc: 0.753\n",
      "Epoch: 046, Train Loss: 0.492, Train Acc: 0.763, Test Loss: 0.547, Test Acc: 0.749\n",
      "Epoch: 047, Train Loss: 0.493, Train Acc: 0.763, Test Loss: 0.551, Test Acc: 0.753\n",
      "Epoch: 048, Train Loss: 0.488, Train Acc: 0.766, Test Loss: 0.559, Test Acc: 0.767\n",
      "Epoch: 049, Train Loss: 0.486, Train Acc: 0.770, Test Loss: 0.556, Test Acc: 0.758\n",
      "RUN:1,Test Acc:0.7578\n",
      "Epoch: 001, Train Loss: 0.639, Train Acc: 0.596, Test Loss: 0.779, Test Acc: 0.596\n"
     ]
    },
    {
     "name": "stdout",
     "output_type": "stream",
     "text": [
      "Epoch: 002, Train Loss: 0.605, Train Acc: 0.649, Test Loss: 0.726, Test Acc: 0.628\n",
      "Epoch: 003, Train Loss: 0.583, Train Acc: 0.718, Test Loss: 0.710, Test Acc: 0.704\n",
      "Epoch: 004, Train Loss: 0.571, Train Acc: 0.739, Test Loss: 0.646, Test Acc: 0.744\n",
      "Epoch: 005, Train Loss: 0.554, Train Acc: 0.749, Test Loss: 0.645, Test Acc: 0.726\n",
      "Epoch: 006, Train Loss: 0.539, Train Acc: 0.747, Test Loss: 0.589, Test Acc: 0.758\n",
      "Epoch: 007, Train Loss: 0.529, Train Acc: 0.763, Test Loss: 0.570, Test Acc: 0.758\n",
      "Epoch: 008, Train Loss: 0.524, Train Acc: 0.760, Test Loss: 0.549, Test Acc: 0.717\n",
      "Epoch: 009, Train Loss: 0.518, Train Acc: 0.758, Test Loss: 0.573, Test Acc: 0.758\n",
      "Epoch: 010, Train Loss: 0.522, Train Acc: 0.764, Test Loss: 0.545, Test Acc: 0.726\n",
      "Epoch: 011, Train Loss: 0.515, Train Acc: 0.756, Test Loss: 0.576, Test Acc: 0.749\n",
      "Epoch: 012, Train Loss: 0.514, Train Acc: 0.760, Test Loss: 0.529, Test Acc: 0.735\n",
      "Epoch: 013, Train Loss: 0.512, Train Acc: 0.751, Test Loss: 0.597, Test Acc: 0.744\n",
      "Epoch: 014, Train Loss: 0.505, Train Acc: 0.757, Test Loss: 0.528, Test Acc: 0.740\n",
      "Epoch: 015, Train Loss: 0.501, Train Acc: 0.753, Test Loss: 0.572, Test Acc: 0.740\n",
      "Epoch: 016, Train Loss: 0.505, Train Acc: 0.762, Test Loss: 0.528, Test Acc: 0.749\n",
      "Epoch: 017, Train Loss: 0.499, Train Acc: 0.757, Test Loss: 0.549, Test Acc: 0.740\n",
      "Epoch: 018, Train Loss: 0.497, Train Acc: 0.763, Test Loss: 0.545, Test Acc: 0.758\n",
      "Epoch: 019, Train Loss: 0.496, Train Acc: 0.758, Test Loss: 0.531, Test Acc: 0.744\n",
      "Epoch: 020, Train Loss: 0.497, Train Acc: 0.765, Test Loss: 0.530, Test Acc: 0.758\n",
      "Epoch: 021, Train Loss: 0.495, Train Acc: 0.754, Test Loss: 0.546, Test Acc: 0.753\n",
      "Epoch: 022, Train Loss: 0.493, Train Acc: 0.761, Test Loss: 0.529, Test Acc: 0.753\n",
      "Epoch: 023, Train Loss: 0.492, Train Acc: 0.763, Test Loss: 0.530, Test Acc: 0.753\n",
      "Epoch: 024, Train Loss: 0.494, Train Acc: 0.761, Test Loss: 0.540, Test Acc: 0.749\n",
      "Epoch: 025, Train Loss: 0.490, Train Acc: 0.763, Test Loss: 0.529, Test Acc: 0.762\n",
      "Epoch: 026, Train Loss: 0.493, Train Acc: 0.755, Test Loss: 0.561, Test Acc: 0.740\n",
      "Epoch: 027, Train Loss: 0.499, Train Acc: 0.762, Test Loss: 0.526, Test Acc: 0.753\n",
      "Epoch: 028, Train Loss: 0.494, Train Acc: 0.767, Test Loss: 0.522, Test Acc: 0.758\n",
      "Epoch: 029, Train Loss: 0.500, Train Acc: 0.754, Test Loss: 0.537, Test Acc: 0.740\n",
      "Epoch: 030, Train Loss: 0.493, Train Acc: 0.763, Test Loss: 0.548, Test Acc: 0.753\n",
      "Epoch: 031, Train Loss: 0.494, Train Acc: 0.756, Test Loss: 0.516, Test Acc: 0.753\n",
      "Epoch: 032, Train Loss: 0.494, Train Acc: 0.771, Test Loss: 0.526, Test Acc: 0.758\n",
      "Epoch: 033, Train Loss: 0.488, Train Acc: 0.757, Test Loss: 0.511, Test Acc: 0.749\n",
      "Epoch: 034, Train Loss: 0.487, Train Acc: 0.766, Test Loss: 0.535, Test Acc: 0.762\n",
      "Epoch: 035, Train Loss: 0.487, Train Acc: 0.761, Test Loss: 0.534, Test Acc: 0.753\n",
      "Epoch: 036, Train Loss: 0.490, Train Acc: 0.754, Test Loss: 0.527, Test Acc: 0.758\n",
      "Epoch: 037, Train Loss: 0.494, Train Acc: 0.754, Test Loss: 0.543, Test Acc: 0.753\n",
      "Epoch: 038, Train Loss: 0.497, Train Acc: 0.758, Test Loss: 0.517, Test Acc: 0.749\n",
      "Epoch: 039, Train Loss: 0.488, Train Acc: 0.764, Test Loss: 0.529, Test Acc: 0.758\n",
      "Epoch: 040, Train Loss: 0.488, Train Acc: 0.762, Test Loss: 0.529, Test Acc: 0.762\n",
      "Epoch: 041, Train Loss: 0.489, Train Acc: 0.757, Test Loss: 0.546, Test Acc: 0.731\n",
      "Epoch: 042, Train Loss: 0.492, Train Acc: 0.762, Test Loss: 0.520, Test Acc: 0.762\n",
      "Epoch: 043, Train Loss: 0.490, Train Acc: 0.760, Test Loss: 0.520, Test Acc: 0.753\n",
      "Epoch: 044, Train Loss: 0.489, Train Acc: 0.762, Test Loss: 0.548, Test Acc: 0.767\n",
      "Epoch: 045, Train Loss: 0.486, Train Acc: 0.762, Test Loss: 0.523, Test Acc: 0.749\n",
      "Epoch: 046, Train Loss: 0.486, Train Acc: 0.766, Test Loss: 0.524, Test Acc: 0.758\n",
      "Epoch: 047, Train Loss: 0.484, Train Acc: 0.769, Test Loss: 0.532, Test Acc: 0.762\n",
      "Epoch: 048, Train Loss: 0.485, Train Acc: 0.762, Test Loss: 0.525, Test Acc: 0.749\n",
      "Epoch: 049, Train Loss: 0.484, Train Acc: 0.769, Test Loss: 0.529, Test Acc: 0.758\n",
      "RUN:2,Test Acc:0.7578\n",
      "Epoch: 001, Train Loss: 0.649, Train Acc: 0.602, Test Loss: 0.600, Test Acc: 0.570\n",
      "Epoch: 002, Train Loss: 0.607, Train Acc: 0.604, Test Loss: 0.590, Test Acc: 0.574\n",
      "Epoch: 003, Train Loss: 0.591, Train Acc: 0.661, Test Loss: 0.577, Test Acc: 0.655\n",
      "Epoch: 004, Train Loss: 0.574, Train Acc: 0.727, Test Loss: 0.563, Test Acc: 0.704\n",
      "Epoch: 005, Train Loss: 0.558, Train Acc: 0.757, Test Loss: 0.549, Test Acc: 0.740\n",
      "Epoch: 006, Train Loss: 0.546, Train Acc: 0.770, Test Loss: 0.531, Test Acc: 0.740\n",
      "Epoch: 007, Train Loss: 0.534, Train Acc: 0.766, Test Loss: 0.519, Test Acc: 0.744\n",
      "Epoch: 008, Train Loss: 0.526, Train Acc: 0.770, Test Loss: 0.517, Test Acc: 0.740\n",
      "Epoch: 009, Train Loss: 0.521, Train Acc: 0.765, Test Loss: 0.516, Test Acc: 0.735\n",
      "Epoch: 010, Train Loss: 0.519, Train Acc: 0.762, Test Loss: 0.497, Test Acc: 0.767\n",
      "Epoch: 011, Train Loss: 0.518, Train Acc: 0.763, Test Loss: 0.506, Test Acc: 0.735\n",
      "Epoch: 012, Train Loss: 0.517, Train Acc: 0.765, Test Loss: 0.504, Test Acc: 0.744\n",
      "Epoch: 013, Train Loss: 0.511, Train Acc: 0.767, Test Loss: 0.496, Test Acc: 0.758\n",
      "Epoch: 014, Train Loss: 0.510, Train Acc: 0.770, Test Loss: 0.503, Test Acc: 0.735\n",
      "Epoch: 015, Train Loss: 0.513, Train Acc: 0.762, Test Loss: 0.488, Test Acc: 0.762\n",
      "Epoch: 016, Train Loss: 0.506, Train Acc: 0.771, Test Loss: 0.505, Test Acc: 0.740\n",
      "Epoch: 017, Train Loss: 0.506, Train Acc: 0.761, Test Loss: 0.488, Test Acc: 0.753\n",
      "Epoch: 018, Train Loss: 0.505, Train Acc: 0.774, Test Loss: 0.493, Test Acc: 0.749\n",
      "Epoch: 019, Train Loss: 0.509, Train Acc: 0.770, Test Loss: 0.504, Test Acc: 0.731\n",
      "Epoch: 020, Train Loss: 0.501, Train Acc: 0.758, Test Loss: 0.492, Test Acc: 0.749\n",
      "Epoch: 021, Train Loss: 0.501, Train Acc: 0.772, Test Loss: 0.496, Test Acc: 0.749\n",
      "Epoch: 022, Train Loss: 0.503, Train Acc: 0.761, Test Loss: 0.514, Test Acc: 0.722\n",
      "Epoch: 023, Train Loss: 0.507, Train Acc: 0.760, Test Loss: 0.484, Test Acc: 0.753\n",
      "Epoch: 024, Train Loss: 0.505, Train Acc: 0.778, Test Loss: 0.487, Test Acc: 0.749\n",
      "Epoch: 025, Train Loss: 0.500, Train Acc: 0.771, Test Loss: 0.500, Test Acc: 0.740\n",
      "Epoch: 026, Train Loss: 0.500, Train Acc: 0.778, Test Loss: 0.493, Test Acc: 0.753\n",
      "Epoch: 027, Train Loss: 0.503, Train Acc: 0.773, Test Loss: 0.491, Test Acc: 0.758\n",
      "Epoch: 028, Train Loss: 0.495, Train Acc: 0.769, Test Loss: 0.498, Test Acc: 0.740\n",
      "Epoch: 029, Train Loss: 0.497, Train Acc: 0.773, Test Loss: 0.503, Test Acc: 0.722\n",
      "Epoch: 030, Train Loss: 0.498, Train Acc: 0.766, Test Loss: 0.489, Test Acc: 0.762\n",
      "Epoch: 031, Train Loss: 0.499, Train Acc: 0.758, Test Loss: 0.525, Test Acc: 0.726\n",
      "Epoch: 032, Train Loss: 0.502, Train Acc: 0.765, Test Loss: 0.487, Test Acc: 0.767\n",
      "Epoch: 033, Train Loss: 0.497, Train Acc: 0.771, Test Loss: 0.504, Test Acc: 0.740\n",
      "Epoch: 034, Train Loss: 0.494, Train Acc: 0.772, Test Loss: 0.500, Test Acc: 0.731\n",
      "Epoch: 035, Train Loss: 0.492, Train Acc: 0.773, Test Loss: 0.495, Test Acc: 0.753\n",
      "Epoch: 036, Train Loss: 0.493, Train Acc: 0.770, Test Loss: 0.501, Test Acc: 0.717\n",
      "Epoch: 037, Train Loss: 0.492, Train Acc: 0.776, Test Loss: 0.501, Test Acc: 0.740\n",
      "Epoch: 038, Train Loss: 0.491, Train Acc: 0.776, Test Loss: 0.503, Test Acc: 0.726\n",
      "Epoch: 039, Train Loss: 0.492, Train Acc: 0.772, Test Loss: 0.504, Test Acc: 0.731\n",
      "Epoch: 040, Train Loss: 0.495, Train Acc: 0.771, Test Loss: 0.514, Test Acc: 0.722\n",
      "Epoch: 041, Train Loss: 0.495, Train Acc: 0.774, Test Loss: 0.497, Test Acc: 0.717\n",
      "Epoch: 042, Train Loss: 0.494, Train Acc: 0.772, Test Loss: 0.515, Test Acc: 0.722\n",
      "Epoch: 043, Train Loss: 0.495, Train Acc: 0.775, Test Loss: 0.494, Test Acc: 0.735\n",
      "Epoch: 044, Train Loss: 0.493, Train Acc: 0.770, Test Loss: 0.504, Test Acc: 0.717\n",
      "Epoch: 045, Train Loss: 0.492, Train Acc: 0.773, Test Loss: 0.512, Test Acc: 0.717\n",
      "Epoch: 046, Train Loss: 0.490, Train Acc: 0.780, Test Loss: 0.502, Test Acc: 0.731\n",
      "Epoch: 047, Train Loss: 0.489, Train Acc: 0.770, Test Loss: 0.512, Test Acc: 0.717\n",
      "Epoch: 048, Train Loss: 0.489, Train Acc: 0.780, Test Loss: 0.494, Test Acc: 0.731\n",
      "Epoch: 049, Train Loss: 0.488, Train Acc: 0.782, Test Loss: 0.504, Test Acc: 0.740\n",
      "RUN:3,Test Acc:0.7399\n",
      "Epoch: 001, Train Loss: 0.723, Train Acc: 0.672, Test Loss: 0.511, Test Acc: 0.682\n",
      "Epoch: 002, Train Loss: 0.600, Train Acc: 0.729, Test Loss: 0.569, Test Acc: 0.767\n"
     ]
    },
    {
     "name": "stdout",
     "output_type": "stream",
     "text": [
      "Epoch: 003, Train Loss: 0.570, Train Acc: 0.743, Test Loss: 0.511, Test Acc: 0.771\n",
      "Epoch: 004, Train Loss: 0.557, Train Acc: 0.744, Test Loss: 0.508, Test Acc: 0.762\n",
      "Epoch: 005, Train Loss: 0.544, Train Acc: 0.748, Test Loss: 0.476, Test Acc: 0.762\n",
      "Epoch: 006, Train Loss: 0.535, Train Acc: 0.752, Test Loss: 0.451, Test Acc: 0.762\n",
      "Epoch: 007, Train Loss: 0.529, Train Acc: 0.754, Test Loss: 0.437, Test Acc: 0.758\n",
      "Epoch: 008, Train Loss: 0.522, Train Acc: 0.753, Test Loss: 0.426, Test Acc: 0.767\n",
      "Epoch: 009, Train Loss: 0.517, Train Acc: 0.758, Test Loss: 0.408, Test Acc: 0.771\n",
      "Epoch: 010, Train Loss: 0.519, Train Acc: 0.756, Test Loss: 0.421, Test Acc: 0.776\n",
      "Epoch: 011, Train Loss: 0.514, Train Acc: 0.746, Test Loss: 0.398, Test Acc: 0.767\n",
      "Epoch: 012, Train Loss: 0.511, Train Acc: 0.755, Test Loss: 0.419, Test Acc: 0.771\n",
      "Epoch: 013, Train Loss: 0.510, Train Acc: 0.761, Test Loss: 0.401, Test Acc: 0.767\n",
      "Epoch: 014, Train Loss: 0.507, Train Acc: 0.753, Test Loss: 0.389, Test Acc: 0.762\n",
      "Epoch: 015, Train Loss: 0.511, Train Acc: 0.757, Test Loss: 0.397, Test Acc: 0.767\n",
      "Epoch: 016, Train Loss: 0.505, Train Acc: 0.753, Test Loss: 0.406, Test Acc: 0.771\n",
      "Epoch: 017, Train Loss: 0.507, Train Acc: 0.764, Test Loss: 0.402, Test Acc: 0.771\n",
      "Epoch: 018, Train Loss: 0.506, Train Acc: 0.763, Test Loss: 0.414, Test Acc: 0.771\n",
      "Epoch: 019, Train Loss: 0.502, Train Acc: 0.752, Test Loss: 0.400, Test Acc: 0.767\n",
      "Epoch: 020, Train Loss: 0.501, Train Acc: 0.767, Test Loss: 0.400, Test Acc: 0.771\n",
      "Epoch: 021, Train Loss: 0.498, Train Acc: 0.764, Test Loss: 0.411, Test Acc: 0.776\n",
      "Epoch: 022, Train Loss: 0.498, Train Acc: 0.754, Test Loss: 0.392, Test Acc: 0.767\n",
      "Epoch: 023, Train Loss: 0.502, Train Acc: 0.762, Test Loss: 0.391, Test Acc: 0.776\n",
      "Epoch: 024, Train Loss: 0.497, Train Acc: 0.770, Test Loss: 0.396, Test Acc: 0.771\n",
      "Epoch: 025, Train Loss: 0.496, Train Acc: 0.765, Test Loss: 0.394, Test Acc: 0.771\n",
      "Epoch: 026, Train Loss: 0.500, Train Acc: 0.747, Test Loss: 0.384, Test Acc: 0.749\n",
      "Epoch: 027, Train Loss: 0.501, Train Acc: 0.764, Test Loss: 0.405, Test Acc: 0.771\n",
      "Epoch: 028, Train Loss: 0.494, Train Acc: 0.762, Test Loss: 0.383, Test Acc: 0.767\n",
      "Epoch: 029, Train Loss: 0.496, Train Acc: 0.767, Test Loss: 0.410, Test Acc: 0.771\n",
      "Epoch: 030, Train Loss: 0.497, Train Acc: 0.771, Test Loss: 0.396, Test Acc: 0.767\n",
      "Epoch: 031, Train Loss: 0.497, Train Acc: 0.758, Test Loss: 0.392, Test Acc: 0.767\n",
      "Epoch: 032, Train Loss: 0.498, Train Acc: 0.772, Test Loss: 0.388, Test Acc: 0.776\n",
      "Epoch: 033, Train Loss: 0.494, Train Acc: 0.773, Test Loss: 0.403, Test Acc: 0.771\n",
      "Epoch: 034, Train Loss: 0.497, Train Acc: 0.770, Test Loss: 0.387, Test Acc: 0.776\n",
      "Epoch: 035, Train Loss: 0.494, Train Acc: 0.748, Test Loss: 0.375, Test Acc: 0.762\n",
      "Epoch: 036, Train Loss: 0.499, Train Acc: 0.770, Test Loss: 0.417, Test Acc: 0.767\n",
      "Epoch: 037, Train Loss: 0.494, Train Acc: 0.765, Test Loss: 0.389, Test Acc: 0.762\n",
      "Epoch: 038, Train Loss: 0.496, Train Acc: 0.772, Test Loss: 0.392, Test Acc: 0.767\n",
      "Epoch: 039, Train Loss: 0.495, Train Acc: 0.765, Test Loss: 0.401, Test Acc: 0.771\n",
      "Epoch: 040, Train Loss: 0.495, Train Acc: 0.771, Test Loss: 0.391, Test Acc: 0.771\n",
      "Epoch: 041, Train Loss: 0.500, Train Acc: 0.755, Test Loss: 0.376, Test Acc: 0.753\n",
      "Epoch: 042, Train Loss: 0.494, Train Acc: 0.772, Test Loss: 0.400, Test Acc: 0.776\n",
      "Epoch: 043, Train Loss: 0.491, Train Acc: 0.775, Test Loss: 0.394, Test Acc: 0.767\n",
      "Epoch: 044, Train Loss: 0.492, Train Acc: 0.764, Test Loss: 0.386, Test Acc: 0.762\n",
      "Epoch: 045, Train Loss: 0.491, Train Acc: 0.766, Test Loss: 0.399, Test Acc: 0.776\n",
      "Epoch: 046, Train Loss: 0.491, Train Acc: 0.755, Test Loss: 0.379, Test Acc: 0.753\n",
      "Epoch: 047, Train Loss: 0.493, Train Acc: 0.771, Test Loss: 0.395, Test Acc: 0.767\n",
      "Epoch: 048, Train Loss: 0.493, Train Acc: 0.772, Test Loss: 0.401, Test Acc: 0.776\n",
      "Epoch: 049, Train Loss: 0.490, Train Acc: 0.770, Test Loss: 0.386, Test Acc: 0.762\n",
      "RUN:4,Test Acc:0.7623\n",
      "Epoch: 001, Train Loss: 0.615, Train Acc: 0.702, Test Loss: 0.539, Test Acc: 0.704\n",
      "Epoch: 002, Train Loss: 0.588, Train Acc: 0.734, Test Loss: 0.525, Test Acc: 0.744\n",
      "Epoch: 003, Train Loss: 0.576, Train Acc: 0.745, Test Loss: 0.514, Test Acc: 0.735\n",
      "Epoch: 004, Train Loss: 0.568, Train Acc: 0.743, Test Loss: 0.504, Test Acc: 0.731\n",
      "Epoch: 005, Train Loss: 0.559, Train Acc: 0.745, Test Loss: 0.498, Test Acc: 0.740\n",
      "Epoch: 006, Train Loss: 0.550, Train Acc: 0.751, Test Loss: 0.495, Test Acc: 0.749\n",
      "Epoch: 007, Train Loss: 0.544, Train Acc: 0.757, Test Loss: 0.492, Test Acc: 0.758\n",
      "Epoch: 008, Train Loss: 0.540, Train Acc: 0.735, Test Loss: 0.504, Test Acc: 0.740\n",
      "Epoch: 009, Train Loss: 0.540, Train Acc: 0.746, Test Loss: 0.500, Test Acc: 0.762\n",
      "Epoch: 010, Train Loss: 0.531, Train Acc: 0.756, Test Loss: 0.490, Test Acc: 0.789\n",
      "Epoch: 011, Train Loss: 0.528, Train Acc: 0.753, Test Loss: 0.487, Test Acc: 0.771\n",
      "Epoch: 012, Train Loss: 0.527, Train Acc: 0.754, Test Loss: 0.479, Test Acc: 0.762\n",
      "Epoch: 013, Train Loss: 0.532, Train Acc: 0.743, Test Loss: 0.520, Test Acc: 0.749\n",
      "Epoch: 014, Train Loss: 0.525, Train Acc: 0.758, Test Loss: 0.490, Test Acc: 0.776\n",
      "Epoch: 015, Train Loss: 0.516, Train Acc: 0.758, Test Loss: 0.496, Test Acc: 0.780\n",
      "Epoch: 016, Train Loss: 0.516, Train Acc: 0.755, Test Loss: 0.494, Test Acc: 0.776\n",
      "Epoch: 017, Train Loss: 0.516, Train Acc: 0.755, Test Loss: 0.488, Test Acc: 0.776\n",
      "Epoch: 018, Train Loss: 0.512, Train Acc: 0.755, Test Loss: 0.492, Test Acc: 0.780\n",
      "Epoch: 019, Train Loss: 0.511, Train Acc: 0.756, Test Loss: 0.497, Test Acc: 0.785\n",
      "Epoch: 020, Train Loss: 0.511, Train Acc: 0.756, Test Loss: 0.475, Test Acc: 0.767\n",
      "Epoch: 021, Train Loss: 0.514, Train Acc: 0.756, Test Loss: 0.510, Test Acc: 0.785\n",
      "Epoch: 022, Train Loss: 0.505, Train Acc: 0.760, Test Loss: 0.486, Test Acc: 0.776\n",
      "Epoch: 023, Train Loss: 0.506, Train Acc: 0.758, Test Loss: 0.493, Test Acc: 0.780\n",
      "Epoch: 024, Train Loss: 0.504, Train Acc: 0.757, Test Loss: 0.492, Test Acc: 0.771\n",
      "Epoch: 025, Train Loss: 0.507, Train Acc: 0.760, Test Loss: 0.488, Test Acc: 0.776\n",
      "Epoch: 026, Train Loss: 0.504, Train Acc: 0.756, Test Loss: 0.504, Test Acc: 0.780\n",
      "Epoch: 027, Train Loss: 0.503, Train Acc: 0.758, Test Loss: 0.489, Test Acc: 0.776\n",
      "Epoch: 028, Train Loss: 0.508, Train Acc: 0.757, Test Loss: 0.484, Test Acc: 0.771\n",
      "Epoch: 029, Train Loss: 0.506, Train Acc: 0.760, Test Loss: 0.484, Test Acc: 0.776\n",
      "Epoch: 030, Train Loss: 0.501, Train Acc: 0.761, Test Loss: 0.491, Test Acc: 0.771\n",
      "Epoch: 031, Train Loss: 0.504, Train Acc: 0.761, Test Loss: 0.486, Test Acc: 0.780\n",
      "Epoch: 032, Train Loss: 0.501, Train Acc: 0.761, Test Loss: 0.498, Test Acc: 0.780\n",
      "Epoch: 033, Train Loss: 0.501, Train Acc: 0.761, Test Loss: 0.476, Test Acc: 0.776\n",
      "Epoch: 034, Train Loss: 0.505, Train Acc: 0.757, Test Loss: 0.478, Test Acc: 0.771\n",
      "Epoch: 035, Train Loss: 0.507, Train Acc: 0.756, Test Loss: 0.522, Test Acc: 0.780\n",
      "Epoch: 036, Train Loss: 0.500, Train Acc: 0.756, Test Loss: 0.481, Test Acc: 0.767\n",
      "Epoch: 037, Train Loss: 0.506, Train Acc: 0.763, Test Loss: 0.486, Test Acc: 0.780\n",
      "Epoch: 038, Train Loss: 0.499, Train Acc: 0.758, Test Loss: 0.501, Test Acc: 0.785\n",
      "Epoch: 039, Train Loss: 0.502, Train Acc: 0.757, Test Loss: 0.472, Test Acc: 0.776\n",
      "Epoch: 040, Train Loss: 0.502, Train Acc: 0.760, Test Loss: 0.502, Test Acc: 0.785\n",
      "Epoch: 041, Train Loss: 0.499, Train Acc: 0.763, Test Loss: 0.484, Test Acc: 0.771\n",
      "Epoch: 042, Train Loss: 0.499, Train Acc: 0.764, Test Loss: 0.494, Test Acc: 0.780\n",
      "Epoch: 043, Train Loss: 0.498, Train Acc: 0.763, Test Loss: 0.478, Test Acc: 0.780\n",
      "Epoch: 044, Train Loss: 0.504, Train Acc: 0.762, Test Loss: 0.480, Test Acc: 0.776\n",
      "Epoch: 045, Train Loss: 0.503, Train Acc: 0.764, Test Loss: 0.495, Test Acc: 0.785\n",
      "Epoch: 046, Train Loss: 0.500, Train Acc: 0.764, Test Loss: 0.471, Test Acc: 0.776\n",
      "Epoch: 047, Train Loss: 0.498, Train Acc: 0.761, Test Loss: 0.500, Test Acc: 0.780\n",
      "Epoch: 048, Train Loss: 0.499, Train Acc: 0.764, Test Loss: 0.495, Test Acc: 0.785\n",
      "Epoch: 049, Train Loss: 0.499, Train Acc: 0.760, Test Loss: 0.489, Test Acc: 0.780\n",
      "RUN:5,Test Acc:0.7803\n",
      "Epoch: 001, Train Loss: 0.611, Train Acc: 0.658, Test Loss: 0.569, Test Acc: 0.646\n",
      "Epoch: 002, Train Loss: 0.586, Train Acc: 0.733, Test Loss: 0.543, Test Acc: 0.722\n",
      "Epoch: 003, Train Loss: 0.572, Train Acc: 0.742, Test Loss: 0.522, Test Acc: 0.753\n"
     ]
    },
    {
     "name": "stdout",
     "output_type": "stream",
     "text": [
      "Epoch: 004, Train Loss: 0.563, Train Acc: 0.737, Test Loss: 0.515, Test Acc: 0.744\n",
      "Epoch: 005, Train Loss: 0.561, Train Acc: 0.737, Test Loss: 0.493, Test Acc: 0.731\n",
      "Epoch: 006, Train Loss: 0.552, Train Acc: 0.742, Test Loss: 0.489, Test Acc: 0.762\n",
      "Epoch: 007, Train Loss: 0.545, Train Acc: 0.739, Test Loss: 0.476, Test Acc: 0.740\n",
      "Epoch: 008, Train Loss: 0.541, Train Acc: 0.740, Test Loss: 0.475, Test Acc: 0.749\n",
      "Epoch: 009, Train Loss: 0.538, Train Acc: 0.740, Test Loss: 0.472, Test Acc: 0.762\n",
      "Epoch: 010, Train Loss: 0.531, Train Acc: 0.742, Test Loss: 0.461, Test Acc: 0.740\n",
      "Epoch: 011, Train Loss: 0.527, Train Acc: 0.740, Test Loss: 0.468, Test Acc: 0.762\n",
      "Epoch: 012, Train Loss: 0.520, Train Acc: 0.744, Test Loss: 0.459, Test Acc: 0.753\n",
      "Epoch: 013, Train Loss: 0.519, Train Acc: 0.746, Test Loss: 0.466, Test Acc: 0.749\n",
      "Epoch: 014, Train Loss: 0.521, Train Acc: 0.748, Test Loss: 0.460, Test Acc: 0.762\n",
      "Epoch: 015, Train Loss: 0.512, Train Acc: 0.747, Test Loss: 0.454, Test Acc: 0.753\n",
      "Epoch: 016, Train Loss: 0.513, Train Acc: 0.749, Test Loss: 0.466, Test Acc: 0.735\n",
      "Epoch: 017, Train Loss: 0.510, Train Acc: 0.747, Test Loss: 0.449, Test Acc: 0.762\n",
      "Epoch: 018, Train Loss: 0.506, Train Acc: 0.755, Test Loss: 0.461, Test Acc: 0.744\n",
      "Epoch: 019, Train Loss: 0.507, Train Acc: 0.744, Test Loss: 0.455, Test Acc: 0.744\n",
      "Epoch: 020, Train Loss: 0.504, Train Acc: 0.758, Test Loss: 0.460, Test Acc: 0.744\n",
      "Epoch: 021, Train Loss: 0.503, Train Acc: 0.755, Test Loss: 0.457, Test Acc: 0.744\n",
      "Epoch: 022, Train Loss: 0.501, Train Acc: 0.757, Test Loss: 0.458, Test Acc: 0.744\n",
      "Epoch: 023, Train Loss: 0.504, Train Acc: 0.752, Test Loss: 0.457, Test Acc: 0.744\n",
      "Epoch: 024, Train Loss: 0.510, Train Acc: 0.760, Test Loss: 0.468, Test Acc: 0.740\n",
      "Epoch: 025, Train Loss: 0.506, Train Acc: 0.755, Test Loss: 0.482, Test Acc: 0.726\n",
      "Epoch: 026, Train Loss: 0.505, Train Acc: 0.756, Test Loss: 0.463, Test Acc: 0.753\n",
      "Epoch: 027, Train Loss: 0.506, Train Acc: 0.764, Test Loss: 0.457, Test Acc: 0.749\n",
      "Epoch: 028, Train Loss: 0.498, Train Acc: 0.765, Test Loss: 0.460, Test Acc: 0.740\n",
      "Epoch: 029, Train Loss: 0.498, Train Acc: 0.760, Test Loss: 0.453, Test Acc: 0.744\n",
      "Epoch: 030, Train Loss: 0.502, Train Acc: 0.762, Test Loss: 0.469, Test Acc: 0.749\n",
      "Epoch: 031, Train Loss: 0.501, Train Acc: 0.762, Test Loss: 0.453, Test Acc: 0.744\n",
      "Epoch: 032, Train Loss: 0.496, Train Acc: 0.758, Test Loss: 0.462, Test Acc: 0.744\n",
      "Epoch: 033, Train Loss: 0.492, Train Acc: 0.763, Test Loss: 0.453, Test Acc: 0.740\n",
      "Epoch: 034, Train Loss: 0.496, Train Acc: 0.760, Test Loss: 0.467, Test Acc: 0.740\n",
      "Epoch: 035, Train Loss: 0.505, Train Acc: 0.761, Test Loss: 0.456, Test Acc: 0.731\n",
      "Epoch: 036, Train Loss: 0.497, Train Acc: 0.761, Test Loss: 0.452, Test Acc: 0.735\n",
      "Epoch: 037, Train Loss: 0.498, Train Acc: 0.766, Test Loss: 0.456, Test Acc: 0.753\n",
      "Epoch: 038, Train Loss: 0.493, Train Acc: 0.766, Test Loss: 0.447, Test Acc: 0.735\n",
      "Epoch: 039, Train Loss: 0.493, Train Acc: 0.767, Test Loss: 0.447, Test Acc: 0.740\n",
      "Epoch: 040, Train Loss: 0.493, Train Acc: 0.761, Test Loss: 0.449, Test Acc: 0.735\n",
      "Epoch: 041, Train Loss: 0.490, Train Acc: 0.770, Test Loss: 0.452, Test Acc: 0.744\n",
      "Epoch: 042, Train Loss: 0.491, Train Acc: 0.767, Test Loss: 0.447, Test Acc: 0.749\n",
      "Epoch: 043, Train Loss: 0.486, Train Acc: 0.771, Test Loss: 0.445, Test Acc: 0.735\n",
      "Epoch: 044, Train Loss: 0.490, Train Acc: 0.769, Test Loss: 0.441, Test Acc: 0.740\n",
      "Epoch: 045, Train Loss: 0.491, Train Acc: 0.764, Test Loss: 0.439, Test Acc: 0.744\n",
      "Epoch: 046, Train Loss: 0.490, Train Acc: 0.771, Test Loss: 0.445, Test Acc: 0.753\n",
      "Epoch: 047, Train Loss: 0.488, Train Acc: 0.766, Test Loss: 0.436, Test Acc: 0.753\n",
      "Epoch: 048, Train Loss: 0.487, Train Acc: 0.770, Test Loss: 0.451, Test Acc: 0.762\n",
      "Epoch: 049, Train Loss: 0.483, Train Acc: 0.764, Test Loss: 0.433, Test Acc: 0.744\n",
      "RUN:6,Test Acc:0.7444\n",
      "Epoch: 001, Train Loss: 0.648, Train Acc: 0.655, Test Loss: 0.527, Test Acc: 0.637\n",
      "Epoch: 002, Train Loss: 0.603, Train Acc: 0.678, Test Loss: 0.490, Test Acc: 0.691\n",
      "Epoch: 003, Train Loss: 0.576, Train Acc: 0.749, Test Loss: 0.445, Test Acc: 0.704\n",
      "Epoch: 004, Train Loss: 0.560, Train Acc: 0.749, Test Loss: 0.428, Test Acc: 0.700\n",
      "Epoch: 005, Train Loss: 0.554, Train Acc: 0.754, Test Loss: 0.410, Test Acc: 0.740\n",
      "Epoch: 006, Train Loss: 0.549, Train Acc: 0.749, Test Loss: 0.405, Test Acc: 0.717\n",
      "Epoch: 007, Train Loss: 0.544, Train Acc: 0.754, Test Loss: 0.412, Test Acc: 0.722\n",
      "Epoch: 008, Train Loss: 0.537, Train Acc: 0.747, Test Loss: 0.402, Test Acc: 0.731\n",
      "Epoch: 009, Train Loss: 0.536, Train Acc: 0.749, Test Loss: 0.405, Test Acc: 0.722\n",
      "Epoch: 010, Train Loss: 0.532, Train Acc: 0.751, Test Loss: 0.390, Test Acc: 0.726\n",
      "Epoch: 011, Train Loss: 0.523, Train Acc: 0.753, Test Loss: 0.402, Test Acc: 0.726\n",
      "Epoch: 012, Train Loss: 0.520, Train Acc: 0.755, Test Loss: 0.396, Test Acc: 0.731\n",
      "Epoch: 013, Train Loss: 0.515, Train Acc: 0.757, Test Loss: 0.395, Test Acc: 0.731\n",
      "Epoch: 014, Train Loss: 0.511, Train Acc: 0.756, Test Loss: 0.411, Test Acc: 0.717\n",
      "Epoch: 015, Train Loss: 0.513, Train Acc: 0.761, Test Loss: 0.387, Test Acc: 0.735\n",
      "Epoch: 016, Train Loss: 0.512, Train Acc: 0.762, Test Loss: 0.388, Test Acc: 0.735\n",
      "Epoch: 017, Train Loss: 0.505, Train Acc: 0.762, Test Loss: 0.425, Test Acc: 0.731\n",
      "Epoch: 018, Train Loss: 0.503, Train Acc: 0.763, Test Loss: 0.386, Test Acc: 0.740\n",
      "Epoch: 019, Train Loss: 0.501, Train Acc: 0.766, Test Loss: 0.392, Test Acc: 0.735\n",
      "Epoch: 020, Train Loss: 0.499, Train Acc: 0.767, Test Loss: 0.414, Test Acc: 0.731\n",
      "Epoch: 021, Train Loss: 0.500, Train Acc: 0.769, Test Loss: 0.403, Test Acc: 0.740\n",
      "Epoch: 022, Train Loss: 0.500, Train Acc: 0.761, Test Loss: 0.377, Test Acc: 0.731\n",
      "Epoch: 023, Train Loss: 0.500, Train Acc: 0.766, Test Loss: 0.419, Test Acc: 0.722\n",
      "Epoch: 024, Train Loss: 0.506, Train Acc: 0.774, Test Loss: 0.392, Test Acc: 0.740\n",
      "Epoch: 025, Train Loss: 0.499, Train Acc: 0.766, Test Loss: 0.400, Test Acc: 0.731\n",
      "Epoch: 026, Train Loss: 0.496, Train Acc: 0.773, Test Loss: 0.416, Test Acc: 0.744\n",
      "Epoch: 027, Train Loss: 0.493, Train Acc: 0.778, Test Loss: 0.385, Test Acc: 0.744\n",
      "Epoch: 028, Train Loss: 0.491, Train Acc: 0.771, Test Loss: 0.414, Test Acc: 0.744\n",
      "Epoch: 029, Train Loss: 0.491, Train Acc: 0.769, Test Loss: 0.397, Test Acc: 0.735\n",
      "Epoch: 030, Train Loss: 0.492, Train Acc: 0.766, Test Loss: 0.411, Test Acc: 0.735\n",
      "Epoch: 031, Train Loss: 0.490, Train Acc: 0.771, Test Loss: 0.399, Test Acc: 0.744\n",
      "Epoch: 032, Train Loss: 0.490, Train Acc: 0.770, Test Loss: 0.410, Test Acc: 0.744\n",
      "Epoch: 033, Train Loss: 0.488, Train Acc: 0.776, Test Loss: 0.392, Test Acc: 0.744\n",
      "Epoch: 034, Train Loss: 0.489, Train Acc: 0.772, Test Loss: 0.411, Test Acc: 0.749\n",
      "Epoch: 035, Train Loss: 0.490, Train Acc: 0.776, Test Loss: 0.387, Test Acc: 0.744\n",
      "Epoch: 036, Train Loss: 0.487, Train Acc: 0.776, Test Loss: 0.406, Test Acc: 0.744\n",
      "Epoch: 037, Train Loss: 0.487, Train Acc: 0.776, Test Loss: 0.400, Test Acc: 0.740\n",
      "Epoch: 038, Train Loss: 0.492, Train Acc: 0.773, Test Loss: 0.389, Test Acc: 0.749\n",
      "Epoch: 039, Train Loss: 0.491, Train Acc: 0.770, Test Loss: 0.414, Test Acc: 0.735\n",
      "Epoch: 040, Train Loss: 0.485, Train Acc: 0.770, Test Loss: 0.403, Test Acc: 0.735\n",
      "Epoch: 041, Train Loss: 0.485, Train Acc: 0.773, Test Loss: 0.407, Test Acc: 0.740\n",
      "Epoch: 042, Train Loss: 0.488, Train Acc: 0.775, Test Loss: 0.390, Test Acc: 0.749\n",
      "Epoch: 043, Train Loss: 0.485, Train Acc: 0.769, Test Loss: 0.412, Test Acc: 0.744\n",
      "Epoch: 044, Train Loss: 0.484, Train Acc: 0.783, Test Loss: 0.394, Test Acc: 0.744\n",
      "Epoch: 045, Train Loss: 0.487, Train Acc: 0.778, Test Loss: 0.404, Test Acc: 0.740\n",
      "Epoch: 046, Train Loss: 0.485, Train Acc: 0.772, Test Loss: 0.412, Test Acc: 0.749\n",
      "Epoch: 047, Train Loss: 0.483, Train Acc: 0.778, Test Loss: 0.391, Test Acc: 0.749\n",
      "Epoch: 048, Train Loss: 0.486, Train Acc: 0.774, Test Loss: 0.406, Test Acc: 0.740\n",
      "Epoch: 049, Train Loss: 0.483, Train Acc: 0.775, Test Loss: 0.388, Test Acc: 0.758\n",
      "RUN:7,Test Acc:0.7578\n",
      "Epoch: 001, Train Loss: 0.614, Train Acc: 0.712, Test Loss: 0.488, Test Acc: 0.682\n",
      "Epoch: 002, Train Loss: 0.578, Train Acc: 0.729, Test Loss: 0.566, Test Acc: 0.735\n",
      "Epoch: 003, Train Loss: 0.581, Train Acc: 0.734, Test Loss: 0.501, Test Acc: 0.735\n",
      "Epoch: 004, Train Loss: 0.563, Train Acc: 0.734, Test Loss: 0.532, Test Acc: 0.749\n"
     ]
    },
    {
     "name": "stdout",
     "output_type": "stream",
     "text": [
      "Epoch: 005, Train Loss: 0.551, Train Acc: 0.736, Test Loss: 0.517, Test Acc: 0.744\n",
      "Epoch: 006, Train Loss: 0.544, Train Acc: 0.738, Test Loss: 0.505, Test Acc: 0.744\n",
      "Epoch: 007, Train Loss: 0.536, Train Acc: 0.745, Test Loss: 0.480, Test Acc: 0.753\n",
      "Epoch: 008, Train Loss: 0.528, Train Acc: 0.748, Test Loss: 0.531, Test Acc: 0.749\n",
      "Epoch: 009, Train Loss: 0.522, Train Acc: 0.754, Test Loss: 0.459, Test Acc: 0.749\n",
      "Epoch: 010, Train Loss: 0.516, Train Acc: 0.753, Test Loss: 0.502, Test Acc: 0.762\n",
      "Epoch: 011, Train Loss: 0.516, Train Acc: 0.752, Test Loss: 0.531, Test Acc: 0.749\n",
      "Epoch: 012, Train Loss: 0.510, Train Acc: 0.757, Test Loss: 0.500, Test Acc: 0.758\n",
      "Epoch: 013, Train Loss: 0.507, Train Acc: 0.755, Test Loss: 0.510, Test Acc: 0.762\n",
      "Epoch: 014, Train Loss: 0.507, Train Acc: 0.761, Test Loss: 0.435, Test Acc: 0.740\n",
      "Epoch: 015, Train Loss: 0.507, Train Acc: 0.754, Test Loss: 0.456, Test Acc: 0.740\n",
      "Epoch: 016, Train Loss: 0.509, Train Acc: 0.760, Test Loss: 0.470, Test Acc: 0.758\n",
      "Epoch: 017, Train Loss: 0.514, Train Acc: 0.751, Test Loss: 0.536, Test Acc: 0.771\n",
      "Epoch: 018, Train Loss: 0.506, Train Acc: 0.755, Test Loss: 0.463, Test Acc: 0.762\n",
      "Epoch: 019, Train Loss: 0.502, Train Acc: 0.758, Test Loss: 0.482, Test Acc: 0.758\n",
      "Epoch: 020, Train Loss: 0.501, Train Acc: 0.762, Test Loss: 0.478, Test Acc: 0.753\n",
      "Epoch: 021, Train Loss: 0.501, Train Acc: 0.764, Test Loss: 0.437, Test Acc: 0.740\n",
      "Epoch: 022, Train Loss: 0.502, Train Acc: 0.756, Test Loss: 0.510, Test Acc: 0.758\n",
      "Epoch: 023, Train Loss: 0.500, Train Acc: 0.763, Test Loss: 0.470, Test Acc: 0.753\n",
      "Epoch: 024, Train Loss: 0.499, Train Acc: 0.758, Test Loss: 0.449, Test Acc: 0.753\n",
      "Epoch: 025, Train Loss: 0.499, Train Acc: 0.762, Test Loss: 0.495, Test Acc: 0.762\n",
      "Epoch: 026, Train Loss: 0.503, Train Acc: 0.762, Test Loss: 0.458, Test Acc: 0.749\n",
      "Epoch: 027, Train Loss: 0.500, Train Acc: 0.761, Test Loss: 0.489, Test Acc: 0.762\n",
      "Epoch: 028, Train Loss: 0.499, Train Acc: 0.761, Test Loss: 0.467, Test Acc: 0.758\n",
      "Epoch: 029, Train Loss: 0.497, Train Acc: 0.761, Test Loss: 0.522, Test Acc: 0.767\n",
      "Epoch: 030, Train Loss: 0.502, Train Acc: 0.760, Test Loss: 0.468, Test Acc: 0.758\n",
      "Epoch: 031, Train Loss: 0.498, Train Acc: 0.760, Test Loss: 0.494, Test Acc: 0.767\n",
      "Epoch: 032, Train Loss: 0.500, Train Acc: 0.757, Test Loss: 0.490, Test Acc: 0.762\n",
      "Epoch: 033, Train Loss: 0.502, Train Acc: 0.763, Test Loss: 0.459, Test Acc: 0.753\n",
      "Epoch: 034, Train Loss: 0.497, Train Acc: 0.760, Test Loss: 0.485, Test Acc: 0.758\n",
      "Epoch: 035, Train Loss: 0.495, Train Acc: 0.763, Test Loss: 0.457, Test Acc: 0.758\n",
      "Epoch: 036, Train Loss: 0.498, Train Acc: 0.763, Test Loss: 0.447, Test Acc: 0.749\n",
      "Epoch: 037, Train Loss: 0.495, Train Acc: 0.763, Test Loss: 0.475, Test Acc: 0.753\n",
      "Epoch: 038, Train Loss: 0.496, Train Acc: 0.767, Test Loss: 0.456, Test Acc: 0.749\n",
      "Epoch: 039, Train Loss: 0.500, Train Acc: 0.762, Test Loss: 0.450, Test Acc: 0.753\n",
      "Epoch: 040, Train Loss: 0.501, Train Acc: 0.763, Test Loss: 0.478, Test Acc: 0.744\n",
      "Epoch: 041, Train Loss: 0.501, Train Acc: 0.760, Test Loss: 0.498, Test Acc: 0.767\n",
      "Epoch: 042, Train Loss: 0.507, Train Acc: 0.757, Test Loss: 0.413, Test Acc: 0.735\n",
      "Epoch: 043, Train Loss: 0.503, Train Acc: 0.755, Test Loss: 0.498, Test Acc: 0.762\n",
      "Epoch: 044, Train Loss: 0.495, Train Acc: 0.756, Test Loss: 0.448, Test Acc: 0.758\n",
      "Epoch: 045, Train Loss: 0.496, Train Acc: 0.762, Test Loss: 0.456, Test Acc: 0.758\n",
      "Epoch: 046, Train Loss: 0.499, Train Acc: 0.761, Test Loss: 0.498, Test Acc: 0.762\n",
      "Epoch: 047, Train Loss: 0.494, Train Acc: 0.764, Test Loss: 0.462, Test Acc: 0.762\n",
      "Epoch: 048, Train Loss: 0.495, Train Acc: 0.758, Test Loss: 0.509, Test Acc: 0.767\n",
      "Epoch: 049, Train Loss: 0.497, Train Acc: 0.765, Test Loss: 0.449, Test Acc: 0.744\n",
      "RUN:8,Test Acc:0.7444\n",
      "Epoch: 001, Train Loss: 0.686, Train Acc: 0.601, Test Loss: 0.601, Test Acc: 0.596\n",
      "Epoch: 002, Train Loss: 0.598, Train Acc: 0.738, Test Loss: 0.594, Test Acc: 0.758\n",
      "Epoch: 003, Train Loss: 0.574, Train Acc: 0.738, Test Loss: 0.564, Test Acc: 0.762\n",
      "Epoch: 004, Train Loss: 0.562, Train Acc: 0.730, Test Loss: 0.551, Test Acc: 0.767\n",
      "Epoch: 005, Train Loss: 0.549, Train Acc: 0.737, Test Loss: 0.544, Test Acc: 0.771\n",
      "Epoch: 006, Train Loss: 0.541, Train Acc: 0.734, Test Loss: 0.529, Test Acc: 0.780\n",
      "Epoch: 007, Train Loss: 0.536, Train Acc: 0.745, Test Loss: 0.506, Test Acc: 0.798\n",
      "Epoch: 008, Train Loss: 0.529, Train Acc: 0.739, Test Loss: 0.503, Test Acc: 0.789\n",
      "Epoch: 009, Train Loss: 0.525, Train Acc: 0.746, Test Loss: 0.486, Test Acc: 0.789\n",
      "Epoch: 010, Train Loss: 0.526, Train Acc: 0.753, Test Loss: 0.480, Test Acc: 0.789\n",
      "Epoch: 011, Train Loss: 0.518, Train Acc: 0.746, Test Loss: 0.490, Test Acc: 0.785\n",
      "Epoch: 012, Train Loss: 0.514, Train Acc: 0.749, Test Loss: 0.474, Test Acc: 0.780\n",
      "Epoch: 013, Train Loss: 0.512, Train Acc: 0.751, Test Loss: 0.475, Test Acc: 0.785\n",
      "Epoch: 014, Train Loss: 0.512, Train Acc: 0.748, Test Loss: 0.475, Test Acc: 0.789\n",
      "Epoch: 015, Train Loss: 0.510, Train Acc: 0.753, Test Loss: 0.474, Test Acc: 0.785\n",
      "Epoch: 016, Train Loss: 0.513, Train Acc: 0.757, Test Loss: 0.482, Test Acc: 0.780\n",
      "Epoch: 017, Train Loss: 0.515, Train Acc: 0.748, Test Loss: 0.473, Test Acc: 0.785\n",
      "Epoch: 018, Train Loss: 0.512, Train Acc: 0.755, Test Loss: 0.475, Test Acc: 0.789\n",
      "Epoch: 019, Train Loss: 0.512, Train Acc: 0.758, Test Loss: 0.486, Test Acc: 0.771\n",
      "Epoch: 020, Train Loss: 0.512, Train Acc: 0.747, Test Loss: 0.482, Test Acc: 0.789\n",
      "Epoch: 021, Train Loss: 0.509, Train Acc: 0.756, Test Loss: 0.480, Test Acc: 0.794\n",
      "Epoch: 022, Train Loss: 0.507, Train Acc: 0.760, Test Loss: 0.475, Test Acc: 0.780\n",
      "Epoch: 023, Train Loss: 0.508, Train Acc: 0.757, Test Loss: 0.471, Test Acc: 0.785\n",
      "Epoch: 024, Train Loss: 0.506, Train Acc: 0.757, Test Loss: 0.466, Test Acc: 0.785\n",
      "Epoch: 025, Train Loss: 0.508, Train Acc: 0.755, Test Loss: 0.476, Test Acc: 0.767\n",
      "Epoch: 026, Train Loss: 0.509, Train Acc: 0.755, Test Loss: 0.487, Test Acc: 0.776\n",
      "Epoch: 027, Train Loss: 0.515, Train Acc: 0.745, Test Loss: 0.484, Test Acc: 0.789\n",
      "Epoch: 028, Train Loss: 0.507, Train Acc: 0.757, Test Loss: 0.470, Test Acc: 0.785\n",
      "Epoch: 029, Train Loss: 0.505, Train Acc: 0.757, Test Loss: 0.470, Test Acc: 0.789\n",
      "Epoch: 030, Train Loss: 0.505, Train Acc: 0.757, Test Loss: 0.465, Test Acc: 0.789\n",
      "Epoch: 031, Train Loss: 0.505, Train Acc: 0.751, Test Loss: 0.475, Test Acc: 0.780\n",
      "Epoch: 032, Train Loss: 0.510, Train Acc: 0.751, Test Loss: 0.469, Test Acc: 0.785\n",
      "Epoch: 033, Train Loss: 0.502, Train Acc: 0.748, Test Loss: 0.468, Test Acc: 0.789\n",
      "Epoch: 034, Train Loss: 0.502, Train Acc: 0.755, Test Loss: 0.462, Test Acc: 0.785\n",
      "Epoch: 035, Train Loss: 0.504, Train Acc: 0.752, Test Loss: 0.466, Test Acc: 0.785\n",
      "Epoch: 036, Train Loss: 0.504, Train Acc: 0.753, Test Loss: 0.462, Test Acc: 0.789\n",
      "Epoch: 037, Train Loss: 0.504, Train Acc: 0.757, Test Loss: 0.468, Test Acc: 0.780\n",
      "Epoch: 038, Train Loss: 0.508, Train Acc: 0.752, Test Loss: 0.457, Test Acc: 0.803\n",
      "Epoch: 039, Train Loss: 0.510, Train Acc: 0.760, Test Loss: 0.474, Test Acc: 0.780\n",
      "Epoch: 040, Train Loss: 0.501, Train Acc: 0.751, Test Loss: 0.468, Test Acc: 0.789\n",
      "Epoch: 041, Train Loss: 0.502, Train Acc: 0.756, Test Loss: 0.464, Test Acc: 0.794\n",
      "Epoch: 042, Train Loss: 0.502, Train Acc: 0.755, Test Loss: 0.462, Test Acc: 0.785\n",
      "Epoch: 043, Train Loss: 0.502, Train Acc: 0.755, Test Loss: 0.470, Test Acc: 0.794\n",
      "Epoch: 044, Train Loss: 0.499, Train Acc: 0.755, Test Loss: 0.465, Test Acc: 0.794\n",
      "Epoch: 045, Train Loss: 0.500, Train Acc: 0.757, Test Loss: 0.463, Test Acc: 0.789\n",
      "Epoch: 046, Train Loss: 0.502, Train Acc: 0.756, Test Loss: 0.480, Test Acc: 0.776\n",
      "Epoch: 047, Train Loss: 0.507, Train Acc: 0.752, Test Loss: 0.466, Test Acc: 0.785\n",
      "Epoch: 048, Train Loss: 0.501, Train Acc: 0.756, Test Loss: 0.474, Test Acc: 0.780\n",
      "Epoch: 049, Train Loss: 0.501, Train Acc: 0.762, Test Loss: 0.466, Test Acc: 0.794\n",
      "RUN:9,Test Acc:0.7937\n"
     ]
    }
   ],
   "source": [
    "def train(epoch):\n",
    "    model.train()\n",
    "    loss_all = 0\n",
    "    k = 0\n",
    "    nG = 0\n",
    "    for data in train_loader:\n",
    "        data = data.to(device)\n",
    "        #print(data.x.size(), data.edge_index.size(),data.batch.size(), k)\n",
    "        data\n",
    "        nG += data.num_graphs\n",
    "        optimizer.zero_grad()\n",
    "        out= model(data.x, data.edge_index, data.batch) # data.batch  torch.Size([783])\n",
    "        loss = F.nll_loss(out, data.y.view(-1))\n",
    "        loss.backward()\n",
    "        loss_all += data.y.size(0) * loss.item()\n",
    "        optimizer.step()\n",
    "        k = k + 1\n",
    "    #print(\"Training graphs per epoch\", nG)\n",
    "    return loss_all / len(train_dataset)\n",
    "\n",
    "\n",
    "@torch.no_grad()\n",
    "def test(loader):\n",
    "    model.eval()\n",
    "    correct = 0\n",
    "\n",
    "    for data in loader:\n",
    "        data = data.to(device)\n",
    "        pred = model(data.x, data.edge_index, data.batch)\n",
    "        loss = F.nll_loss(pred, data.y.view(-1))\n",
    "        correct += pred.max(dim=1)[1].eq(data.y.view(-1)).sum().item()\n",
    "\n",
    "    return loss, correct / len(loader.dataset)\n",
    "\n",
    "\n",
    "best_val_loss = float('inf')\n",
    "patience = start_patience = 50\n",
    "for i in range(10):\n",
    "    dataset = dataset.shuffle()\n",
    "    train_dataset = dataset[:890]\n",
    "    test_dataset = dataset[890:]\n",
    "    train_loader = DataLoader(train_dataset, batch_size=64, shuffle=True)\n",
    "    test_loader = DataLoader(test_dataset, batch_size=64, shuffle=False)\n",
    "    device = torch.device('cuda' if torch.cuda.is_available() else 'cpu')\n",
    "    model = Net(dataset.num_features, dataset.num_classes).to(device)\n",
    "    optimizer = torch.optim.Adam(model.parameters(), lr=0.001, weight_decay=1e-4)\n",
    "    for epoch in range(1, 50):\n",
    "        train_loss = train(epoch)\n",
    "        _, train_acc = test(train_loader)\n",
    "        test_loss, test_acc = test(test_loader)\n",
    "        print('Epoch: {:03d}, '\n",
    "              'Train Loss: {:.3f}, Train Acc: {:.3f}, '\n",
    "              'Test Loss: {:.3f}, Test Acc: {:.3f}'.format(epoch, train_loss,\n",
    "                                                           train_acc,\n",
    "                                                            test_loss,\n",
    "                                                           test_acc))\n",
    "    print(f'RUN:{i},Test Acc:{test_acc:.4f}')\n",
    "    resultados.append(test_acc)"
   ]
  },
  {
   "cell_type": "code",
   "execution_count": 56,
   "id": "28d17cd7",
   "metadata": {},
   "outputs": [
    {
     "name": "stdout",
     "output_type": "stream",
     "text": [
      "tensor(0.7814)\n",
      "tensor(0.0531)\n"
     ]
    }
   ],
   "source": [
    "res= torch.Tensor(resultados)\n",
    "print(torch.mean(res))\n",
    "print(torch.std(res))\n"
   ]
  },
  {
   "cell_type": "code",
   "execution_count": 42,
   "id": "addaf0d3",
   "metadata": {},
   "outputs": [
    {
     "name": "stdout",
     "output_type": "stream",
     "text": [
      "DataBatch(edge_index=[2, 144], x=[40, 3], y=[1], batch=[40], ptr=[2])\n",
      "tensor([1])\n",
      "tensor([0])\n",
      "Accuracy:  0.0\n"
     ]
    }
   ],
   "source": [
    "test_loader = DataLoader(test_dataset[2:], batch_size=1, shuffle=False)\n",
    "sample = next(iter(test_loader))\n",
    "#sample.batch =torch.tensor(1)\n",
    "print(sample)\n",
    "print(sample.y)\n",
    "out = model(sample.x,sample.edge_index, sample.batch)  # Perform a single forward pass.\n",
    "pred = out.argmax(dim=1)  # Use the class with highest probability.\n",
    "print(pred)\n",
    "correct = 0\n",
    "correct += int((pred[0] == sample[0].y).sum())  # Check against ground-truth labels.\n",
    "print(\"Accuracy: \",(correct/1)*100)#Batch_size"
   ]
  },
  {
   "cell_type": "code",
   "execution_count": 43,
   "id": "da05ae93",
   "metadata": {},
   "outputs": [
    {
     "name": "stdout",
     "output_type": "stream",
     "text": [
      "DataBatch(edge_index=[2, 144], x=[40, 3], y=[1], batch=[40], ptr=[2])\n",
      "40\n",
      "<Layout with 40 vertices and 3 dimensions>\n",
      "[(0, 23), (0, 27), (0, 28), (1, 2), (1, 3), (1, 4), (1, 30), (2, 3), (2, 4), (2, 5), (3, 4), (3, 5), (3, 32), (4, 5), (5, 8), (5, 32), (6, 7), (6, 8), (6, 31), (6, 32), (7, 8), (7, 31), (8, 26), (9, 10), (9, 24), (9, 25), (9, 26), (10, 11), (10, 24), (11, 12), (11, 33), (12, 33), (12, 36), (13, 14), (13, 33), (13, 36), (14, 15), (14, 36), (15, 16), (15, 38), (16, 17), (16, 38), (17, 38), (17, 39), (18, 19), (18, 35), (18, 39), (19, 20), (19, 35), (20, 21), (20, 35), (21, 22), (21, 34), (21, 37), (22, 34), (22, 37), (23, 27), (23, 28), (24, 25), (24, 26), (25, 26), (27, 28), (27, 29), (27, 30), (28, 29), (28, 30), (29, 30), (31, 32), (33, 36), (34, 37), (35, 39), (38, 39)]\n"
     ]
    },
    {
     "data": {
      "image/png": "[encoded data removed]",
      "text/plain": [
       "<Figure size 432x288 with 1 Axes>"
      ]
     },
     "metadata": {},
     "output_type": "display_data"
    }
   ],
   "source": [
    "import networkx as nx\n",
    "from torch_geometric.utils import *\n",
    "#loader =  DataLoader(dataset, batch_size=1, shuffle=False)\n",
    "grafo_init = sample\n",
    "print(grafo_init)\n",
    "A = to_networkx(grafo_init, to_undirected=True)\n",
    "l=[]\n",
    "for a in A.nodes:\n",
    "    l.append(a)\n",
    "ed= []\n",
    "for e in A.edges:\n",
    "    ed.append(e)\n",
    "import igraph as ig\n",
    "import chart_studio.plotly\n",
    "Edges= ed\n",
    "G=ig.Graph(Edges, directed=False)\n",
    "labels= l\n",
    "#groups = A.node_attr_dict_factory\n",
    "N = len(A.nodes)\n",
    "print(N)\n",
    "layt=G.layout('kk', dim=3)\n",
    "print(layt)\n",
    "Xn=[layt[k][0] for k in range(N)]# x-coordinates of nodes\n",
    "Yn=[layt[k][1] for k in range(N)]# y-coordinates\n",
    "Zn=[layt[k][2] for k in range(N)]# z-coordinates\n",
    "Xe=[]\n",
    "Ye=[]\n",
    "Ze=[]\n",
    "print(Edges)\n",
    "for e in Edges:\n",
    "    Xe+=[layt[e[0]][0],layt[e[1]][0], None]# x-coordinates of edge ends\n",
    "    Ye+=[layt[e[0]][1],layt[e[1]][1], None]\n",
    "    Ze+=[layt[e[0]][2],layt[e[1]][2], None]\n",
    "nx.draw(A)\n",
    "node_adjacencies = []\n",
    "node_text = []\n",
    "for node, adjacencies in enumerate(A.nodes()):\n",
    "    #print(adjacencies,critical_nodes)\n",
    "    if adjacencies in critical_nodes :\n",
    "        node_adjacencies.append('rgb(256,0,0)')\n",
    "    else:\n",
    "        node_adjacencies.append('rgb(0,0,0)')\n",
    "    #node_text.append('# of connections: '+str(len(adjacencies[1])))"
   ]
  },
  {
   "cell_type": "code",
   "execution_count": 44,
   "id": "2570a6e4",
   "metadata": {},
   "outputs": [],
   "source": [
    "from chart_studio import plotly\n",
    "import plotly.graph_objs as go\n",
    "\n",
    "trace1=go.Scatter3d(x=Xe,\n",
    "               y=Ye,\n",
    "               z=Ze,\n",
    "               mode='lines',\n",
    "               line=dict(color='rgb(125,125,125)', width=1),\n",
    "               hoverinfo='none'\n",
    "               )\n",
    "\n",
    "trace2=go.Scatter3d(x=Xn,\n",
    "               y=Yn,\n",
    "               z=Zn,\n",
    "               mode='markers',\n",
    "               name='actors',\n",
    "               marker=dict(symbol='circle',\n",
    "                             size=6,\n",
    "                             #color='#ff7f0e',\n",
    "                             colorscale='Viridis',\n",
    "                             line=dict(color='rgb(50,50,50)', width=0.5)\n",
    "                             ),\n",
    "               text=labels,\n",
    "               hoverinfo='text'\n",
    "               )\n",
    "trace2.marker.color = node_adjacencies\n",
    "#print(trace2)\n",
    "axis=dict(showbackground=False,\n",
    "          showline=False,\n",
    "          zeroline=False,\n",
    "          showgrid=False,\n",
    "          showticklabels=False,\n",
    "          title=''\n",
    "          )\n",
    "\n",
    "layout = go.Layout(\n",
    "         width=1000,\n",
    "         height=1000,\n",
    "         showlegend=False,\n",
    "         scene=dict(\n",
    "             xaxis=dict(axis),\n",
    "             yaxis=dict(axis),\n",
    "             zaxis=dict(axis),\n",
    "        ),\n",
    "     margin=dict(\n",
    "        t=100\n",
    "    ),\n",
    "    hovermode='closest',    )"
   ]
  },
  {
   "cell_type": "code",
   "execution_count": 46,
   "id": "b8ccae49",
   "metadata": {},
   "outputs": [
    {
     "data": {
      "text/html": [
       "        <script type=\"text/javascript\">\n",
       "        window.PlotlyConfig = {MathJaxConfig: 'local'};\n",
       "        if (window.MathJax) {MathJax.Hub.Config({SVG: {font: \"STIX-Web\"}});}\n",
       "        if (typeof require !== 'undefined') {\n",
       "        require.undef(\"plotly\");\n",
       "        requirejs.config({\n",
       "            paths: {\n",
       "                'plotly': ['https://cdn.plot.ly/plotly-2.9.0.min']\n",
       "            }\n",
       "        });\n",
       "        require(['plotly'], function(Plotly) {\n",
       "            window._Plotly = Plotly;\n",
       "        });\n",
       "        }\n",
       "        </script>\n",
       "        "
      ]
     },
     "metadata": {},
     "output_type": "display_data"
    },
    {
     "data": {
      "text/html": [
       "        <script type=\"text/javascript\">\n",
       "        window.PlotlyConfig = {MathJaxConfig: 'local'};\n",
       "        if (window.MathJax) {MathJax.Hub.Config({SVG: {font: \"STIX-Web\"}});}\n",
       "        if (typeof require !== 'undefined') {\n",
       "        require.undef(\"plotly\");\n",
       "        requirejs.config({\n",
       "            paths: {\n",
       "                'plotly': ['https://cdn.plot.ly/plotly-2.9.0.min']\n",
       "            }\n",
       "        });\n",
       "        require(['plotly'], function(Plotly) {\n",
       "            window._Plotly = Plotly;\n",
       "        });\n",
       "        }\n",
       "        </script>\n",
       "        "
      ]
     },
     "metadata": {},
     "output_type": "display_data"
    },
    {
     "data": {
      "application/vnd.plotly.v1+json": {
       "config": {
        "linkText": "Export to plot.ly",
        "plotlyServerURL": "https://plot.ly",
        "showLink": false
       },
       "data": [
        {
         "hoverinfo": "none",
         "line": {
          "color": "rgb(125,125,125)",
          "width": 1
         },
         "mode": "lines",
         "type": "scatter3d",
         "x": [
          -0.8070447833252102,
          -0.869353339422124,
          null,
          -0.8070447833252102,
          -0.5550518587596115,
          null,
          -0.8070447833252102,
          -0.751790669317679,
          null,
          -0.2869099108651412,
          -0.2492850694024043,
          null,
          -0.2869099108651412,
          0.003194388269609994,
          null,
          -0.2869099108651412,
          -0.19973367625304858,
          null,
          -0.2869099108651412,
          -0.46366564530046833,
          null,
          -0.2492850694024043,
          0.003194388269609994,
          null,
          -0.2492850694024043,
          -0.19973367625304858,
          null,
          -0.2492850694024043,
          0.05140307295412916,
          null,
          0.003194388269609994,
          -0.19973367625304858,
          null,
          0.003194388269609994,
          0.05140307295412916,
          null,
          0.003194388269609994,
          0.32030980308391244,
          null,
          -0.19973367625304858,
          0.05140307295412916,
          null,
          0.05140307295412916,
          0.308778716744253,
          null,
          0.05140307295412916,
          0.32030980308391244,
          null,
          0.5233786089000426,
          0.6566994272293745,
          null,
          0.5233786089000426,
          0.308778716744253,
          null,
          0.5233786089000426,
          0.6460732249830471,
          null,
          0.5233786089000426,
          0.32030980308391244,
          null,
          0.6566994272293745,
          0.308778716744253,
          null,
          0.6566994272293745,
          0.6460732249830471,
          null,
          0.308778716744253,
          0.29914644268335594,
          null,
          0.4657004646555994,
          0.3615152749983518,
          null,
          0.4657004646555994,
          0.20356649576475006,
          null,
          0.4657004646555994,
          0.34077717548820635,
          null,
          0.4657004646555994,
          0.29914644268335594,
          null,
          0.3615152749983518,
          0.3842443923474905,
          null,
          0.3615152749983518,
          0.20356649576475006,
          null,
          0.3842443923474905,
          0.5359553090456766,
          null,
          0.3842443923474905,
          0.30813683764454247,
          null,
          0.5359553090456766,
          0.30813683764454247,
          null,
          0.5359553090456766,
          0.44787371784445323,
          null,
          0.21888637410952688,
          0.3581957342544879,
          null,
          0.21888637410952688,
          0.30813683764454247,
          null,
          0.21888637410952688,
          0.44787371784445323,
          null,
          0.3581957342544879,
          0.3832889414848931,
          null,
          0.3581957342544879,
          0.44787371784445323,
          null,
          0.3832889414848931,
          0.5383620103214027,
          null,
          0.3832889414848931,
          0.3344864071123659,
          null,
          0.5383620103214027,
          0.4888928384274308,
          null,
          0.5383620103214027,
          0.3344864071123659,
          null,
          0.4888928384274308,
          0.3344864071123659,
          null,
          0.4888928384274308,
          0.2846562254039355,
          null,
          0.3678509809107188,
          0.21882246626422974,
          null,
          0.3678509809107188,
          0.12203037267231784,
          null,
          0.3678509809107188,
          0.2846562254039355,
          null,
          0.21882246626422974,
          -0.04854580699135162,
          null,
          0.21882246626422974,
          0.12203037267231784,
          null,
          -0.04854580699135162,
          -0.25096915080789967,
          null,
          -0.04854580699135162,
          0.12203037267231784,
          null,
          -0.25096915080789967,
          -0.5205275838327373,
          null,
          -0.25096915080789967,
          -0.2512095743863335,
          null,
          -0.25096915080789967,
          -0.393540167108645,
          null,
          -0.5205275838327373,
          -0.2512095743863335,
          null,
          -0.5205275838327373,
          -0.393540167108645,
          null,
          -0.869353339422124,
          -0.5550518587596115,
          null,
          -0.869353339422124,
          -0.751790669317679,
          null,
          0.20356649576475006,
          0.34077717548820635,
          null,
          0.20356649576475006,
          0.29914644268335594,
          null,
          0.34077717548820635,
          0.29914644268335594,
          null,
          -0.5550518587596115,
          -0.751790669317679,
          null,
          -0.5550518587596115,
          -0.48704569469144027,
          null,
          -0.5550518587596115,
          -0.46366564530046833,
          null,
          -0.751790669317679,
          -0.48704569469144027,
          null,
          -0.751790669317679,
          -0.46366564530046833,
          null,
          -0.48704569469144027,
          -0.46366564530046833,
          null,
          0.6460732249830471,
          0.32030980308391244,
          null,
          0.30813683764454247,
          0.44787371784445323,
          null,
          -0.2512095743863335,
          -0.393540167108645,
          null,
          0.12203037267231784,
          0.2846562254039355,
          null,
          0.3344864071123659,
          0.2846562254039355,
          null
         ],
         "y": [
          0.3993800505896674,
          0.11888522073782429,
          null,
          0.3993800505896674,
          0.20920763766928527,
          null,
          0.3993800505896674,
          0.28526583842512204,
          null,
          0.05034902986135763,
          0.03652316038543035,
          null,
          0.05034902986135763,
          0.017129160746906152,
          null,
          0.05034902986135763,
          -0.21227755843151552,
          null,
          0.05034902986135763,
          0.1896004296919303,
          null,
          0.03652316038543035,
          0.017129160746906152,
          null,
          0.03652316038543035,
          -0.21227755843151552,
          null,
          0.03652316038543035,
          -0.1316312855687863,
          null,
          0.017129160746906152,
          -0.21227755843151552,
          null,
          0.017129160746906152,
          -0.1316312855687863,
          null,
          0.017129160746906152,
          0.030077991390861453,
          null,
          -0.21227755843151552,
          -0.1316312855687863,
          null,
          -0.1316312855687863,
          -0.2276153676016854,
          null,
          -0.1316312855687863,
          0.030077991390861453,
          null,
          -0.005214740594449314,
          -0.27667799969286905,
          null,
          -0.005214740594449314,
          -0.2276153676016854,
          null,
          -0.005214740594449314,
          -0.08196549558009411,
          null,
          -0.005214740594449314,
          0.030077991390861453,
          null,
          -0.27667799969286905,
          -0.2276153676016854,
          null,
          -0.27667799969286905,
          -0.08196549558009411,
          null,
          -0.2276153676016854,
          -0.3530505265105978,
          null,
          -0.40821113053000224,
          -0.42059013399627276,
          null,
          -0.40821113053000224,
          -0.44372515461253165,
          null,
          -0.40821113053000224,
          -0.6611936895176564,
          null,
          -0.40821113053000224,
          -0.3530505265105978,
          null,
          -0.42059013399627276,
          -0.4155049174422634,
          null,
          -0.42059013399627276,
          -0.44372515461253165,
          null,
          -0.4155049174422634,
          -0.2998487857915494,
          null,
          -0.4155049174422634,
          -0.49135147366990717,
          null,
          -0.2998487857915494,
          -0.49135147366990717,
          null,
          -0.2998487857915494,
          -0.35663988737115787,
          null,
          -0.5465395256438597,
          -0.41424723912624445,
          null,
          -0.5465395256438597,
          -0.49135147366990717,
          null,
          -0.5465395256438597,
          -0.35663988737115787,
          null,
          -0.41424723912624445,
          -0.39509898631364554,
          null,
          -0.41424723912624445,
          -0.35663988737115787,
          null,
          -0.39509898631364554,
          -0.5492889822978466,
          null,
          -0.39509898631364554,
          -0.30559963735293033,
          null,
          -0.5492889822978466,
          -0.44455630280130687,
          null,
          -0.5492889822978466,
          -0.30559963735293033,
          null,
          -0.44455630280130687,
          -0.30559963735293033,
          null,
          -0.44455630280130687,
          -0.1776723910209659,
          null,
          0.09398766154470008,
          0.14704007782320902,
          null,
          0.09398766154470008,
          -0.08453342560481342,
          null,
          0.09398766154470008,
          -0.1776723910209659,
          null,
          0.14704007782320902,
          -0.040211815380110705,
          null,
          0.14704007782320902,
          -0.08453342560481342,
          null,
          -0.040211815380110705,
          -0.04100932634625198,
          null,
          -0.040211815380110705,
          -0.08453342560481342,
          null,
          -0.04100932634625198,
          -0.12721350684913893,
          null,
          -0.04100932634625198,
          -0.11426174188776443,
          null,
          -0.04100932634625198,
          0.15059027580565046,
          null,
          -0.12721350684913893,
          -0.11426174188776443,
          null,
          -0.12721350684913893,
          0.15059027580565046,
          null,
          0.11888522073782429,
          0.20920763766928527,
          null,
          0.11888522073782429,
          0.28526583842512204,
          null,
          -0.44372515461253165,
          -0.6611936895176564,
          null,
          -0.44372515461253165,
          -0.3530505265105978,
          null,
          -0.6611936895176564,
          -0.3530505265105978,
          null,
          0.20920763766928527,
          0.28526583842512204,
          null,
          0.20920763766928527,
          0.48098246231211605,
          null,
          0.20920763766928527,
          0.1896004296919303,
          null,
          0.28526583842512204,
          0.48098246231211605,
          null,
          0.28526583842512204,
          0.1896004296919303,
          null,
          0.48098246231211605,
          0.1896004296919303,
          null,
          -0.08196549558009411,
          0.030077991390861453,
          null,
          -0.49135147366990717,
          -0.35663988737115787,
          null,
          -0.11426174188776443,
          0.15059027580565046,
          null,
          -0.08453342560481342,
          -0.1776723910209659,
          null,
          -0.30559963735293033,
          -0.1776723910209659,
          null
         ],
         "z": [
          -2.788162457015658,
          -2.7525296089368245,
          null,
          -2.788162457015658,
          -2.638683843513665,
          null,
          -2.788162457015658,
          -2.4706484329497638,
          null,
          -2.0352033052402914,
          -1.6944002055570462,
          null,
          -2.0352033052402914,
          -1.8599638265070546,
          null,
          -2.0352033052402914,
          -1.824780616506346,
          null,
          -2.0352033052402914,
          -2.3043655207647706,
          null,
          -1.6944002055570462,
          -1.8599638265070546,
          null,
          -1.6944002055570462,
          -1.824780616506346,
          null,
          -1.6944002055570462,
          -1.5768436928151157,
          null,
          -1.8599638265070546,
          -1.824780616506346,
          null,
          -1.8599638265070546,
          -1.5768436928151157,
          null,
          -1.8599638265070546,
          -1.7837735546185336,
          null,
          -1.824780616506346,
          -1.5768436928151157,
          null,
          -1.5768436928151157,
          -1.3156168581682304,
          null,
          -1.5768436928151157,
          -1.7837735546185336,
          null,
          -1.4945943626689944,
          -1.4903137057402747,
          null,
          -1.4945943626689944,
          -1.3156168581682304,
          null,
          -1.4945943626689944,
          -1.782223346930268,
          null,
          -1.4945943626689944,
          -1.7837735546185336,
          null,
          -1.4903137057402747,
          -1.3156168581682304,
          null,
          -1.4903137057402747,
          -1.782223346930268,
          null,
          -1.3156168581682304,
          -0.9677337442504306,
          null,
          -0.6636449919903264,
          -0.3294038746949407,
          null,
          -0.6636449919903264,
          -0.6450222371687941,
          null,
          -0.6636449919903264,
          -0.8471172448240873,
          null,
          -0.6636449919903264,
          -0.9677337442504306,
          null,
          -0.3294038746949407,
          0.013404262168507717,
          null,
          -0.3294038746949407,
          -0.6450222371687941,
          null,
          0.013404262168507717,
          0.30105513065829437,
          null,
          0.013404262168507717,
          0.3372444316968079,
          null,
          0.30105513065829437,
          0.3372444316968079,
          null,
          0.30105513065829437,
          0.6265792451999955,
          null,
          0.6621768594939337,
          0.9495271511050499,
          null,
          0.6621768594939337,
          0.3372444316968079,
          null,
          0.6621768594939337,
          0.6265792451999955,
          null,
          0.9495271511050499,
          1.2899431278229325,
          null,
          0.9495271511050499,
          0.6265792451999955,
          null,
          1.2899431278229325,
          1.5444387400707882,
          null,
          1.2899431278229325,
          1.6141446882312491,
          null,
          1.5444387400707882,
          1.8599020548608345,
          null,
          1.5444387400707882,
          1.6141446882312491,
          null,
          1.8599020548608345,
          1.6141446882312491,
          null,
          1.8599020548608345,
          1.9294581157702133,
          null,
          2.1262668101736435,
          2.426527301427887,
          null,
          2.1262668101736435,
          2.2146157964557216,
          null,
          2.1262668101736435,
          1.9294581157702133,
          null,
          2.426527301427887,
          2.500933766156351,
          null,
          2.426527301427887,
          2.2146157964557216,
          null,
          2.500933766156351,
          2.779002343555806,
          null,
          2.500933766156351,
          2.2146157964557216,
          null,
          2.779002343555806,
          2.953067308819474,
          null,
          2.779002343555806,
          3.1059817301052277,
          null,
          2.779002343555806,
          3.0118377119659,
          null,
          2.953067308819474,
          3.1059817301052277,
          null,
          2.953067308819474,
          3.0118377119659,
          null,
          -2.7525296089368245,
          -2.638683843513665,
          null,
          -2.7525296089368245,
          -2.4706484329497638,
          null,
          -0.6450222371687941,
          -0.8471172448240873,
          null,
          -0.6450222371687941,
          -0.9677337442504306,
          null,
          -0.8471172448240873,
          -0.9677337442504306,
          null,
          -2.638683843513665,
          -2.4706484329497638,
          null,
          -2.638683843513665,
          -2.465582324265053,
          null,
          -2.638683843513665,
          -2.3043655207647706,
          null,
          -2.4706484329497638,
          -2.465582324265053,
          null,
          -2.4706484329497638,
          -2.3043655207647706,
          null,
          -2.465582324265053,
          -2.3043655207647706,
          null,
          -1.782223346930268,
          -1.7837735546185336,
          null,
          0.3372444316968079,
          0.6265792451999955,
          null,
          3.1059817301052277,
          3.0118377119659,
          null,
          2.2146157964557216,
          1.9294581157702133,
          null,
          1.6141446882312491,
          1.9294581157702133,
          null
         ]
        },
        {
         "hoverinfo": "text",
         "marker": {
          "color": [
           "rgb(256,0,0)",
           "rgb(0,0,0)",
           "rgb(256,0,0)",
           "rgb(256,0,0)",
           "rgb(0,0,0)",
           "rgb(0,0,0)",
           "rgb(256,0,0)",
           "rgb(0,0,0)",
           "rgb(0,0,0)",
           "rgb(0,0,0)",
           "rgb(0,0,0)",
           "rgb(0,0,0)",
           "rgb(0,0,0)",
           "rgb(0,0,0)",
           "rgb(0,0,0)",
           "rgb(0,0,0)",
           "rgb(256,0,0)",
           "rgb(256,0,0)",
           "rgb(0,0,0)",
           "rgb(0,0,0)",
           "rgb(0,0,0)",
           "rgb(0,0,0)",
           "rgb(0,0,0)",
           "rgb(0,0,0)",
           "rgb(0,0,0)",
           "rgb(0,0,0)",
           "rgb(0,0,0)",
           "rgb(0,0,0)",
           "rgb(0,0,0)",
           "rgb(0,0,0)",
           "rgb(0,0,0)",
           "rgb(0,0,0)",
           "rgb(0,0,0)",
           "rgb(0,0,0)",
           "rgb(0,0,0)",
           "rgb(0,0,0)",
           "rgb(0,0,0)",
           "rgb(0,0,0)",
           "rgb(0,0,0)",
           "rgb(0,0,0)"
          ],
          "colorscale": [
           [
            0,
            "#440154"
           ],
           [
            0.1111111111111111,
            "#482878"
           ],
           [
            0.2222222222222222,
            "#3e4989"
           ],
           [
            0.3333333333333333,
            "#31688e"
           ],
           [
            0.4444444444444444,
            "#26828e"
           ],
           [
            0.5555555555555556,
            "#1f9e89"
           ],
           [
            0.6666666666666666,
            "#35b779"
           ],
           [
            0.7777777777777778,
            "#6ece58"
           ],
           [
            0.8888888888888888,
            "#b5de2b"
           ],
           [
            1,
            "#fde725"
           ]
          ],
          "line": {
           "color": "rgb(50,50,50)",
           "width": 0.5
          },
          "size": 6,
          "symbol": "circle"
         },
         "mode": "markers",
         "name": "actors",
         "text": [
          "0",
          "1",
          "2",
          "3",
          "4",
          "5",
          "6",
          "7",
          "8",
          "9",
          "10",
          "11",
          "12",
          "13",
          "14",
          "15",
          "16",
          "17",
          "18",
          "19",
          "20",
          "21",
          "22",
          "23",
          "24",
          "25",
          "26",
          "27",
          "28",
          "29",
          "30",
          "31",
          "32",
          "33",
          "34",
          "35",
          "36",
          "37",
          "38",
          "39"
         ],
         "type": "scatter3d",
         "x": [
          -0.8070447833252102,
          -0.2869099108651412,
          -0.2492850694024043,
          0.003194388269609994,
          -0.19973367625304858,
          0.05140307295412916,
          0.5233786089000426,
          0.6566994272293745,
          0.308778716744253,
          0.4657004646555994,
          0.3615152749983518,
          0.3842443923474905,
          0.5359553090456766,
          0.21888637410952688,
          0.3581957342544879,
          0.3832889414848931,
          0.5383620103214027,
          0.4888928384274308,
          0.3678509809107188,
          0.21882246626422974,
          -0.04854580699135162,
          -0.25096915080789967,
          -0.5205275838327373,
          -0.869353339422124,
          0.20356649576475006,
          0.34077717548820635,
          0.29914644268335594,
          -0.5550518587596115,
          -0.751790669317679,
          -0.48704569469144027,
          -0.46366564530046833,
          0.6460732249830471,
          0.32030980308391244,
          0.30813683764454247,
          -0.2512095743863335,
          0.12203037267231784,
          0.44787371784445323,
          -0.393540167108645,
          0.3344864071123659,
          0.2846562254039355
         ],
         "y": [
          0.3993800505896674,
          0.05034902986135763,
          0.03652316038543035,
          0.017129160746906152,
          -0.21227755843151552,
          -0.1316312855687863,
          -0.005214740594449314,
          -0.27667799969286905,
          -0.2276153676016854,
          -0.40821113053000224,
          -0.42059013399627276,
          -0.4155049174422634,
          -0.2998487857915494,
          -0.5465395256438597,
          -0.41424723912624445,
          -0.39509898631364554,
          -0.5492889822978466,
          -0.44455630280130687,
          0.09398766154470008,
          0.14704007782320902,
          -0.040211815380110705,
          -0.04100932634625198,
          -0.12721350684913893,
          0.11888522073782429,
          -0.44372515461253165,
          -0.6611936895176564,
          -0.3530505265105978,
          0.20920763766928527,
          0.28526583842512204,
          0.48098246231211605,
          0.1896004296919303,
          -0.08196549558009411,
          0.030077991390861453,
          -0.49135147366990717,
          -0.11426174188776443,
          -0.08453342560481342,
          -0.35663988737115787,
          0.15059027580565046,
          -0.30559963735293033,
          -0.1776723910209659
         ],
         "z": [
          -2.788162457015658,
          -2.0352033052402914,
          -1.6944002055570462,
          -1.8599638265070546,
          -1.824780616506346,
          -1.5768436928151157,
          -1.4945943626689944,
          -1.4903137057402747,
          -1.3156168581682304,
          -0.6636449919903264,
          -0.3294038746949407,
          0.013404262168507717,
          0.30105513065829437,
          0.6621768594939337,
          0.9495271511050499,
          1.2899431278229325,
          1.5444387400707882,
          1.8599020548608345,
          2.1262668101736435,
          2.426527301427887,
          2.500933766156351,
          2.779002343555806,
          2.953067308819474,
          -2.7525296089368245,
          -0.6450222371687941,
          -0.8471172448240873,
          -0.9677337442504306,
          -2.638683843513665,
          -2.4706484329497638,
          -2.465582324265053,
          -2.3043655207647706,
          -1.782223346930268,
          -1.7837735546185336,
          0.3372444316968079,
          3.1059817301052277,
          2.2146157964557216,
          0.6265792451999955,
          3.0118377119659,
          1.6141446882312491,
          1.9294581157702133
         ]
        }
       ],
       "layout": {
        "height": 1000,
        "hovermode": "closest",
        "margin": {
         "t": 100
        },
        "scene": {
         "xaxis": {
          "showbackground": false,
          "showgrid": false,
          "showline": false,
          "showticklabels": false,
          "title": {
           "text": ""
          },
          "zeroline": false
         },
         "yaxis": {
          "showbackground": false,
          "showgrid": false,
          "showline": false,
          "showticklabels": false,
          "title": {
           "text": ""
          },
          "zeroline": false
         },
         "zaxis": {
          "showbackground": false,
          "showgrid": false,
          "showline": false,
          "showticklabels": false,
          "title": {
           "text": ""
          },
          "zeroline": false
         }
        },
        "showlegend": false,
        "template": {
         "data": {
          "bar": [
           {
            "error_x": {
             "color": "#2a3f5f"
            },
            "error_y": {
             "color": "#2a3f5f"
            },
            "marker": {
             "line": {
              "color": "#E5ECF6",
              "width": 0.5
             },
             "pattern": {
              "fillmode": "overlay",
              "size": 10,
              "solidity": 0.2
             }
            },
            "type": "bar"
           }
          ],
          "barpolar": [
           {
            "marker": {
             "line": {
              "color": "#E5ECF6",
              "width": 0.5
             },
             "pattern": {
              "fillmode": "overlay",
              "size": 10,
              "solidity": 0.2
             }
            },
            "type": "barpolar"
           }
          ],
          "carpet": [
           {
            "aaxis": {
             "endlinecolor": "#2a3f5f",
             "gridcolor": "white",
             "linecolor": "white",
             "minorgridcolor": "white",
             "startlinecolor": "#2a3f5f"
            },
            "baxis": {
             "endlinecolor": "#2a3f5f",
             "gridcolor": "white",
             "linecolor": "white",
             "minorgridcolor": "white",
             "startlinecolor": "#2a3f5f"
            },
            "type": "carpet"
           }
          ],
          "choropleth": [
           {
            "colorbar": {
             "outlinewidth": 0,
             "ticks": ""
            },
            "type": "choropleth"
           }
          ],
          "contour": [
           {
            "colorbar": {
             "outlinewidth": 0,
             "ticks": ""
            },
            "colorscale": [
             [
              0,
              "#0d0887"
             ],
             [
              0.1111111111111111,
              "#46039f"
             ],
             [
              0.2222222222222222,
              "#7201a8"
             ],
             [
              0.3333333333333333,
              "#9c179e"
             ],
             [
              0.4444444444444444,
              "#bd3786"
             ],
             [
              0.5555555555555556,
              "#d8576b"
             ],
             [
              0.6666666666666666,
              "#ed7953"
             ],
             [
              0.7777777777777778,
              "#fb9f3a"
             ],
             [
              0.8888888888888888,
              "#fdca26"
             ],
             [
              1,
              "#f0f921"
             ]
            ],
            "type": "contour"
           }
          ],
          "contourcarpet": [
           {
            "colorbar": {
             "outlinewidth": 0,
             "ticks": ""
            },
            "type": "contourcarpet"
           }
          ],
          "heatmap": [
           {
            "colorbar": {
             "outlinewidth": 0,
             "ticks": ""
            },
            "colorscale": [
             [
              0,
              "#0d0887"
             ],
             [
              0.1111111111111111,
              "#46039f"
             ],
             [
              0.2222222222222222,
              "#7201a8"
             ],
             [
              0.3333333333333333,
              "#9c179e"
             ],
             [
              0.4444444444444444,
              "#bd3786"
             ],
             [
              0.5555555555555556,
              "#d8576b"
             ],
             [
              0.6666666666666666,
              "#ed7953"
             ],
             [
              0.7777777777777778,
              "#fb9f3a"
             ],
             [
              0.8888888888888888,
              "#fdca26"
             ],
             [
              1,
              "#f0f921"
             ]
            ],
            "type": "heatmap"
           }
          ],
          "heatmapgl": [
           {
            "colorbar": {
             "outlinewidth": 0,
             "ticks": ""
            },
            "colorscale": [
             [
              0,
              "#0d0887"
             ],
             [
              0.1111111111111111,
              "#46039f"
             ],
             [
              0.2222222222222222,
              "#7201a8"
             ],
             [
              0.3333333333333333,
              "#9c179e"
             ],
             [
              0.4444444444444444,
              "#bd3786"
             ],
             [
              0.5555555555555556,
              "#d8576b"
             ],
             [
              0.6666666666666666,
              "#ed7953"
             ],
             [
              0.7777777777777778,
              "#fb9f3a"
             ],
             [
              0.8888888888888888,
              "#fdca26"
             ],
             [
              1,
              "#f0f921"
             ]
            ],
            "type": "heatmapgl"
           }
          ],
          "histogram": [
           {
            "marker": {
             "pattern": {
              "fillmode": "overlay",
              "size": 10,
              "solidity": 0.2
             }
            },
            "type": "histogram"
           }
          ],
          "histogram2d": [
           {
            "colorbar": {
             "outlinewidth": 0,
             "ticks": ""
            },
            "colorscale": [
             [
              0,
              "#0d0887"
             ],
             [
              0.1111111111111111,
              "#46039f"
             ],
             [
              0.2222222222222222,
              "#7201a8"
             ],
             [
              0.3333333333333333,
              "#9c179e"
             ],
             [
              0.4444444444444444,
              "#bd3786"
             ],
             [
              0.5555555555555556,
              "#d8576b"
             ],
             [
              0.6666666666666666,
              "#ed7953"
             ],
             [
              0.7777777777777778,
              "#fb9f3a"
             ],
             [
              0.8888888888888888,
              "#fdca26"
             ],
             [
              1,
              "#f0f921"
             ]
            ],
            "type": "histogram2d"
           }
          ],
          "histogram2dcontour": [
           {
            "colorbar": {
             "outlinewidth": 0,
             "ticks": ""
            },
            "colorscale": [
             [
              0,
              "#0d0887"
             ],
             [
              0.1111111111111111,
              "#46039f"
             ],
             [
              0.2222222222222222,
              "#7201a8"
             ],
             [
              0.3333333333333333,
              "#9c179e"
             ],
             [
              0.4444444444444444,
              "#bd3786"
             ],
             [
              0.5555555555555556,
              "#d8576b"
             ],
             [
              0.6666666666666666,
              "#ed7953"
             ],
             [
              0.7777777777777778,
              "#fb9f3a"
             ],
             [
              0.8888888888888888,
              "#fdca26"
             ],
             [
              1,
              "#f0f921"
             ]
            ],
            "type": "histogram2dcontour"
           }
          ],
          "mesh3d": [
           {
            "colorbar": {
             "outlinewidth": 0,
             "ticks": ""
            },
            "type": "mesh3d"
           }
          ],
          "parcoords": [
           {
            "line": {
             "colorbar": {
              "outlinewidth": 0,
              "ticks": ""
             }
            },
            "type": "parcoords"
           }
          ],
          "pie": [
           {
            "automargin": true,
            "type": "pie"
           }
          ],
          "scatter": [
           {
            "marker": {
             "colorbar": {
              "outlinewidth": 0,
              "ticks": ""
             }
            },
            "type": "scatter"
           }
          ],
          "scatter3d": [
           {
            "line": {
             "colorbar": {
              "outlinewidth": 0,
              "ticks": ""
             }
            },
            "marker": {
             "colorbar": {
              "outlinewidth": 0,
              "ticks": ""
             }
            },
            "type": "scatter3d"
           }
          ],
          "scattercarpet": [
           {
            "marker": {
             "colorbar": {
              "outlinewidth": 0,
              "ticks": ""
             }
            },
            "type": "scattercarpet"
           }
          ],
          "scattergeo": [
           {
            "marker": {
             "colorbar": {
              "outlinewidth": 0,
              "ticks": ""
             }
            },
            "type": "scattergeo"
           }
          ],
          "scattergl": [
           {
            "marker": {
             "colorbar": {
              "outlinewidth": 0,
              "ticks": ""
             }
            },
            "type": "scattergl"
           }
          ],
          "scattermapbox": [
           {
            "marker": {
             "colorbar": {
              "outlinewidth": 0,
              "ticks": ""
             }
            },
            "type": "scattermapbox"
           }
          ],
          "scatterpolar": [
           {
            "marker": {
             "colorbar": {
              "outlinewidth": 0,
              "ticks": ""
             }
            },
            "type": "scatterpolar"
           }
          ],
          "scatterpolargl": [
           {
            "marker": {
             "colorbar": {
              "outlinewidth": 0,
              "ticks": ""
             }
            },
            "type": "scatterpolargl"
           }
          ],
          "scatterternary": [
           {
            "marker": {
             "colorbar": {
              "outlinewidth": 0,
              "ticks": ""
             }
            },
            "type": "scatterternary"
           }
          ],
          "surface": [
           {
            "colorbar": {
             "outlinewidth": 0,
             "ticks": ""
            },
            "colorscale": [
             [
              0,
              "#0d0887"
             ],
             [
              0.1111111111111111,
              "#46039f"
             ],
             [
              0.2222222222222222,
              "#7201a8"
             ],
             [
              0.3333333333333333,
              "#9c179e"
             ],
             [
              0.4444444444444444,
              "#bd3786"
             ],
             [
              0.5555555555555556,
              "#d8576b"
             ],
             [
              0.6666666666666666,
              "#ed7953"
             ],
             [
              0.7777777777777778,
              "#fb9f3a"
             ],
             [
              0.8888888888888888,
              "#fdca26"
             ],
             [
              1,
              "#f0f921"
             ]
            ],
            "type": "surface"
           }
          ],
          "table": [
           {
            "cells": {
             "fill": {
              "color": "#EBF0F8"
             },
             "line": {
              "color": "white"
             }
            },
            "header": {
             "fill": {
              "color": "#C8D4E3"
             },
             "line": {
              "color": "white"
             }
            },
            "type": "table"
           }
          ]
         },
         "layout": {
          "annotationdefaults": {
           "arrowcolor": "#2a3f5f",
           "arrowhead": 0,
           "arrowwidth": 1
          },
          "autotypenumbers": "strict",
          "coloraxis": {
           "colorbar": {
            "outlinewidth": 0,
            "ticks": ""
           }
          },
          "colorscale": {
           "diverging": [
            [
             0,
             "#8e0152"
            ],
            [
             0.1,
             "#c51b7d"
            ],
            [
             0.2,
             "#de77ae"
            ],
            [
             0.3,
             "#f1b6da"
            ],
            [
             0.4,
             "#fde0ef"
            ],
            [
             0.5,
             "#f7f7f7"
            ],
            [
             0.6,
             "#e6f5d0"
            ],
            [
             0.7,
             "#b8e186"
            ],
            [
             0.8,
             "#7fbc41"
            ],
            [
             0.9,
             "#4d9221"
            ],
            [
             1,
             "#276419"
            ]
           ],
           "sequential": [
            [
             0,
             "#0d0887"
            ],
            [
             0.1111111111111111,
             "#46039f"
            ],
            [
             0.2222222222222222,
             "#7201a8"
            ],
            [
             0.3333333333333333,
             "#9c179e"
            ],
            [
             0.4444444444444444,
             "#bd3786"
            ],
            [
             0.5555555555555556,
             "#d8576b"
            ],
            [
             0.6666666666666666,
             "#ed7953"
            ],
            [
             0.7777777777777778,
             "#fb9f3a"
            ],
            [
             0.8888888888888888,
             "#fdca26"
            ],
            [
             1,
             "#f0f921"
            ]
           ],
           "sequentialminus": [
            [
             0,
             "#0d0887"
            ],
            [
             0.1111111111111111,
             "#46039f"
            ],
            [
             0.2222222222222222,
             "#7201a8"
            ],
            [
             0.3333333333333333,
             "#9c179e"
            ],
            [
             0.4444444444444444,
             "#bd3786"
            ],
            [
             0.5555555555555556,
             "#d8576b"
            ],
            [
             0.6666666666666666,
             "#ed7953"
            ],
            [
             0.7777777777777778,
             "#fb9f3a"
            ],
            [
             0.8888888888888888,
             "#fdca26"
            ],
            [
             1,
             "#f0f921"
            ]
           ]
          },
          "colorway": [
           "#636efa",
           "#EF553B",
           "#00cc96",
           "#ab63fa",
           "#FFA15A",
           "#19d3f3",
           "#FF6692",
           "#B6E880",
           "#FF97FF",
           "#FECB52"
          ],
          "font": {
           "color": "#2a3f5f"
          },
          "geo": {
           "bgcolor": "white",
           "lakecolor": "white",
           "landcolor": "#E5ECF6",
           "showlakes": true,
           "showland": true,
           "subunitcolor": "white"
          },
          "hoverlabel": {
           "align": "left"
          },
          "hovermode": "closest",
          "mapbox": {
           "style": "light"
          },
          "paper_bgcolor": "white",
          "plot_bgcolor": "#E5ECF6",
          "polar": {
           "angularaxis": {
            "gridcolor": "white",
            "linecolor": "white",
            "ticks": ""
           },
           "bgcolor": "#E5ECF6",
           "radialaxis": {
            "gridcolor": "white",
            "linecolor": "white",
            "ticks": ""
           }
          },
          "scene": {
           "xaxis": {
            "backgroundcolor": "#E5ECF6",
            "gridcolor": "white",
            "gridwidth": 2,
            "linecolor": "white",
            "showbackground": true,
            "ticks": "",
            "zerolinecolor": "white"
           },
           "yaxis": {
            "backgroundcolor": "#E5ECF6",
            "gridcolor": "white",
            "gridwidth": 2,
            "linecolor": "white",
            "showbackground": true,
            "ticks": "",
            "zerolinecolor": "white"
           },
           "zaxis": {
            "backgroundcolor": "#E5ECF6",
            "gridcolor": "white",
            "gridwidth": 2,
            "linecolor": "white",
            "showbackground": true,
            "ticks": "",
            "zerolinecolor": "white"
           }
          },
          "shapedefaults": {
           "line": {
            "color": "#2a3f5f"
           }
          },
          "ternary": {
           "aaxis": {
            "gridcolor": "white",
            "linecolor": "white",
            "ticks": ""
           },
           "baxis": {
            "gridcolor": "white",
            "linecolor": "white",
            "ticks": ""
           },
           "bgcolor": "#E5ECF6",
           "caxis": {
            "gridcolor": "white",
            "linecolor": "white",
            "ticks": ""
           }
          },
          "title": {
           "x": 0.05
          },
          "xaxis": {
           "automargin": true,
           "gridcolor": "white",
           "linecolor": "white",
           "ticks": "",
           "title": {
            "standoff": 15
           },
           "zerolinecolor": "white",
           "zerolinewidth": 2
          },
          "yaxis": {
           "automargin": true,
           "gridcolor": "white",
           "linecolor": "white",
           "ticks": "",
           "title": {
            "standoff": 15
           },
           "zerolinecolor": "white",
           "zerolinewidth": 2
          }
         }
        },
        "width": 1000
       }
      },
      "text/html": [
       "<div>                            <div id=\"8d3275ee-7353-4718-88ad-10c336c38db5\" class=\"plotly-graph-div\" style=\"height:1000px; width:1000px;\"></div>            <script type=\"text/javascript\">                require([\"plotly\"], function(Plotly) {                    window.PLOTLYENV=window.PLOTLYENV || {};                                    if (document.getElementById(\"8d3275ee-7353-4718-88ad-10c336c38db5\")) {                    Plotly.newPlot(                        \"8d3275ee-7353-4718-88ad-10c336c38db5\",                        [{\"hoverinfo\":\"none\",\"line\":{\"color\":\"rgb(125,125,125)\",\"width\":1},\"mode\":\"lines\",\"x\":[-0.8070447833252102,-0.869353339422124,null,-0.8070447833252102,-0.5550518587596115,null,-0.8070447833252102,-0.751790669317679,null,-0.2869099108651412,-0.2492850694024043,null,-0.2869099108651412,0.003194388269609994,null,-0.2869099108651412,-0.19973367625304858,null,-0.2869099108651412,-0.46366564530046833,null,-0.2492850694024043,0.003194388269609994,null,-0.2492850694024043,-0.19973367625304858,null,-0.2492850694024043,0.05140307295412916,null,0.003194388269609994,-0.19973367625304858,null,0.003194388269609994,0.05140307295412916,null,0.003194388269609994,0.32030980308391244,null,-0.19973367625304858,0.05140307295412916,null,0.05140307295412916,0.308778716744253,null,0.05140307295412916,0.32030980308391244,null,0.5233786089000426,0.6566994272293745,null,0.5233786089000426,0.308778716744253,null,0.5233786089000426,0.6460732249830471,null,0.5233786089000426,0.32030980308391244,null,0.6566994272293745,0.308778716744253,null,0.6566994272293745,0.6460732249830471,null,0.308778716744253,0.29914644268335594,null,0.4657004646555994,0.3615152749983518,null,0.4657004646555994,0.20356649576475006,null,0.4657004646555994,0.34077717548820635,null,0.4657004646555994,0.29914644268335594,null,0.3615152749983518,0.3842443923474905,null,0.3615152749983518,0.20356649576475006,null,0.3842443923474905,0.5359553090456766,null,0.3842443923474905,0.30813683764454247,null,0.5359553090456766,0.30813683764454247,null,0.5359553090456766,0.44787371784445323,null,0.21888637410952688,0.3581957342544879,null,0.21888637410952688,0.30813683764454247,null,0.21888637410952688,0.44787371784445323,null,0.3581957342544879,0.3832889414848931,null,0.3581957342544879,0.44787371784445323,null,0.3832889414848931,0.5383620103214027,null,0.3832889414848931,0.3344864071123659,null,0.5383620103214027,0.4888928384274308,null,0.5383620103214027,0.3344864071123659,null,0.4888928384274308,0.3344864071123659,null,0.4888928384274308,0.2846562254039355,null,0.3678509809107188,0.21882246626422974,null,0.3678509809107188,0.12203037267231784,null,0.3678509809107188,0.2846562254039355,null,0.21882246626422974,-0.04854580699135162,null,0.21882246626422974,0.12203037267231784,null,-0.04854580699135162,-0.25096915080789967,null,-0.04854580699135162,0.12203037267231784,null,-0.25096915080789967,-0.5205275838327373,null,-0.25096915080789967,-0.2512095743863335,null,-0.25096915080789967,-0.393540167108645,null,-0.5205275838327373,-0.2512095743863335,null,-0.5205275838327373,-0.393540167108645,null,-0.869353339422124,-0.5550518587596115,null,-0.869353339422124,-0.751790669317679,null,0.20356649576475006,0.34077717548820635,null,0.20356649576475006,0.29914644268335594,null,0.34077717548820635,0.29914644268335594,null,-0.5550518587596115,-0.751790669317679,null,-0.5550518587596115,-0.48704569469144027,null,-0.5550518587596115,-0.46366564530046833,null,-0.751790669317679,-0.48704569469144027,null,-0.751790669317679,-0.46366564530046833,null,-0.48704569469144027,-0.46366564530046833,null,0.6460732249830471,0.32030980308391244,null,0.30813683764454247,0.44787371784445323,null,-0.2512095743863335,-0.393540167108645,null,0.12203037267231784,0.2846562254039355,null,0.3344864071123659,0.2846562254039355,null],\"y\":[0.3993800505896674,0.11888522073782429,null,0.3993800505896674,0.20920763766928527,null,0.3993800505896674,0.28526583842512204,null,0.05034902986135763,0.03652316038543035,null,0.05034902986135763,0.017129160746906152,null,0.05034902986135763,-0.21227755843151552,null,0.05034902986135763,0.1896004296919303,null,0.03652316038543035,0.017129160746906152,null,0.03652316038543035,-0.21227755843151552,null,0.03652316038543035,-0.1316312855687863,null,0.017129160746906152,-0.21227755843151552,null,0.017129160746906152,-0.1316312855687863,null,0.017129160746906152,0.030077991390861453,null,-0.21227755843151552,-0.1316312855687863,null,-0.1316312855687863,-0.2276153676016854,null,-0.1316312855687863,0.030077991390861453,null,-0.005214740594449314,-0.27667799969286905,null,-0.005214740594449314,-0.2276153676016854,null,-0.005214740594449314,-0.08196549558009411,null,-0.005214740594449314,0.030077991390861453,null,-0.27667799969286905,-0.2276153676016854,null,-0.27667799969286905,-0.08196549558009411,null,-0.2276153676016854,-0.3530505265105978,null,-0.40821113053000224,-0.42059013399627276,null,-0.40821113053000224,-0.44372515461253165,null,-0.40821113053000224,-0.6611936895176564,null,-0.40821113053000224,-0.3530505265105978,null,-0.42059013399627276,-0.4155049174422634,null,-0.42059013399627276,-0.44372515461253165,null,-0.4155049174422634,-0.2998487857915494,null,-0.4155049174422634,-0.49135147366990717,null,-0.2998487857915494,-0.49135147366990717,null,-0.2998487857915494,-0.35663988737115787,null,-0.5465395256438597,-0.41424723912624445,null,-0.5465395256438597,-0.49135147366990717,null,-0.5465395256438597,-0.35663988737115787,null,-0.41424723912624445,-0.39509898631364554,null,-0.41424723912624445,-0.35663988737115787,null,-0.39509898631364554,-0.5492889822978466,null,-0.39509898631364554,-0.30559963735293033,null,-0.5492889822978466,-0.44455630280130687,null,-0.5492889822978466,-0.30559963735293033,null,-0.44455630280130687,-0.30559963735293033,null,-0.44455630280130687,-0.1776723910209659,null,0.09398766154470008,0.14704007782320902,null,0.09398766154470008,-0.08453342560481342,null,0.09398766154470008,-0.1776723910209659,null,0.14704007782320902,-0.040211815380110705,null,0.14704007782320902,-0.08453342560481342,null,-0.040211815380110705,-0.04100932634625198,null,-0.040211815380110705,-0.08453342560481342,null,-0.04100932634625198,-0.12721350684913893,null,-0.04100932634625198,-0.11426174188776443,null,-0.04100932634625198,0.15059027580565046,null,-0.12721350684913893,-0.11426174188776443,null,-0.12721350684913893,0.15059027580565046,null,0.11888522073782429,0.20920763766928527,null,0.11888522073782429,0.28526583842512204,null,-0.44372515461253165,-0.6611936895176564,null,-0.44372515461253165,-0.3530505265105978,null,-0.6611936895176564,-0.3530505265105978,null,0.20920763766928527,0.28526583842512204,null,0.20920763766928527,0.48098246231211605,null,0.20920763766928527,0.1896004296919303,null,0.28526583842512204,0.48098246231211605,null,0.28526583842512204,0.1896004296919303,null,0.48098246231211605,0.1896004296919303,null,-0.08196549558009411,0.030077991390861453,null,-0.49135147366990717,-0.35663988737115787,null,-0.11426174188776443,0.15059027580565046,null,-0.08453342560481342,-0.1776723910209659,null,-0.30559963735293033,-0.1776723910209659,null],\"z\":[-2.788162457015658,-2.7525296089368245,null,-2.788162457015658,-2.638683843513665,null,-2.788162457015658,-2.4706484329497638,null,-2.0352033052402914,-1.6944002055570462,null,-2.0352033052402914,-1.8599638265070546,null,-2.0352033052402914,-1.824780616506346,null,-2.0352033052402914,-2.3043655207647706,null,-1.6944002055570462,-1.8599638265070546,null,-1.6944002055570462,-1.824780616506346,null,-1.6944002055570462,-1.5768436928151157,null,-1.8599638265070546,-1.824780616506346,null,-1.8599638265070546,-1.5768436928151157,null,-1.8599638265070546,-1.7837735546185336,null,-1.824780616506346,-1.5768436928151157,null,-1.5768436928151157,-1.3156168581682304,null,-1.5768436928151157,-1.7837735546185336,null,-1.4945943626689944,-1.4903137057402747,null,-1.4945943626689944,-1.3156168581682304,null,-1.4945943626689944,-1.782223346930268,null,-1.4945943626689944,-1.7837735546185336,null,-1.4903137057402747,-1.3156168581682304,null,-1.4903137057402747,-1.782223346930268,null,-1.3156168581682304,-0.9677337442504306,null,-0.6636449919903264,-0.3294038746949407,null,-0.6636449919903264,-0.6450222371687941,null,-0.6636449919903264,-0.8471172448240873,null,-0.6636449919903264,-0.9677337442504306,null,-0.3294038746949407,0.013404262168507717,null,-0.3294038746949407,-0.6450222371687941,null,0.013404262168507717,0.30105513065829437,null,0.013404262168507717,0.3372444316968079,null,0.30105513065829437,0.3372444316968079,null,0.30105513065829437,0.6265792451999955,null,0.6621768594939337,0.9495271511050499,null,0.6621768594939337,0.3372444316968079,null,0.6621768594939337,0.6265792451999955,null,0.9495271511050499,1.2899431278229325,null,0.9495271511050499,0.6265792451999955,null,1.2899431278229325,1.5444387400707882,null,1.2899431278229325,1.6141446882312491,null,1.5444387400707882,1.8599020548608345,null,1.5444387400707882,1.6141446882312491,null,1.8599020548608345,1.6141446882312491,null,1.8599020548608345,1.9294581157702133,null,2.1262668101736435,2.426527301427887,null,2.1262668101736435,2.2146157964557216,null,2.1262668101736435,1.9294581157702133,null,2.426527301427887,2.500933766156351,null,2.426527301427887,2.2146157964557216,null,2.500933766156351,2.779002343555806,null,2.500933766156351,2.2146157964557216,null,2.779002343555806,2.953067308819474,null,2.779002343555806,3.1059817301052277,null,2.779002343555806,3.0118377119659,null,2.953067308819474,3.1059817301052277,null,2.953067308819474,3.0118377119659,null,-2.7525296089368245,-2.638683843513665,null,-2.7525296089368245,-2.4706484329497638,null,-0.6450222371687941,-0.8471172448240873,null,-0.6450222371687941,-0.9677337442504306,null,-0.8471172448240873,-0.9677337442504306,null,-2.638683843513665,-2.4706484329497638,null,-2.638683843513665,-2.465582324265053,null,-2.638683843513665,-2.3043655207647706,null,-2.4706484329497638,-2.465582324265053,null,-2.4706484329497638,-2.3043655207647706,null,-2.465582324265053,-2.3043655207647706,null,-1.782223346930268,-1.7837735546185336,null,0.3372444316968079,0.6265792451999955,null,3.1059817301052277,3.0118377119659,null,2.2146157964557216,1.9294581157702133,null,1.6141446882312491,1.9294581157702133,null],\"type\":\"scatter3d\"},{\"hoverinfo\":\"text\",\"marker\":{\"color\":[\"rgb(256,0,0)\",\"rgb(0,0,0)\",\"rgb(256,0,0)\",\"rgb(256,0,0)\",\"rgb(0,0,0)\",\"rgb(0,0,0)\",\"rgb(256,0,0)\",\"rgb(0,0,0)\",\"rgb(0,0,0)\",\"rgb(0,0,0)\",\"rgb(0,0,0)\",\"rgb(0,0,0)\",\"rgb(0,0,0)\",\"rgb(0,0,0)\",\"rgb(0,0,0)\",\"rgb(0,0,0)\",\"rgb(256,0,0)\",\"rgb(256,0,0)\",\"rgb(0,0,0)\",\"rgb(0,0,0)\",\"rgb(0,0,0)\",\"rgb(0,0,0)\",\"rgb(0,0,0)\",\"rgb(0,0,0)\",\"rgb(0,0,0)\",\"rgb(0,0,0)\",\"rgb(0,0,0)\",\"rgb(0,0,0)\",\"rgb(0,0,0)\",\"rgb(0,0,0)\",\"rgb(0,0,0)\",\"rgb(0,0,0)\",\"rgb(0,0,0)\",\"rgb(0,0,0)\",\"rgb(0,0,0)\",\"rgb(0,0,0)\",\"rgb(0,0,0)\",\"rgb(0,0,0)\",\"rgb(0,0,0)\",\"rgb(0,0,0)\"],\"colorscale\":[[0.0,\"#440154\"],[0.1111111111111111,\"#482878\"],[0.2222222222222222,\"#3e4989\"],[0.3333333333333333,\"#31688e\"],[0.4444444444444444,\"#26828e\"],[0.5555555555555556,\"#1f9e89\"],[0.6666666666666666,\"#35b779\"],[0.7777777777777778,\"#6ece58\"],[0.8888888888888888,\"#b5de2b\"],[1.0,\"#fde725\"]],\"line\":{\"color\":\"rgb(50,50,50)\",\"width\":0.5},\"size\":6,\"symbol\":\"circle\"},\"mode\":\"markers\",\"name\":\"actors\",\"text\":[\"0\",\"1\",\"2\",\"3\",\"4\",\"5\",\"6\",\"7\",\"8\",\"9\",\"10\",\"11\",\"12\",\"13\",\"14\",\"15\",\"16\",\"17\",\"18\",\"19\",\"20\",\"21\",\"22\",\"23\",\"24\",\"25\",\"26\",\"27\",\"28\",\"29\",\"30\",\"31\",\"32\",\"33\",\"34\",\"35\",\"36\",\"37\",\"38\",\"39\"],\"x\":[-0.8070447833252102,-0.2869099108651412,-0.2492850694024043,0.003194388269609994,-0.19973367625304858,0.05140307295412916,0.5233786089000426,0.6566994272293745,0.308778716744253,0.4657004646555994,0.3615152749983518,0.3842443923474905,0.5359553090456766,0.21888637410952688,0.3581957342544879,0.3832889414848931,0.5383620103214027,0.4888928384274308,0.3678509809107188,0.21882246626422974,-0.04854580699135162,-0.25096915080789967,-0.5205275838327373,-0.869353339422124,0.20356649576475006,0.34077717548820635,0.29914644268335594,-0.5550518587596115,-0.751790669317679,-0.48704569469144027,-0.46366564530046833,0.6460732249830471,0.32030980308391244,0.30813683764454247,-0.2512095743863335,0.12203037267231784,0.44787371784445323,-0.393540167108645,0.3344864071123659,0.2846562254039355],\"y\":[0.3993800505896674,0.05034902986135763,0.03652316038543035,0.017129160746906152,-0.21227755843151552,-0.1316312855687863,-0.005214740594449314,-0.27667799969286905,-0.2276153676016854,-0.40821113053000224,-0.42059013399627276,-0.4155049174422634,-0.2998487857915494,-0.5465395256438597,-0.41424723912624445,-0.39509898631364554,-0.5492889822978466,-0.44455630280130687,0.09398766154470008,0.14704007782320902,-0.040211815380110705,-0.04100932634625198,-0.12721350684913893,0.11888522073782429,-0.44372515461253165,-0.6611936895176564,-0.3530505265105978,0.20920763766928527,0.28526583842512204,0.48098246231211605,0.1896004296919303,-0.08196549558009411,0.030077991390861453,-0.49135147366990717,-0.11426174188776443,-0.08453342560481342,-0.35663988737115787,0.15059027580565046,-0.30559963735293033,-0.1776723910209659],\"z\":[-2.788162457015658,-2.0352033052402914,-1.6944002055570462,-1.8599638265070546,-1.824780616506346,-1.5768436928151157,-1.4945943626689944,-1.4903137057402747,-1.3156168581682304,-0.6636449919903264,-0.3294038746949407,0.013404262168507717,0.30105513065829437,0.6621768594939337,0.9495271511050499,1.2899431278229325,1.5444387400707882,1.8599020548608345,2.1262668101736435,2.426527301427887,2.500933766156351,2.779002343555806,2.953067308819474,-2.7525296089368245,-0.6450222371687941,-0.8471172448240873,-0.9677337442504306,-2.638683843513665,-2.4706484329497638,-2.465582324265053,-2.3043655207647706,-1.782223346930268,-1.7837735546185336,0.3372444316968079,3.1059817301052277,2.2146157964557216,0.6265792451999955,3.0118377119659,1.6141446882312491,1.9294581157702133],\"type\":\"scatter3d\"}],                        {\"height\":1000,\"hovermode\":\"closest\",\"margin\":{\"t\":100},\"scene\":{\"xaxis\":{\"showbackground\":false,\"showgrid\":false,\"showline\":false,\"showticklabels\":false,\"title\":{\"text\":\"\"},\"zeroline\":false},\"yaxis\":{\"showbackground\":false,\"showgrid\":false,\"showline\":false,\"showticklabels\":false,\"title\":{\"text\":\"\"},\"zeroline\":false},\"zaxis\":{\"showbackground\":false,\"showgrid\":false,\"showline\":false,\"showticklabels\":false,\"title\":{\"text\":\"\"},\"zeroline\":false}},\"showlegend\":false,\"template\":{\"data\":{\"barpolar\":[{\"marker\":{\"line\":{\"color\":\"#E5ECF6\",\"width\":0.5},\"pattern\":{\"fillmode\":\"overlay\",\"size\":10,\"solidity\":0.2}},\"type\":\"barpolar\"}],\"bar\":[{\"error_x\":{\"color\":\"#2a3f5f\"},\"error_y\":{\"color\":\"#2a3f5f\"},\"marker\":{\"line\":{\"color\":\"#E5ECF6\",\"width\":0.5},\"pattern\":{\"fillmode\":\"overlay\",\"size\":10,\"solidity\":0.2}},\"type\":\"bar\"}],\"carpet\":[{\"aaxis\":{\"endlinecolor\":\"#2a3f5f\",\"gridcolor\":\"white\",\"linecolor\":\"white\",\"minorgridcolor\":\"white\",\"startlinecolor\":\"#2a3f5f\"},\"baxis\":{\"endlinecolor\":\"#2a3f5f\",\"gridcolor\":\"white\",\"linecolor\":\"white\",\"minorgridcolor\":\"white\",\"startlinecolor\":\"#2a3f5f\"},\"type\":\"carpet\"}],\"choropleth\":[{\"colorbar\":{\"outlinewidth\":0,\"ticks\":\"\"},\"type\":\"choropleth\"}],\"contourcarpet\":[{\"colorbar\":{\"outlinewidth\":0,\"ticks\":\"\"},\"type\":\"contourcarpet\"}],\"contour\":[{\"colorbar\":{\"outlinewidth\":0,\"ticks\":\"\"},\"colorscale\":[[0.0,\"#0d0887\"],[0.1111111111111111,\"#46039f\"],[0.2222222222222222,\"#7201a8\"],[0.3333333333333333,\"#9c179e\"],[0.4444444444444444,\"#bd3786\"],[0.5555555555555556,\"#d8576b\"],[0.6666666666666666,\"#ed7953\"],[0.7777777777777778,\"#fb9f3a\"],[0.8888888888888888,\"#fdca26\"],[1.0,\"#f0f921\"]],\"type\":\"contour\"}],\"heatmapgl\":[{\"colorbar\":{\"outlinewidth\":0,\"ticks\":\"\"},\"colorscale\":[[0.0,\"#0d0887\"],[0.1111111111111111,\"#46039f\"],[0.2222222222222222,\"#7201a8\"],[0.3333333333333333,\"#9c179e\"],[0.4444444444444444,\"#bd3786\"],[0.5555555555555556,\"#d8576b\"],[0.6666666666666666,\"#ed7953\"],[0.7777777777777778,\"#fb9f3a\"],[0.8888888888888888,\"#fdca26\"],[1.0,\"#f0f921\"]],\"type\":\"heatmapgl\"}],\"heatmap\":[{\"colorbar\":{\"outlinewidth\":0,\"ticks\":\"\"},\"colorscale\":[[0.0,\"#0d0887\"],[0.1111111111111111,\"#46039f\"],[0.2222222222222222,\"#7201a8\"],[0.3333333333333333,\"#9c179e\"],[0.4444444444444444,\"#bd3786\"],[0.5555555555555556,\"#d8576b\"],[0.6666666666666666,\"#ed7953\"],[0.7777777777777778,\"#fb9f3a\"],[0.8888888888888888,\"#fdca26\"],[1.0,\"#f0f921\"]],\"type\":\"heatmap\"}],\"histogram2dcontour\":[{\"colorbar\":{\"outlinewidth\":0,\"ticks\":\"\"},\"colorscale\":[[0.0,\"#0d0887\"],[0.1111111111111111,\"#46039f\"],[0.2222222222222222,\"#7201a8\"],[0.3333333333333333,\"#9c179e\"],[0.4444444444444444,\"#bd3786\"],[0.5555555555555556,\"#d8576b\"],[0.6666666666666666,\"#ed7953\"],[0.7777777777777778,\"#fb9f3a\"],[0.8888888888888888,\"#fdca26\"],[1.0,\"#f0f921\"]],\"type\":\"histogram2dcontour\"}],\"histogram2d\":[{\"colorbar\":{\"outlinewidth\":0,\"ticks\":\"\"},\"colorscale\":[[0.0,\"#0d0887\"],[0.1111111111111111,\"#46039f\"],[0.2222222222222222,\"#7201a8\"],[0.3333333333333333,\"#9c179e\"],[0.4444444444444444,\"#bd3786\"],[0.5555555555555556,\"#d8576b\"],[0.6666666666666666,\"#ed7953\"],[0.7777777777777778,\"#fb9f3a\"],[0.8888888888888888,\"#fdca26\"],[1.0,\"#f0f921\"]],\"type\":\"histogram2d\"}],\"histogram\":[{\"marker\":{\"pattern\":{\"fillmode\":\"overlay\",\"size\":10,\"solidity\":0.2}},\"type\":\"histogram\"}],\"mesh3d\":[{\"colorbar\":{\"outlinewidth\":0,\"ticks\":\"\"},\"type\":\"mesh3d\"}],\"parcoords\":[{\"line\":{\"colorbar\":{\"outlinewidth\":0,\"ticks\":\"\"}},\"type\":\"parcoords\"}],\"pie\":[{\"automargin\":true,\"type\":\"pie\"}],\"scatter3d\":[{\"line\":{\"colorbar\":{\"outlinewidth\":0,\"ticks\":\"\"}},\"marker\":{\"colorbar\":{\"outlinewidth\":0,\"ticks\":\"\"}},\"type\":\"scatter3d\"}],\"scattercarpet\":[{\"marker\":{\"colorbar\":{\"outlinewidth\":0,\"ticks\":\"\"}},\"type\":\"scattercarpet\"}],\"scattergeo\":[{\"marker\":{\"colorbar\":{\"outlinewidth\":0,\"ticks\":\"\"}},\"type\":\"scattergeo\"}],\"scattergl\":[{\"marker\":{\"colorbar\":{\"outlinewidth\":0,\"ticks\":\"\"}},\"type\":\"scattergl\"}],\"scattermapbox\":[{\"marker\":{\"colorbar\":{\"outlinewidth\":0,\"ticks\":\"\"}},\"type\":\"scattermapbox\"}],\"scatterpolargl\":[{\"marker\":{\"colorbar\":{\"outlinewidth\":0,\"ticks\":\"\"}},\"type\":\"scatterpolargl\"}],\"scatterpolar\":[{\"marker\":{\"colorbar\":{\"outlinewidth\":0,\"ticks\":\"\"}},\"type\":\"scatterpolar\"}],\"scatter\":[{\"marker\":{\"colorbar\":{\"outlinewidth\":0,\"ticks\":\"\"}},\"type\":\"scatter\"}],\"scatterternary\":[{\"marker\":{\"colorbar\":{\"outlinewidth\":0,\"ticks\":\"\"}},\"type\":\"scatterternary\"}],\"surface\":[{\"colorbar\":{\"outlinewidth\":0,\"ticks\":\"\"},\"colorscale\":[[0.0,\"#0d0887\"],[0.1111111111111111,\"#46039f\"],[0.2222222222222222,\"#7201a8\"],[0.3333333333333333,\"#9c179e\"],[0.4444444444444444,\"#bd3786\"],[0.5555555555555556,\"#d8576b\"],[0.6666666666666666,\"#ed7953\"],[0.7777777777777778,\"#fb9f3a\"],[0.8888888888888888,\"#fdca26\"],[1.0,\"#f0f921\"]],\"type\":\"surface\"}],\"table\":[{\"cells\":{\"fill\":{\"color\":\"#EBF0F8\"},\"line\":{\"color\":\"white\"}},\"header\":{\"fill\":{\"color\":\"#C8D4E3\"},\"line\":{\"color\":\"white\"}},\"type\":\"table\"}]},\"layout\":{\"annotationdefaults\":{\"arrowcolor\":\"#2a3f5f\",\"arrowhead\":0,\"arrowwidth\":1},\"autotypenumbers\":\"strict\",\"coloraxis\":{\"colorbar\":{\"outlinewidth\":0,\"ticks\":\"\"}},\"colorscale\":{\"diverging\":[[0,\"#8e0152\"],[0.1,\"#c51b7d\"],[0.2,\"#de77ae\"],[0.3,\"#f1b6da\"],[0.4,\"#fde0ef\"],[0.5,\"#f7f7f7\"],[0.6,\"#e6f5d0\"],[0.7,\"#b8e186\"],[0.8,\"#7fbc41\"],[0.9,\"#4d9221\"],[1,\"#276419\"]],\"sequential\":[[0.0,\"#0d0887\"],[0.1111111111111111,\"#46039f\"],[0.2222222222222222,\"#7201a8\"],[0.3333333333333333,\"#9c179e\"],[0.4444444444444444,\"#bd3786\"],[0.5555555555555556,\"#d8576b\"],[0.6666666666666666,\"#ed7953\"],[0.7777777777777778,\"#fb9f3a\"],[0.8888888888888888,\"#fdca26\"],[1.0,\"#f0f921\"]],\"sequentialminus\":[[0.0,\"#0d0887\"],[0.1111111111111111,\"#46039f\"],[0.2222222222222222,\"#7201a8\"],[0.3333333333333333,\"#9c179e\"],[0.4444444444444444,\"#bd3786\"],[0.5555555555555556,\"#d8576b\"],[0.6666666666666666,\"#ed7953\"],[0.7777777777777778,\"#fb9f3a\"],[0.8888888888888888,\"#fdca26\"],[1.0,\"#f0f921\"]]},\"colorway\":[\"#636efa\",\"#EF553B\",\"#00cc96\",\"#ab63fa\",\"#FFA15A\",\"#19d3f3\",\"#FF6692\",\"#B6E880\",\"#FF97FF\",\"#FECB52\"],\"font\":{\"color\":\"#2a3f5f\"},\"geo\":{\"bgcolor\":\"white\",\"lakecolor\":\"white\",\"landcolor\":\"#E5ECF6\",\"showlakes\":true,\"showland\":true,\"subunitcolor\":\"white\"},\"hoverlabel\":{\"align\":\"left\"},\"hovermode\":\"closest\",\"mapbox\":{\"style\":\"light\"},\"paper_bgcolor\":\"white\",\"plot_bgcolor\":\"#E5ECF6\",\"polar\":{\"angularaxis\":{\"gridcolor\":\"white\",\"linecolor\":\"white\",\"ticks\":\"\"},\"bgcolor\":\"#E5ECF6\",\"radialaxis\":{\"gridcolor\":\"white\",\"linecolor\":\"white\",\"ticks\":\"\"}},\"scene\":{\"xaxis\":{\"backgroundcolor\":\"#E5ECF6\",\"gridcolor\":\"white\",\"gridwidth\":2,\"linecolor\":\"white\",\"showbackground\":true,\"ticks\":\"\",\"zerolinecolor\":\"white\"},\"yaxis\":{\"backgroundcolor\":\"#E5ECF6\",\"gridcolor\":\"white\",\"gridwidth\":2,\"linecolor\":\"white\",\"showbackground\":true,\"ticks\":\"\",\"zerolinecolor\":\"white\"},\"zaxis\":{\"backgroundcolor\":\"#E5ECF6\",\"gridcolor\":\"white\",\"gridwidth\":2,\"linecolor\":\"white\",\"showbackground\":true,\"ticks\":\"\",\"zerolinecolor\":\"white\"}},\"shapedefaults\":{\"line\":{\"color\":\"#2a3f5f\"}},\"ternary\":{\"aaxis\":{\"gridcolor\":\"white\",\"linecolor\":\"white\",\"ticks\":\"\"},\"baxis\":{\"gridcolor\":\"white\",\"linecolor\":\"white\",\"ticks\":\"\"},\"bgcolor\":\"#E5ECF6\",\"caxis\":{\"gridcolor\":\"white\",\"linecolor\":\"white\",\"ticks\":\"\"}},\"title\":{\"x\":0.05},\"xaxis\":{\"automargin\":true,\"gridcolor\":\"white\",\"linecolor\":\"white\",\"ticks\":\"\",\"title\":{\"standoff\":15},\"zerolinecolor\":\"white\",\"zerolinewidth\":2},\"yaxis\":{\"automargin\":true,\"gridcolor\":\"white\",\"linecolor\":\"white\",\"ticks\":\"\",\"title\":{\"standoff\":15},\"zerolinecolor\":\"white\",\"zerolinewidth\":2}}},\"width\":1000},                        {\"responsive\": true}                    ).then(function(){\n",
       "                            \n",
       "var gd = document.getElementById('8d3275ee-7353-4718-88ad-10c336c38db5');\n",
       "var x = new MutationObserver(function (mutations, observer) {{\n",
       "        var display = window.getComputedStyle(gd).display;\n",
       "        if (!display || display === 'none') {{\n",
       "            console.log([gd, 'removed!']);\n",
       "            Plotly.purge(gd);\n",
       "            observer.disconnect();\n",
       "        }}\n",
       "}});\n",
       "\n",
       "// Listen for the removal of the full notebook cells\n",
       "var notebookContainer = gd.closest('#notebook-container');\n",
       "if (notebookContainer) {{\n",
       "    x.observe(notebookContainer, {childList: true});\n",
       "}}\n",
       "\n",
       "// Listen for the clearing of the current output cell\n",
       "var outputEl = gd.closest('.output');\n",
       "if (outputEl) {{\n",
       "    x.observe(outputEl, {childList: true});\n",
       "}}\n",
       "\n",
       "                        })                };                });            </script>        </div>"
      ]
     },
     "metadata": {},
     "output_type": "display_data"
    }
   ],
   "source": [
    "import pandas as pd\n",
    "import numpy as np\n",
    "%matplotlib inline\n",
    "import plotly.graph_objs as go\n",
    "from  plotly.offline import plot\n",
    "import chart_studio.plotly as py\n",
    "import cufflinks as cf\n",
    "cf.go_offline()\n",
    "from plotly.offline import download_plotlyjs, init_notebook_mode, plot,iplot\n",
    "init_notebook_mode(connected='true')\n",
    "data=[trace1, trace2]\n",
    "fig=go.Figure(data=data, layout=layout)\n",
    "\n",
    "iplot(fig, filename='Les-Miserables')"
   ]
  }
 ],
 "metadata": {
  "kernelspec": {
   "display_name": "Python 3 (ipykernel)",
   "language": "python",
   "name": "python3"
  },
  "language_info": {
   "codemirror_mode": {
    "name": "ipython",
    "version": 3
   },
   "file_extension": ".py",
   "mimetype": "text/x-python",
   "name": "python",
   "nbconvert_exporter": "python",
   "pygments_lexer": "ipython3",
   "version": "3.8.13"
  }
 },
 "nbformat": 4,
 "nbformat_minor": 5
}
