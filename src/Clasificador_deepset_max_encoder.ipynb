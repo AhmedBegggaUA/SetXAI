{
 "cells": [
  {
   "cell_type": "code",
   "execution_count": 350,
   "id": "3000b42f",
   "metadata": {},
   "outputs": [],
   "source": [
    "import torch\n",
    "import torch.nn as nn\n",
    "import torch.nn.functional as F\n",
    "from utils import chamfer_loss\n",
    "from fspool import FSPool\n",
    "from model import FSEncoder\n",
    "from model import MaxEncoder\n",
    "from MnistSet import MNISTSet\n",
    "from MnistSet import get_loader"
   ]
  },
  {
   "cell_type": "markdown",
   "id": "4f7a45f5",
   "metadata": {},
   "source": [
    "### Preparamos los datos de entreno y test"
   ]
  },
  {
   "cell_type": "code",
   "execution_count": 351,
   "id": "5055d470",
   "metadata": {},
   "outputs": [],
   "source": [
    "batch_size = 32"
   ]
  },
  {
   "cell_type": "code",
   "execution_count": 352,
   "id": "aedc1024",
   "metadata": {},
   "outputs": [],
   "source": [
    "train_loader = get_loader(\n",
    "            MNISTSet(train=True, full=True), batch_size=batch_size, num_workers=4)"
   ]
  },
  {
   "cell_type": "code",
   "execution_count": 353,
   "id": "9cb41849",
   "metadata": {},
   "outputs": [],
   "source": [
    "test_loader = get_loader(\n",
    "            MNISTSet(train=False, full=True), batch_size=batch_size, num_workers=4)"
   ]
  },
  {
   "cell_type": "code",
   "execution_count": 354,
   "id": "5b5c9f23",
   "metadata": {},
   "outputs": [],
   "source": [
    "from time import sleep\n",
    "from tqdm import tqdm"
   ]
  },
  {
   "cell_type": "code",
   "execution_count": 355,
   "id": "745a93d1",
   "metadata": {},
   "outputs": [],
   "source": [
    "set_channels = 2\n",
    "set_size = 342\n",
    "  \n",
    "hidden_dim = 32\n",
    "iters = 10\n",
    "latent_dim = 16\n",
    "lr = 0.001\n",
    "n_epochs = 100\n",
    "net = MaxEncoder(set_channels,latent_dim,hidden_dim)"
   ]
  },
  {
   "cell_type": "code",
   "execution_count": 7,
   "id": "748bc30f",
   "metadata": {},
   "outputs": [
    {
     "data": {
      "text/plain": [
       "MaxEncoder(\n",
       "  (conv): Sequential(\n",
       "    (0): Conv1d(2, 32, kernel_size=(1,), stride=(1,))\n",
       "    (1): ReLU(inplace=True)\n",
       "    (2): Conv1d(32, 32, kernel_size=(1,), stride=(1,))\n",
       "  )\n",
       "  (lin): Sequential(\n",
       "    (0): Linear(in_features=32, out_features=32, bias=True)\n",
       "    (1): ReLU(inplace=True)\n",
       "    (2): Linear(in_features=32, out_features=16, bias=True)\n",
       "  )\n",
       "  (classifier): Sequential(\n",
       "    (0): Linear(in_features=16, out_features=16, bias=True)\n",
       "    (1): ReLU()\n",
       "    (2): Linear(in_features=16, out_features=10, bias=True)\n",
       "  )\n",
       ")"
      ]
     },
     "execution_count": 7,
     "metadata": {},
     "output_type": "execute_result"
    }
   ],
   "source": [
    "net"
   ]
  },
  {
   "cell_type": "code",
   "execution_count": 8,
   "id": "788e4adc",
   "metadata": {},
   "outputs": [],
   "source": [
    "optimizer = torch.optim.Adam([p for p in net.parameters() if p.requires_grad], lr=0.001)"
   ]
  },
  {
   "cell_type": "code",
   "execution_count": 9,
   "id": "fc00cff8",
   "metadata": {},
   "outputs": [],
   "source": [
    "#net = net.cuda()"
   ]
  },
  {
   "cell_type": "code",
   "execution_count": 10,
   "id": "e58149e5",
   "metadata": {
    "scrolled": true
   },
   "outputs": [
    {
     "name": "stderr",
     "output_type": "stream",
     "text": [
      "Epoch 0: 100%|█████████████████████████████████████████████████| 1875/1875 [01:00<00:00, 30.79batch/s, acc=31.2, loss=1.71]\n",
      "Epoch 1: 100%|█████████████████████████████████████████████████| 1875/1875 [00:59<00:00, 31.26batch/s, acc=46.9, loss=1.46]\n",
      "Epoch 2: 100%|█████████████████████████████████████████████████| 1875/1875 [00:59<00:00, 31.33batch/s, acc=59.4, loss=1.15]\n",
      "Epoch 3: 100%|████████████████████████████████████████████████| 1875/1875 [00:59<00:00, 31.62batch/s, acc=59.4, loss=0.996]\n",
      "Epoch 4: 100%|████████████████████████████████████████████████| 1875/1875 [00:59<00:00, 31.49batch/s, acc=87.5, loss=0.605]\n",
      "Epoch 5: 100%|█████████████████████████████████████████████████| 1875/1875 [00:59<00:00, 31.26batch/s, acc=71.9, loss=0.89]\n",
      "Epoch 6: 100%|████████████████████████████████████████████████| 1875/1875 [00:57<00:00, 32.75batch/s, acc=87.5, loss=0.577]\n",
      "Epoch 7: 100%|████████████████████████████████████████████████| 1875/1875 [00:59<00:00, 31.27batch/s, acc=81.2, loss=0.471]\n",
      "Epoch 8: 100%|████████████████████████████████████████████████| 1875/1875 [01:02<00:00, 30.16batch/s, acc=93.8, loss=0.274]\n",
      "Epoch 9: 100%|████████████████████████████████████████████████| 1875/1875 [01:03<00:00, 29.40batch/s, acc=87.5, loss=0.535]\n",
      "Epoch 10: 100%|███████████████████████████████████████████████| 1875/1875 [01:02<00:00, 29.86batch/s, acc=71.9, loss=0.729]\n",
      "Epoch 11: 100%|█████████████████████████████████████████████████| 1875/1875 [01:00<00:00, 30.98batch/s, acc=75, loss=0.625]\n",
      "Epoch 12: 100%|███████████████████████████████████████████████| 1875/1875 [01:04<00:00, 29.21batch/s, acc=90.6, loss=0.333]\n",
      "Epoch 13: 100%|███████████████████████████████████████████████| 1875/1875 [01:04<00:00, 29.00batch/s, acc=93.8, loss=0.272]\n",
      "Epoch 14: 100%|███████████████████████████████████████████████| 1875/1875 [01:00<00:00, 30.80batch/s, acc=84.4, loss=0.421]\n",
      "Epoch 15: 100%|███████████████████████████████████████████████| 1875/1875 [01:01<00:00, 30.53batch/s, acc=81.2, loss=0.478]\n",
      "Epoch 16: 100%|███████████████████████████████████████████████| 1875/1875 [01:12<00:00, 25.83batch/s, acc=87.5, loss=0.364]\n",
      "Epoch 17: 100%|███████████████████████████████████████████████| 1875/1875 [01:01<00:00, 30.44batch/s, acc=87.5, loss=0.387]\n",
      "Epoch 18: 100%|███████████████████████████████████████████████| 1875/1875 [01:00<00:00, 30.80batch/s, acc=87.5, loss=0.232]\n",
      "Epoch 19: 100%|███████████████████████████████████████████████| 1875/1875 [01:01<00:00, 30.29batch/s, acc=78.1, loss=0.504]\n",
      "Epoch 20: 100%|███████████████████████████████████████████████| 1875/1875 [01:01<00:00, 30.59batch/s, acc=93.8, loss=0.308]\n",
      "Epoch 21: 100%|███████████████████████████████████████████████| 1875/1875 [01:03<00:00, 29.67batch/s, acc=81.2, loss=0.703]\n",
      "Epoch 22: 100%|███████████████████████████████████████████████| 1875/1875 [01:02<00:00, 30.18batch/s, acc=93.8, loss=0.227]\n",
      "Epoch 23: 100%|███████████████████████████████████████████████| 1875/1875 [01:01<00:00, 30.61batch/s, acc=93.8, loss=0.223]\n",
      "Epoch 24: 100%|████████████████████████████████████████████████| 1875/1875 [01:03<00:00, 29.43batch/s, acc=93.8, loss=0.29]\n",
      "Epoch 25: 100%|███████████████████████████████████████████████| 1875/1875 [01:05<00:00, 28.60batch/s, acc=87.5, loss=0.327]\n",
      "Epoch 26: 100%|███████████████████████████████████████████████| 1875/1875 [01:02<00:00, 29.97batch/s, acc=87.5, loss=0.577]\n",
      "Epoch 27: 100%|███████████████████████████████████████████████| 1875/1875 [01:03<00:00, 29.61batch/s, acc=81.2, loss=0.414]\n",
      "Epoch 28: 100%|█████████████████████████████████████████████████| 1875/1875 [01:02<00:00, 29.86batch/s, acc=90.6, loss=0.4]\n",
      "Epoch 29: 100%|███████████████████████████████████████████████| 1875/1875 [01:03<00:00, 29.33batch/s, acc=93.8, loss=0.202]\n",
      "Epoch 30: 100%|███████████████████████████████████████████████| 1875/1875 [01:02<00:00, 30.23batch/s, acc=90.6, loss=0.294]\n",
      "Epoch 31: 100%|███████████████████████████████████████████████| 1875/1875 [01:05<00:00, 28.65batch/s, acc=96.9, loss=0.395]\n",
      "Epoch 32: 100%|███████████████████████████████████████████████| 1875/1875 [01:02<00:00, 30.17batch/s, acc=90.6, loss=0.357]\n",
      "Epoch 33: 100%|███████████████████████████████████████████████| 1875/1875 [01:01<00:00, 30.26batch/s, acc=90.6, loss=0.431]\n",
      "Epoch 34: 100%|███████████████████████████████████████████████| 1875/1875 [01:03<00:00, 29.65batch/s, acc=93.8, loss=0.175]\n",
      "Epoch 35: 100%|███████████████████████████████████████████████| 1875/1875 [01:02<00:00, 30.03batch/s, acc=81.2, loss=0.462]\n",
      "Epoch 36: 100%|███████████████████████████████████████████████| 1875/1875 [01:02<00:00, 30.03batch/s, acc=87.5, loss=0.236]\n",
      "Epoch 37: 100%|███████████████████████████████████████████████| 1875/1875 [01:00<00:00, 30.84batch/s, acc=90.6, loss=0.268]\n",
      "Epoch 38: 100%|████████████████████████████████████████████████| 1875/1875 [01:01<00:00, 30.63batch/s, acc=87.5, loss=0.54]\n",
      "Epoch 39: 100%|███████████████████████████████████████████████| 1875/1875 [02:36<00:00, 11.96batch/s, acc=87.5, loss=0.332]\n",
      "Epoch 40: 100%|██████████████████████████████████████████████| 1875/1875 [11:50<00:00,  2.64batch/s, acc=96.9, loss=0.0929]\n",
      "Epoch 41: 100%|███████████████████████████████████████████████| 1875/1875 [01:05<00:00, 28.80batch/s, acc=90.6, loss=0.232]\n",
      "Epoch 42: 100%|███████████████████████████████████████████████| 1875/1875 [01:01<00:00, 30.44batch/s, acc=93.8, loss=0.237]\n",
      "Epoch 43: 100%|███████████████████████████████████████████████| 1875/1875 [01:07<00:00, 27.68batch/s, acc=87.5, loss=0.434]\n",
      "Epoch 44: 100%|███████████████████████████████████████████████| 1875/1875 [01:02<00:00, 30.00batch/s, acc=90.6, loss=0.343]\n",
      "Epoch 45: 100%|███████████████████████████████████████████████| 1875/1875 [01:01<00:00, 30.54batch/s, acc=90.6, loss=0.276]\n",
      "Epoch 46: 100%|███████████████████████████████████████████████| 1875/1875 [01:02<00:00, 29.85batch/s, acc=93.8, loss=0.297]\n",
      "Epoch 47: 100%|████████████████████████████████████████████████| 1875/1875 [01:03<00:00, 29.47batch/s, acc=90.6, loss=0.25]\n",
      "Epoch 48: 100%|███████████████████████████████████████████████| 1875/1875 [02:48<00:00, 11.13batch/s, acc=87.5, loss=0.504]\n",
      "Epoch 49: 100%|███████████████████████████████████████████████| 1875/1875 [01:09<00:00, 26.84batch/s, acc=87.5, loss=0.249]\n",
      "Epoch 50: 100%|███████████████████████████████████████████████| 1875/1875 [01:01<00:00, 30.71batch/s, acc=90.6, loss=0.222]\n",
      "Epoch 51: 100%|███████████████████████████████████████████████| 1875/1875 [00:59<00:00, 31.35batch/s, acc=93.8, loss=0.152]\n",
      "Epoch 52: 100%|████████████████████████████████████████████████| 1875/1875 [01:00<00:00, 31.05batch/s, acc=93.8, loss=0.23]\n",
      "Epoch 53: 100%|███████████████████████████████████████████████| 1875/1875 [01:00<00:00, 31.13batch/s, acc=93.8, loss=0.223]\n",
      "Epoch 54: 100%|███████████████████████████████████████████████| 1875/1875 [00:57<00:00, 32.76batch/s, acc=87.5, loss=0.264]\n",
      "Epoch 55: 100%|███████████████████████████████████████████████| 1875/1875 [00:56<00:00, 33.16batch/s, acc=96.9, loss=0.204]\n",
      "Epoch 56: 100%|███████████████████████████████████████████████| 1875/1875 [01:10<00:00, 26.55batch/s, acc=81.2, loss=0.659]\n",
      "Epoch 57: 100%|███████████████████████████████████████████████| 1875/1875 [01:03<00:00, 29.59batch/s, acc=90.6, loss=0.189]\n",
      "Epoch 58: 100%|███████████████████████████████████████████████| 1875/1875 [01:04<00:00, 29.23batch/s, acc=90.6, loss=0.304]\n",
      "Epoch 59: 100%|████████████████████████████████████████████████| 1875/1875 [01:04<00:00, 29.25batch/s, acc=93.8, loss=0.13]\n",
      "Epoch 60: 100%|███████████████████████████████████████████████| 1875/1875 [00:56<00:00, 33.11batch/s, acc=87.5, loss=0.193]\n",
      "Epoch 61: 100%|███████████████████████████████████████████████| 1875/1875 [00:56<00:00, 33.18batch/s, acc=90.6, loss=0.258]\n",
      "Epoch 62: 100%|███████████████████████████████████████████████| 1875/1875 [00:59<00:00, 31.32batch/s, acc=87.5, loss=0.288]\n",
      "Epoch 63: 100%|███████████████████████████████████████████████| 1875/1875 [01:06<00:00, 28.21batch/s, acc=84.4, loss=0.372]\n",
      "Epoch 64: 100%|███████████████████████████████████████████████| 1875/1875 [01:06<00:00, 28.16batch/s, acc=96.9, loss=0.188]\n",
      "Epoch 65: 100%|███████████████████████████████████████████████| 1875/1875 [01:02<00:00, 29.84batch/s, acc=87.5, loss=0.361]\n",
      "Epoch 66: 100%|███████████████████████████████████████████████| 1875/1875 [01:01<00:00, 30.56batch/s, acc=81.2, loss=0.496]\n",
      "Epoch 67: 100%|███████████████████████████████████████████████| 1875/1875 [01:00<00:00, 30.75batch/s, acc=87.5, loss=0.281]\n",
      "Epoch 68: 100%|███████████████████████████████████████████████| 1875/1875 [01:01<00:00, 30.36batch/s, acc=93.8, loss=0.176]\n",
      "Epoch 69: 100%|███████████████████████████████████████████████| 1875/1875 [01:02<00:00, 29.86batch/s, acc=96.9, loss=0.106]\n",
      "Epoch 70: 100%|███████████████████████████████████████████████| 1875/1875 [01:01<00:00, 30.62batch/s, acc=81.2, loss=0.464]\n",
      "Epoch 71: 100%|███████████████████████████████████████████████| 1875/1875 [01:01<00:00, 30.54batch/s, acc=90.6, loss=0.262]\n",
      "Epoch 72: 100%|███████████████████████████████████████████████| 1875/1875 [01:01<00:00, 30.49batch/s, acc=93.8, loss=0.181]\n",
      "Epoch 73: 100%|███████████████████████████████████████████████| 1875/1875 [01:02<00:00, 30.18batch/s, acc=96.9, loss=0.212]\n",
      "Epoch 74: 100%|███████████████████████████████████████████████| 1875/1875 [01:02<00:00, 30.24batch/s, acc=96.9, loss=0.138]\n",
      "Epoch 75: 100%|███████████████████████████████████████████████| 1875/1875 [01:02<00:00, 30.16batch/s, acc=90.6, loss=0.151]\n",
      "Epoch 76: 100%|███████████████████████████████████████████████| 1875/1875 [01:04<00:00, 29.19batch/s, acc=87.5, loss=0.338]\n",
      "Epoch 77: 100%|████████████████████████████████████████████████| 1875/1875 [01:02<00:00, 29.96batch/s, acc=87.5, loss=0.19]\n",
      "Epoch 78: 100%|███████████████████████████████████████████████| 1875/1875 [01:04<00:00, 29.29batch/s, acc=90.6, loss=0.247]\n",
      "Epoch 79: 100%|███████████████████████████████████████████████| 1875/1875 [00:57<00:00, 32.55batch/s, acc=84.4, loss=0.363]\n",
      "Epoch 80: 100%|███████████████████████████████████████████████| 1875/1875 [00:57<00:00, 32.33batch/s, acc=96.9, loss=0.105]\n",
      "Epoch 81: 100%|███████████████████████████████████████████████| 1875/1875 [00:59<00:00, 31.40batch/s, acc=90.6, loss=0.317]\n",
      "Epoch 82: 100%|█████████████████████████████████████████████████| 1875/1875 [01:01<00:00, 30.30batch/s, acc=90.6, loss=0.3]\n",
      "Epoch 83: 100%|████████████████████████████████████████████████| 1875/1875 [01:01<00:00, 30.29batch/s, acc=100, loss=0.038]\n",
      "Epoch 84: 100%|█████████████████████████████████████████████████| 1875/1875 [01:26<00:00, 21.57batch/s, acc=93.8, loss=0.2]\n",
      "Epoch 85: 100%|█████████████████████████████████████████████████| 1875/1875 [01:07<00:00, 27.94batch/s, acc=90.6, loss=0.4]\n",
      "Epoch 86: 100%|███████████████████████████████████████████████| 1875/1875 [01:11<00:00, 26.31batch/s, acc=96.9, loss=0.248]\n",
      "Epoch 87: 100%|██████████████████████████████████████████████| 1875/1875 [01:19<00:00, 23.61batch/s, acc=96.9, loss=0.0636]\n",
      "Epoch 88: 100%|████████████████████████████████████████████████| 1875/1875 [01:09<00:00, 26.90batch/s, acc=90.6, loss=0.24]\n",
      "Epoch 89: 100%|███████████████████████████████████████████████| 1875/1875 [01:04<00:00, 28.95batch/s, acc=93.8, loss=0.127]\n",
      "Epoch 90: 100%|███████████████████████████████████████████████| 1875/1875 [01:00<00:00, 30.96batch/s, acc=90.6, loss=0.463]\n",
      "Epoch 91: 100%|███████████████████████████████████████████████| 1875/1875 [00:59<00:00, 31.42batch/s, acc=96.9, loss=0.122]\n",
      "Epoch 92: 100%|███████████████████████████████████████████████| 1875/1875 [01:11<00:00, 26.25batch/s, acc=96.9, loss=0.115]\n",
      "Epoch 93: 100%|███████████████████████████████████████████████| 1875/1875 [01:08<00:00, 27.54batch/s, acc=93.8, loss=0.128]\n",
      "Epoch 94: 100%|███████████████████████████████████████████████| 1875/1875 [01:01<00:00, 30.44batch/s, acc=93.8, loss=0.129]\n",
      "Epoch 95: 100%|███████████████████████████████████████████████| 1875/1875 [01:14<00:00, 25.19batch/s, acc=93.8, loss=0.258]\n",
      "Epoch 96: 100%|███████████████████████████████████████████████| 1875/1875 [01:05<00:00, 28.50batch/s, acc=100, loss=0.0272]\n",
      "Epoch 97: 100%|███████████████████████████████████████████████| 1875/1875 [01:11<00:00, 26.16batch/s, acc=93.8, loss=0.374]\n",
      "Epoch 98: 100%|████████████████████████████████████████████████| 1875/1875 [01:14<00:00, 25.10batch/s, acc=90.6, loss=0.24]\n",
      "Epoch 99: 100%|███████████████████████████████████████████████| 1875/1875 [01:13<00:00, 25.53batch/s, acc=84.4, loss=0.265]\n"
     ]
    }
   ],
   "source": [
    "net.train()\n",
    "for epoch in range(n_epochs):\n",
    "    with tqdm(train_loader, unit=\"batch\") as tepoch:\n",
    "        for i, sample in enumerate(tepoch):\n",
    "            tepoch.set_description(f\"Epoch {epoch}\")\n",
    "            input, target_set, target_mask = map(lambda x: x, sample)\n",
    "            optimizer.zero_grad()\n",
    "            output = net(target_set,target_mask)\n",
    "            loss = F.cross_entropy(output, input)\n",
    "            acc = (output.max(dim=1)[1] == input).float().mean()\n",
    "            loss.backward()\n",
    "            optimizer.step()\n",
    "            tepoch.set_postfix(loss=loss.item(), acc=100. * acc.item())"
   ]
  },
  {
   "cell_type": "code",
   "execution_count": 11,
   "id": "91ee74ab",
   "metadata": {},
   "outputs": [
    {
     "name": "stderr",
     "output_type": "stream",
     "text": [
      "Epoch 1: 100%|██████████████████████████████████████████████████| 312/312 [00:08<00:00, 37.03batch/s, acc=100, loss=0.0594]\n"
     ]
    }
   ],
   "source": [
    "net.eval()\n",
    "with tqdm(test_loader, unit=\"batch\") as tepoch:\n",
    "    for i, sample in enumerate(tepoch):\n",
    "        tepoch.set_description(f\"Epoch {1}\")\n",
    "        input, target_set, target_mask = map(lambda x: x, sample)\n",
    "        output = net(target_set,target_mask)\n",
    "        loss = F.cross_entropy(output, input)\n",
    "        acc = (output.max(dim=1)[1] == input).float().mean()\n",
    "        tepoch.set_postfix(loss=loss.item(), acc=100. * acc.item())"
   ]
  },
  {
   "cell_type": "code",
   "execution_count": 12,
   "id": "12e662b6",
   "metadata": {},
   "outputs": [],
   "source": [
    "#torch.save(net.state_dict(),'model_max_encoder.pth')"
   ]
  },
  {
   "cell_type": "code",
   "execution_count": 356,
   "id": "e59e6fe8",
   "metadata": {},
   "outputs": [],
   "source": [
    "model = torch.load('model_max_encoder.pth' ,map_location=torch.device('cpu'))\n",
    "miNet = MaxEncoder(set_channels,latent_dim,hidden_dim)"
   ]
  },
  {
   "cell_type": "code",
   "execution_count": 357,
   "id": "840d7d86",
   "metadata": {},
   "outputs": [
    {
     "data": {
      "text/plain": [
       "<All keys matched successfully>"
      ]
     },
     "execution_count": 357,
     "metadata": {},
     "output_type": "execute_result"
    }
   ],
   "source": [
    "miNet.load_state_dict(torch.load('model_max_encoder.pth' ,map_location=torch.device('cpu')))"
   ]
  },
  {
   "cell_type": "code",
   "execution_count": 358,
   "id": "84f7dbd1",
   "metadata": {},
   "outputs": [
    {
     "data": {
      "text/plain": [
       "MaxEncoder(\n",
       "  (conv): Sequential(\n",
       "    (0): Conv1d(2, 32, kernel_size=(1,), stride=(1,))\n",
       "    (1): ReLU(inplace=True)\n",
       "    (2): Conv1d(32, 32, kernel_size=(1,), stride=(1,))\n",
       "  )\n",
       "  (lin): Sequential(\n",
       "    (0): Linear(in_features=32, out_features=32, bias=True)\n",
       "    (1): ReLU(inplace=True)\n",
       "    (2): Linear(in_features=32, out_features=16, bias=True)\n",
       "  )\n",
       "  (classifier): Sequential(\n",
       "    (0): Linear(in_features=16, out_features=16, bias=True)\n",
       "    (1): ReLU()\n",
       "    (2): Linear(in_features=16, out_features=10, bias=True)\n",
       "  )\n",
       ")"
      ]
     },
     "execution_count": 358,
     "metadata": {},
     "output_type": "execute_result"
    }
   ],
   "source": [
    "miNet"
   ]
  },
  {
   "cell_type": "code",
   "execution_count": 359,
   "id": "48e595cb",
   "metadata": {},
   "outputs": [
    {
     "name": "stderr",
     "output_type": "stream",
     "text": [
      "Epoch 1: 100%|███████| 312/312 [00:08<00:00, 36.55batch/s, acc=96.9, loss=0.147]\n"
     ]
    }
   ],
   "source": [
    "miNet.eval()\n",
    "with tqdm(test_loader, unit=\"batch\") as tepoch:\n",
    "    for i, sample in enumerate(tepoch):\n",
    "        tepoch.set_description(f\"Epoch {1}\")\n",
    "        input, target_set, target_mask = map(lambda x: x, sample)\n",
    "        output = miNet(target_set,target_mask)\n",
    "        loss = F.cross_entropy(output, input)\n",
    "        acc = (output.max(dim=1)[1] == input).float().mean()\n",
    "        tepoch.set_postfix(loss=loss.item(), acc=100. * acc.item())"
   ]
  },
  {
   "cell_type": "code",
   "execution_count": 360,
   "id": "d37ebce9",
   "metadata": {},
   "outputs": [],
   "source": [
    "import seaborn as sn\n",
    "import matplotlib\n",
    "import matplotlib.pyplot as pyplot\n",
    "import numpy as np"
   ]
  },
  {
   "cell_type": "code",
   "execution_count": 361,
   "id": "5857a094",
   "metadata": {},
   "outputs": [
    {
     "data": {
      "text/plain": [
       "MaxEncoder(\n",
       "  (conv): Sequential(\n",
       "    (0): Conv1d(2, 32, kernel_size=(1,), stride=(1,))\n",
       "    (1): ReLU(inplace=True)\n",
       "    (2): Conv1d(32, 32, kernel_size=(1,), stride=(1,))\n",
       "  )\n",
       "  (lin): Sequential(\n",
       "    (0): Linear(in_features=32, out_features=32, bias=True)\n",
       "    (1): ReLU(inplace=True)\n",
       "    (2): Linear(in_features=32, out_features=16, bias=True)\n",
       "  )\n",
       "  (classifier): Sequential(\n",
       "    (0): Linear(in_features=16, out_features=16, bias=True)\n",
       "    (1): ReLU()\n",
       "    (2): Linear(in_features=16, out_features=10, bias=True)\n",
       "  )\n",
       ")"
      ]
     },
     "execution_count": 361,
     "metadata": {},
     "output_type": "execute_result"
    }
   ],
   "source": [
    "miNet"
   ]
  },
  {
   "cell_type": "code",
   "execution_count": 362,
   "id": "79c34098",
   "metadata": {},
   "outputs": [
    {
     "data": {
      "image/png": "[encoded data removed]",
      "text/plain": [
       "<Figure size 432x288 with 2 Axes>"
      ]
     },
     "metadata": {
      "needs_background": "light"
     },
     "output_type": "display_data"
    },
    {
     "data": {
      "image/png": "[encoded data removed]",
      "text/plain": [
       "<Figure size 432x288 with 2 Axes>"
      ]
     },
     "metadata": {
      "needs_background": "light"
     },
     "output_type": "display_data"
    }
   ],
   "source": [
    "filters= miNet.conv[0].weight\n",
    "data = filters.squeeze(2).detach().numpy()\n",
    "sn.heatmap(data, annot=False, fmt='g')\n",
    "pyplot.title(\"Primera capa de conv1d\")\n",
    "pyplot.show()\n",
    "filters= miNet.conv[2].weight\n",
    "data = filters.squeeze(2).detach().numpy()\n",
    "sn.heatmap(data, annot=False, fmt='g')\n",
    "pyplot.title(\"Segunda capa de conv1d\")\n",
    "pyplot.show()"
   ]
  },
  {
   "cell_type": "code",
   "execution_count": 363,
   "id": "61a572ed",
   "metadata": {},
   "outputs": [
    {
     "name": "stdout",
     "output_type": "stream",
     "text": [
      "torch.Size([32, 32])\n"
     ]
    },
    {
     "data": {
      "image/png": "[encoded data removed]",
      "text/plain": [
       "<Figure size 432x288 with 2 Axes>"
      ]
     },
     "metadata": {
      "needs_background": "light"
     },
     "output_type": "display_data"
    }
   ],
   "source": [
    "filters= miNet.lin[0].weight\n",
    "print(filters.shape)\n",
    "data = filters.detach().numpy()\n",
    "sn.heatmap(data, annot=False, fmt='g')\n",
    "pyplot.title(\"Pesos de la primera capa linear\")\n",
    "pyplot.show()"
   ]
  },
  {
   "cell_type": "code",
   "execution_count": 364,
   "id": "3db1cf86",
   "metadata": {},
   "outputs": [
    {
     "name": "stdout",
     "output_type": "stream",
     "text": [
      "torch.Size([16, 32])\n"
     ]
    },
    {
     "data": {
      "image/png": "[encoded data removed]",
      "text/plain": [
       "<Figure size 432x288 with 2 Axes>"
      ]
     },
     "metadata": {
      "needs_background": "light"
     },
     "output_type": "display_data"
    }
   ],
   "source": [
    "filters= miNet.lin[2].weight\n",
    "print(filters.shape)\n",
    "data = filters.detach().numpy()\n",
    "sn.heatmap(data, annot=False, fmt='g')\n",
    "pyplot.title(\"Pesos de la Segunda capa linear\")\n",
    "pyplot.show()"
   ]
  },
  {
   "cell_type": "code",
   "execution_count": 422,
   "id": "ba874c2a",
   "metadata": {},
   "outputs": [
    {
     "data": {
      "image/png": "[encoded data removed]",
      "text/plain": [
       "<Figure size 432x288 with 1 Axes>"
      ]
     },
     "metadata": {
      "needs_background": "light"
     },
     "output_type": "display_data"
    },
    {
     "data": {
      "text/plain": [
       "torch.Tensor"
      ]
     },
     "execution_count": 422,
     "metadata": {},
     "output_type": "execute_result"
    }
   ],
   "source": [
    "dataset = MNISTSet(train=False, full=True)\n",
    "expected, sample,mask_sample = dataset[9]\n",
    "expected2, sample2,mask_sample2 = dataset[9]\n",
    "x = sample[1, :]\n",
    "y = sample[0, :]\n",
    "pyplot.scatter(x, y,color ='b')\n",
    "pyplot.axis([0, 1, 1, 0])\n",
    "pyplot.title('Label: {}'.format(expected))\n",
    "#plt.savefig('test.png')\n",
    "pyplot.show()\n",
    "sample = sample.unsqueeze(0)\n",
    "mask_sample = mask_sample.unsqueeze(0)\n",
    "expected = torch.tensor(expected).unsqueeze(0)\n",
    "type(sample)"
   ]
  },
  {
   "cell_type": "code",
   "execution_count": 366,
   "id": "eb18eca2",
   "metadata": {},
   "outputs": [
    {
     "name": "stdout",
     "output_type": "stream",
     "text": [
      "We obtained 9, and the expected is: 9\n"
     ]
    }
   ],
   "source": [
    "with torch.no_grad():\n",
    "    pred = miNet(sample,mask_sample)\n",
    "    print(\"We obtained {}, and the expected is: {}\".format(np.argmax(pred).item(),expected.item()))"
   ]
  },
  {
   "cell_type": "code",
   "execution_count": 367,
   "id": "77267ddb",
   "metadata": {},
   "outputs": [],
   "source": [
    "class Model1(nn.Module):\n",
    "    def __init__(self, input_channels, output_channels, dim, **kwargs):\n",
    "        super().__init__()\n",
    "        self.conv = nn.Sequential(\n",
    "            nn.Conv1d(input_channels, dim, 1),\n",
    "            nn.ReLU(inplace=True),\n",
    "            nn.Conv1d(dim, dim, 1),\n",
    "        )\n",
    "        self.lin = nn.Sequential(\n",
    "            nn.Linear(dim, dim, 1),\n",
    "            nn.ReLU(inplace=True),\n",
    "            nn.Linear(dim, output_channels, 1),\n",
    "        )\n",
    "        self.classifier = nn.Sequential(\n",
    "            nn.Linear(output_channels, output_channels),\n",
    "            nn.ReLU(),\n",
    "            nn.Linear(output_channels, 10),\n",
    "        )\n",
    "\n",
    "    def forward(self, x, n_points, *args):\n",
    "        x = self.conv(x)\n",
    "        #x = x.max(2)[0]\n",
    "        #x = self.lin(x)\n",
    "        return x"
   ]
  },
  {
   "cell_type": "code",
   "execution_count": 368,
   "id": "592a4aac",
   "metadata": {},
   "outputs": [],
   "source": [
    "class Model2(nn.Module):\n",
    "    def __init__(self, input_channels, output_channels, dim, **kwargs):\n",
    "        super().__init__()\n",
    "        self.conv = nn.Sequential(\n",
    "            nn.Conv1d(input_channels, dim, 1),\n",
    "            nn.ReLU(inplace=True),\n",
    "            nn.Conv1d(dim, dim, 1),\n",
    "        )\n",
    "        self.lin = nn.Sequential(\n",
    "            nn.Linear(dim, dim, 1),\n",
    "            nn.ReLU(inplace=True),\n",
    "            nn.Linear(dim, output_channels, 1),\n",
    "        )\n",
    "        self.classifier = nn.Sequential(\n",
    "            nn.Linear(output_channels, output_channels),\n",
    "            nn.ReLU(),\n",
    "            nn.Linear(output_channels, 10),\n",
    "        )\n",
    "\n",
    "    def forward(self, x, n_points, *args):\n",
    "        x = self.conv(x)\n",
    "        x = x.max(2)[0]\n",
    "        #x = self.lin(x)\n",
    "        return x"
   ]
  },
  {
   "cell_type": "code",
   "execution_count": 369,
   "id": "57139e69",
   "metadata": {},
   "outputs": [
    {
     "data": {
      "image/png": "[encoded data removed]",
      "text/plain": [
       "<Figure size 432x288 with 2 Axes>"
      ]
     },
     "metadata": {
      "needs_background": "light"
     },
     "output_type": "display_data"
    },
    {
     "name": "stdout",
     "output_type": "stream",
     "text": [
      "torch.Size([1, 32])\n"
     ]
    },
    {
     "data": {
      "image/png": "[encoded data removed]",
      "text/plain": [
       "<Figure size 432x288 with 2 Axes>"
      ]
     },
     "metadata": {
      "needs_background": "light"
     },
     "output_type": "display_data"
    }
   ],
   "source": [
    "model1 = Model1(set_channels,latent_dim,hidden_dim)\n",
    "model2 = Model2(set_channels,latent_dim,hidden_dim)\n",
    "model1.conv = miNet.conv\n",
    "model2.conv = miNet.conv\n",
    "#print(miNet.conv[0].weight) \n",
    "#print(model1.conv[0].weight)\n",
    "with torch.no_grad():\n",
    "    pred = model1(sample,mask_sample)\n",
    "    feature_map = pred\n",
    "    data = pred.squeeze(0).detach().view(342,32).numpy()\n",
    "    sn.heatmap(data, annot=False, fmt='g')\n",
    "    pyplot.title(\"Salida después de la primera capa\")\n",
    "    pyplot.show()\n",
    "    \n",
    "    pred = model2(sample,mask_sample)\n",
    "    max_map = pred\n",
    "    print(pred.shape)\n",
    "    data = pred.detach().numpy()\n",
    "    sn.heatmap(data, annot=False, fmt='g')\n",
    "    pyplot.title(\"Salida después del max\")\n",
    "    pyplot.show()"
   ]
  },
  {
   "cell_type": "code",
   "execution_count": 385,
   "id": "8aa0f739",
   "metadata": {},
   "outputs": [
    {
     "name": "stdout",
     "output_type": "stream",
     "text": [
      "-----------------------------------------------------------------------------\n",
      "[ 0.07808201  0.01866242 -0.01207023 -0.02613536  0.14314215  0.09284754\n",
      " -0.08918304  0.05127144 -0.17036313 -0.0494963   0.00383991  0.17104594\n",
      "  0.22505441 -0.02330284 -0.0390656   0.08792824  0.21151206  0.13782504\n",
      " -0.16434664 -0.23453392  0.03073306 -0.20201781 -0.10039525  0.11468244\n",
      "  0.35325494 -0.00815463  0.06617416 -0.02455875  0.09985195  0.17420214\n",
      " -0.10818332  0.37265724]\n",
      "[0. 1. 2. 0. 0. 0. 0. 0. 0. 0. 0. 0. 0. 0. 0. 0. 0. 0. 0. 0. 0. 0. 0. 0.\n",
      " 0. 0. 2. 0. 0. 0. 0. 0. 0. 1. 2. 0. 0. 0. 0. 0. 0. 0. 0. 0. 0. 0. 0. 0.\n",
      " 0. 0. 0. 1. 0. 0. 0. 1. 0. 0. 0. 0. 0. 0. 0. 0. 0. 0. 0. 0. 0. 0. 0. 0.\n",
      " 0. 0. 0. 1. 0. 0. 0. 1. 0. 0. 0. 0. 0. 0. 0. 0. 0. 1. 0. 0. 0. 0. 0. 0.\n",
      " 1. 3. 1. 0. 0. 0. 0. 0. 0. 0. 0. 0. 0. 0. 0. 0. 0. 0. 0. 0. 0. 0. 0. 0.\n",
      " 0. 0. 0. 0. 0. 0. 0. 0. 0. 0. 0. 3. 0. 0. 0. 0. 0. 0. 0. 2. 0. 0. 0. 0.\n",
      " 0. 0. 0. 2. 0. 0. 1. 0. 0. 0. 0. 0. 0. 6. 6. 6. 6. 6. 6. 6. 6. 6. 6. 6.\n",
      " 6. 6. 6. 6. 6. 6. 6. 6. 6. 6. 6. 6. 6. 6. 6. 6. 6. 6. 6. 6. 6. 6. 6. 6.\n",
      " 6. 6. 6. 6. 6. 6. 6. 6. 6. 6. 6. 6. 6. 6. 6. 6. 6. 6. 6. 6. 6. 6. 6. 6.\n",
      " 6. 6. 6. 6. 6. 6. 6. 6. 6. 6. 6. 6. 6. 6. 6. 6. 6. 6. 6. 6. 6. 6. 6. 6.\n",
      " 6. 6. 6. 6. 6. 6. 6. 6. 6. 6. 6. 6. 6. 6. 6. 6. 6. 6. 6. 6. 6. 6. 6. 6.\n",
      " 6. 6. 6. 6. 6. 6. 6. 6. 6. 6. 6. 6. 6. 6. 6. 6. 6. 6. 6. 6. 6. 6. 6. 6.\n",
      " 6. 6. 6. 6. 6. 6. 6. 6. 6. 6. 6. 6. 6. 6. 6. 6. 6. 6. 6. 6. 6. 6. 6. 6.\n",
      " 6. 6. 6. 6. 6. 6. 6. 6. 6. 6. 6. 6. 6. 6. 6. 6. 6. 6. 6. 6. 6. 6. 6. 6.\n",
      " 6. 6. 6. 6. 6. 6.]\n",
      "(32, 342)\n"
     ]
    },
    {
     "data": {
      "text/plain": [
       "32"
      ]
     },
     "execution_count": 385,
     "metadata": {},
     "output_type": "execute_result"
    }
   ],
   "source": [
    "critical = np.zeros(342)\n",
    "features = feature_map.squeeze(0).detach().numpy()\n",
    "maxs = max_map.squeeze(0).detach().numpy()\n",
    "#print(features)\n",
    "print('-----------------------------------------------------------------------------')\n",
    "print(maxs)\n",
    "\n",
    "for f in range(32):\n",
    "    for p in range(342):\n",
    "        if features[f,p] == maxs[f]:\n",
    "            critical[p] =critical[p]+1\n",
    "print(critical)\n",
    "print(features.shape)\n",
    "xmax = features.max(axis=1)\n",
    "xmaxargs = features.argmax(axis=1)\n",
    "xmaxargs.size"
   ]
  },
  {
   "cell_type": "code",
   "execution_count": 371,
   "id": "e511adfd",
   "metadata": {},
   "outputs": [],
   "source": [
    "points = sample.squeeze(0).numpy()"
   ]
  },
  {
   "cell_type": "code",
   "execution_count": 581,
   "id": "eeec2f12",
   "metadata": {},
   "outputs": [
    {
     "name": "stdout",
     "output_type": "stream",
     "text": [
      "80\n",
      "202\n",
      "185\n"
     ]
    }
   ],
   "source": [
    "sorted_critical = -np.sort(-critical)\n",
    "sorted_critical_args = -np.argsort(-critical)\n",
    "#print(sorted_critical_args)\n",
    "K = 80\n",
    "critical_points_x = []\n",
    "critical_points_y = []\n",
    "for k in range(K):\n",
    "    critical_points_y.append(points[0,sorted_critical_args[k]])\n",
    "    critical_points_x.append(points[1,sorted_critical_args[k]])\n",
    "\n",
    "#criticos = critical_points.reshape(2,100)\n",
    "#print(critical_points_x)\n",
    "print(len(critical_points_x))\n",
    "#print(critical_points_y)\n",
    "print(np.sum(sorted_critical >0))\n",
    "print(np.sum(sorted_critical == 6))"
   ]
  },
  {
   "cell_type": "code",
   "execution_count": 583,
   "id": "92da22ce",
   "metadata": {},
   "outputs": [
    {
     "name": "stdout",
     "output_type": "stream",
     "text": [
      "[  1   2   2  26  26  33  34  34  51  55  75  79  89  96  97  97  97  98\n",
      " 131 131 131 139 139 147 147 150 157 157 157 157 157 157]\n",
      "1\n",
      "2\n",
      "26\n",
      "33\n",
      "34\n",
      "51\n",
      "55\n",
      "75\n",
      "79\n",
      "89\n",
      "96\n",
      "97\n",
      "98\n",
      "131\n",
      "139\n",
      "147\n",
      "150\n",
      "17\n"
     ]
    }
   ],
   "source": [
    "#Otro metodo\n",
    "#print(sorted_critical_args)\n",
    "K = 12\n",
    "critical_points_ahmed_x = []\n",
    "critical_points_ahmed_y = []\n",
    "pr = np.sort(xmax)\n",
    "prarg = np.sort(xmaxargs)\n",
    "newxmaxargs = np.unique(xmaxargs)\n",
    "print(prarg)\n",
    "k = 17\n",
    "for k in range(len(newxmaxargs)-1):\n",
    "        critical_points_ahmed_y.append(points[0,newxmaxargs[k]])\n",
    "        critical_points_ahmed_x.append(points[1,newxmaxargs[k]])\n",
    "        print(newxmaxargs[k])\n",
    "\n",
    "#criticos = critical_points.reshape(2,100)\n",
    "#print(critical_points_x)\n",
    "print(len(critical_points_ahmed_x))"
   ]
  },
  {
   "cell_type": "code",
   "execution_count": 588,
   "id": "2c86cd50",
   "metadata": {},
   "outputs": [
    {
     "data": {
      "image/png": "[encoded data removed]",
      "text/plain": [
       "<Figure size 432x288 with 1 Axes>"
      ]
     },
     "metadata": {
      "needs_background": "light"
     },
     "output_type": "display_data"
    },
    {
     "data": {
      "image/png": "[encoded data removed]",
      "text/plain": [
       "<Figure size 432x288 with 1 Axes>"
      ]
     },
     "metadata": {
      "needs_background": "light"
     },
     "output_type": "display_data"
    },
    {
     "data": {
      "image/png": "[encoded data removed]",
      "text/plain": [
       "<Figure size 432x288 with 1 Axes>"
      ]
     },
     "metadata": {
      "needs_background": "light"
     },
     "output_type": "display_data"
    },
    {
     "data": {
      "image/png": "[encoded data removed]",
      "text/plain": [
       "<Figure size 432x288 with 1 Axes>"
      ]
     },
     "metadata": {
      "needs_background": "light"
     },
     "output_type": "display_data"
    }
   ],
   "source": [
    "x1 = critical_points_x\n",
    "y1 = critical_points_y\n",
    "pyplot.scatter(x1, y1,marker='o',color ='r',s=50)\n",
    "sam = sample.squeeze(0)\n",
    "x = sam[1, :]\n",
    "y = sam[0, :]\n",
    "pyplot.scatter(x, y,c ='b',s=20)\n",
    "x2 = critical_points_ahmed_x\n",
    "y2 = critical_points_ahmed_y\n",
    "pyplot.scatter(x2, y2,marker='x',color ='g')\n",
    "pyplot.axis([0, 1, 1, 0])\n",
    "pyplot.show()\n",
    "\n",
    "x = critical_points_x\n",
    "y = critical_points_y\n",
    "pyplot.scatter(x, y,marker='x',color ='r')\n",
    "pyplot.axis([0, 1, 1, 0])\n",
    "pyplot.show()\n",
    "\n",
    "sam = sample.squeeze(0)\n",
    "x = sam[1, :]\n",
    "y = sam[0, :]\n",
    "pyplot.scatter(x, y,c ='b',s=20)\n",
    "pyplot.axis([0, 1, 1, 0])\n",
    "#pyplot.title('Label: {}'.format(expected))\n",
    "#plt.savefig('test.png')\n",
    "pyplot.show()\n",
    "\n",
    "x2 = critical_points_ahmed_x\n",
    "y2 = critical_points_ahmed_y\n",
    "pyplot.scatter(x2, y2,marker='x',color ='g')\n",
    "pyplot.axis([0, 1, 1, 0])\n",
    "pyplot.show()"
   ]
  },
  {
   "cell_type": "code",
   "execution_count": 571,
   "id": "2e080a7c",
   "metadata": {},
   "outputs": [
    {
     "name": "stdout",
     "output_type": "stream",
     "text": [
      "torch.Size([1, 80])\n",
      "torch.Size([1, 2, 80])\n",
      "torch.Size([1, 2, 342])\n",
      "torch.Size([1, 342])\n"
     ]
    }
   ],
   "source": [
    "muestraSintetica = torch.zeros(1,2,262)\n",
    "a  = torch.Tensor(x1).unsqueeze(0)\n",
    "k  = torch.Tensor(y1).unsqueeze(0)\n",
    "print(kk.shape)\n",
    "f = torch.cat((k,a),0).unsqueeze(0)\n",
    "print(f.shape)\n",
    "muestraSintetica = torch.cat((f,muestraSintetica,),2)\n",
    "muestraSintetica.shape\n",
    "mask_sintetica = torch.ones(1,342)\n",
    "print(muestraSintetica.shape)\n",
    "print(mask_sintetica.shape)"
   ]
  },
  {
   "cell_type": "code",
   "execution_count": 562,
   "id": "99233696",
   "metadata": {},
   "outputs": [
    {
     "data": {
      "text/plain": [
       "324"
      ]
     },
     "execution_count": 562,
     "metadata": {},
     "output_type": "execute_result"
    }
   ],
   "source": [
    "342-18"
   ]
  },
  {
   "cell_type": "code",
   "execution_count": 572,
   "id": "16760673",
   "metadata": {},
   "outputs": [
    {
     "data": {
      "image/png": "[encoded data removed]",
      "text/plain": [
       "<Figure size 432x288 with 1 Axes>"
      ]
     },
     "metadata": {
      "needs_background": "light"
     },
     "output_type": "display_data"
    }
   ],
   "source": [
    "sam = muestraSintetica.squeeze(0)\n",
    "x = sam[1, :]\n",
    "y = sam[0, :]\n",
    "pyplot.scatter(x, y,c ='b',s=40)\n",
    "y1 = critical_points_y\n",
    "x1 = critical_points_x\n",
    "pyplot.scatter(x1, y1,marker='x',color ='r')\n",
    "pyplot.axis([0, 1, 1, 0])\n",
    "#pyplot.title('Label: {}'.format(expected))\n",
    "#plt.savefig('test.png')\n",
    "pyplot.show()"
   ]
  },
  {
   "cell_type": "code",
   "execution_count": 573,
   "id": "5e3d3a4e",
   "metadata": {},
   "outputs": [
    {
     "name": "stdout",
     "output_type": "stream",
     "text": [
      "torch.Size([1, 2, 342])\n",
      "torch.Size([1, 342])\n",
      "We obtained 9, and the expected is: 9\n"
     ]
    }
   ],
   "source": [
    "with torch.no_grad():\n",
    "    pred = miNet(muestraSintetica,mask_sintetica)\n",
    "    print(muestraSintetica.shape)\n",
    "    print(mask_sintetica.shape)\n",
    "    print(\"We obtained {}, and the expected is: {}\".format(np.argmax(pred).item(),expected.item()))"
   ]
  },
  {
   "cell_type": "markdown",
   "id": "4bc188d5",
   "metadata": {},
   "source": [
    "## Otro experimento"
   ]
  },
  {
   "cell_type": "code",
   "execution_count": 565,
   "id": "a2ad1839",
   "metadata": {},
   "outputs": [
    {
     "data": {
      "text/plain": [
       "324"
      ]
     },
     "execution_count": 565,
     "metadata": {},
     "output_type": "execute_result"
    }
   ],
   "source": [
    "342 - 18"
   ]
  },
  {
   "cell_type": "code",
   "execution_count": 574,
   "id": "d8494fe5",
   "metadata": {},
   "outputs": [
    {
     "name": "stdout",
     "output_type": "stream",
     "text": [
      "torch.Size([1, 80])\n",
      "torch.Size([1, 2, 17])\n",
      "torch.Size([1, 2, 342])\n",
      "torch.Size([1, 342])\n"
     ]
    }
   ],
   "source": [
    "muestraSintetica = torch.zeros(1,2,325)\n",
    "a  = torch.Tensor(x2).unsqueeze(0)\n",
    "k  = torch.Tensor(y2).unsqueeze(0)\n",
    "print(kk.shape)\n",
    "f = torch.cat((k,a),0).unsqueeze(0)\n",
    "print(f.shape)\n",
    "muestraSintetica = torch.cat((f,muestraSintetica,),2)\n",
    "muestraSintetica.shape\n",
    "mask_sintetica = torch.ones(1,342)\n",
    "print(muestraSintetica.shape)\n",
    "print(mask_sintetica.shape)"
   ]
  },
  {
   "cell_type": "code",
   "execution_count": 575,
   "id": "d586c12a",
   "metadata": {},
   "outputs": [
    {
     "data": {
      "image/png": "[encoded data removed]",
      "text/plain": [
       "<Figure size 432x288 with 1 Axes>"
      ]
     },
     "metadata": {
      "needs_background": "light"
     },
     "output_type": "display_data"
    }
   ],
   "source": [
    "sam = muestraSintetica.squeeze(0)\n",
    "x = sam[1, :]\n",
    "y = sam[0, :]\n",
    "pyplot.scatter(x, y,c ='b',s=40)\n",
    "y1 = critical_points_ahmed_y\n",
    "x1 = critical_points_ahmed_x\n",
    "pyplot.scatter(x1, y1,marker='x',color ='r')\n",
    "pyplot.axis([0, 1, 1, 0])\n",
    "#pyplot.title('Label: {}'.format(expected))\n",
    "#plt.savefig('test.png')\n",
    "pyplot.show()"
   ]
  },
  {
   "cell_type": "code",
   "execution_count": 576,
   "id": "19b52263",
   "metadata": {},
   "outputs": [
    {
     "name": "stdout",
     "output_type": "stream",
     "text": [
      "torch.Size([1, 2, 342])\n",
      "torch.Size([1, 342])\n",
      "We obtained 9, and the expected is: 9\n"
     ]
    }
   ],
   "source": [
    "with torch.no_grad():\n",
    "    pred = miNet(muestraSintetica,mask_sintetica)\n",
    "    print(muestraSintetica.shape)\n",
    "    print(mask_sintetica.shape)\n",
    "    print(\"We obtained {}, and the expected is: {}\".format(np.argmax(pred).item(),expected.item()))"
   ]
  },
  {
   "cell_type": "markdown",
   "id": "5f876573",
   "metadata": {},
   "source": [
    "## Como afecta el eliminar los puntos críticos"
   ]
  },
  {
   "cell_type": "code",
   "execution_count": 423,
   "id": "dc222bf2",
   "metadata": {},
   "outputs": [
    {
     "name": "stdout",
     "output_type": "stream",
     "text": [
      "80\n"
     ]
    }
   ],
   "source": [
    "import random\n",
    "\n",
    "newSample = sample.clone().detach() #b\n",
    "crit= -sorted_critical_args[:80]\n",
    "print(len(crit))\n",
    "for k in crit:\n",
    "    #print(k)\n",
    "    newSample[:,0,k] = random.uniform(0, 1)\n",
    "    newSample[:,1,k] = random.uniform(0, 1)\n",
    "#print(newSample)"
   ]
  },
  {
   "cell_type": "code",
   "execution_count": 426,
   "id": "0046e298",
   "metadata": {},
   "outputs": [],
   "source": [
    "sample2 = sample2.unsqueeze(0)"
   ]
  },
  {
   "cell_type": "code",
   "execution_count": 427,
   "id": "86f8d351",
   "metadata": {},
   "outputs": [
    {
     "name": "stdout",
     "output_type": "stream",
     "text": [
      "32\n"
     ]
    }
   ],
   "source": [
    "import random\n",
    "\n",
    "newSample2 = sample2.clone().detach() #b\n",
    "crit2= xmaxargs[:32]\n",
    "print(len(crit2))\n",
    "for k in crit:\n",
    "    #print(k)\n",
    "    newSample2[:,0,k] = random.uniform(0, 1)\n",
    "    newSample2[:,1,k] = random.uniform(0, 1)\n",
    "#print(newSample2)"
   ]
  },
  {
   "cell_type": "code",
   "execution_count": null,
   "id": "c7d005c3",
   "metadata": {},
   "outputs": [],
   "source": []
  },
  {
   "cell_type": "code",
   "execution_count": 379,
   "id": "0e97b3ba",
   "metadata": {},
   "outputs": [
    {
     "data": {
      "image/png": "[encoded data removed]",
      "text/plain": [
       "<Figure size 432x288 with 1 Axes>"
      ]
     },
     "metadata": {
      "needs_background": "light"
     },
     "output_type": "display_data"
    },
    {
     "data": {
      "image/png": "[encoded data removed]",
      "text/plain": [
       "<Figure size 432x288 with 1 Axes>"
      ]
     },
     "metadata": {
      "needs_background": "light"
     },
     "output_type": "display_data"
    }
   ],
   "source": [
    "#En este trozo de código lo que hacemos es en las 80 primeras opciones criticas, ponemos valores aleatorios\n",
    "n = newSample.squeeze(0)\n",
    "x = n[1, :]\n",
    "y = n[0, :]\n",
    "pyplot.scatter(x, y,c ='b',s=20)\n",
    "pyplot.axis([0, 1, 1, 0])\n",
    "#pyplot.title('Label: {}'.format(expected))\n",
    "#plt.savefig('test.png')\n",
    "pyplot.show()\n",
    "n = sample.squeeze(0)\n",
    "x = n[1, :]\n",
    "y = n[0, :]\n",
    "pyplot.scatter(x, y,c ='b',s=20)\n",
    "pyplot.axis([0, 1, 1, 0])\n",
    "#pyplot.title('Label: {}'.format(expected))\n",
    "#plt.savefig('test.png')\n",
    "pyplot.show()"
   ]
  },
  {
   "cell_type": "code",
   "execution_count": 428,
   "id": "2325c811",
   "metadata": {},
   "outputs": [
    {
     "data": {
      "image/png": "[encoded data removed]",
      "text/plain": [
       "<Figure size 432x288 with 1 Axes>"
      ]
     },
     "metadata": {
      "needs_background": "light"
     },
     "output_type": "display_data"
    },
    {
     "data": {
      "image/png": "[encoded data removed]",
      "text/plain": [
       "<Figure size 432x288 with 1 Axes>"
      ]
     },
     "metadata": {
      "needs_background": "light"
     },
     "output_type": "display_data"
    }
   ],
   "source": [
    "#En este trozo de código lo que hacemos es en las 80 primeras opciones criticas, ponemos valores aleatorios\n",
    "n = newSample2.squeeze(0)\n",
    "x = n[1, :]\n",
    "y = n[0, :]\n",
    "pyplot.scatter(x, y,c ='r',s=20)\n",
    "pyplot.axis([0, 1, 1, 0])\n",
    "#pyplot.title('Label: {}'.format(expected))\n",
    "#plt.savefig('test.png')\n",
    "pyplot.show()\n",
    "n = sample.squeeze(0)\n",
    "x = n[1, :]\n",
    "y = n[0, :]\n",
    "pyplot.scatter(x, y,c ='b',s=20)\n",
    "pyplot.axis([0, 1, 1, 0])\n",
    "#pyplot.title('Label: {}'.format(expected))\n",
    "#plt.savefig('test.png')\n",
    "pyplot.show()"
   ]
  },
  {
   "cell_type": "code",
   "execution_count": 380,
   "id": "d585c430",
   "metadata": {},
   "outputs": [
    {
     "name": "stdout",
     "output_type": "stream",
     "text": [
      "torch.Size([1, 2, 342])\n",
      "torch.Size([1, 342])\n",
      "We obtained 8, and the expected is: 9\n"
     ]
    }
   ],
   "source": [
    "with torch.no_grad():\n",
    "    pred = miNet(newSample,mask_sintetica)\n",
    "    print(muestraSintetica.shape)\n",
    "    print(mask_sintetica.shape)\n",
    "    print(\"We obtained {}, and the expected is: {}\".format(np.argmax(pred).item(),expected.item()))"
   ]
  },
  {
   "cell_type": "code",
   "execution_count": 429,
   "id": "c6d8af72",
   "metadata": {},
   "outputs": [
    {
     "name": "stdout",
     "output_type": "stream",
     "text": [
      "torch.Size([1, 2, 342])\n",
      "torch.Size([1, 342])\n",
      "We obtained 2, and the expected is: 9\n"
     ]
    }
   ],
   "source": [
    "with torch.no_grad():\n",
    "    pred = miNet(newSample2,mask_sintetica)\n",
    "    print(muestraSintetica.shape)\n",
    "    print(mask_sintetica.shape)\n",
    "    print(\"We obtained {}, and the expected is: {}\".format(np.argmax(pred).item(),expected.item()))"
   ]
  },
  {
   "cell_type": "markdown",
   "id": "aab9845f",
   "metadata": {},
   "source": [
    "## Comprobación de que funciona a la inversa, con los puntos menos informativos"
   ]
  },
  {
   "cell_type": "code",
   "execution_count": 381,
   "id": "2a7f2921",
   "metadata": {},
   "outputs": [
    {
     "name": "stdout",
     "output_type": "stream",
     "text": [
      "[0. 0. 0. 0. 0. 0. 0. 0. 0. 0. 0. 0. 0. 0. 0. 0. 0. 0. 0. 0. 0. 0. 0. 0.\n",
      " 0. 0. 0. 0. 0. 0. 0. 0. 0. 0. 0. 0. 0. 0. 0. 0. 0. 0. 0. 0. 0. 0. 0. 0.\n",
      " 0. 0. 0. 0. 0. 0. 0. 0. 0. 0. 0. 0. 0. 0. 0. 0. 0. 0. 0. 0. 0. 0. 0. 0.\n",
      " 0. 0. 0. 0. 0. 0. 0. 0. 0. 0. 0. 0. 0. 0. 0. 0. 0. 0. 0. 0. 0. 0. 0. 0.\n",
      " 0. 0. 0. 0. 0. 0. 0. 0. 0. 0. 0. 0. 0. 0. 0. 0. 0. 0. 0. 0. 0. 0. 0. 0.\n",
      " 0. 0. 0. 0. 0. 0. 0. 0. 0. 0. 0. 0. 0. 0. 0. 0. 0. 0. 0. 0. 1. 1. 1. 1.\n",
      " 1. 1. 1. 1. 1. 1. 2. 2. 2. 2. 2. 3. 3. 6. 6. 6. 6. 6. 6. 6. 6. 6. 6. 6.\n",
      " 6. 6. 6. 6. 6. 6. 6. 6. 6. 6. 6. 6. 6. 6. 6. 6. 6. 6. 6. 6. 6. 6. 6. 6.\n",
      " 6. 6. 6. 6. 6. 6. 6. 6. 6. 6. 6. 6. 6. 6. 6. 6. 6. 6. 6. 6. 6. 6. 6. 6.\n",
      " 6. 6. 6. 6. 6. 6. 6. 6. 6. 6. 6. 6. 6. 6. 6. 6. 6. 6. 6. 6. 6. 6. 6. 6.\n",
      " 6. 6. 6. 6. 6. 6. 6. 6. 6. 6. 6. 6. 6. 6. 6. 6. 6. 6. 6. 6. 6. 6. 6. 6.\n",
      " 6. 6. 6. 6. 6. 6. 6. 6. 6. 6. 6. 6. 6. 6. 6. 6. 6. 6. 6. 6. 6. 6. 6. 6.\n",
      " 6. 6. 6. 6. 6. 6. 6. 6. 6. 6. 6. 6. 6. 6. 6. 6. 6. 6. 6. 6. 6. 6. 6. 6.\n",
      " 6. 6. 6. 6. 6. 6. 6. 6. 6. 6. 6. 6. 6. 6. 6. 6. 6. 6. 6. 6. 6. 6. 6. 6.\n",
      " 6. 6. 6. 6. 6. 6.]\n",
      "100\n",
      "140\n"
     ]
    }
   ],
   "source": [
    "sorted_noncritical = -np.sort(-critical)[::-1]\n",
    "sorted_noncritical_args = -np.argsort(-critical)[::-1]\n",
    "print(sorted_noncritical)\n",
    "#print(sorted_critical_args)\n",
    "K = 100\n",
    "noncritical_points_x = []\n",
    "noncritical_points_y = []\n",
    "for k in range(K):\n",
    "    noncritical_points_x.append(points[0,sorted_noncritical_args[k]])\n",
    "    noncritical_points_y.append(points[1,sorted_noncritical_args[k]])\n",
    "\n",
    "#criticos = critical_points.reshape(2,100)\n",
    "#print(critical_points_x)\n",
    "print(len(noncritical_points_x))\n",
    "#print(critical_points_y)\n",
    "print(np.sum(sorted_critical ==0))"
   ]
  },
  {
   "cell_type": "code",
   "execution_count": 201,
   "id": "b04837bd",
   "metadata": {},
   "outputs": [
    {
     "data": {
      "image/png": "[encoded data removed]",
      "text/plain": [
       "<Figure size 432x288 with 1 Axes>"
      ]
     },
     "metadata": {
      "needs_background": "light"
     },
     "output_type": "display_data"
    },
    {
     "data": {
      "image/png": "[encoded data removed]",
      "text/plain": [
       "<Figure size 432x288 with 1 Axes>"
      ]
     },
     "metadata": {
      "needs_background": "light"
     },
     "output_type": "display_data"
    },
    {
     "data": {
      "image/png": "[encoded data removed]",
      "text/plain": [
       "<Figure size 432x288 with 1 Axes>"
      ]
     },
     "metadata": {
      "needs_background": "light"
     },
     "output_type": "display_data"
    }
   ],
   "source": [
    "y1 = noncritical_points_x\n",
    "x1 = noncritical_points_y\n",
    "pyplot.scatter(x1, y1,marker='o',color ='r',s=50)\n",
    "sam = sample.squeeze(0)\n",
    "x = sam[1, :]\n",
    "y = sam[0, :]\n",
    "pyplot.scatter(x, y,c ='b',s=20)\n",
    "pyplot.axis([0, 1, 1, 0])\n",
    "pyplot.show()\n",
    "\n",
    "y = noncritical_points_x\n",
    "x = noncritical_points_y\n",
    "pyplot.scatter(x, y,marker='x',color ='r')\n",
    "pyplot.axis([0, 1, 1, 0])\n",
    "pyplot.show()\n",
    "\n",
    "sam = sample.squeeze(0)\n",
    "x = sam[1, :]\n",
    "y = sam[0, :]\n",
    "pyplot.scatter(x, y,c ='b',s=20)\n",
    "pyplot.axis([0, 1, 1, 0])\n",
    "#pyplot.title('Label: {}'.format(expected))\n",
    "#plt.savefig('test.png')\n",
    "pyplot.show()"
   ]
  }
 ],
 "metadata": {
  "kernelspec": {
   "display_name": "Python 3.8.12 64-bit ('pytorch_m1': conda)",
   "language": "python",
   "name": "python3812jvsc74a57bd04b1372eb4f4effb4d9f8182fe3104d3fb341737a00864e5a270b4f96995c9fa9"
  },
  "language_info": {
   "codemirror_mode": {
    "name": "ipython",
    "version": 3
   },
   "file_extension": ".py",
   "mimetype": "text/x-python",
   "name": "python",
   "nbconvert_exporter": "python",
   "pygments_lexer": "ipython3",
   "version": "3.8.12"
  }
 },
 "nbformat": 4,
 "nbformat_minor": 5
}
