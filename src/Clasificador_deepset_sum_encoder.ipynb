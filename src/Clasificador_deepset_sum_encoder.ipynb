{
 "cells": [
  {
   "cell_type": "code",
   "execution_count": 1,
   "id": "3000b42f",
   "metadata": {},
   "outputs": [],
   "source": [
    "import torch\n",
    "import torch.nn as nn\n",
    "import torch.nn.functional as F\n",
    "from utils import chamfer_loss\n",
    "from fspool import FSPool\n",
    "from model import FSEncoder\n",
    "from model import MaxEncoder\n",
    "from model import SumEncoder\n",
    "from MnistSet import MNISTSet\n",
    "from MnistSet import get_loader"
   ]
  },
  {
   "cell_type": "markdown",
   "id": "4f7a45f5",
   "metadata": {},
   "source": [
    "### Preparamos los datos de entreno y test"
   ]
  },
  {
   "cell_type": "code",
   "execution_count": 2,
   "id": "5055d470",
   "metadata": {},
   "outputs": [],
   "source": [
    "batch_size = 32"
   ]
  },
  {
   "cell_type": "code",
   "execution_count": 3,
   "id": "aedc1024",
   "metadata": {},
   "outputs": [],
   "source": [
    "train_loader = get_loader(\n",
    "            MNISTSet(train=True, full=True), batch_size=batch_size, num_workers=4)"
   ]
  },
  {
   "cell_type": "code",
   "execution_count": 4,
   "id": "9cb41849",
   "metadata": {},
   "outputs": [],
   "source": [
    "test_loader = get_loader(\n",
    "            MNISTSet(train=False, full=True), batch_size=batch_size, num_workers=4)"
   ]
  },
  {
   "cell_type": "code",
   "execution_count": 5,
   "id": "5b5c9f23",
   "metadata": {},
   "outputs": [],
   "source": [
    "from time import sleep\n",
    "from tqdm import tqdm"
   ]
  },
  {
   "cell_type": "code",
   "execution_count": 6,
   "id": "745a93d1",
   "metadata": {},
   "outputs": [],
   "source": [
    "set_channels = 2\n",
    "set_size = 342\n",
    "  \n",
    "hidden_dim = 32\n",
    "iters = 10\n",
    "latent_dim = 16\n",
    "lr = 0.001\n",
    "n_epochs = 10\n",
    "net = SumEncoder(set_channels,latent_dim,hidden_dim)"
   ]
  },
  {
   "cell_type": "code",
   "execution_count": 7,
   "id": "748bc30f",
   "metadata": {},
   "outputs": [
    {
     "data": {
      "text/plain": [
       "SumEncoder(\n",
       "  (conv): Sequential(\n",
       "    (0): Conv1d(2, 32, kernel_size=(1,), stride=(1,))\n",
       "    (1): ReLU(inplace=True)\n",
       "    (2): Conv1d(32, 32, kernel_size=(1,), stride=(1,))\n",
       "  )\n",
       "  (lin): Sequential(\n",
       "    (0): Linear(in_features=32, out_features=32, bias=True)\n",
       "    (1): ReLU(inplace=True)\n",
       "    (2): Linear(in_features=32, out_features=16, bias=True)\n",
       "  )\n",
       "  (classifier): Sequential(\n",
       "    (0): Linear(in_features=16, out_features=16, bias=True)\n",
       "    (1): ReLU()\n",
       "    (2): Linear(in_features=16, out_features=10, bias=True)\n",
       "  )\n",
       ")"
      ]
     },
     "execution_count": 7,
     "metadata": {},
     "output_type": "execute_result"
    }
   ],
   "source": [
    "net"
   ]
  },
  {
   "cell_type": "code",
   "execution_count": 8,
   "id": "788e4adc",
   "metadata": {},
   "outputs": [],
   "source": [
    "optimizer = torch.optim.Adam([p for p in net.parameters() if p.requires_grad], lr=0.001)"
   ]
  },
  {
   "cell_type": "code",
   "execution_count": 9,
   "id": "fc00cff8",
   "metadata": {},
   "outputs": [],
   "source": [
    "#net = net.cuda()"
   ]
  },
  {
   "cell_type": "code",
   "execution_count": 10,
   "id": "e58149e5",
   "metadata": {
    "scrolled": false
   },
   "outputs": [
    {
     "name": "stderr",
     "output_type": "stream",
     "text": [
      "Epoch 0: 100%|██████| 1875/1875 [01:19<00:00, 23.56batch/s, acc=15.6, loss=2.08]\n",
      "Epoch 1: 100%|██████| 1875/1875 [01:12<00:00, 25.75batch/s, acc=56.2, loss=1.33]\n",
      "Epoch 2: 100%|██████| 1875/1875 [01:11<00:00, 26.15batch/s, acc=28.1, loss=1.73]\n",
      "Epoch 3: 100%|████████| 1875/1875 [01:12<00:00, 26.01batch/s, acc=50, loss=1.64]\n",
      "Epoch 4: 100%|███████| 1875/1875 [01:45<00:00, 17.77batch/s, acc=53.1, loss=1.2]\n",
      "Epoch 5: 100%|█████| 1875/1875 [03:26<00:00,  9.09batch/s, acc=56.2, loss=0.998]\n",
      "Epoch 6: 100%|██████| 1875/1875 [01:21<00:00, 23.14batch/s, acc=59.4, loss=1.21]\n",
      "Epoch 7: 100%|█████| 1875/1875 [01:20<00:00, 23.37batch/s, acc=59.4, loss=0.986]\n",
      "Epoch 8: 100%|█████| 1875/1875 [01:19<00:00, 23.60batch/s, acc=65.6, loss=0.936]\n",
      "Epoch 9: 100%|█████| 1875/1875 [01:19<00:00, 23.51batch/s, acc=87.5, loss=0.466]\n"
     ]
    }
   ],
   "source": [
    "net.train()\n",
    "for epoch in range(n_epochs):\n",
    "    with tqdm(train_loader, unit=\"batch\") as tepoch:\n",
    "        for i, sample in enumerate(tepoch):\n",
    "            tepoch.set_description(f\"Epoch {epoch}\")\n",
    "            input, target_set, target_mask = map(lambda x: x, sample)\n",
    "            optimizer.zero_grad()\n",
    "            output = net(target_set,target_mask)\n",
    "            loss = F.cross_entropy(output, input)\n",
    "            acc = (output.max(dim=1)[1] == input).float().mean()\n",
    "            loss.backward()\n",
    "            optimizer.step()\n",
    "            tepoch.set_postfix(loss=loss.item(), acc=100. * acc.item())"
   ]
  },
  {
   "cell_type": "code",
   "execution_count": 11,
   "id": "91ee74ab",
   "metadata": {},
   "outputs": [
    {
     "name": "stderr",
     "output_type": "stream",
     "text": [
      "Epoch 1: 100%|███████| 312/312 [00:08<00:00, 37.85batch/s, acc=78.1, loss=0.594]\n"
     ]
    }
   ],
   "source": [
    "net.eval()\n",
    "with tqdm(test_loader, unit=\"batch\") as tepoch:\n",
    "    for i, sample in enumerate(tepoch):\n",
    "        tepoch.set_description(f\"Epoch {1}\")\n",
    "        input, target_set, target_mask = map(lambda x: x, sample)\n",
    "        output = net(target_set,target_mask)\n",
    "        loss = F.cross_entropy(output, input)\n",
    "        acc = (output.max(dim=1)[1] == input).float().mean()\n",
    "        tepoch.set_postfix(loss=loss.item(), acc=100. * acc.item())"
   ]
  },
  {
   "cell_type": "code",
   "execution_count": 12,
   "id": "12e662b6",
   "metadata": {},
   "outputs": [],
   "source": [
    "torch.save(net.state_dict(),'model_sum_encoder.pth')"
   ]
  },
  {
   "cell_type": "code",
   "execution_count": 13,
   "id": "e59e6fe8",
   "metadata": {},
   "outputs": [],
   "source": [
    "model = torch.load('model_sum_encoder.pth' ,map_location=torch.device('cpu'))\n",
    "miNet = SumEncoder(set_channels,latent_dim,hidden_dim)"
   ]
  },
  {
   "cell_type": "code",
   "execution_count": 14,
   "id": "6a266a9d",
   "metadata": {},
   "outputs": [
    {
     "data": {
      "text/plain": [
       "<All keys matched successfully>"
      ]
     },
     "execution_count": 14,
     "metadata": {},
     "output_type": "execute_result"
    }
   ],
   "source": [
    "miNet.load_state_dict(torch.load('model_sum_encoder.pth' ,map_location=torch.device('cpu')))"
   ]
  },
  {
   "cell_type": "code",
   "execution_count": 15,
   "id": "9fdb6968",
   "metadata": {},
   "outputs": [
    {
     "data": {
      "text/plain": [
       "SumEncoder(\n",
       "  (conv): Sequential(\n",
       "    (0): Conv1d(2, 32, kernel_size=(1,), stride=(1,))\n",
       "    (1): ReLU(inplace=True)\n",
       "    (2): Conv1d(32, 32, kernel_size=(1,), stride=(1,))\n",
       "  )\n",
       "  (lin): Sequential(\n",
       "    (0): Linear(in_features=32, out_features=32, bias=True)\n",
       "    (1): ReLU(inplace=True)\n",
       "    (2): Linear(in_features=32, out_features=16, bias=True)\n",
       "  )\n",
       "  (classifier): Sequential(\n",
       "    (0): Linear(in_features=16, out_features=16, bias=True)\n",
       "    (1): ReLU()\n",
       "    (2): Linear(in_features=16, out_features=10, bias=True)\n",
       "  )\n",
       ")"
      ]
     },
     "execution_count": 15,
     "metadata": {},
     "output_type": "execute_result"
    }
   ],
   "source": [
    "miNet"
   ]
  },
  {
   "cell_type": "code",
   "execution_count": 16,
   "id": "4bf5bf45",
   "metadata": {},
   "outputs": [
    {
     "name": "stderr",
     "output_type": "stream",
     "text": [
      "Epoch 1: 100%|██████████| 312/312 [00:07<00:00, 40.23batch/s, acc=75, loss=0.75]\n"
     ]
    }
   ],
   "source": [
    "miNet.eval()\n",
    "with tqdm(test_loader, unit=\"batch\") as tepoch:\n",
    "    for i, sample in enumerate(tepoch):\n",
    "        tepoch.set_description(f\"Epoch {1}\")\n",
    "        input, target_set, target_mask = map(lambda x: x, sample)\n",
    "        output = miNet(target_set,target_mask)\n",
    "        loss = F.cross_entropy(output, input)\n",
    "        acc = (output.max(dim=1)[1] == input).float().mean()\n",
    "        tepoch.set_postfix(loss=loss.item(), acc=100. * acc.item())"
   ]
  },
  {
   "cell_type": "code",
   "execution_count": 17,
   "id": "d37ebce9",
   "metadata": {},
   "outputs": [],
   "source": [
    "import seaborn as sn\n",
    "import matplotlib\n",
    "import matplotlib.pyplot as pyplot\n",
    "import numpy as np"
   ]
  },
  {
   "cell_type": "code",
   "execution_count": 18,
   "id": "5857a094",
   "metadata": {},
   "outputs": [
    {
     "data": {
      "text/plain": [
       "SumEncoder(\n",
       "  (conv): Sequential(\n",
       "    (0): Conv1d(2, 32, kernel_size=(1,), stride=(1,))\n",
       "    (1): ReLU(inplace=True)\n",
       "    (2): Conv1d(32, 32, kernel_size=(1,), stride=(1,))\n",
       "  )\n",
       "  (lin): Sequential(\n",
       "    (0): Linear(in_features=32, out_features=32, bias=True)\n",
       "    (1): ReLU(inplace=True)\n",
       "    (2): Linear(in_features=32, out_features=16, bias=True)\n",
       "  )\n",
       "  (classifier): Sequential(\n",
       "    (0): Linear(in_features=16, out_features=16, bias=True)\n",
       "    (1): ReLU()\n",
       "    (2): Linear(in_features=16, out_features=10, bias=True)\n",
       "  )\n",
       ")"
      ]
     },
     "execution_count": 18,
     "metadata": {},
     "output_type": "execute_result"
    }
   ],
   "source": [
    "miNet"
   ]
  },
  {
   "cell_type": "code",
   "execution_count": 19,
   "id": "79c34098",
   "metadata": {},
   "outputs": [
    {
     "data": {
      "image/png": "[encoded data removed]",
      "text/plain": [
       "<Figure size 432x288 with 2 Axes>"
      ]
     },
     "metadata": {
      "needs_background": "light"
     },
     "output_type": "display_data"
    },
    {
     "data": {
      "image/png": "[encoded data removed]",
      "text/plain": [
       "<Figure size 432x288 with 2 Axes>"
      ]
     },
     "metadata": {
      "needs_background": "light"
     },
     "output_type": "display_data"
    }
   ],
   "source": [
    "filters= miNet.conv[0].weight\n",
    "data = filters.squeeze(2).detach().numpy()\n",
    "sn.heatmap(data, annot=False, fmt='g')\n",
    "pyplot.title(\"Primera capa de conv1d\")\n",
    "pyplot.show()\n",
    "filters= miNet.conv[2].weight\n",
    "data = filters.squeeze(2).detach().numpy()\n",
    "sn.heatmap(data, annot=False, fmt='g')\n",
    "pyplot.title(\"Segunda capa de conv1d\")\n",
    "pyplot.show()"
   ]
  },
  {
   "cell_type": "code",
   "execution_count": 20,
   "id": "61a572ed",
   "metadata": {},
   "outputs": [
    {
     "name": "stdout",
     "output_type": "stream",
     "text": [
      "torch.Size([32, 32])\n"
     ]
    },
    {
     "data": {
      "image/png": "[encoded data removed]",
      "text/plain": [
       "<Figure size 432x288 with 2 Axes>"
      ]
     },
     "metadata": {
      "needs_background": "light"
     },
     "output_type": "display_data"
    }
   ],
   "source": [
    "filters= miNet.lin[0].weight\n",
    "print(filters.shape)\n",
    "data = filters.detach().numpy()\n",
    "sn.heatmap(data, annot=False, fmt='g')\n",
    "pyplot.title(\"Pesos de la primera capa linear\")\n",
    "pyplot.show()"
   ]
  },
  {
   "cell_type": "code",
   "execution_count": 21,
   "id": "3db1cf86",
   "metadata": {},
   "outputs": [
    {
     "name": "stdout",
     "output_type": "stream",
     "text": [
      "torch.Size([16, 32])\n"
     ]
    },
    {
     "data": {
      "image/png": "[encoded data removed]",
      "text/plain": [
       "<Figure size 432x288 with 2 Axes>"
      ]
     },
     "metadata": {
      "needs_background": "light"
     },
     "output_type": "display_data"
    }
   ],
   "source": [
    "filters= miNet.lin[2].weight\n",
    "print(filters.shape)\n",
    "data = filters.detach().numpy()\n",
    "sn.heatmap(data, annot=False, fmt='g')\n",
    "pyplot.title(\"Pesos de la Segunda capa linear\")\n",
    "pyplot.show()"
   ]
  },
  {
   "cell_type": "code",
   "execution_count": 22,
   "id": "ba874c2a",
   "metadata": {},
   "outputs": [
    {
     "data": {
      "image/png": "[encoded data removed]",
      "text/plain": [
       "<Figure size 432x288 with 1 Axes>"
      ]
     },
     "metadata": {
      "needs_background": "light"
     },
     "output_type": "display_data"
    },
    {
     "data": {
      "text/plain": [
       "torch.Tensor"
      ]
     },
     "execution_count": 22,
     "metadata": {},
     "output_type": "execute_result"
    }
   ],
   "source": [
    "dataset = MNISTSet(train=False, full=True)\n",
    "expected, sample,mask_sample = dataset[9]\n",
    "x = sample[1, :]\n",
    "y = sample[0, :]\n",
    "pyplot.scatter(x, y,color ='b')\n",
    "pyplot.axis([0, 1, 1, 0])\n",
    "pyplot.title('Label: {}'.format(expected))\n",
    "#plt.savefig('test.png')\n",
    "pyplot.show()\n",
    "sample = sample.unsqueeze(0)\n",
    "mask_sample = mask_sample.unsqueeze(0)\n",
    "expected = torch.tensor(expected).unsqueeze(0)\n",
    "type(sample)"
   ]
  },
  {
   "cell_type": "code",
   "execution_count": 23,
   "id": "eb18eca2",
   "metadata": {},
   "outputs": [
    {
     "name": "stdout",
     "output_type": "stream",
     "text": [
      "We obtained 9, and the expected is: 9\n"
     ]
    }
   ],
   "source": [
    "with torch.no_grad():\n",
    "    pred = miNet(sample,mask_sample)\n",
    "    print(\"We obtained {}, and the expected is: {}\".format(np.argmax(pred).item(),expected.item()))"
   ]
  },
  {
   "cell_type": "code",
   "execution_count": 24,
   "id": "77267ddb",
   "metadata": {},
   "outputs": [],
   "source": [
    "class Model1(nn.Module):\n",
    "    def __init__(self, input_channels, output_channels, dim, **kwargs):\n",
    "        super().__init__()\n",
    "        self.conv = nn.Sequential(\n",
    "            nn.Conv1d(input_channels, dim, 1),\n",
    "            nn.ReLU(inplace=True),\n",
    "            nn.Conv1d(dim, dim, 1),\n",
    "        )\n",
    "        self.lin = nn.Sequential(\n",
    "            nn.Linear(dim, dim, 1),\n",
    "            nn.ReLU(inplace=True),\n",
    "            nn.Linear(dim, output_channels, 1),\n",
    "        )\n",
    "        self.classifier = nn.Sequential(\n",
    "            nn.Linear(output_channels, output_channels),\n",
    "            nn.ReLU(),\n",
    "            nn.Linear(output_channels, 10),\n",
    "        )\n",
    "\n",
    "    def forward(self, x, n_points, *args):\n",
    "        x = self.conv(x)\n",
    "        #x = x.max(2)[0]\n",
    "        #x = self.lin(x)\n",
    "        return x"
   ]
  },
  {
   "cell_type": "code",
   "execution_count": 25,
   "id": "592a4aac",
   "metadata": {},
   "outputs": [],
   "source": [
    "class Model2(nn.Module):\n",
    "    def __init__(self, input_channels, output_channels, dim, **kwargs):\n",
    "        super().__init__()\n",
    "        self.conv = nn.Sequential(\n",
    "            nn.Conv1d(input_channels, dim, 1),\n",
    "            nn.ReLU(inplace=True),\n",
    "            nn.Conv1d(dim, dim, 1),\n",
    "        )\n",
    "        self.lin = nn.Sequential(\n",
    "            nn.Linear(dim, dim, 1),\n",
    "            nn.ReLU(inplace=True),\n",
    "            nn.Linear(dim, output_channels, 1),\n",
    "        )\n",
    "        self.classifier = nn.Sequential(\n",
    "            nn.Linear(output_channels, output_channels),\n",
    "            nn.ReLU(),\n",
    "            nn.Linear(output_channels, 10),\n",
    "        )\n",
    "\n",
    "    def forward(self, x, n_points, *args):\n",
    "        x = self.conv(x)\n",
    "        x = x.sum(2)\n",
    "        #x = self.lin(x)\n",
    "        return x"
   ]
  },
  {
   "cell_type": "code",
   "execution_count": 26,
   "id": "57139e69",
   "metadata": {},
   "outputs": [
    {
     "data": {
      "image/png": "[encoded data removed]",
      "text/plain": [
       "<Figure size 432x288 with 2 Axes>"
      ]
     },
     "metadata": {
      "needs_background": "light"
     },
     "output_type": "display_data"
    },
    {
     "name": "stdout",
     "output_type": "stream",
     "text": [
      "torch.Size([1, 32])\n"
     ]
    },
    {
     "data": {
      "image/png": "[encoded data removed]",
      "text/plain": [
       "<Figure size 432x288 with 2 Axes>"
      ]
     },
     "metadata": {
      "needs_background": "light"
     },
     "output_type": "display_data"
    }
   ],
   "source": [
    "model1 = Model1(set_channels,latent_dim,hidden_dim)\n",
    "model2 = Model2(set_channels,latent_dim,hidden_dim)\n",
    "model1.conv = miNet.conv\n",
    "model2.conv = miNet.conv\n",
    "#print(miNet.conv[0].weight) \n",
    "#print(model1.conv[0].weight)\n",
    "with torch.no_grad():\n",
    "    pred = model1(sample,mask_sample)\n",
    "    feature_map = pred\n",
    "    data = pred.squeeze(0).detach().view(342,32).numpy()\n",
    "    sn.heatmap(data, annot=False, fmt='g')\n",
    "    pyplot.title(\"Salida después de la primera capa\")\n",
    "    pyplot.show()\n",
    "    \n",
    "    pred = model2(sample,mask_sample)\n",
    "    max_map = pred\n",
    "    print(pred.shape)\n",
    "    data = pred.detach().numpy()\n",
    "    sn.heatmap(data, annot=False, fmt='g')\n",
    "    pyplot.title(\"Salida después del max\")\n",
    "    pyplot.show()"
   ]
  },
  {
   "cell_type": "code",
   "execution_count": 27,
   "id": "4d8f81e0",
   "metadata": {},
   "outputs": [
    {
     "data": {
      "text/plain": [
       "tensor([[82.3333, 81.8148]])"
      ]
     },
     "execution_count": 27,
     "metadata": {},
     "output_type": "execute_result"
    }
   ],
   "source": [
    "sample.sum(2)"
   ]
  },
  {
   "cell_type": "code",
   "execution_count": 28,
   "id": "a166dde2",
   "metadata": {},
   "outputs": [
    {
     "data": {
      "text/plain": [
       "torch.Size([1, 32])"
      ]
     },
     "execution_count": 28,
     "metadata": {},
     "output_type": "execute_result"
    }
   ],
   "source": [
    "pred.shape"
   ]
  },
  {
   "cell_type": "code",
   "execution_count": 29,
   "id": "8aa0f739",
   "metadata": {},
   "outputs": [
    {
     "name": "stdout",
     "output_type": "stream",
     "text": [
      "(32, 342)\n",
      "(32,)\n",
      "[ 73  15  60 128 151  60   7  15 130  60  24   7  86  60   7   7 150 144\n",
      " 129  60  34  60   7  60   7   7  60  60 157  27 157   1]\n",
      "0\n"
     ]
    }
   ],
   "source": [
    "critical = np.zeros(342)\n",
    "#Paso un array el tensor que contiene la salida de aplicarle el encoder a la entrada\n",
    "features = feature_map.squeeze(0).detach().numpy()\n",
    "print(features.shape)\n",
    "#Paso un array el tensor que contiene la salida de aplicarle el encoder + la suma a la entrada\n",
    "maxs = max_map.squeeze(0).detach().numpy()\n",
    "#print(features)\n",
    "#features = np.absolute(features)\n",
    "#print('-----------------------------------------------------------------------------')\n",
    "#print(features)\n",
    "#print('::::::::::::::::::::::::::::::::::::::::::::::::::::::::::::::::::::::::::::::')\n",
    "#print(maxs)\n",
    "xmax = features.max(axis=1)\n",
    "xmaxargs = features.argmax(axis=1)\n",
    "print(xmax.shape)\n",
    "print(xmaxargs)\n",
    "print(np.sum(critical >0))"
   ]
  },
  {
   "cell_type": "code",
   "execution_count": 30,
   "id": "e511adfd",
   "metadata": {},
   "outputs": [],
   "source": [
    "points = sample.squeeze(0).numpy()"
   ]
  },
  {
   "cell_type": "code",
   "execution_count": 31,
   "id": "eeec2f12",
   "metadata": {},
   "outputs": [
    {
     "name": "stdout",
     "output_type": "stream",
     "text": [
      "[0. 0. 0. 0. 0. 0. 0. 0. 0. 0. 0. 0. 0. 0. 0. 0. 0. 0. 0. 0. 0. 0. 0. 0.\n",
      " 0. 0. 0. 0. 0. 0. 0. 0. 0. 0. 0. 0. 0. 0. 0. 0. 0. 0. 0. 0. 0. 0. 0. 0.\n",
      " 0. 0. 0. 0. 0. 0. 0. 0. 0. 0. 0. 0. 0. 0. 0. 0. 0. 0. 0. 0. 0. 0. 0. 0.\n",
      " 0. 0. 0. 0. 0. 0. 0. 0. 0. 0. 0. 0. 0. 0. 0. 0. 0. 0. 0. 0. 0. 0. 0. 0.\n",
      " 0. 0. 0. 0. 0. 0. 0. 0. 0. 0. 0. 0. 0. 0. 0. 0. 0. 0. 0. 0. 0. 0. 0. 0.\n",
      " 0. 0. 0. 0. 0. 0. 0. 0. 0. 0. 0. 0. 0. 0. 0. 0. 0. 0. 0. 0. 0. 0. 0. 0.\n",
      " 0. 0. 0. 0. 0. 0. 0. 0. 0. 0. 0. 0. 0. 0. 0. 0. 0. 0. 0. 0. 0. 0. 0. 0.\n",
      " 0. 0. 0. 0. 0. 0. 0. 0. 0. 0. 0. 0. 0. 0. 0. 0. 0. 0. 0. 0. 0. 0. 0. 0.\n",
      " 0. 0. 0. 0. 0. 0. 0. 0. 0. 0. 0. 0. 0. 0. 0. 0. 0. 0. 0. 0. 0. 0. 0. 0.\n",
      " 0. 0. 0. 0. 0. 0. 0. 0. 0. 0. 0. 0. 0. 0. 0. 0. 0. 0. 0. 0. 0. 0. 0. 0.\n",
      " 0. 0. 0. 0. 0. 0. 0. 0. 0. 0. 0. 0. 0. 0. 0. 0. 0. 0. 0. 0. 0. 0. 0. 0.\n",
      " 0. 0. 0. 0. 0. 0. 0. 0. 0. 0. 0. 0. 0. 0. 0. 0. 0. 0. 0. 0. 0. 0. 0. 0.\n",
      " 0. 0. 0. 0. 0. 0. 0. 0. 0. 0. 0. 0. 0. 0. 0. 0. 0. 0. 0. 0. 0. 0. 0. 0.\n",
      " 0. 0. 0. 0. 0. 0. 0. 0. 0. 0. 0. 0. 0. 0. 0. 0. 0. 0. 0. 0. 0. 0. 0. 0.\n",
      " 0. 0. 0. 0. 0. 0.]\n",
      "32\n",
      "0\n"
     ]
    }
   ],
   "source": [
    "sorted_critical = -np.sort(-critical)\n",
    "sorted_critical_args = -np.argsort(-critical)\n",
    "print(sorted_critical)\n",
    "#print(sorted_critical_args)\n",
    "K = 32\n",
    "critical_points_x = []\n",
    "critical_points_y = []\n",
    "for k in range(K):\n",
    "    critical_points_y.append(points[0,xmaxargs[k]])\n",
    "    critical_points_x.append(points[1,xmaxargs[k]])\n",
    "\n",
    "#criticos = critical_points.reshape(2,100)\n",
    "#print(critical_points_x)\n",
    "print(len(critical_points_x))\n",
    "#print(critical_points_y)\n",
    "print(np.sum(sorted_critical >0))"
   ]
  },
  {
   "cell_type": "code",
   "execution_count": 32,
   "id": "2c86cd50",
   "metadata": {},
   "outputs": [
    {
     "data": {
      "image/png": "[encoded data removed]",
      "text/plain": [
       "<Figure size 432x288 with 1 Axes>"
      ]
     },
     "metadata": {
      "needs_background": "light"
     },
     "output_type": "display_data"
    },
    {
     "data": {
      "image/png": "[encoded data removed]",
      "text/plain": [
       "<Figure size 432x288 with 1 Axes>"
      ]
     },
     "metadata": {
      "needs_background": "light"
     },
     "output_type": "display_data"
    },
    {
     "data": {
      "image/png": "[encoded data removed]",
      "text/plain": [
       "<Figure size 432x288 with 1 Axes>"
      ]
     },
     "metadata": {
      "needs_background": "light"
     },
     "output_type": "display_data"
    }
   ],
   "source": [
    "x1 = critical_points_x\n",
    "y1 = critical_points_y\n",
    "pyplot.scatter(x1, y1,marker='o',color ='r',s=50)\n",
    "sam = sample.squeeze(0)\n",
    "x = sam[1, :]\n",
    "y = sam[0, :]\n",
    "pyplot.scatter(x, y,c ='b',s=20)\n",
    "pyplot.axis([0, 1, 1, 0])\n",
    "pyplot.show()\n",
    "\n",
    "x = critical_points_x\n",
    "y = critical_points_y\n",
    "pyplot.scatter(x, y,marker='x',color ='r')\n",
    "pyplot.axis([0, 1, 1, 0])\n",
    "pyplot.show()\n",
    "\n",
    "sam = sample.squeeze(0)\n",
    "x = sam[1, :]\n",
    "y = sam[0, :]\n",
    "pyplot.scatter(x, y,c ='b',s=20)\n",
    "pyplot.axis([0, 1, 1, 0])\n",
    "#pyplot.title('Label: {}'.format(expected))\n",
    "#plt.savefig('test.png')\n",
    "pyplot.show()"
   ]
  },
  {
   "cell_type": "code",
   "execution_count": 33,
   "id": "2e080a7c",
   "metadata": {},
   "outputs": [
    {
     "name": "stdout",
     "output_type": "stream",
     "text": [
      "torch.Size([1, 32])\n",
      "torch.Size([1, 2, 32])\n",
      "torch.Size([1, 2, 294])\n",
      "torch.Size([1, 342])\n"
     ]
    }
   ],
   "source": [
    "muestraSintetica = torch.zeros(1,2,262)\n",
    "a  = torch.Tensor(x1).unsqueeze(0)\n",
    "k  = torch.Tensor(y1).unsqueeze(0)\n",
    "print(k.shape)\n",
    "f = torch.cat((k,a),0).unsqueeze(0)\n",
    "print(f.shape)\n",
    "muestraSintetica = torch.cat((f,muestraSintetica,),2)\n",
    "muestraSintetica.shape\n",
    "mask_sintetica = torch.ones(1,342)\n",
    "print(muestraSintetica.shape)\n",
    "print(mask_sintetica.shape)"
   ]
  },
  {
   "cell_type": "code",
   "execution_count": 34,
   "id": "99233696",
   "metadata": {},
   "outputs": [
    {
     "data": {
      "text/plain": [
       "310"
      ]
     },
     "execution_count": 34,
     "metadata": {},
     "output_type": "execute_result"
    }
   ],
   "source": [
    "342-32"
   ]
  },
  {
   "cell_type": "code",
   "execution_count": 35,
   "id": "16760673",
   "metadata": {},
   "outputs": [
    {
     "data": {
      "image/png": "[encoded data removed]",
      "text/plain": [
       "<Figure size 432x288 with 1 Axes>"
      ]
     },
     "metadata": {
      "needs_background": "light"
     },
     "output_type": "display_data"
    }
   ],
   "source": [
    "sam = muestraSintetica.squeeze(0)\n",
    "x = sam[1, :]\n",
    "y = sam[0, :]\n",
    "pyplot.scatter(x, y,c ='b',s=40)\n",
    "x1 = critical_points_x\n",
    "y1 = critical_points_y\n",
    "pyplot.scatter(x1, y1,marker='x',color ='r')\n",
    "pyplot.axis([0, 1, 1, 0])\n",
    "#pyplot.title('Label: {}'.format(expected))\n",
    "#plt.savefig('test.png')\n",
    "pyplot.show()"
   ]
  },
  {
   "cell_type": "code",
   "execution_count": 36,
   "id": "5e3d3a4e",
   "metadata": {},
   "outputs": [
    {
     "name": "stdout",
     "output_type": "stream",
     "text": [
      "torch.Size([1, 2, 294])\n",
      "torch.Size([1, 342])\n",
      "We obtained 3, and the expected is: 9\n"
     ]
    }
   ],
   "source": [
    "with torch.no_grad():\n",
    "    pred = miNet(muestraSintetica,mask_sintetica)\n",
    "    print(muestraSintetica.shape)\n",
    "    print(mask_sintetica.shape)\n",
    "    print(\"We obtained {}, and the expected is: {}\".format(np.argmax(pred).item(),expected.item()))"
   ]
  },
  {
   "cell_type": "markdown",
   "id": "b44c70cf",
   "metadata": {},
   "source": [
    "## Comprobación de que funciona a la inversa, con los puntos menos informativos"
   ]
  },
  {
   "cell_type": "code",
   "execution_count": 37,
   "id": "2a7f2921",
   "metadata": {},
   "outputs": [
    {
     "name": "stdout",
     "output_type": "stream",
     "text": [
      "[0. 0. 0. 0. 0. 0. 0. 0. 0. 0. 0. 0. 0. 0. 0. 0. 0. 0. 0. 0. 0. 0. 0. 0.\n",
      " 0. 0. 0. 0. 0. 0. 0. 0. 0. 0. 0. 0. 0. 0. 0. 0. 0. 0. 0. 0. 0. 0. 0. 0.\n",
      " 0. 0. 0. 0. 0. 0. 0. 0. 0. 0. 0. 0. 0. 0. 0. 0. 0. 0. 0. 0. 0. 0. 0. 0.\n",
      " 0. 0. 0. 0. 0. 0. 0. 0. 0. 0. 0. 0. 0. 0. 0. 0. 0. 0. 0. 0. 0. 0. 0. 0.\n",
      " 0. 0. 0. 0. 0. 0. 0. 0. 0. 0. 0. 0. 0. 0. 0. 0. 0. 0. 0. 0. 0. 0. 0. 0.\n",
      " 0. 0. 0. 0. 0. 0. 0. 0. 0. 0. 0. 0. 0. 0. 0. 0. 0. 0. 0. 0. 0. 0. 0. 0.\n",
      " 0. 0. 0. 0. 0. 0. 0. 0. 0. 0. 0. 0. 0. 0. 0. 0. 0. 0. 0. 0. 0. 0. 0. 0.\n",
      " 0. 0. 0. 0. 0. 0. 0. 0. 0. 0. 0. 0. 0. 0. 0. 0. 0. 0. 0. 0. 0. 0. 0. 0.\n",
      " 0. 0. 0. 0. 0. 0. 0. 0. 0. 0. 0. 0. 0. 0. 0. 0. 0. 0. 0. 0. 0. 0. 0. 0.\n",
      " 0. 0. 0. 0. 0. 0. 0. 0. 0. 0. 0. 0. 0. 0. 0. 0. 0. 0. 0. 0. 0. 0. 0. 0.\n",
      " 0. 0. 0. 0. 0. 0. 0. 0. 0. 0. 0. 0. 0. 0. 0. 0. 0. 0. 0. 0. 0. 0. 0. 0.\n",
      " 0. 0. 0. 0. 0. 0. 0. 0. 0. 0. 0. 0. 0. 0. 0. 0. 0. 0. 0. 0. 0. 0. 0. 0.\n",
      " 0. 0. 0. 0. 0. 0. 0. 0. 0. 0. 0. 0. 0. 0. 0. 0. 0. 0. 0. 0. 0. 0. 0. 0.\n",
      " 0. 0. 0. 0. 0. 0. 0. 0. 0. 0. 0. 0. 0. 0. 0. 0. 0. 0. 0. 0. 0. 0. 0. 0.\n",
      " 0. 0. 0. 0. 0. 0.]\n",
      "100\n",
      "342\n"
     ]
    }
   ],
   "source": [
    "sorted_noncritical = -np.sort(-critical)[::-1]\n",
    "sorted_noncritical_args = -np.argsort(-critical)[::-1]\n",
    "print(sorted_noncritical)\n",
    "#print(sorted_critical_args)\n",
    "K = 100\n",
    "noncritical_points_x = []\n",
    "noncritical_points_y = []\n",
    "for k in range(K):\n",
    "    noncritical_points_x.append(points[0,sorted_noncritical_args[k]])\n",
    "    noncritical_points_y.append(points[1,sorted_noncritical_args[k]])\n",
    "\n",
    "#criticos = critical_points.reshape(2,100)\n",
    "#print(critical_points_x)\n",
    "print(len(noncritical_points_x))\n",
    "#print(critical_points_y)\n",
    "print(np.sum(sorted_critical ==0))"
   ]
  },
  {
   "cell_type": "code",
   "execution_count": 38,
   "id": "b04837bd",
   "metadata": {},
   "outputs": [
    {
     "data": {
      "image/png": "[encoded data removed]",
      "text/plain": [
       "<Figure size 432x288 with 1 Axes>"
      ]
     },
     "metadata": {
      "needs_background": "light"
     },
     "output_type": "display_data"
    },
    {
     "data": {
      "image/png": "[encoded data removed]",
      "text/plain": [
       "<Figure size 432x288 with 1 Axes>"
      ]
     },
     "metadata": {
      "needs_background": "light"
     },
     "output_type": "display_data"
    },
    {
     "data": {
      "image/png": "[encoded data removed]",
      "text/plain": [
       "<Figure size 432x288 with 1 Axes>"
      ]
     },
     "metadata": {
      "needs_background": "light"
     },
     "output_type": "display_data"
    }
   ],
   "source": [
    "y1 = noncritical_points_x\n",
    "x1 = noncritical_points_y\n",
    "pyplot.scatter(x1, y1,marker='o',color ='r',s=50)\n",
    "sam = sample.squeeze(0)\n",
    "x = sam[1, :]\n",
    "y = sam[0, :]\n",
    "pyplot.scatter(x, y,c ='b',s=20)\n",
    "pyplot.axis([0, 1, 1, 0])\n",
    "pyplot.show()\n",
    "\n",
    "y = noncritical_points_x\n",
    "x = noncritical_points_y\n",
    "pyplot.scatter(x, y,marker='x',color ='r')\n",
    "pyplot.axis([0, 1, 1, 0])\n",
    "pyplot.show()\n",
    "\n",
    "sam = sample.squeeze(0)\n",
    "x = sam[1, :]\n",
    "y = sam[0, :]\n",
    "pyplot.scatter(x, y,c ='b',s=20)\n",
    "pyplot.axis([0, 1, 1, 0])\n",
    "#pyplot.title('Label: {}'.format(expected))\n",
    "#plt.savefig('test.png')\n",
    "pyplot.show()"
   ]
  }
 ],
 "metadata": {
  "kernelspec": {
   "display_name": "Python 3.8.12 64-bit ('pytorch_m1': conda)",
   "language": "python",
   "name": "python3812jvsc74a57bd04b1372eb4f4effb4d9f8182fe3104d3fb341737a00864e5a270b4f96995c9fa9"
  },
  "language_info": {
   "codemirror_mode": {
    "name": "ipython",
    "version": 3
   },
   "file_extension": ".py",
   "mimetype": "text/x-python",
   "name": "python",
   "nbconvert_exporter": "python",
   "pygments_lexer": "ipython3",
   "version": "3.8.12"
  }
 },
 "nbformat": 4,
 "nbformat_minor": 5
}
