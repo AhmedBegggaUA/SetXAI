{
 "cells": [
  {
   "cell_type": "markdown",
   "id": "1ebac02f",
   "metadata": {},
   "source": [
    "## Clasificación de los dígitos de Mnist en forma de set de puntos"
   ]
  },
  {
   "cell_type": "code",
   "execution_count": 1,
   "id": "c97ded1c",
   "metadata": {},
   "outputs": [
    {
     "name": "stdout",
     "output_type": "stream",
     "text": [
      "/Users/ahmedbegga/Desktop/TFG-Ahmed/SetXAI/src\r\n"
     ]
    }
   ],
   "source": [
    "!pwd"
   ]
  },
  {
   "cell_type": "code",
   "execution_count": 17,
   "id": "eec49162",
   "metadata": {},
   "outputs": [],
   "source": [
    "import torch\n",
    "import torch.nn as nn\n",
    "import torch.nn.functional as F\n",
    "from utils import chamfer_loss\n",
    "from fspool import FSPool\n",
    "from model import FSEncoder\n",
    "from MnistSet import MNISTSet\n",
    "from MnistSet import get_loader"
   ]
  },
  {
   "cell_type": "markdown",
   "id": "44398267",
   "metadata": {},
   "source": [
    "### Preparamos los datos de entreno y test"
   ]
  },
  {
   "cell_type": "code",
   "execution_count": 14,
   "id": "131c27bb",
   "metadata": {},
   "outputs": [],
   "source": [
    "batch_size = 32"
   ]
  },
  {
   "cell_type": "code",
   "execution_count": 3,
   "id": "f8fc83cc",
   "metadata": {},
   "outputs": [],
   "source": [
    "train_loader = get_loader(\n",
    "            MNISTSet(train=True, full=True), batch_size=batch_size, num_workers=4)"
   ]
  },
  {
   "cell_type": "code",
   "execution_count": 4,
   "id": "042869da",
   "metadata": {},
   "outputs": [],
   "source": [
    "test_loader = get_loader(\n",
    "            MNISTSet(train=False, full=True), batch_size=batch_size, num_workers=4)"
   ]
  },
  {
   "cell_type": "code",
   "execution_count": 13,
   "id": "1bbca080",
   "metadata": {},
   "outputs": [],
   "source": [
    "from time import sleep\n",
    "from tqdm import tqdm"
   ]
  },
  {
   "cell_type": "code",
   "execution_count": 24,
   "id": "903ae6ae",
   "metadata": {},
   "outputs": [],
   "source": [
    "set_channels = 2\n",
    "set_size = 342\n",
    "  \n",
    "hidden_dim = 256\n",
    "iters = 10\n",
    "latent_dim = 64\n",
    "lr = 0.01\n",
    "n_epochs = 10\n",
    "net = FSEncoder(set_channels,latent_dim,hidden_dim)"
   ]
  },
  {
   "cell_type": "code",
   "execution_count": 25,
   "id": "9d584390",
   "metadata": {},
   "outputs": [],
   "source": [
    "optimizer = torch.optim.Adam(\n",
    "        [p for p in net.parameters() if p.requires_grad], lr=lr\n",
    "    )"
   ]
  },
  {
   "cell_type": "code",
   "execution_count": 26,
   "id": "5f03bf18",
   "metadata": {},
   "outputs": [
    {
     "data": {
      "text/plain": [
       "FSEncoder(\n",
       "  (conv): Sequential(\n",
       "    (0): Conv1d(3, 256, kernel_size=(1,), stride=(1,))\n",
       "    (1): ReLU()\n",
       "    (2): Conv1d(256, 256, kernel_size=(1,), stride=(1,))\n",
       "    (3): ReLU()\n",
       "    (4): Conv1d(256, 64, kernel_size=(1,), stride=(1,))\n",
       "  )\n",
       "  (pool): FSPool()\n",
       "  (salida): Linear(in_features=64, out_features=10, bias=True)\n",
       ")"
      ]
     },
     "execution_count": 26,
     "metadata": {},
     "output_type": "execute_result"
    }
   ],
   "source": [
    "net"
   ]
  },
  {
   "cell_type": "code",
   "execution_count": 27,
   "id": "bea5b8a1",
   "metadata": {},
   "outputs": [
    {
     "name": "stderr",
     "output_type": "stream",
     "text": [
      "Epoch 0: 100%|█████| 1875/1875 [09:48<00:00,  3.19batch/s, acc=90.6, loss=0.227]\n",
      "Epoch 1: 100%|█████| 1875/1875 [09:49<00:00,  3.18batch/s, acc=100, loss=0.0648]\n",
      "Epoch 2: 100%|████| 1875/1875 [2:02:44<00:00,  3.93s/batch, acc=90.6, loss=0.22]\n",
      "Epoch 3: 100%|█████| 1875/1875 [10:26<00:00,  2.99batch/s, acc=93.8, loss=0.169]\n",
      "Epoch 4: 100%|█████| 1875/1875 [10:15<00:00,  3.04batch/s, acc=90.6, loss=0.152]\n",
      "Epoch 5: 100%|█████| 1875/1875 [10:07<00:00,  3.09batch/s, acc=90.6, loss=0.154]\n",
      "Epoch 6: 100%|█████| 1875/1875 [10:23<00:00,  3.01batch/s, acc=93.8, loss=0.284]\n",
      "Epoch 7: 100%|█████| 1875/1875 [12:39<00:00,  2.47batch/s, acc=93.8, loss=0.187]\n",
      "Epoch 8: 100%|█████| 1875/1875 [10:34<00:00,  2.95batch/s, acc=96.9, loss=0.192]\n",
      "Epoch 9: 100%|█████| 1875/1875 [10:48<00:00,  2.89batch/s, acc=90.6, loss=0.166]\n"
     ]
    }
   ],
   "source": [
    "net.train()\n",
    "for epoch in range(n_epochs):\n",
    "    with tqdm(train_loader, unit=\"batch\") as tepoch:\n",
    "        for i, sample in enumerate(tepoch):\n",
    "            tepoch.set_description(f\"Epoch {epoch}\")\n",
    "            input, target_set, target_mask = map(lambda x: x, sample)\n",
    "            optimizer.zero_grad()\n",
    "            output= net(target_set,target_mask)\n",
    "            loss = F.nll_loss(output, input)\n",
    "            pred = output.data.max(1, keepdim=True)[1]\n",
    "            correct = pred.eq(input.data.view_as(pred)).sum()\n",
    "            accuracy =correct / batch_size\n",
    "            loss.backward()\n",
    "            optimizer.step()\n",
    "            tepoch.set_postfix(loss=loss.item(), acc=100. * accuracy.item())"
   ]
  },
  {
   "cell_type": "code",
   "execution_count": 28,
   "id": "716e2321",
   "metadata": {},
   "outputs": [
    {
     "name": "stderr",
     "output_type": "stream",
     "text": [
      "Epoch 9: 100%|███████| 312/312 [01:23<00:00,  3.73batch/s, acc=87.5, loss=0.325]\n"
     ]
    }
   ],
   "source": [
    "net.eval()\n",
    "with tqdm(test_loader, unit=\"batch\") as tepoch:\n",
    "    for i, sample in enumerate(tepoch):\n",
    "        tepoch.set_description(f\"Epoch {epoch}\")\n",
    "        input, target_set, target_mask = map(lambda x: x, sample)\n",
    "        optimizer.zero_grad()\n",
    "        output= net(target_set,target_mask)\n",
    "        loss = F.nll_loss(output, input)\n",
    "        pred = output.data.max(1, keepdim=True)[1]\n",
    "        correct = pred.eq(input.data.view_as(pred)).sum()\n",
    "        accuracy =correct / batch_size\n",
    "        #loss.backward()\n",
    "        #optimizer.step()\n",
    "        tepoch.set_postfix(loss=loss.item(), acc=100. * accuracy.item())"
   ]
  },
  {
   "cell_type": "code",
   "execution_count": null,
   "id": "5c853ace",
   "metadata": {},
   "outputs": [],
   "source": []
  }
 ],
 "metadata": {
  "kernelspec": {
   "display_name": "Python 3 (ipykernel)",
   "language": "python",
   "name": "python3"
  },
  "language_info": {
   "codemirror_mode": {
    "name": "ipython",
    "version": 3
   },
   "file_extension": ".py",
   "mimetype": "text/x-python",
   "name": "python",
   "nbconvert_exporter": "python",
   "pygments_lexer": "ipython3",
   "version": "3.8.12"
  }
 },
 "nbformat": 4,
 "nbformat_minor": 5
}
