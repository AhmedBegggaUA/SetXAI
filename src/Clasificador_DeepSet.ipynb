{
 "cells": [
  {
   "cell_type": "markdown",
   "id": "1ebac02f",
   "metadata": {
    "id": "1ebac02f"
   },
   "source": [
    "## Clasificación de los dígitos de Mnist en forma de set de puntos"
   ]
  },
  {
   "cell_type": "code",
   "execution_count": 1,
   "id": "eec49162",
   "metadata": {
    "id": "eec49162"
   },
   "outputs": [],
   "source": [
    "import torch\n",
    "import torch.nn as nn\n",
    "import torch.nn.functional as F\n",
    "from utils import chamfer_loss\n",
    "from fspool import FSPool\n",
    "from model import FSEncoder\n",
    "from model import FSEncoderClasification\n",
    "from MnistSet import MNISTSet\n",
    "from MnistSet import get_loader"
   ]
  },
  {
   "cell_type": "markdown",
   "id": "44398267",
   "metadata": {
    "id": "44398267"
   },
   "source": [
    "### Preparamos los datos de entreno y test"
   ]
  },
  {
   "cell_type": "code",
   "execution_count": 2,
   "id": "131c27bb",
   "metadata": {
    "id": "131c27bb"
   },
   "outputs": [],
   "source": [
    "batch_size = 32"
   ]
  },
  {
   "cell_type": "code",
   "execution_count": 3,
   "id": "f8fc83cc",
   "metadata": {
    "colab": {
     "base_uri": "https://localhost:8080/"
    },
    "id": "f8fc83cc",
    "outputId": "d576727e-8cf9-4079-c40a-19bb4960fd59"
   },
   "outputs": [],
   "source": [
    "train_loader = get_loader(\n",
    "            MNISTSet(train=True, full=True), batch_size=batch_size, num_workers=4)"
   ]
  },
  {
   "cell_type": "code",
   "execution_count": 4,
   "id": "042869da",
   "metadata": {
    "colab": {
     "base_uri": "https://localhost:8080/"
    },
    "id": "042869da",
    "outputId": "13389be2-34ff-409c-d40c-706630eca054"
   },
   "outputs": [],
   "source": [
    "test_loader = get_loader(\n",
    "            MNISTSet(train=False, full=True), batch_size=batch_size, num_workers=4)"
   ]
  },
  {
   "cell_type": "code",
   "execution_count": 5,
   "id": "1bbca080",
   "metadata": {
    "id": "1bbca080"
   },
   "outputs": [],
   "source": [
    "from time import sleep\n",
    "from tqdm import tqdm"
   ]
  },
  {
   "cell_type": "code",
   "execution_count": 6,
   "id": "5c853ace",
   "metadata": {
    "id": "5c853ace"
   },
   "outputs": [],
   "source": [
    "set_channels = 2\n",
    "set_size = 342\n",
    "  \n",
    "hidden_dim = 32\n",
    "iters = 10\n",
    "latent_dim = 16\n",
    "lr = 0.001\n",
    "n_epochs = 100\n",
    "net = FSEncoderClasification(set_channels,latent_dim,hidden_dim)"
   ]
  },
  {
   "cell_type": "code",
   "execution_count": 7,
   "id": "Q0kJD0qnHWGR",
   "metadata": {
    "id": "Q0kJD0qnHWGR"
   },
   "outputs": [],
   "source": [
    "optimizer = torch.optim.Adam([p for p in net.parameters() if p.requires_grad], lr=0.001)"
   ]
  },
  {
   "cell_type": "code",
   "execution_count": 11,
   "id": "1ed41aa6",
   "metadata": {
    "id": "1ed41aa6"
   },
   "outputs": [],
   "source": [
    " net = net.cuda()"
   ]
  },
  {
   "cell_type": "code",
   "execution_count": 12,
   "id": "552283a8",
   "metadata": {
    "colab": {
     "base_uri": "https://localhost:8080/"
    },
    "id": "552283a8",
    "outputId": "13872a25-e5cd-420e-bba5-a8e4ce61f182"
   },
   "outputs": [
    {
     "name": "stderr",
     "output_type": "stream",
     "text": [
      "\r",
      "  0%|          | 0/1875 [00:00<?, ?batch/s]/usr/local/lib/python3.7/dist-packages/torch/utils/data/dataloader.py:481: UserWarning: This DataLoader will create 4 worker processes in total. Our suggested max number of worker in current system is 2, which is smaller than what this DataLoader is going to create. Please be aware that excessive worker creation might get DataLoader running slow or even freeze, lower the worker number to avoid potential slowness/freeze if necessary.\n",
      "  cpuset_checked))\n",
      "Epoch 0: 100%|██████████| 1875/1875 [00:35<00:00, 52.85batch/s, acc=62.5, loss=0.838]\n",
      "Epoch 1: 100%|██████████| 1875/1875 [00:33<00:00, 55.91batch/s, acc=87.5, loss=0.326]\n",
      "Epoch 2: 100%|██████████| 1875/1875 [00:34<00:00, 55.06batch/s, acc=90.6, loss=0.24]\n",
      "Epoch 3: 100%|██████████| 1875/1875 [00:33<00:00, 55.55batch/s, acc=81.2, loss=0.436]\n",
      "Epoch 4: 100%|██████████| 1875/1875 [00:33<00:00, 56.09batch/s, acc=90.6, loss=0.241]\n",
      "Epoch 5: 100%|██████████| 1875/1875 [00:32<00:00, 57.02batch/s, acc=81.2, loss=0.505]\n",
      "Epoch 6: 100%|██████████| 1875/1875 [00:34<00:00, 54.72batch/s, acc=90.6, loss=0.185]\n",
      "Epoch 7: 100%|██████████| 1875/1875 [00:34<00:00, 54.62batch/s, acc=96.9, loss=0.087]\n",
      "Epoch 8: 100%|██████████| 1875/1875 [00:33<00:00, 55.99batch/s, acc=78.1, loss=0.526]\n",
      "Epoch 9: 100%|██████████| 1875/1875 [00:35<00:00, 52.58batch/s, acc=90.6, loss=0.213]\n",
      "Epoch 10: 100%|██████████| 1875/1875 [00:32<00:00, 56.86batch/s, acc=93.8, loss=0.215]\n",
      "Epoch 11: 100%|██████████| 1875/1875 [00:33<00:00, 56.67batch/s, acc=96.9, loss=0.086]\n",
      "Epoch 12: 100%|██████████| 1875/1875 [00:34<00:00, 54.77batch/s, acc=96.9, loss=0.0799]\n",
      "Epoch 13: 100%|██████████| 1875/1875 [00:34<00:00, 55.14batch/s, acc=96.9, loss=0.133]\n",
      "Epoch 14: 100%|██████████| 1875/1875 [00:32<00:00, 57.06batch/s, acc=96.9, loss=0.0911]\n",
      "Epoch 15: 100%|██████████| 1875/1875 [00:33<00:00, 55.17batch/s, acc=93.8, loss=0.189]\n",
      "Epoch 16: 100%|██████████| 1875/1875 [00:33<00:00, 55.78batch/s, acc=90.6, loss=0.285]\n",
      "Epoch 17: 100%|██████████| 1875/1875 [00:32<00:00, 57.48batch/s, acc=84.4, loss=0.692]\n",
      "Epoch 18: 100%|██████████| 1875/1875 [00:33<00:00, 55.55batch/s, acc=100, loss=0.0321]\n",
      "Epoch 19: 100%|██████████| 1875/1875 [00:34<00:00, 54.46batch/s, acc=96.9, loss=0.0738]\n",
      "Epoch 20: 100%|██████████| 1875/1875 [00:34<00:00, 54.96batch/s, acc=84.4, loss=0.422]\n",
      "Epoch 21: 100%|██████████| 1875/1875 [00:34<00:00, 54.70batch/s, acc=90.6, loss=0.458]\n",
      "Epoch 22: 100%|██████████| 1875/1875 [00:34<00:00, 54.87batch/s, acc=96.9, loss=0.0982]\n",
      "Epoch 23: 100%|██████████| 1875/1875 [00:33<00:00, 56.53batch/s, acc=93.8, loss=0.203]\n",
      "Epoch 24: 100%|██████████| 1875/1875 [00:33<00:00, 56.59batch/s, acc=96.9, loss=0.0805]\n",
      "Epoch 25: 100%|██████████| 1875/1875 [00:33<00:00, 55.31batch/s, acc=100, loss=0.0269]\n",
      "Epoch 26: 100%|██████████| 1875/1875 [00:33<00:00, 55.41batch/s, acc=93.8, loss=0.181]\n",
      "Epoch 27: 100%|██████████| 1875/1875 [00:34<00:00, 54.53batch/s, acc=100, loss=0.0207]\n",
      "Epoch 28: 100%|██████████| 1875/1875 [00:34<00:00, 53.57batch/s, acc=100, loss=0.0436]\n",
      "Epoch 29: 100%|██████████| 1875/1875 [00:34<00:00, 55.07batch/s, acc=96.9, loss=0.114]\n",
      "Epoch 30: 100%|██████████| 1875/1875 [00:33<00:00, 56.23batch/s, acc=96.9, loss=0.126]\n",
      "Epoch 31: 100%|██████████| 1875/1875 [00:33<00:00, 56.12batch/s, acc=100, loss=0.00949]\n",
      "Epoch 32: 100%|██████████| 1875/1875 [00:34<00:00, 55.01batch/s, acc=93.8, loss=0.295]\n",
      "Epoch 33: 100%|██████████| 1875/1875 [00:33<00:00, 55.78batch/s, acc=93.8, loss=0.176]\n",
      "Epoch 34: 100%|██████████| 1875/1875 [00:33<00:00, 55.21batch/s, acc=90.6, loss=0.226]\n",
      "Epoch 35: 100%|██████████| 1875/1875 [00:33<00:00, 55.15batch/s, acc=93.8, loss=0.107]\n",
      "Epoch 36: 100%|██████████| 1875/1875 [00:34<00:00, 53.89batch/s, acc=100, loss=0.0321]\n",
      "Epoch 37: 100%|██████████| 1875/1875 [00:34<00:00, 54.61batch/s, acc=100, loss=0.013]\n",
      "Epoch 38: 100%|██████████| 1875/1875 [00:33<00:00, 55.24batch/s, acc=96.9, loss=0.148]\n",
      "Epoch 39: 100%|██████████| 1875/1875 [00:34<00:00, 53.97batch/s, acc=90.6, loss=0.116]\n",
      "Epoch 40: 100%|██████████| 1875/1875 [00:34<00:00, 55.10batch/s, acc=96.9, loss=0.112]\n",
      "Epoch 41: 100%|██████████| 1875/1875 [00:33<00:00, 56.29batch/s, acc=96.9, loss=0.0552]\n",
      "Epoch 42: 100%|██████████| 1875/1875 [00:33<00:00, 56.23batch/s, acc=93.8, loss=0.143]\n",
      "Epoch 43: 100%|██████████| 1875/1875 [00:34<00:00, 55.13batch/s, acc=100, loss=0.0421]\n",
      "Epoch 44: 100%|██████████| 1875/1875 [00:32<00:00, 57.10batch/s, acc=100, loss=0.0103]\n",
      "Epoch 45: 100%|██████████| 1875/1875 [00:34<00:00, 54.85batch/s, acc=96.9, loss=0.225]\n",
      "Epoch 46: 100%|██████████| 1875/1875 [00:34<00:00, 54.75batch/s, acc=96.9, loss=0.214]\n",
      "Epoch 47: 100%|██████████| 1875/1875 [00:34<00:00, 54.60batch/s, acc=93.8, loss=0.106]\n",
      "Epoch 48: 100%|██████████| 1875/1875 [00:34<00:00, 55.09batch/s, acc=96.9, loss=0.039]\n",
      "Epoch 49: 100%|██████████| 1875/1875 [00:33<00:00, 55.42batch/s, acc=96.9, loss=0.241]\n",
      "Epoch 50: 100%|██████████| 1875/1875 [00:34<00:00, 53.93batch/s, acc=90.6, loss=0.236]\n",
      "Epoch 51: 100%|██████████| 1875/1875 [00:34<00:00, 54.93batch/s, acc=93.8, loss=0.248]\n",
      "Epoch 52: 100%|██████████| 1875/1875 [00:35<00:00, 53.53batch/s, acc=100, loss=0.0187]\n",
      "Epoch 53: 100%|██████████| 1875/1875 [00:34<00:00, 54.40batch/s, acc=93.8, loss=0.279]\n",
      "Epoch 54: 100%|██████████| 1875/1875 [00:34<00:00, 54.00batch/s, acc=93.8, loss=0.121]\n",
      "Epoch 55: 100%|██████████| 1875/1875 [00:35<00:00, 53.21batch/s, acc=100, loss=0.00782]\n",
      "Epoch 56: 100%|██████████| 1875/1875 [00:34<00:00, 53.70batch/s, acc=87.5, loss=0.299]\n",
      "Epoch 57: 100%|██████████| 1875/1875 [00:34<00:00, 53.76batch/s, acc=100, loss=0.0136]\n",
      "Epoch 58: 100%|██████████| 1875/1875 [00:35<00:00, 53.45batch/s, acc=87.5, loss=0.294]\n",
      "Epoch 59: 100%|██████████| 1875/1875 [00:35<00:00, 53.31batch/s, acc=100, loss=0.0187]\n",
      "Epoch 60: 100%|██████████| 1875/1875 [00:35<00:00, 53.43batch/s, acc=93.8, loss=0.132]\n",
      "Epoch 61: 100%|██████████| 1875/1875 [00:35<00:00, 53.54batch/s, acc=96.9, loss=0.0627]\n",
      "Epoch 62: 100%|██████████| 1875/1875 [00:34<00:00, 54.44batch/s, acc=93.8, loss=0.141]\n",
      "Epoch 63: 100%|██████████| 1875/1875 [00:35<00:00, 53.05batch/s, acc=100, loss=0.0167]\n",
      "Epoch 64: 100%|██████████| 1875/1875 [00:34<00:00, 54.35batch/s, acc=93.8, loss=0.169]\n",
      "Epoch 65: 100%|██████████| 1875/1875 [00:35<00:00, 52.94batch/s, acc=96.9, loss=0.0525]\n",
      "Epoch 66: 100%|██████████| 1875/1875 [00:35<00:00, 52.41batch/s, acc=100, loss=0.0076]\n",
      "Epoch 67: 100%|██████████| 1875/1875 [00:35<00:00, 53.29batch/s, acc=100, loss=0.0495]\n",
      "Epoch 68: 100%|██████████| 1875/1875 [00:35<00:00, 52.42batch/s, acc=93.8, loss=0.241]\n",
      "Epoch 69: 100%|██████████| 1875/1875 [00:34<00:00, 53.88batch/s, acc=96.9, loss=0.0763]\n",
      "Epoch 70: 100%|██████████| 1875/1875 [00:35<00:00, 53.21batch/s, acc=96.9, loss=0.118]\n",
      "Epoch 71: 100%|██████████| 1875/1875 [00:35<00:00, 53.50batch/s, acc=100, loss=0.00913]\n",
      "Epoch 72: 100%|██████████| 1875/1875 [00:35<00:00, 53.11batch/s, acc=96.9, loss=0.108]\n",
      "Epoch 73: 100%|██████████| 1875/1875 [00:35<00:00, 53.35batch/s, acc=96.9, loss=0.104]\n",
      "Epoch 74: 100%|██████████| 1875/1875 [00:34<00:00, 53.72batch/s, acc=100, loss=0.0239]\n",
      "Epoch 75: 100%|██████████| 1875/1875 [00:34<00:00, 54.62batch/s, acc=96.9, loss=0.167]\n",
      "Epoch 76: 100%|██████████| 1875/1875 [00:34<00:00, 55.09batch/s, acc=96.9, loss=0.0493]\n",
      "Epoch 77: 100%|██████████| 1875/1875 [00:35<00:00, 53.26batch/s, acc=100, loss=0.0786]\n",
      "Epoch 78: 100%|██████████| 1875/1875 [00:34<00:00, 54.36batch/s, acc=96.9, loss=0.0811]\n",
      "Epoch 79: 100%|██████████| 1875/1875 [00:35<00:00, 52.74batch/s, acc=100, loss=0.012]\n",
      "Epoch 80: 100%|██████████| 1875/1875 [00:34<00:00, 53.64batch/s, acc=96.9, loss=0.0739]\n",
      "Epoch 81: 100%|██████████| 1875/1875 [00:35<00:00, 53.52batch/s, acc=96.9, loss=0.109]\n",
      "Epoch 82: 100%|██████████| 1875/1875 [00:34<00:00, 53.67batch/s, acc=93.8, loss=0.161]\n",
      "Epoch 83: 100%|██████████| 1875/1875 [00:34<00:00, 53.85batch/s, acc=96.9, loss=0.0666]\n",
      "Epoch 84: 100%|██████████| 1875/1875 [00:35<00:00, 52.74batch/s, acc=100, loss=0.00527]\n",
      "Epoch 85: 100%|██████████| 1875/1875 [00:34<00:00, 54.38batch/s, acc=93.8, loss=0.16]\n",
      "Epoch 86: 100%|██████████| 1875/1875 [00:34<00:00, 54.01batch/s, acc=93.8, loss=0.284]\n",
      "Epoch 87: 100%|██████████| 1875/1875 [00:34<00:00, 54.46batch/s, acc=96.9, loss=0.0817]\n",
      "Epoch 88: 100%|██████████| 1875/1875 [00:35<00:00, 53.48batch/s, acc=93.8, loss=0.0845]\n",
      "Epoch 89: 100%|██████████| 1875/1875 [00:35<00:00, 52.51batch/s, acc=96.9, loss=0.0518]\n",
      "Epoch 90: 100%|██████████| 1875/1875 [00:35<00:00, 53.23batch/s, acc=100, loss=0.026]\n",
      "Epoch 91: 100%|██████████| 1875/1875 [00:35<00:00, 53.25batch/s, acc=93.8, loss=0.0696]\n",
      "Epoch 92: 100%|██████████| 1875/1875 [00:35<00:00, 52.91batch/s, acc=100, loss=0.0204]\n",
      "Epoch 93: 100%|██████████| 1875/1875 [00:35<00:00, 52.95batch/s, acc=100, loss=0.0172]\n",
      "Epoch 94: 100%|██████████| 1875/1875 [00:35<00:00, 53.01batch/s, acc=93.8, loss=0.0917]\n",
      "Epoch 95: 100%|██████████| 1875/1875 [00:35<00:00, 53.37batch/s, acc=100, loss=0.0116]\n",
      "Epoch 96: 100%|██████████| 1875/1875 [00:35<00:00, 53.02batch/s, acc=96.9, loss=0.0739]\n",
      "Epoch 97: 100%|██████████| 1875/1875 [00:35<00:00, 53.14batch/s, acc=96.9, loss=0.0419]\n",
      "Epoch 98: 100%|██████████| 1875/1875 [00:35<00:00, 52.59batch/s, acc=100, loss=0.0364]\n",
      "Epoch 99: 100%|██████████| 1875/1875 [00:35<00:00, 52.35batch/s, acc=93.8, loss=0.0801]\n"
     ]
    }
   ],
   "source": [
    "net.train()\n",
    "for epoch in range(n_epochs):\n",
    "    with tqdm(train_loader, unit=\"batch\") as tepoch:\n",
    "        for i, sample in enumerate(tepoch):\n",
    "            tepoch.set_description(f\"Epoch {epoch}\")\n",
    "            input, target_set, target_mask = map(lambda x: x.cuda(), sample)\n",
    "            optimizer.zero_grad()\n",
    "            output = net(target_set,target_mask)\n",
    "            loss = F.cross_entropy(output, input)\n",
    "            acc = (output.max(dim=1)[1] == input).float().mean()\n",
    "            loss.backward()\n",
    "            optimizer.step()\n",
    "            tepoch.set_postfix(loss=loss.item(), acc=100. * acc.item())"
   ]
  },
  {
   "cell_type": "code",
   "execution_count": 117,
   "id": "eHXREpdVHywV",
   "metadata": {
    "colab": {
     "base_uri": "https://localhost:8080/"
    },
    "id": "eHXREpdVHywV",
    "outputId": "5eaf4c80-068a-499f-9455-b31ebcb5ec45"
   },
   "outputs": [
    {
     "name": "stderr",
     "output_type": "stream",
     "text": [
      "Epoch 1:   0%|                                                                                  | 0/312 [00:02<?, ?batch/s]\n"
     ]
    },
    {
     "ename": "AssertionError",
     "evalue": "Torch not compiled with CUDA enabled",
     "output_type": "error",
     "traceback": [
      "\u001b[0;31m---------------------------------------------------------------------------\u001b[0m",
      "\u001b[0;31mAssertionError\u001b[0m                            Traceback (most recent call last)",
      "\u001b[0;32m/var/folders/y7/1blltvf14qn2pwnxm884rdt00000gn/T/ipykernel_32651/1336523977.py\u001b[0m in \u001b[0;36m<module>\u001b[0;34m\u001b[0m\n\u001b[1;32m      3\u001b[0m     \u001b[0;32mfor\u001b[0m \u001b[0mi\u001b[0m\u001b[0;34m,\u001b[0m \u001b[0msample\u001b[0m \u001b[0;32min\u001b[0m \u001b[0menumerate\u001b[0m\u001b[0;34m(\u001b[0m\u001b[0mtepoch\u001b[0m\u001b[0;34m)\u001b[0m\u001b[0;34m:\u001b[0m\u001b[0;34m\u001b[0m\u001b[0;34m\u001b[0m\u001b[0m\n\u001b[1;32m      4\u001b[0m         \u001b[0mtepoch\u001b[0m\u001b[0;34m.\u001b[0m\u001b[0mset_description\u001b[0m\u001b[0;34m(\u001b[0m\u001b[0;34mf\"Epoch {1}\"\u001b[0m\u001b[0;34m)\u001b[0m\u001b[0;34m\u001b[0m\u001b[0;34m\u001b[0m\u001b[0m\n\u001b[0;32m----> 5\u001b[0;31m         \u001b[0minput\u001b[0m\u001b[0;34m,\u001b[0m \u001b[0mtarget_set\u001b[0m\u001b[0;34m,\u001b[0m \u001b[0mtarget_mask\u001b[0m \u001b[0;34m=\u001b[0m \u001b[0mmap\u001b[0m\u001b[0;34m(\u001b[0m\u001b[0;32mlambda\u001b[0m \u001b[0mx\u001b[0m\u001b[0;34m:\u001b[0m \u001b[0mx\u001b[0m\u001b[0;34m.\u001b[0m\u001b[0mcuda\u001b[0m\u001b[0;34m(\u001b[0m\u001b[0;34m)\u001b[0m\u001b[0;34m,\u001b[0m \u001b[0msample\u001b[0m\u001b[0;34m)\u001b[0m\u001b[0;34m\u001b[0m\u001b[0;34m\u001b[0m\u001b[0m\n\u001b[0m\u001b[1;32m      6\u001b[0m         \u001b[0moutput\u001b[0m \u001b[0;34m=\u001b[0m \u001b[0mnet\u001b[0m\u001b[0;34m(\u001b[0m\u001b[0mtarget_set\u001b[0m\u001b[0;34m,\u001b[0m\u001b[0mtarget_mask\u001b[0m\u001b[0;34m)\u001b[0m\u001b[0;34m\u001b[0m\u001b[0;34m\u001b[0m\u001b[0m\n\u001b[1;32m      7\u001b[0m         \u001b[0mloss\u001b[0m \u001b[0;34m=\u001b[0m \u001b[0mF\u001b[0m\u001b[0;34m.\u001b[0m\u001b[0mcross_entropy\u001b[0m\u001b[0;34m(\u001b[0m\u001b[0moutput\u001b[0m\u001b[0;34m,\u001b[0m \u001b[0minput\u001b[0m\u001b[0;34m)\u001b[0m\u001b[0;34m\u001b[0m\u001b[0;34m\u001b[0m\u001b[0m\n",
      "\u001b[0;32m/var/folders/y7/1blltvf14qn2pwnxm884rdt00000gn/T/ipykernel_32651/1336523977.py\u001b[0m in \u001b[0;36m<lambda>\u001b[0;34m(x)\u001b[0m\n\u001b[1;32m      3\u001b[0m     \u001b[0;32mfor\u001b[0m \u001b[0mi\u001b[0m\u001b[0;34m,\u001b[0m \u001b[0msample\u001b[0m \u001b[0;32min\u001b[0m \u001b[0menumerate\u001b[0m\u001b[0;34m(\u001b[0m\u001b[0mtepoch\u001b[0m\u001b[0;34m)\u001b[0m\u001b[0;34m:\u001b[0m\u001b[0;34m\u001b[0m\u001b[0;34m\u001b[0m\u001b[0m\n\u001b[1;32m      4\u001b[0m         \u001b[0mtepoch\u001b[0m\u001b[0;34m.\u001b[0m\u001b[0mset_description\u001b[0m\u001b[0;34m(\u001b[0m\u001b[0;34mf\"Epoch {1}\"\u001b[0m\u001b[0;34m)\u001b[0m\u001b[0;34m\u001b[0m\u001b[0;34m\u001b[0m\u001b[0m\n\u001b[0;32m----> 5\u001b[0;31m         \u001b[0minput\u001b[0m\u001b[0;34m,\u001b[0m \u001b[0mtarget_set\u001b[0m\u001b[0;34m,\u001b[0m \u001b[0mtarget_mask\u001b[0m \u001b[0;34m=\u001b[0m \u001b[0mmap\u001b[0m\u001b[0;34m(\u001b[0m\u001b[0;32mlambda\u001b[0m \u001b[0mx\u001b[0m\u001b[0;34m:\u001b[0m \u001b[0mx\u001b[0m\u001b[0;34m.\u001b[0m\u001b[0mcuda\u001b[0m\u001b[0;34m(\u001b[0m\u001b[0;34m)\u001b[0m\u001b[0;34m,\u001b[0m \u001b[0msample\u001b[0m\u001b[0;34m)\u001b[0m\u001b[0;34m\u001b[0m\u001b[0;34m\u001b[0m\u001b[0m\n\u001b[0m\u001b[1;32m      6\u001b[0m         \u001b[0moutput\u001b[0m \u001b[0;34m=\u001b[0m \u001b[0mnet\u001b[0m\u001b[0;34m(\u001b[0m\u001b[0mtarget_set\u001b[0m\u001b[0;34m,\u001b[0m\u001b[0mtarget_mask\u001b[0m\u001b[0;34m)\u001b[0m\u001b[0;34m\u001b[0m\u001b[0;34m\u001b[0m\u001b[0m\n\u001b[1;32m      7\u001b[0m         \u001b[0mloss\u001b[0m \u001b[0;34m=\u001b[0m \u001b[0mF\u001b[0m\u001b[0;34m.\u001b[0m\u001b[0mcross_entropy\u001b[0m\u001b[0;34m(\u001b[0m\u001b[0moutput\u001b[0m\u001b[0;34m,\u001b[0m \u001b[0minput\u001b[0m\u001b[0;34m)\u001b[0m\u001b[0;34m\u001b[0m\u001b[0;34m\u001b[0m\u001b[0m\n",
      "\u001b[0;32m~/miniforge3/envs/pytorch_m1/lib/python3.8/site-packages/torch/cuda/__init__.py\u001b[0m in \u001b[0;36m_lazy_init\u001b[0;34m()\u001b[0m\n\u001b[1;32m    206\u001b[0m                 \"multiprocessing, you must use the 'spawn' start method\")\n\u001b[1;32m    207\u001b[0m         \u001b[0;32mif\u001b[0m \u001b[0;32mnot\u001b[0m \u001b[0mhasattr\u001b[0m\u001b[0;34m(\u001b[0m\u001b[0mtorch\u001b[0m\u001b[0;34m.\u001b[0m\u001b[0m_C\u001b[0m\u001b[0;34m,\u001b[0m \u001b[0;34m'_cuda_getDeviceCount'\u001b[0m\u001b[0;34m)\u001b[0m\u001b[0;34m:\u001b[0m\u001b[0;34m\u001b[0m\u001b[0;34m\u001b[0m\u001b[0m\n\u001b[0;32m--> 208\u001b[0;31m             \u001b[0;32mraise\u001b[0m \u001b[0mAssertionError\u001b[0m\u001b[0;34m(\u001b[0m\u001b[0;34m\"Torch not compiled with CUDA enabled\"\u001b[0m\u001b[0;34m)\u001b[0m\u001b[0;34m\u001b[0m\u001b[0;34m\u001b[0m\u001b[0m\n\u001b[0m\u001b[1;32m    209\u001b[0m         \u001b[0;32mif\u001b[0m \u001b[0m_cudart\u001b[0m \u001b[0;32mis\u001b[0m \u001b[0;32mNone\u001b[0m\u001b[0;34m:\u001b[0m\u001b[0;34m\u001b[0m\u001b[0;34m\u001b[0m\u001b[0m\n\u001b[1;32m    210\u001b[0m             raise AssertionError(\n",
      "\u001b[0;31mAssertionError\u001b[0m: Torch not compiled with CUDA enabled"
     ]
    }
   ],
   "source": [
    "net.eval()\n",
    "with tqdm(test_loader, unit=\"batch\") as tepoch:\n",
    "    for i, sample in enumerate(tepoch):\n",
    "        tepoch.set_description(f\"Epoch {1}\")\n",
    "        input, target_set, target_mask = map(lambda x: x.cuda(), sample)\n",
    "        output = net(target_set,target_mask)\n",
    "        loss = F.cross_entropy(output, input)\n",
    "        acc = (output.max(dim=1)[1] == input).float().mean()\n",
    "        tepoch.set_postfix(loss=loss.item(), acc=100. * acc.item())"
   ]
  },
  {
   "cell_type": "code",
   "execution_count": 18,
   "id": "ac22cc0a",
   "metadata": {
    "id": "ac22cc0a"
   },
   "outputs": [],
   "source": [
    "#torch.save(net.state_dict(),'model.pth')"
   ]
  },
  {
   "cell_type": "code",
   "execution_count": 8,
   "id": "D8ViyjmmmjLp",
   "metadata": {
    "id": "D8ViyjmmmjLp"
   },
   "outputs": [],
   "source": [
    "model = torch.load('model.pth' ,map_location=torch.device('cpu'))\n",
    "miNet = FSEncoderClasification(set_channels,latent_dim,hidden_dim)"
   ]
  },
  {
   "cell_type": "code",
   "execution_count": 9,
   "id": "DAGv7KMIm5cA",
   "metadata": {
    "colab": {
     "base_uri": "https://localhost:8080/"
    },
    "id": "DAGv7KMIm5cA",
    "outputId": "3b0b7405-3f2c-4da7-c820-951df018a64b"
   },
   "outputs": [
    {
     "data": {
      "text/plain": [
       "<All keys matched successfully>"
      ]
     },
     "execution_count": 9,
     "metadata": {},
     "output_type": "execute_result"
    }
   ],
   "source": [
    "miNet.load_state_dict(torch.load('model.pth' ,map_location=torch.device('cpu')))"
   ]
  },
  {
   "cell_type": "code",
   "execution_count": 10,
   "id": "-ZqURtZOml2o",
   "metadata": {
    "colab": {
     "base_uri": "https://localhost:8080/"
    },
    "id": "-ZqURtZOml2o",
    "outputId": "da2fba4e-e25a-450d-94e9-3323b01c8e15"
   },
   "outputs": [
    {
     "name": "stderr",
     "output_type": "stream",
     "text": [
      "Epoch 0: 100%|██████████████████████████████████████████████████| 312/312 [07:46<00:00,  1.50s/batch, acc=81.2, loss=0.695]\n"
     ]
    }
   ],
   "source": [
    "miNet = miNet\n",
    "miNet.eval()\n",
    "with tqdm(test_loader, unit=\"batch\") as tepoch:\n",
    "    for i, sample in enumerate(tepoch):\n",
    "        tepoch.set_description(f\"Epoch {0}\")\n",
    "        input, target_set, target_mask = map(lambda x: x, sample)\n",
    "        output = miNet(target_set,target_mask)\n",
    "        loss = F.cross_entropy(output, input)\n",
    "        acc = (output.max(dim=1)[1] == input).float().mean()\n",
    "        tepoch.set_postfix(loss=loss.item(), acc=100. * acc.item())"
   ]
  },
  {
   "cell_type": "code",
   "execution_count": 11,
   "id": "1ec454af",
   "metadata": {},
   "outputs": [
    {
     "data": {
      "text/plain": [
       "FSEncoderClasification(\n",
       "  (conv): Sequential(\n",
       "    (0): Conv1d(2, 32, kernel_size=(1,), stride=(1,))\n",
       "    (1): ReLU(inplace=True)\n",
       "    (2): Conv1d(32, 32, kernel_size=(1,), stride=(1,))\n",
       "  )\n",
       "  (lin): Sequential(\n",
       "    (0): Linear(in_features=32, out_features=32, bias=True)\n",
       "    (1): ReLU(inplace=True)\n",
       "    (2): Linear(in_features=32, out_features=16, bias=True)\n",
       "  )\n",
       "  (classifier): Sequential(\n",
       "    (0): Linear(in_features=16, out_features=16, bias=True)\n",
       "    (1): ReLU()\n",
       "    (2): Linear(in_features=16, out_features=10, bias=True)\n",
       "  )\n",
       "  (pool): FSPool()\n",
       ")"
      ]
     },
     "execution_count": 11,
     "metadata": {},
     "output_type": "execute_result"
    }
   ],
   "source": [
    "miNet"
   ]
  },
  {
   "cell_type": "markdown",
   "id": "f3e7a48e",
   "metadata": {},
   "source": [
    "## Visualización de los filtros"
   ]
  },
  {
   "cell_type": "code",
   "execution_count": 12,
   "id": "19da3587",
   "metadata": {},
   "outputs": [],
   "source": [
    "import seaborn as sn\n",
    "import matplotlib\n",
    "import matplotlib.pyplot as pyplot\n",
    "import numpy as np"
   ]
  },
  {
   "cell_type": "code",
   "execution_count": 13,
   "id": "707d4b61",
   "metadata": {},
   "outputs": [
    {
     "data": {
      "image/png": "[encoded data removed]",
      "text/plain": [
       "<Figure size 432x288 with 2 Axes>"
      ]
     },
     "metadata": {
      "needs_background": "light"
     },
     "output_type": "display_data"
    },
    {
     "data": {
      "image/png": "[encoded data removed]",
      "text/plain": [
       "<Figure size 432x288 with 2 Axes>"
      ]
     },
     "metadata": {
      "needs_background": "light"
     },
     "output_type": "display_data"
    }
   ],
   "source": [
    "filters= miNet.conv[0].weight\n",
    "data = filters.squeeze(2).detach().numpy()\n",
    "sn.heatmap(data, annot=False, fmt='g')\n",
    "pyplot.title(\"Primera capa de conv1d\")\n",
    "pyplot.show()\n",
    "filters= miNet.conv[2].weight\n",
    "data = filters.squeeze(2).detach().numpy()\n",
    "sn.heatmap(data, annot=False, fmt='g')\n",
    "pyplot.title(\"Segunda capa de conv1d\")\n",
    "pyplot.show()"
   ]
  },
  {
   "cell_type": "code",
   "execution_count": 14,
   "id": "7f594ab7",
   "metadata": {},
   "outputs": [
    {
     "name": "stdout",
     "output_type": "stream",
     "text": [
      "torch.Size([32, 21])\n"
     ]
    },
    {
     "data": {
      "image/png": "[encoded data removed]",
      "text/plain": [
       "<Figure size 432x288 with 2 Axes>"
      ]
     },
     "metadata": {
      "needs_background": "light"
     },
     "output_type": "display_data"
    }
   ],
   "source": [
    "filters= miNet.pool.weight\n",
    "print(filters.shape)\n",
    "data = filters.detach().numpy()\n",
    "sn.heatmap(data, annot=False, fmt='g')\n",
    "pyplot.title(\"Pesos de la capa fspool\")\n",
    "pyplot.show()"
   ]
  },
  {
   "cell_type": "code",
   "execution_count": 15,
   "id": "3f0304bd",
   "metadata": {},
   "outputs": [
    {
     "name": "stdout",
     "output_type": "stream",
     "text": [
      "torch.Size([32, 32])\n"
     ]
    },
    {
     "data": {
      "image/png": "[encoded data removed]",
      "text/plain": [
       "<Figure size 432x288 with 2 Axes>"
      ]
     },
     "metadata": {
      "needs_background": "light"
     },
     "output_type": "display_data"
    },
    {
     "data": {
      "image/png": "[encoded data removed]",
      "text/plain": [
       "<Figure size 432x288 with 2 Axes>"
      ]
     },
     "metadata": {
      "needs_background": "light"
     },
     "output_type": "display_data"
    },
    {
     "data": {
      "image/png": "[encoded data removed]",
      "text/plain": [
       "<Figure size 432x288 with 2 Axes>"
      ]
     },
     "metadata": {
      "needs_background": "light"
     },
     "output_type": "display_data"
    },
    {
     "data": {
      "image/png": "[encoded data removed]",
      "text/plain": [
       "<Figure size 432x288 with 2 Axes>"
      ]
     },
     "metadata": {
      "needs_background": "light"
     },
     "output_type": "display_data"
    }
   ],
   "source": [
    "filters= miNet.lin[0].weight\n",
    "print(filters.shape)\n",
    "data = filters.detach().numpy()\n",
    "sn.heatmap(data, annot=False, fmt='g')\n",
    "pyplot.title(\"Primera capa de redes neuronales\")\n",
    "pyplot.show()\n",
    "filters= miNet.lin[2].weight\n",
    "data = filters.detach().numpy()\n",
    "sn.heatmap(data, annot=False, fmt='g')\n",
    "pyplot.title(\"Segunda capa de redes neuronales\")\n",
    "pyplot.show()\n",
    "filters= miNet.classifier[0].weight\n",
    "data = filters.detach().numpy()\n",
    "sn.heatmap(data, annot=False, fmt='g')\n",
    "pyplot.title(\"Tercera capa de redes neuronales\")\n",
    "pyplot.show()\n",
    "filters= miNet.classifier[2].weight\n",
    "data = filters.detach().numpy()\n",
    "sn.heatmap(data, annot=False, fmt='g')\n",
    "pyplot.title(\"Última capa de redes neuronales\")\n",
    "pyplot.show()"
   ]
  },
  {
   "cell_type": "code",
   "execution_count": 16,
   "id": "77027b9c",
   "metadata": {},
   "outputs": [
    {
     "data": {
      "image/png": "[encoded data removed]",
      "text/plain": [
       "<Figure size 432x288 with 1 Axes>"
      ]
     },
     "metadata": {
      "needs_background": "light"
     },
     "output_type": "display_data"
    },
    {
     "data": {
      "text/plain": [
       "torch.Tensor"
      ]
     },
     "execution_count": 16,
     "metadata": {},
     "output_type": "execute_result"
    }
   ],
   "source": [
    "dataset = MNISTSet(train=False, full=True)\n",
    "expected, sample,mask_sample = dataset[0]\n",
    "x = sample[1, :]\n",
    "y = sample[0, :]\n",
    "pyplot.scatter(x, y,color ='b')\n",
    "pyplot.axis([0, 1, 1, 0])\n",
    "pyplot.title('Label: {}'.format(expected))\n",
    "#plt.savefig('test.png')\n",
    "pyplot.show()\n",
    "sample = sample.unsqueeze(0)\n",
    "mask_sample = mask_sample.unsqueeze(0)\n",
    "expected = torch.tensor(expected).unsqueeze(0)\n",
    "type(sample)\n"
   ]
  },
  {
   "cell_type": "code",
   "execution_count": 17,
   "id": "0a17c162",
   "metadata": {},
   "outputs": [
    {
     "name": "stdout",
     "output_type": "stream",
     "text": [
      "We obtained 7, and the expected is: 7\n"
     ]
    }
   ],
   "source": [
    "with torch.no_grad():\n",
    "    pred = miNet(sample,mask_sample)\n",
    "    print(\"We obtained {}, and the expected is: {}\".format(np.argmax(pred).item(),expected.item()))"
   ]
  },
  {
   "cell_type": "code",
   "execution_count": 100,
   "id": "81af855d",
   "metadata": {},
   "outputs": [],
   "source": [
    "#Creación del modelo pre-fspooling\n",
    "class Model1(nn.Module):\n",
    "    def __init__(self, input_channels, output_channels, dim):\n",
    "        super().__init__()\n",
    "        for m in self.modules():\n",
    "            if (\n",
    "                isinstance(m, nn.Linear)\n",
    "                or isinstance(m, nn.Conv2d)\n",
    "                or isinstance(m, nn.Conv1d)\n",
    "            ):\n",
    "                init.xavier_uniform_(m.weight)\n",
    "                if m.bias is not None:\n",
    "                    m.bias.data.zero_()\n",
    "        self.conv = nn.Sequential(\n",
    "            nn.Conv1d(input_channels, dim, 1),\n",
    "            nn.ReLU(inplace=True),\n",
    "            nn.Conv1d(dim, dim, 1),\n",
    "        )\n",
    "        #self.conv[0] = miNet.conv[0].weight\n",
    "        #self.conv[2] = miNet.conv[2].weight\n",
    "        #self.lin = self.lin.fill_(miNet.lin.weight)\n",
    "        #self.classifier = self.classifier.fill_(miNet.classifier.weight)\n",
    "        #self.pool = FSPool(dim, 20, relaxed=False)\n",
    "\n",
    "    def forward(self, x, mask=None):\n",
    "        x = self.conv(x)\n",
    "        #x, perm = self.pool(x)\n",
    "        #x = self.lin(x)\n",
    "        #x = self.classifier(x)\n",
    "        return x\n",
    "#Creación del modelo post-fspooling"
   ]
  },
  {
   "cell_type": "code",
   "execution_count": 101,
   "id": "bd1e9c1f",
   "metadata": {},
   "outputs": [],
   "source": [
    "#Creación del modelo pre-fspooling\n",
    "class Model2(nn.Module):\n",
    "    def __init__(self, input_channels, output_channels, dim):\n",
    "        super().__init__()\n",
    "        for m in self.modules():\n",
    "            if (\n",
    "                isinstance(m, nn.Linear)\n",
    "                or isinstance(m, nn.Conv2d)\n",
    "                or isinstance(m, nn.Conv1d)\n",
    "            ):\n",
    "                init.xavier_uniform_(m.weight)\n",
    "                if m.bias is not None:\n",
    "                    m.bias.data.zero_()\n",
    "        self.conv = nn.Sequential(\n",
    "            nn.Conv1d(input_channels, dim, 1),\n",
    "            nn.ReLU(inplace=True),\n",
    "            nn.Conv1d(dim, dim, 1),\n",
    "        )\n",
    "        #self.conv[0] = miNet.conv[0].weight\n",
    "        #self.conv[2] = miNet.conv[2].weight\n",
    "        #self.lin = self.lin.fill_(miNet.lin.weight)\n",
    "        #self.classifier = self.classifier.fill_(miNet.classifier.weight)\n",
    "        self.pool = FSPool(dim, 20, relaxed=True)\n",
    "\n",
    "    def forward(self, x, mask=None):\n",
    "        #print(x)\n",
    "        x = self.conv(x)\n",
    "        x, perm = self.pool(x)\n",
    "        #x = self.lin(x)\n",
    "        #x = self.classifier(x)\n",
    "        return x,perm\n",
    "#Creación del modelo post-fspooling"
   ]
  },
  {
   "cell_type": "code",
   "execution_count": 97,
   "id": "46391ca9",
   "metadata": {},
   "outputs": [
    {
     "data": {
      "text/plain": [
       "Sequential(\n",
       "  (0): Conv1d(2, 32, kernel_size=(1,), stride=(1,))\n",
       "  (1): ReLU(inplace=True)\n",
       "  (2): Conv1d(32, 32, kernel_size=(1,), stride=(1,))\n",
       ")"
      ]
     },
     "execution_count": 97,
     "metadata": {},
     "output_type": "execute_result"
    }
   ],
   "source": [
    "pre_fspool = miNet.conv\n",
    "pre_fspool"
   ]
  },
  {
   "cell_type": "code",
   "execution_count": 99,
   "id": "7c9f46f0",
   "metadata": {},
   "outputs": [
    {
     "data": {
      "text/plain": [
       "Sequential(\n",
       "  (0): Linear(in_features=32, out_features=32, bias=True)\n",
       "  (1): ReLU(inplace=True)\n",
       "  (2): Linear(in_features=32, out_features=16, bias=True)\n",
       ")"
      ]
     },
     "execution_count": 99,
     "metadata": {},
     "output_type": "execute_result"
    }
   ],
   "source": [
    "post_fspool = miNet.pool\n",
    "post_fspool"
   ]
  },
  {
   "cell_type": "code",
   "execution_count": 23,
   "id": "d9fcbac9",
   "metadata": {},
   "outputs": [],
   "source": [
    "from fspool import FSPool"
   ]
  },
  {
   "cell_type": "code",
   "execution_count": 24,
   "id": "c82db06b",
   "metadata": {},
   "outputs": [],
   "source": [
    "fs = FSPool(32,20,False)"
   ]
  },
  {
   "cell_type": "markdown",
   "id": "7ba28630",
   "metadata": {},
   "source": [
    "## Visualización de los puntos críticos"
   ]
  },
  {
   "cell_type": "code",
   "execution_count": 61,
   "id": "fe9da133",
   "metadata": {},
   "outputs": [
    {
     "name": "stdout",
     "output_type": "stream",
     "text": [
      "torch.Size([1, 32, 342])\n",
      "tensor([[[-0.1630, -0.3864, -0.1844,  ...,  0.3873,  0.3873,  0.3873],\n",
      "         [-0.1613, -0.1203, -0.1924,  ...,  0.0027,  0.0027,  0.0027],\n",
      "         [ 0.4287,  0.2928,  0.5120,  ...,  0.0153,  0.0153,  0.0153],\n",
      "         ...,\n",
      "         [-0.5543, -0.2452, -0.6103,  ...,  0.0091,  0.0091,  0.0091],\n",
      "         [ 0.1311, -0.1397,  0.1609,  ...,  0.0084,  0.0084,  0.0084],\n",
      "         [ 0.4700,  0.3670,  0.4817,  ..., -0.0276, -0.0276, -0.0276]]])\n"
     ]
    },
    {
     "data": {
      "image/png": "[encoded data removed]",
      "text/plain": [
       "<Figure size 432x288 with 2 Axes>"
      ]
     },
     "metadata": {
      "needs_background": "light"
     },
     "output_type": "display_data"
    },
    {
     "name": "stdout",
     "output_type": "stream",
     "text": [
      "El tamaño de la mascara. torch.Size([1, 32])\n",
      "torch.Size([1, 32])\n",
      "[  2.787952     7.970227     0.01495205   8.175733    -0.8901609\n",
      "  13.591594    -1.6625088   12.338576     3.4726858    0.5511198\n",
      "   3.6657524    1.4560413    2.070311     1.0076226   -0.09428906\n",
      "  -3.025549     1.8188453   -6.5057235    4.1939015    3.2683716\n",
      " -10.603926    -2.9320307    2.0522416    2.919127     8.314371\n",
      "   1.6083158  -11.676671    -6.763046     3.011639    -0.9260013\n",
      "   3.7429368   -3.171469  ]\n"
     ]
    },
    {
     "data": {
      "image/png": "[encoded data removed]",
      "text/plain": [
       "<Figure size 432x288 with 2 Axes>"
      ]
     },
     "metadata": {
      "needs_background": "light"
     },
     "output_type": "display_data"
    },
    {
     "name": "stdout",
     "output_type": "stream",
     "text": [
      "torch.Size([1, 32, 342])\n",
      "ESTE ES EL UNPOOL\n",
      "tensor([[[-3.2623e+00, -1.4570e+00, -3.1232e+00,  ...,  6.8405e-02,\n",
      "           6.8405e-02,  6.8405e-02],\n",
      "         [ 4.6637e+00,  4.3470e+00,  1.3506e+00,  ..., -1.0283e+00,\n",
      "          -1.0283e+00, -1.0283e+00],\n",
      "         [ 7.5368e-04,  1.7698e-02, -8.1380e-03,  ..., -8.4860e-04,\n",
      "          -8.4860e-04, -8.4860e-04],\n",
      "         ...,\n",
      "         [-1.3531e-02,  5.5646e-01, -1.4792e-01,  ..., -1.7379e-02,\n",
      "          -1.7379e-02, -1.7379e-02],\n",
      "         [-8.1590e-01,  1.2614e+00, -1.1030e+00,  ..., -3.0908e-02,\n",
      "          -3.0908e-02, -3.0908e-02],\n",
      "         [ 2.6507e+00,  1.8692e-02,  2.7793e+00,  ...,  1.5678e-01,\n",
      "           1.5678e-01,  1.5678e-01]]])\n"
     ]
    },
    {
     "data": {
      "image/png": "[encoded data removed]",
      "text/plain": [
       "<Figure size 432x288 with 2 Axes>"
      ]
     },
     "metadata": {
      "needs_background": "light"
     },
     "output_type": "display_data"
    },
    {
     "name": "stdout",
     "output_type": "stream",
     "text": [
      "torch.Size([1, 16])\n"
     ]
    },
    {
     "data": {
      "image/png": "[encoded data removed]",
      "text/plain": [
       "<Figure size 432x288 with 2 Axes>"
      ]
     },
     "metadata": {
      "needs_background": "light"
     },
     "output_type": "display_data"
    }
   ],
   "source": [
    "model1 = Model1(set_channels,latent_dim,hidden_dim)\n",
    "model2 = Model2(set_channels,latent_dim,hidden_dim)\n",
    "model3 = Model3(set_channels,latent_dim,hidden_dim)\n",
    "model1.conv = pre_fspool\n",
    "model2.conv = pre_fspool\n",
    "model2.pool = post_fspool\n",
    "model3.conv = pre_fspool\n",
    "model3.pool = post_fspool\n",
    "model3.lin = miNet.lin\n",
    "#print(miNet.conv[0].weight) \n",
    "#print(model1.conv[0].weight)\n",
    "with torch.no_grad():\n",
    "    \n",
    "    pred = model1(sample,mask_sample)\n",
    "    print(pred.shape)\n",
    "    print(pred)\n",
    "    nfeatures_pred = pred.detach()\n",
    "    data = pred.squeeze(0).detach().view(342,32).numpy()\n",
    "    datakk = data\n",
    "    sn.heatmap(data, annot=False, fmt='g')\n",
    "    pyplot.title(\"Salida después de la primera capa\")\n",
    "    pyplot.show()\n",
    "    \n",
    "    pred,perm = model2(sample,mask_sample)\n",
    "    print(\"El tamaño de la mascara. {}\".format(pred.shape))\n",
    "    print(pred.shape)\n",
    "    mapa_de_fspool = pred\n",
    "    fspool_salida = pred.squeeze(0).detach().numpy()\n",
    "    print(fspool_salida)\n",
    "    data = pred.detach().numpy()\n",
    "    sn.heatmap(data, annot=False, fmt='g')\n",
    "    pyplot.title(\"Salida después del fspool\")\n",
    "    pyplot.show()\n",
    "    #print(pred)\n",
    "    kk,maskara = model2.pool.forward_transpose(pred,perm)\n",
    "    nfeatures = kk\n",
    "    print(kk.shape)\n",
    "    print(\"ESTE ES EL UNPOOL\")\n",
    "    data = kk.squeeze(0).detach().view(342,32).numpy()\n",
    "    dataInutil = kk.squeeze(0).detach().numpy()\n",
    "    print(kk)\n",
    "    sn.heatmap(data, annot=False, fmt='g')\n",
    "    pyplot.title(\"MIerda\")\n",
    "    pyplot.show()\n",
    "    \n",
    "    \n",
    "    pred = model3(sample,mask_sample)\n",
    "    print(pred.shape)\n",
    "    data = pred.detach().numpy()\n",
    "    sn.heatmap(data, annot=False, fmt='g')\n",
    "    pyplot.title(\"Salida de la última capa\")\n",
    "    pyplot.show()\n",
    "    "
   ]
  },
  {
   "cell_type": "markdown",
   "id": "dcad0455",
   "metadata": {},
   "source": [
    "La problematica aqui es que con la operación del fspool, lo que se hace es coger y aplicarle al tensor de entrada de [1,32,342] unos pesos (de los cuales supuestamente salen de hacer una interpolación) y una vez que se realiza dicho producto, se suma la dimensión 2.\n",
    "A la hora de hacer el unpooling, no se hace del todo debido a que creo que el código esta mal o algo, ya que lo que hace es coger el tensor fspool, y aplicarle nuevamente el vector de pesos(?), cosa que creo que esta mal y que lo mas conveniente sería aplicarle la inversa de dichos pesos "
   ]
  },
  {
   "cell_type": "code",
   "execution_count": 92,
   "id": "d6e5ed08",
   "metadata": {},
   "outputs": [
    {
     "name": "stdout",
     "output_type": "stream",
     "text": [
      "tensor([[ -4.9319,   6.3109,  -8.1291,   0.1140,   1.5236,  13.5916, -12.7084,\n",
      "         -10.5011,   7.7661,  -2.4096,  11.6034,   2.2932,   9.0698,  -0.7214,\n",
      "           1.4848,   8.9332,  11.3216,  21.9259,   1.5999,  -2.4337, -19.8809,\n",
      "          -9.4474,   8.2324,  -2.4330, -22.0733,  -5.9431,  19.1972,   0.0951,\n",
      "           1.4129,   4.6044,   2.0917, -13.4761]], grad_fn=<SumBackward1>)\n",
      "EUREKAAAA, en la posicion: 5\n",
      "Esta es la salida de la primera convolución\n",
      "tensor([[[-0.1630, -0.3864, -0.1844,  ...,  0.3873,  0.3873,  0.3873],\n",
      "         [-0.1613, -0.1203, -0.1924,  ...,  0.0027,  0.0027,  0.0027],\n",
      "         [ 0.4287,  0.2928,  0.5120,  ...,  0.0153,  0.0153,  0.0153],\n",
      "         ...,\n",
      "         [-0.5543, -0.2452, -0.6103,  ...,  0.0091,  0.0091,  0.0091],\n",
      "         [ 0.1311, -0.1397,  0.1609,  ...,  0.0084,  0.0084,  0.0084],\n",
      "         [ 0.4700,  0.3670,  0.4817,  ..., -0.0276, -0.0276, -0.0276]]])\n",
      "Y su respectivo tamaño:  torch.Size([1, 32, 342])\n",
      "------------------\n",
      "Esta es la salida del fspool\n",
      "tensor([[  2.7880,   7.9702,   0.0150,   8.1757,  -0.8902,  13.5916,  -1.6625,\n",
      "          12.3386,   3.4727,   0.5511,   3.6658,   1.4560,   2.0703,   1.0076,\n",
      "          -0.0943,  -3.0255,   1.8188,  -6.5057,   4.1939,   3.2684, -10.6039,\n",
      "          -2.9320,   2.0522,   2.9191,   8.3144,   1.6083, -11.6767,  -6.7630,\n",
      "           3.0116,  -0.9260,   3.7429,  -3.1715]])\n",
      "Y su respectivo tamaño:  torch.Size([1, 32])\n",
      "[0. 0. 0. 0. 0. 0. 0. 0. 0. 0. 0. 0. 0. 0. 0. 0. 0. 0. 0. 0. 0. 0. 0. 0.\n",
      " 0. 0. 0. 0. 0. 0. 0. 0. 0. 0. 0. 0. 0. 0. 0. 0. 0. 0. 0. 0. 0. 0. 0. 0.\n",
      " 0. 0. 0. 0. 0. 0. 0. 0. 0. 0. 0. 0. 0. 0. 0. 0. 0. 0. 0. 0. 0. 0. 0. 0.\n",
      " 0. 0. 0. 0. 0. 0. 0. 0. 0. 0. 0. 0. 0. 0. 0. 0. 0. 0. 0. 0. 0. 0. 0. 0.\n",
      " 0. 0. 0. 0. 0. 0. 0. 0. 0. 0. 0. 0. 0. 0. 0. 0. 0. 0. 0. 0. 0. 0. 0. 0.\n",
      " 0. 0. 0. 0. 0. 0. 0. 0. 0. 0. 0. 0. 0. 0. 0. 0. 0. 0. 0. 0. 0. 0. 0. 0.\n",
      " 0. 0. 0. 0. 0. 0. 0. 0. 0. 0. 0. 0. 0. 0. 0. 0. 0. 0. 0. 0. 0. 0. 0. 0.\n",
      " 0. 0. 0. 0. 0. 0. 0. 0. 0. 0. 0. 0. 0. 0. 0. 0. 0. 0. 0. 0. 0. 0. 0. 0.\n",
      " 0. 0. 0. 0. 0. 0. 0. 0. 0. 0. 0. 0. 0. 0. 0. 0. 0. 0. 0. 0. 0. 0. 0. 0.\n",
      " 0. 0. 0. 0. 0. 0. 0. 0. 0. 0. 0. 0. 0. 0. 0. 0. 0. 0. 0. 0. 0. 0. 0. 0.\n",
      " 0. 0. 0. 0. 0. 0. 0. 0. 0. 0. 0. 0. 0. 0. 0. 0. 0. 0. 0. 0. 0. 0. 0. 0.\n",
      " 0. 0. 0. 0. 0. 0. 0. 0. 0. 0. 0. 0. 0. 0. 0. 0. 0. 0. 0. 0. 0. 0. 0. 0.\n",
      " 0. 0. 0. 0. 0. 0. 0. 0. 0. 0. 0. 0. 0. 0. 0. 0. 0. 0. 0. 0. 0. 0. 0. 0.\n",
      " 0. 0. 0. 0. 0. 0. 0. 0. 0. 0. 0. 0. 0. 0. 0. 0. 0. 0. 0. 0. 0. 0. 0. 0.\n",
      " 0. 0. 0. 0. 0. 0.]\n",
      "+++++++++++++++++\n",
      "torch.Size([32, 342])\n"
     ]
    }
   ],
   "source": [
    "npoints = sample.squeeze(0).squeeze(0).numpy()\n",
    "critical = np.zeros(342)\n",
    "nfeatures.shape\n",
    "nfeatures_prev = nfeatures_pred.squeeze(0)\n",
    "mapa_de_caracteristicas = nfeatures_pred\n",
    "mapakk = mapa_de_caracteristicas[:,5,:].unsqueeze(0)\n",
    "#print(mapakk)\n",
    "mapakk = mapakk.expand_as(mapa_de_caracteristicas)\n",
    "#print(mapakk.shape)\n",
    "#print(mapakk[:,23,:])\n",
    "prediccionMagica, permMagica = model2.pool.forward(mapakk)\n",
    "print(prediccionMagica)\n",
    "prueba = prediccionMagica.squeeze(0).detach().numpy()\n",
    "for f in range(32):\n",
    "    if fspool_salida[f] == prueba[f]:\n",
    "        print(\"EUREKAAAA, en la posicion: {}\".format(f))\n",
    "print(\"Esta es la salida de la primera convolución\")\n",
    "print(mapa_de_caracteristicas)\n",
    "print(\"Y su respectivo tamaño: \",mapa_de_caracteristicas.shape)\n",
    "print('------------------')\n",
    "print(\"Esta es la salida del fspool\")\n",
    "print(mapa_de_fspool)\n",
    "print(\"Y su respectivo tamaño: \",mapa_de_fspool.shape)\n",
    "for f in range(32):\n",
    "    for p in range(342):\n",
    "        #print(fspool_salida[f])\n",
    "        #print(nfeatures_prev[f,p].item())\n",
    "        if nfeatures_prev[f,p].item() == fspool_salida[f]:\n",
    "            critical[p] += 1\n",
    "print(critical)\n",
    "print(\"+++++++++++++++++\")\n",
    "print(nfeatures_prev.shape)"
   ]
  },
  {
   "cell_type": "code",
   "execution_count": 93,
   "id": "93152670",
   "metadata": {},
   "outputs": [
    {
     "data": {
      "text/plain": [
       "tensor([[[-3.0594e-01, -3.3982e-01, -3.7369e-01,  ..., -6.6335e-01,\n",
       "          -7.6902e-01, -8.7468e-01],\n",
       "         [ 2.8361e+00,  2.6355e+00,  2.4350e+00,  ..., -7.5848e-01,\n",
       "          -8.1307e-01, -8.6766e-01],\n",
       "         [ 5.4405e-02,  1.4541e-03, -5.1497e-02,  ..., -1.4640e+00,\n",
       "          -1.6242e+00, -1.7843e+00],\n",
       "         ...,\n",
       "         [-5.5565e-02, -1.5212e-02,  2.5141e-02,  ..., -1.1142e+00,\n",
       "          -1.2667e+00, -1.4192e+00],\n",
       "         [ 1.2541e+00,  1.1753e+00,  1.0965e+00,  ...,  2.7926e-01,\n",
       "           3.4096e-01,  4.0267e-01],\n",
       "         [-8.6682e-01, -8.6911e-01, -8.7140e-01,  ...,  4.8648e-01,\n",
       "           6.3136e-01,  7.7624e-01]]], grad_fn=<AddBackward0>)"
      ]
     },
     "execution_count": 93,
     "metadata": {},
     "output_type": "execute_result"
    }
   ],
   "source": [
    "miNet.pool.ahmed"
   ]
  },
  {
   "cell_type": "code",
   "execution_count": 56,
   "id": "cf5670c7",
   "metadata": {},
   "outputs": [
    {
     "name": "stdout",
     "output_type": "stream",
     "text": [
      "x tensor([[[ 0.,  1.,  2.,  3.],\n",
      "         [ 4.,  5.,  6.,  7.]],\n",
      "\n",
      "        [[ 8.,  9., 10., 11.],\n",
      "         [12., 13., 14., 15.]],\n",
      "\n",
      "        [[16., 17., 18., 19.],\n",
      "         [20., 21., 22., 23.]]])\n",
      "perm\n",
      "tensor([[[8.9020e-05, 1.3212e-02, 2.6536e-01, 7.2133e-01],\n",
      "         [1.0442e-02, 2.0973e-01, 5.7010e-01, 2.0973e-01],\n",
      "         [2.0973e-01, 5.7010e-01, 2.0973e-01, 1.0442e-02],\n",
      "         [7.2133e-01, 2.6536e-01, 1.3212e-02, 8.9020e-05]],\n",
      "\n",
      "        [[8.9020e-05, 1.3212e-02, 2.6536e-01, 7.2133e-01],\n",
      "         [1.0442e-02, 2.0973e-01, 5.7010e-01, 2.0973e-01],\n",
      "         [2.0973e-01, 5.7010e-01, 2.0973e-01, 1.0442e-02],\n",
      "         [7.2133e-01, 2.6536e-01, 1.3212e-02, 8.9020e-05]],\n",
      "\n",
      "        [[8.9020e-05, 1.3212e-02, 2.6536e-01, 7.2133e-01],\n",
      "         [1.0442e-02, 2.0973e-01, 5.7010e-01, 2.0973e-01],\n",
      "         [2.0973e-01, 5.7010e-01, 2.0973e-01, 1.0442e-02],\n",
      "         [7.2133e-01, 2.6536e-01, 1.3212e-02, 8.9020e-05]],\n",
      "\n",
      "        [[8.9020e-05, 1.3212e-02, 2.6536e-01, 7.2133e-01],\n",
      "         [1.0442e-02, 2.0973e-01, 5.7010e-01, 2.0973e-01],\n",
      "         [2.0973e-01, 5.7010e-01, 2.0973e-01, 1.0442e-02],\n",
      "         [7.2133e-01, 2.6536e-01, 1.3212e-02, 8.9020e-05]],\n",
      "\n",
      "        [[8.9020e-05, 1.3212e-02, 2.6536e-01, 7.2133e-01],\n",
      "         [1.0442e-02, 2.0973e-01, 5.7010e-01, 2.0973e-01],\n",
      "         [2.0973e-01, 5.7010e-01, 2.0973e-01, 1.0442e-02],\n",
      "         [7.2133e-01, 2.6536e-01, 1.3212e-02, 8.9020e-05]],\n",
      "\n",
      "        [[8.9020e-05, 1.3212e-02, 2.6536e-01, 7.2133e-01],\n",
      "         [1.0442e-02, 2.0973e-01, 5.7010e-01, 2.0973e-01],\n",
      "         [2.0973e-01, 5.7010e-01, 2.0973e-01, 1.0442e-02],\n",
      "         [7.2133e-01, 2.6536e-01, 1.3212e-02, 8.9020e-05]]])\n",
      "result\n",
      "tensor(-40.3755)\n",
      "tensor([[[-0.1042, -0.0477,  0.0530,  0.1089],\n",
      "         [ 0.6256,  1.2426,  2.0253,  2.2816]],\n",
      "\n",
      "        [[-0.1259, -0.0577,  0.0641,  0.1317],\n",
      "         [ 1.4646,  2.9090,  4.7413,  5.3414]],\n",
      "\n",
      "        [[-0.1477, -0.0676,  0.0752,  0.1544],\n",
      "         [ 2.3035,  4.5754,  7.4572,  8.4011]]])\n",
      "tensor([[0., 1., 2., 3.],\n",
      "        [4., 5., 6., 7.]])\n"
     ]
    },
    {
     "ename": "AssertionError",
     "evalue": "incorrect number of input channels in weight",
     "output_type": "error",
     "traceback": [
      "\u001b[0;31m---------------------------------------------------------------------------\u001b[0m",
      "\u001b[0;31mAssertionError\u001b[0m                            Traceback (most recent call last)",
      "\u001b[0;32m/var/folders/y7/1blltvf14qn2pwnxm884rdt00000gn/T/ipykernel_37595/3860007293.py\u001b[0m in \u001b[0;36m<module>\u001b[0;34m\u001b[0m\n\u001b[1;32m     12\u001b[0m     \u001b[0mtensorFspool\u001b[0m \u001b[0;34m=\u001b[0m \u001b[0mx\u001b[0m\u001b[0;34m[\u001b[0m\u001b[0;36m0\u001b[0m\u001b[0;34m]\u001b[0m\u001b[0;34m\u001b[0m\u001b[0;34m\u001b[0m\u001b[0m\n\u001b[1;32m     13\u001b[0m     \u001b[0mprint\u001b[0m\u001b[0;34m(\u001b[0m\u001b[0mtensorFspool\u001b[0m\u001b[0;34m)\u001b[0m\u001b[0;34m\u001b[0m\u001b[0;34m\u001b[0m\u001b[0m\n\u001b[0;32m---> 14\u001b[0;31m     \u001b[0mprint\u001b[0m\u001b[0;34m(\u001b[0m\u001b[0mpool\u001b[0m\u001b[0;34m.\u001b[0m\u001b[0mforward\u001b[0m\u001b[0;34m(\u001b[0m\u001b[0mtensorFspool\u001b[0m\u001b[0;34m)\u001b[0m\u001b[0;34m)\u001b[0m\u001b[0;34m\u001b[0m\u001b[0;34m\u001b[0m\u001b[0m\n\u001b[0m",
      "\u001b[0;32m~/Desktop/TFG-Ahmed/SetXAI/src/fspool.py\u001b[0m in \u001b[0;36mforward\u001b[0;34m(self, x, n)\u001b[0m\n\u001b[1;32m     42\u001b[0m         \u001b[0mReturns\u001b[0m\u001b[0;34m:\u001b[0m \u001b[0mpooled\u001b[0m \u001b[0minput\u001b[0m \u001b[0mx\u001b[0m\u001b[0;34m,\u001b[0m \u001b[0mused\u001b[0m \u001b[0mpermutation\u001b[0m \u001b[0mmatrix\u001b[0m \u001b[0mperm\u001b[0m\u001b[0;34m\u001b[0m\u001b[0;34m\u001b[0m\u001b[0m\n\u001b[1;32m     43\u001b[0m         \"\"\"\n\u001b[0;32m---> 44\u001b[0;31m         assert x.size(1) == self.weight.size(\n\u001b[0m\u001b[1;32m     45\u001b[0m             \u001b[0;36m0\u001b[0m\u001b[0;34m\u001b[0m\u001b[0;34m\u001b[0m\u001b[0m\n\u001b[1;32m     46\u001b[0m         ), \"incorrect number of input channels in weight\"\n",
      "\u001b[0;31mAssertionError\u001b[0m: incorrect number of input channels in weight"
     ]
    }
   ],
   "source": [
    "with torch.no_grad():\n",
    "    pool = FSPool(2, 1,True)\n",
    "    x = torch.arange(0, 2*3*4).view(3, 2, 4).float()\n",
    "    print('x', x)\n",
    "    y, perm = pool(x)\n",
    "    print('perm')\n",
    "    print(perm)\n",
    "    print('result')\n",
    "    print(y.sum())\n",
    "    z,m = pool.forward_transpose(y,perm)\n",
    "    print(z)\n",
    "    tensorFspool = x[0]\n",
    "    print(tensorFspool)\n",
    "    print(pool.forward(tensorFspool))"
   ]
  },
  {
   "cell_type": "code",
   "execution_count": null,
   "id": "3c78e9df",
   "metadata": {},
   "outputs": [],
   "source": []
  }
 ],
 "metadata": {
  "accelerator": "GPU",
  "colab": {
   "collapsed_sections": [],
   "name": "Clasificador_DeepSet.ipynb",
   "provenance": []
  },
  "kernelspec": {
   "display_name": "Python 3 (ipykernel)",
   "language": "python",
   "name": "python3"
  },
  "language_info": {
   "codemirror_mode": {
    "name": "ipython",
    "version": 3
   },
   "file_extension": ".py",
   "mimetype": "text/x-python",
   "name": "python",
   "nbconvert_exporter": "python",
   "pygments_lexer": "ipython3",
   "version": "3.8.12"
  }
 },
 "nbformat": 4,
 "nbformat_minor": 5
}
