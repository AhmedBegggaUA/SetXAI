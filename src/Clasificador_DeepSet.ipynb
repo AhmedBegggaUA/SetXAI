{
  "cells": [
    {
      "cell_type": "markdown",
      "id": "1ebac02f",
      "metadata": {
        "id": "1ebac02f"
      },
      "source": [
        "## Clasificación de los dígitos de Mnist en forma de set de puntos"
      ]
    },
    {
      "cell_type": "code",
      "source": [
        "%ls"
      ],
      "metadata": {
        "colab": {
          "base_uri": "https://localhost:8080/"
        },
        "id": "ugEBfGf2EGeM",
        "outputId": "0bc93893-ed65-4310-a21a-9e7d26bea564"
      },
      "id": "ugEBfGf2EGeM",
      "execution_count": 1,
      "outputs": [
        {
          "output_type": "stream",
          "name": "stdout",
          "text": [
            "\u001b[0m\u001b[01;34msample_data\u001b[0m/\n"
          ]
        }
      ]
    },
    {
      "cell_type": "code",
      "source": [
        ""
      ],
      "metadata": {
        "id": "QQK2gj1cEIBp"
      },
      "id": "QQK2gj1cEIBp",
      "execution_count": 1,
      "outputs": []
    },
    {
      "cell_type": "code",
      "execution_count": 2,
      "id": "c97ded1c",
      "metadata": {
        "colab": {
          "base_uri": "https://localhost:8080/"
        },
        "id": "c97ded1c",
        "outputId": "c3adb79f-586a-43ff-c281-a93b4be6c7f5"
      },
      "outputs": [
        {
          "output_type": "stream",
          "name": "stdout",
          "text": [
            "[Errno 2] No such file or directory: '/content/drive/MyDrive/Colab Notebooks/TFG/src'\n",
            "/content\n"
          ]
        }
      ],
      "source": [
        ""
      ]
    },
    {
      "cell_type": "code",
      "source": [
        "from google.colab import drive\n",
        "drive.mount('/content/drive')"
      ],
      "metadata": {
        "colab": {
          "base_uri": "https://localhost:8080/"
        },
        "id": "PqLpSi83EMBz",
        "outputId": "ebfaec23-ae7d-4270-c2e5-1839e451fbf9"
      },
      "id": "PqLpSi83EMBz",
      "execution_count": 3,
      "outputs": [
        {
          "output_type": "stream",
          "name": "stdout",
          "text": [
            "Mounted at /content/drive\n"
          ]
        }
      ]
    },
    {
      "cell_type": "code",
      "source": [
        "%cd /content/drive/MyDrive/Colab Notebooks/TFG/src"
      ],
      "metadata": {
        "colab": {
          "base_uri": "https://localhost:8080/"
        },
        "id": "hDT51rVH1kt3",
        "outputId": "46be34d1-2315-4953-f6b1-15e5c221f99b"
      },
      "id": "hDT51rVH1kt3",
      "execution_count": 5,
      "outputs": [
        {
          "output_type": "stream",
          "name": "stdout",
          "text": [
            "/content/drive/MyDrive/Colab Notebooks/TFG/src\n"
          ]
        }
      ]
    },
    {
      "cell_type": "code",
      "execution_count": 6,
      "id": "eec49162",
      "metadata": {
        "id": "eec49162"
      },
      "outputs": [],
      "source": [
        "import torch\n",
        "import torch.nn as nn\n",
        "import torch.nn.functional as F\n",
        "from utils import chamfer_loss\n",
        "from fspool import FSPool\n",
        "from model import FSEncoder\n",
        "from model import FSEncoderClasification\n",
        "from MnistSet import MNISTSet\n",
        "from MnistSet import get_loader"
      ]
    },
    {
      "cell_type": "markdown",
      "id": "44398267",
      "metadata": {
        "id": "44398267"
      },
      "source": [
        "### Preparamos los datos de entreno y test"
      ]
    },
    {
      "cell_type": "code",
      "execution_count": 7,
      "id": "131c27bb",
      "metadata": {
        "id": "131c27bb"
      },
      "outputs": [],
      "source": [
        "batch_size = 32"
      ]
    },
    {
      "cell_type": "code",
      "execution_count": 8,
      "id": "f8fc83cc",
      "metadata": {
        "colab": {
          "base_uri": "https://localhost:8080/"
        },
        "id": "f8fc83cc",
        "outputId": "f824aa66-15af-4bef-a0a3-1030e36d2bae"
      },
      "outputs": [
        {
          "output_type": "stream",
          "name": "stderr",
          "text": [
            "/usr/local/lib/python3.7/dist-packages/torch/utils/data/dataloader.py:481: UserWarning: This DataLoader will create 4 worker processes in total. Our suggested max number of worker in current system is 2, which is smaller than what this DataLoader is going to create. Please be aware that excessive worker creation might get DataLoader running slow or even freeze, lower the worker number to avoid potential slowness/freeze if necessary.\n",
            "  cpuset_checked))\n"
          ]
        }
      ],
      "source": [
        "train_loader = get_loader(\n",
        "            MNISTSet(train=True, full=True), batch_size=batch_size, num_workers=4)"
      ]
    },
    {
      "cell_type": "code",
      "execution_count": 9,
      "id": "042869da",
      "metadata": {
        "colab": {
          "base_uri": "https://localhost:8080/"
        },
        "id": "042869da",
        "outputId": "f50df6eb-03d1-45e4-af0c-ac6dbc906af0"
      },
      "outputs": [
        {
          "output_type": "stream",
          "name": "stderr",
          "text": [
            "/usr/local/lib/python3.7/dist-packages/torch/utils/data/dataloader.py:481: UserWarning: This DataLoader will create 4 worker processes in total. Our suggested max number of worker in current system is 2, which is smaller than what this DataLoader is going to create. Please be aware that excessive worker creation might get DataLoader running slow or even freeze, lower the worker number to avoid potential slowness/freeze if necessary.\n",
            "  cpuset_checked))\n"
          ]
        }
      ],
      "source": [
        "test_loader = get_loader(\n",
        "            MNISTSet(train=False, full=True), batch_size=batch_size, num_workers=4)"
      ]
    },
    {
      "cell_type": "code",
      "execution_count": 10,
      "id": "1bbca080",
      "metadata": {
        "id": "1bbca080"
      },
      "outputs": [],
      "source": [
        "from time import sleep\n",
        "from tqdm import tqdm"
      ]
    },
    {
      "cell_type": "code",
      "execution_count": 11,
      "id": "5c853ace",
      "metadata": {
        "id": "5c853ace"
      },
      "outputs": [],
      "source": [
        "set_channels = 2\n",
        "set_size = 342\n",
        "  \n",
        "hidden_dim = 32\n",
        "iters = 10\n",
        "latent_dim = 16\n",
        "lr = 0.001\n",
        "n_epochs = 50\n",
        "net = FSEncoderClasification(set_channels,latent_dim,hidden_dim)"
      ]
    },
    {
      "cell_type": "code",
      "source": [
        "optimizer = torch.optim.Adam([p for p in net.parameters() if p.requires_grad], lr=0.001)"
      ],
      "metadata": {
        "id": "Q0kJD0qnHWGR"
      },
      "id": "Q0kJD0qnHWGR",
      "execution_count": 12,
      "outputs": []
    },
    {
      "cell_type": "code",
      "execution_count": 13,
      "id": "1ed41aa6",
      "metadata": {
        "id": "1ed41aa6"
      },
      "outputs": [],
      "source": [
        " net = net.cuda()"
      ]
    },
    {
      "cell_type": "code",
      "execution_count": null,
      "id": "552283a8",
      "metadata": {
        "colab": {
          "base_uri": "https://localhost:8080/"
        },
        "id": "552283a8",
        "outputId": "2fb442a6-8c6c-4130-8912-6f4cc47482cb"
      },
      "outputs": [
        {
          "output_type": "stream",
          "name": "stderr",
          "text": [
            "\r  0%|          | 0/1875 [00:00<?, ?batch/s]/usr/local/lib/python3.7/dist-packages/torch/utils/data/dataloader.py:481: UserWarning: This DataLoader will create 4 worker processes in total. Our suggested max number of worker in current system is 2, which is smaller than what this DataLoader is going to create. Please be aware that excessive worker creation might get DataLoader running slow or even freeze, lower the worker number to avoid potential slowness/freeze if necessary.\n",
            "  cpuset_checked))\n",
            "Epoch 0: 100%|██████████| 1875/1875 [00:46<00:00, 40.16batch/s, acc=62.5, loss=1.14]\n",
            "Epoch 1: 100%|██████████| 1875/1875 [00:46<00:00, 40.54batch/s, acc=75, loss=0.646]\n",
            "Epoch 2: 100%|██████████| 1875/1875 [00:44<00:00, 42.12batch/s, acc=84.4, loss=0.379]\n",
            "Epoch 3: 100%|██████████| 1875/1875 [00:46<00:00, 40.05batch/s, acc=84.4, loss=0.394]\n",
            "Epoch 4: 100%|██████████| 1875/1875 [00:46<00:00, 40.49batch/s, acc=87.5, loss=0.22]\n",
            "Epoch 5: 100%|██████████| 1875/1875 [00:47<00:00, 39.79batch/s, acc=81.2, loss=0.496]\n",
            "Epoch 6: 100%|██████████| 1875/1875 [00:47<00:00, 39.65batch/s, acc=87.5, loss=0.548]\n",
            "Epoch 7: 100%|██████████| 1875/1875 [00:47<00:00, 39.50batch/s, acc=84.4, loss=0.577]\n",
            "Epoch 8: 100%|██████████| 1875/1875 [00:46<00:00, 40.74batch/s, acc=96.9, loss=0.117]\n",
            "Epoch 9: 100%|██████████| 1875/1875 [00:47<00:00, 39.87batch/s, acc=87.5, loss=0.223]\n",
            "Epoch 10: 100%|██████████| 1875/1875 [00:47<00:00, 39.54batch/s, acc=90.6, loss=0.325]\n",
            "Epoch 11: 100%|██████████| 1875/1875 [00:47<00:00, 39.20batch/s, acc=93.8, loss=0.181]\n",
            "Epoch 12: 100%|██████████| 1875/1875 [00:47<00:00, 39.73batch/s, acc=93.8, loss=0.137]\n",
            "Epoch 13: 100%|██████████| 1875/1875 [00:47<00:00, 39.20batch/s, acc=84.4, loss=0.787]\n",
            "Epoch 14: 100%|██████████| 1875/1875 [00:47<00:00, 39.70batch/s, acc=93.8, loss=0.148]\n",
            "Epoch 15: 100%|██████████| 1875/1875 [00:47<00:00, 39.54batch/s, acc=93.8, loss=0.199]\n",
            "Epoch 16: 100%|██████████| 1875/1875 [00:47<00:00, 39.70batch/s, acc=93.8, loss=0.16]\n",
            "Epoch 17: 100%|██████████| 1875/1875 [00:47<00:00, 39.23batch/s, acc=90.6, loss=0.22]\n",
            "Epoch 18: 100%|██████████| 1875/1875 [00:47<00:00, 39.82batch/s, acc=96.9, loss=0.15]\n",
            "Epoch 19: 100%|██████████| 1875/1875 [00:47<00:00, 39.71batch/s, acc=96.9, loss=0.0862]\n",
            "Epoch 20: 100%|██████████| 1875/1875 [00:47<00:00, 39.63batch/s, acc=87.5, loss=0.448]\n",
            "Epoch 21: 100%|██████████| 1875/1875 [00:46<00:00, 40.67batch/s, acc=96.9, loss=0.0991]\n",
            "Epoch 22: 100%|██████████| 1875/1875 [00:47<00:00, 39.87batch/s, acc=93.8, loss=0.121]\n",
            "Epoch 23: 100%|██████████| 1875/1875 [00:47<00:00, 39.68batch/s, acc=93.8, loss=0.0934]\n",
            "Epoch 24: 100%|██████████| 1875/1875 [00:46<00:00, 40.67batch/s, acc=93.8, loss=0.16]\n",
            "Epoch 25: 100%|██████████| 1875/1875 [00:45<00:00, 41.25batch/s, acc=96.9, loss=0.043]\n",
            "Epoch 26: 100%|██████████| 1875/1875 [00:46<00:00, 40.03batch/s, acc=96.9, loss=0.157]\n",
            "Epoch 27: 100%|██████████| 1875/1875 [00:45<00:00, 41.43batch/s, acc=93.8, loss=0.104]\n",
            "Epoch 28: 100%|██████████| 1875/1875 [00:46<00:00, 40.31batch/s, acc=90.6, loss=0.251]\n",
            "Epoch 29: 100%|██████████| 1875/1875 [00:45<00:00, 41.24batch/s, acc=93.8, loss=0.259]\n",
            "Epoch 30: 100%|██████████| 1875/1875 [00:46<00:00, 40.75batch/s, acc=93.8, loss=0.262]\n",
            "Epoch 31: 100%|██████████| 1875/1875 [00:45<00:00, 40.81batch/s, acc=96.9, loss=0.056]\n",
            "Epoch 32: 100%|██████████| 1875/1875 [00:46<00:00, 40.65batch/s, acc=100, loss=0.0327]\n",
            "Epoch 33: 100%|██████████| 1875/1875 [00:47<00:00, 39.55batch/s, acc=96.9, loss=0.113]\n",
            "Epoch 34: 100%|██████████| 1875/1875 [00:46<00:00, 40.37batch/s, acc=100, loss=0.0427]\n",
            "Epoch 35: 100%|██████████| 1875/1875 [00:47<00:00, 39.78batch/s, acc=100, loss=0.0645]\n",
            "Epoch 36: 100%|██████████| 1875/1875 [00:46<00:00, 40.32batch/s, acc=96.9, loss=0.214]\n",
            "Epoch 37: 100%|██████████| 1875/1875 [00:46<00:00, 40.71batch/s, acc=96.9, loss=0.0808]\n",
            "Epoch 38: 100%|██████████| 1875/1875 [00:46<00:00, 40.58batch/s, acc=93.8, loss=0.0843]\n",
            "Epoch 39: 100%|██████████| 1875/1875 [00:47<00:00, 39.84batch/s, acc=93.8, loss=0.107]\n",
            "Epoch 40:  48%|████▊     | 903/1875 [00:22<00:23, 41.48batch/s, acc=93.8, loss=0.179]"
          ]
        }
      ],
      "source": [
        "net.train()\n",
        "for epoch in range(n_epochs):\n",
        "    with tqdm(train_loader, unit=\"batch\") as tepoch:\n",
        "        for i, sample in enumerate(tepoch):\n",
        "            tepoch.set_description(f\"Epoch {epoch}\")\n",
        "            input, target_set, target_mask = map(lambda x: x.cuda(), sample)\n",
        "            optimizer.zero_grad()\n",
        "            output = net(target_set,target_mask)\n",
        "            loss = F.cross_entropy(output, input)\n",
        "            acc = (output.max(dim=1)[1] == input).float().mean()\n",
        "            loss.backward()\n",
        "            optimizer.step()\n",
        "            tepoch.set_postfix(loss=loss.item(), acc=100. * acc.item())"
      ]
    },
    {
      "cell_type": "code",
      "source": [
        "net.eval()\n",
        "with tqdm(test_loader, unit=\"batch\") as tepoch:\n",
        "    for i, sample in enumerate(tepoch):\n",
        "        tepoch.set_description(f\"Epoch {epoch}\")\n",
        "        input, target_set, target_mask = map(lambda x: x.cuda(), sample)\n",
        "        output = net(target_set,target_mask)\n",
        "        loss = F.cross_entropy(output, input)\n",
        "        acc = (output.max(dim=1)[1] == input).float().mean()\n",
        "        tepoch.set_postfix(loss=loss.item(), acc=100. * acc.item())"
      ],
      "metadata": {
        "colab": {
          "base_uri": "https://localhost:8080/"
        },
        "id": "eHXREpdVHywV",
        "outputId": "bf37b082-a0fa-4832-abf8-5b65d16075dc"
      },
      "id": "eHXREpdVHywV",
      "execution_count": 16,
      "outputs": [
        {
          "output_type": "stream",
          "name": "stderr",
          "text": [
            "\r  0%|          | 0/312 [00:00<?, ?batch/s]/usr/local/lib/python3.7/dist-packages/torch/utils/data/dataloader.py:481: UserWarning: This DataLoader will create 4 worker processes in total. Our suggested max number of worker in current system is 2, which is smaller than what this DataLoader is going to create. Please be aware that excessive worker creation might get DataLoader running slow or even freeze, lower the worker number to avoid potential slowness/freeze if necessary.\n",
            "  cpuset_checked))\n",
            "Epoch 49: 100%|██████████| 312/312 [00:06<00:00, 47.79batch/s, acc=93.8, loss=0.194]\n"
          ]
        }
      ]
    },
    {
      "cell_type": "code",
      "execution_count": null,
      "id": "ac22cc0a",
      "metadata": {
        "id": "ac22cc0a"
      },
      "outputs": [],
      "source": [
        ""
      ]
    }
  ],
  "metadata": {
    "kernelspec": {
      "display_name": "Python 3 (ipykernel)",
      "language": "python",
      "name": "python3"
    },
    "language_info": {
      "codemirror_mode": {
        "name": "ipython",
        "version": 3
      },
      "file_extension": ".py",
      "mimetype": "text/x-python",
      "name": "python",
      "nbconvert_exporter": "python",
      "pygments_lexer": "ipython3",
      "version": "3.8.12"
    },
    "colab": {
      "name": "Clasificador_DeepSet.ipynb",
      "provenance": [],
      "collapsed_sections": []
    },
    "accelerator": "GPU"
  },
  "nbformat": 4,
  "nbformat_minor": 5
}