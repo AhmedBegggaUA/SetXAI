{
 "cells": [
  {
   "cell_type": "markdown",
   "id": "1ebac02f",
   "metadata": {
    "id": "1ebac02f"
   },
   "source": [
    "## Clasificación de los dígitos de Mnist en forma de set de puntos"
   ]
  },
  {
   "cell_type": "code",
   "execution_count": 1,
   "id": "eec49162",
   "metadata": {
    "id": "eec49162"
   },
   "outputs": [],
   "source": [
    "import torch\n",
    "import torch.nn as nn\n",
    "import torch.nn.functional as F\n",
    "from utils import chamfer_loss\n",
    "from fspool import FSPool\n",
    "from model import FSEncoder\n",
    "from model import FSEncoderClasification\n",
    "from MnistSet import MNISTSet\n",
    "from MnistSet import get_loader"
   ]
  },
  {
   "cell_type": "markdown",
   "id": "44398267",
   "metadata": {
    "id": "44398267"
   },
   "source": [
    "### Preparamos los datos de entreno y test"
   ]
  },
  {
   "cell_type": "code",
   "execution_count": 2,
   "id": "131c27bb",
   "metadata": {
    "id": "131c27bb"
   },
   "outputs": [],
   "source": [
    "batch_size = 32"
   ]
  },
  {
   "cell_type": "code",
   "execution_count": 3,
   "id": "f8fc83cc",
   "metadata": {
    "colab": {
     "base_uri": "https://localhost:8080/"
    },
    "id": "f8fc83cc",
    "outputId": "d576727e-8cf9-4079-c40a-19bb4960fd59"
   },
   "outputs": [
    {
     "name": "stdout",
     "output_type": "stream",
     "text": [
      "Downloading http://yann.lecun.com/exdb/mnist/train-images-idx3-ubyte.gz to mnist/MNIST/raw/train-images-idx3-ubyte.gz\n"
     ]
    },
    {
     "data": {
      "application/vnd.jupyter.widget-view+json": {
       "model_id": "4d781e27d0584dec8f9769daff37794d",
       "version_major": 2,
       "version_minor": 0
      },
      "text/plain": [
       "0it [00:00, ?it/s]"
      ]
     },
     "metadata": {},
     "output_type": "display_data"
    },
    {
     "name": "stdout",
     "output_type": "stream",
     "text": [
      "Extracting mnist/MNIST/raw/train-images-idx3-ubyte.gz\n",
      "Downloading http://yann.lecun.com/exdb/mnist/train-labels-idx1-ubyte.gz to mnist/MNIST/raw/train-labels-idx1-ubyte.gz\n"
     ]
    },
    {
     "data": {
      "application/vnd.jupyter.widget-view+json": {
       "model_id": "93d9588b79a9411eb6909cc270769972",
       "version_major": 2,
       "version_minor": 0
      },
      "text/plain": [
       "0it [00:00, ?it/s]"
      ]
     },
     "metadata": {},
     "output_type": "display_data"
    },
    {
     "name": "stdout",
     "output_type": "stream",
     "text": [
      "Extracting mnist/MNIST/raw/train-labels-idx1-ubyte.gz\n",
      "Downloading http://yann.lecun.com/exdb/mnist/t10k-images-idx3-ubyte.gz to mnist/MNIST/raw/t10k-images-idx3-ubyte.gz\n"
     ]
    },
    {
     "data": {
      "application/vnd.jupyter.widget-view+json": {
       "model_id": "0f58fe53bfc54349ade5dd4d0700163f",
       "version_major": 2,
       "version_minor": 0
      },
      "text/plain": [
       "0it [00:00, ?it/s]"
      ]
     },
     "metadata": {},
     "output_type": "display_data"
    },
    {
     "name": "stdout",
     "output_type": "stream",
     "text": [
      "Extracting mnist/MNIST/raw/t10k-images-idx3-ubyte.gz\n",
      "Downloading http://yann.lecun.com/exdb/mnist/t10k-labels-idx1-ubyte.gz to mnist/MNIST/raw/t10k-labels-idx1-ubyte.gz\n"
     ]
    },
    {
     "data": {
      "application/vnd.jupyter.widget-view+json": {
       "model_id": "8d81b686144e4e95b3dd4b8a154cc497",
       "version_major": 2,
       "version_minor": 0
      },
      "text/plain": [
       "0it [00:00, ?it/s]"
      ]
     },
     "metadata": {},
     "output_type": "display_data"
    },
    {
     "name": "stdout",
     "output_type": "stream",
     "text": [
      "Extracting mnist/MNIST/raw/t10k-labels-idx1-ubyte.gz\n",
      "Processing...\n",
      "Done!\n",
      "Procesando el dataset...\n"
     ]
    },
    {
     "name": "stderr",
     "output_type": "stream",
     "text": [
      "/Users/ahmedbegga/miniforge3/envs/pytorch_m1/lib/python3.8/site-packages/torchvision/datasets/mnist.py:335: UserWarning: The given NumPy array is not writeable, and PyTorch does not support non-writeable tensors. This means you can write to the underlying (supposedly non-writeable) NumPy array using the tensor. You may want to copy the array to protect its data or make it writeable before converting it to a tensor. This type of warning will be suppressed for the rest of this program. (Triggered internally at  /Users/runner/miniforge3/conda-bld/pytorch-recipe_1635217280611/work/torch/csrc/utils/tensor_numpy.cpp:189.)\n",
      "  return torch.from_numpy(parsed).view(length, num_rows, num_cols)\n"
     ]
    },
    {
     "name": "stdout",
     "output_type": "stream",
     "text": [
      "Listo!\n"
     ]
    }
   ],
   "source": [
    "train_loader = get_loader(\n",
    "            MNISTSet(train=True, full=True), batch_size=batch_size, num_workers=4)"
   ]
  },
  {
   "cell_type": "code",
   "execution_count": 4,
   "id": "042869da",
   "metadata": {
    "colab": {
     "base_uri": "https://localhost:8080/"
    },
    "id": "042869da",
    "outputId": "13389be2-34ff-409c-d40c-706630eca054"
   },
   "outputs": [
    {
     "name": "stdout",
     "output_type": "stream",
     "text": [
      "Procesando el dataset...\n",
      "Listo!\n"
     ]
    }
   ],
   "source": [
    "test_loader = get_loader(\n",
    "            MNISTSet(train=False, full=True), batch_size=batch_size, num_workers=4)"
   ]
  },
  {
   "cell_type": "code",
   "execution_count": 6,
   "id": "1bbca080",
   "metadata": {
    "id": "1bbca080"
   },
   "outputs": [],
   "source": [
    "from time import sleep\n",
    "from tqdm import tqdm"
   ]
  },
  {
   "cell_type": "code",
   "execution_count": 10,
   "id": "5c853ace",
   "metadata": {
    "id": "5c853ace"
   },
   "outputs": [],
   "source": [
    "set_channels = 2\n",
    "set_size = 342\n",
    "  \n",
    "hidden_dim = 32\n",
    "iters = 10\n",
    "latent_dim = 16\n",
    "lr = 0.001\n",
    "n_epochs = 100\n",
    "net = FSEncoderClasification(set_channels,latent_dim,hidden_dim)"
   ]
  },
  {
   "cell_type": "code",
   "execution_count": 11,
   "id": "Q0kJD0qnHWGR",
   "metadata": {
    "id": "Q0kJD0qnHWGR"
   },
   "outputs": [],
   "source": [
    "optimizer = torch.optim.Adam([p for p in net.parameters() if p.requires_grad], lr=0.001)"
   ]
  },
  {
   "cell_type": "code",
   "execution_count": 11,
   "id": "1ed41aa6",
   "metadata": {
    "id": "1ed41aa6"
   },
   "outputs": [],
   "source": [
    " net = net.cuda()"
   ]
  },
  {
   "cell_type": "code",
   "execution_count": 12,
   "id": "552283a8",
   "metadata": {
    "colab": {
     "base_uri": "https://localhost:8080/"
    },
    "id": "552283a8",
    "outputId": "13872a25-e5cd-420e-bba5-a8e4ce61f182"
   },
   "outputs": [
    {
     "name": "stderr",
     "output_type": "stream",
     "text": [
      "\r",
      "  0%|          | 0/1875 [00:00<?, ?batch/s]/usr/local/lib/python3.7/dist-packages/torch/utils/data/dataloader.py:481: UserWarning: This DataLoader will create 4 worker processes in total. Our suggested max number of worker in current system is 2, which is smaller than what this DataLoader is going to create. Please be aware that excessive worker creation might get DataLoader running slow or even freeze, lower the worker number to avoid potential slowness/freeze if necessary.\n",
      "  cpuset_checked))\n",
      "Epoch 0: 100%|██████████| 1875/1875 [00:35<00:00, 52.85batch/s, acc=62.5, loss=0.838]\n",
      "Epoch 1: 100%|██████████| 1875/1875 [00:33<00:00, 55.91batch/s, acc=87.5, loss=0.326]\n",
      "Epoch 2: 100%|██████████| 1875/1875 [00:34<00:00, 55.06batch/s, acc=90.6, loss=0.24]\n",
      "Epoch 3: 100%|██████████| 1875/1875 [00:33<00:00, 55.55batch/s, acc=81.2, loss=0.436]\n",
      "Epoch 4: 100%|██████████| 1875/1875 [00:33<00:00, 56.09batch/s, acc=90.6, loss=0.241]\n",
      "Epoch 5: 100%|██████████| 1875/1875 [00:32<00:00, 57.02batch/s, acc=81.2, loss=0.505]\n",
      "Epoch 6: 100%|██████████| 1875/1875 [00:34<00:00, 54.72batch/s, acc=90.6, loss=0.185]\n",
      "Epoch 7: 100%|██████████| 1875/1875 [00:34<00:00, 54.62batch/s, acc=96.9, loss=0.087]\n",
      "Epoch 8: 100%|██████████| 1875/1875 [00:33<00:00, 55.99batch/s, acc=78.1, loss=0.526]\n",
      "Epoch 9: 100%|██████████| 1875/1875 [00:35<00:00, 52.58batch/s, acc=90.6, loss=0.213]\n",
      "Epoch 10: 100%|██████████| 1875/1875 [00:32<00:00, 56.86batch/s, acc=93.8, loss=0.215]\n",
      "Epoch 11: 100%|██████████| 1875/1875 [00:33<00:00, 56.67batch/s, acc=96.9, loss=0.086]\n",
      "Epoch 12: 100%|██████████| 1875/1875 [00:34<00:00, 54.77batch/s, acc=96.9, loss=0.0799]\n",
      "Epoch 13: 100%|██████████| 1875/1875 [00:34<00:00, 55.14batch/s, acc=96.9, loss=0.133]\n",
      "Epoch 14: 100%|██████████| 1875/1875 [00:32<00:00, 57.06batch/s, acc=96.9, loss=0.0911]\n",
      "Epoch 15: 100%|██████████| 1875/1875 [00:33<00:00, 55.17batch/s, acc=93.8, loss=0.189]\n",
      "Epoch 16: 100%|██████████| 1875/1875 [00:33<00:00, 55.78batch/s, acc=90.6, loss=0.285]\n",
      "Epoch 17: 100%|██████████| 1875/1875 [00:32<00:00, 57.48batch/s, acc=84.4, loss=0.692]\n",
      "Epoch 18: 100%|██████████| 1875/1875 [00:33<00:00, 55.55batch/s, acc=100, loss=0.0321]\n",
      "Epoch 19: 100%|██████████| 1875/1875 [00:34<00:00, 54.46batch/s, acc=96.9, loss=0.0738]\n",
      "Epoch 20: 100%|██████████| 1875/1875 [00:34<00:00, 54.96batch/s, acc=84.4, loss=0.422]\n",
      "Epoch 21: 100%|██████████| 1875/1875 [00:34<00:00, 54.70batch/s, acc=90.6, loss=0.458]\n",
      "Epoch 22: 100%|██████████| 1875/1875 [00:34<00:00, 54.87batch/s, acc=96.9, loss=0.0982]\n",
      "Epoch 23: 100%|██████████| 1875/1875 [00:33<00:00, 56.53batch/s, acc=93.8, loss=0.203]\n",
      "Epoch 24: 100%|██████████| 1875/1875 [00:33<00:00, 56.59batch/s, acc=96.9, loss=0.0805]\n",
      "Epoch 25: 100%|██████████| 1875/1875 [00:33<00:00, 55.31batch/s, acc=100, loss=0.0269]\n",
      "Epoch 26: 100%|██████████| 1875/1875 [00:33<00:00, 55.41batch/s, acc=93.8, loss=0.181]\n",
      "Epoch 27: 100%|██████████| 1875/1875 [00:34<00:00, 54.53batch/s, acc=100, loss=0.0207]\n",
      "Epoch 28: 100%|██████████| 1875/1875 [00:34<00:00, 53.57batch/s, acc=100, loss=0.0436]\n",
      "Epoch 29: 100%|██████████| 1875/1875 [00:34<00:00, 55.07batch/s, acc=96.9, loss=0.114]\n",
      "Epoch 30: 100%|██████████| 1875/1875 [00:33<00:00, 56.23batch/s, acc=96.9, loss=0.126]\n",
      "Epoch 31: 100%|██████████| 1875/1875 [00:33<00:00, 56.12batch/s, acc=100, loss=0.00949]\n",
      "Epoch 32: 100%|██████████| 1875/1875 [00:34<00:00, 55.01batch/s, acc=93.8, loss=0.295]\n",
      "Epoch 33: 100%|██████████| 1875/1875 [00:33<00:00, 55.78batch/s, acc=93.8, loss=0.176]\n",
      "Epoch 34: 100%|██████████| 1875/1875 [00:33<00:00, 55.21batch/s, acc=90.6, loss=0.226]\n",
      "Epoch 35: 100%|██████████| 1875/1875 [00:33<00:00, 55.15batch/s, acc=93.8, loss=0.107]\n",
      "Epoch 36: 100%|██████████| 1875/1875 [00:34<00:00, 53.89batch/s, acc=100, loss=0.0321]\n",
      "Epoch 37: 100%|██████████| 1875/1875 [00:34<00:00, 54.61batch/s, acc=100, loss=0.013]\n",
      "Epoch 38: 100%|██████████| 1875/1875 [00:33<00:00, 55.24batch/s, acc=96.9, loss=0.148]\n",
      "Epoch 39: 100%|██████████| 1875/1875 [00:34<00:00, 53.97batch/s, acc=90.6, loss=0.116]\n",
      "Epoch 40: 100%|██████████| 1875/1875 [00:34<00:00, 55.10batch/s, acc=96.9, loss=0.112]\n",
      "Epoch 41: 100%|██████████| 1875/1875 [00:33<00:00, 56.29batch/s, acc=96.9, loss=0.0552]\n",
      "Epoch 42: 100%|██████████| 1875/1875 [00:33<00:00, 56.23batch/s, acc=93.8, loss=0.143]\n",
      "Epoch 43: 100%|██████████| 1875/1875 [00:34<00:00, 55.13batch/s, acc=100, loss=0.0421]\n",
      "Epoch 44: 100%|██████████| 1875/1875 [00:32<00:00, 57.10batch/s, acc=100, loss=0.0103]\n",
      "Epoch 45: 100%|██████████| 1875/1875 [00:34<00:00, 54.85batch/s, acc=96.9, loss=0.225]\n",
      "Epoch 46: 100%|██████████| 1875/1875 [00:34<00:00, 54.75batch/s, acc=96.9, loss=0.214]\n",
      "Epoch 47: 100%|██████████| 1875/1875 [00:34<00:00, 54.60batch/s, acc=93.8, loss=0.106]\n",
      "Epoch 48: 100%|██████████| 1875/1875 [00:34<00:00, 55.09batch/s, acc=96.9, loss=0.039]\n",
      "Epoch 49: 100%|██████████| 1875/1875 [00:33<00:00, 55.42batch/s, acc=96.9, loss=0.241]\n",
      "Epoch 50: 100%|██████████| 1875/1875 [00:34<00:00, 53.93batch/s, acc=90.6, loss=0.236]\n",
      "Epoch 51: 100%|██████████| 1875/1875 [00:34<00:00, 54.93batch/s, acc=93.8, loss=0.248]\n",
      "Epoch 52: 100%|██████████| 1875/1875 [00:35<00:00, 53.53batch/s, acc=100, loss=0.0187]\n",
      "Epoch 53: 100%|██████████| 1875/1875 [00:34<00:00, 54.40batch/s, acc=93.8, loss=0.279]\n",
      "Epoch 54: 100%|██████████| 1875/1875 [00:34<00:00, 54.00batch/s, acc=93.8, loss=0.121]\n",
      "Epoch 55: 100%|██████████| 1875/1875 [00:35<00:00, 53.21batch/s, acc=100, loss=0.00782]\n",
      "Epoch 56: 100%|██████████| 1875/1875 [00:34<00:00, 53.70batch/s, acc=87.5, loss=0.299]\n",
      "Epoch 57: 100%|██████████| 1875/1875 [00:34<00:00, 53.76batch/s, acc=100, loss=0.0136]\n",
      "Epoch 58: 100%|██████████| 1875/1875 [00:35<00:00, 53.45batch/s, acc=87.5, loss=0.294]\n",
      "Epoch 59: 100%|██████████| 1875/1875 [00:35<00:00, 53.31batch/s, acc=100, loss=0.0187]\n",
      "Epoch 60: 100%|██████████| 1875/1875 [00:35<00:00, 53.43batch/s, acc=93.8, loss=0.132]\n",
      "Epoch 61: 100%|██████████| 1875/1875 [00:35<00:00, 53.54batch/s, acc=96.9, loss=0.0627]\n",
      "Epoch 62: 100%|██████████| 1875/1875 [00:34<00:00, 54.44batch/s, acc=93.8, loss=0.141]\n",
      "Epoch 63: 100%|██████████| 1875/1875 [00:35<00:00, 53.05batch/s, acc=100, loss=0.0167]\n",
      "Epoch 64: 100%|██████████| 1875/1875 [00:34<00:00, 54.35batch/s, acc=93.8, loss=0.169]\n",
      "Epoch 65: 100%|██████████| 1875/1875 [00:35<00:00, 52.94batch/s, acc=96.9, loss=0.0525]\n",
      "Epoch 66: 100%|██████████| 1875/1875 [00:35<00:00, 52.41batch/s, acc=100, loss=0.0076]\n",
      "Epoch 67: 100%|██████████| 1875/1875 [00:35<00:00, 53.29batch/s, acc=100, loss=0.0495]\n",
      "Epoch 68: 100%|██████████| 1875/1875 [00:35<00:00, 52.42batch/s, acc=93.8, loss=0.241]\n",
      "Epoch 69: 100%|██████████| 1875/1875 [00:34<00:00, 53.88batch/s, acc=96.9, loss=0.0763]\n",
      "Epoch 70: 100%|██████████| 1875/1875 [00:35<00:00, 53.21batch/s, acc=96.9, loss=0.118]\n",
      "Epoch 71: 100%|██████████| 1875/1875 [00:35<00:00, 53.50batch/s, acc=100, loss=0.00913]\n",
      "Epoch 72: 100%|██████████| 1875/1875 [00:35<00:00, 53.11batch/s, acc=96.9, loss=0.108]\n",
      "Epoch 73: 100%|██████████| 1875/1875 [00:35<00:00, 53.35batch/s, acc=96.9, loss=0.104]\n",
      "Epoch 74: 100%|██████████| 1875/1875 [00:34<00:00, 53.72batch/s, acc=100, loss=0.0239]\n",
      "Epoch 75: 100%|██████████| 1875/1875 [00:34<00:00, 54.62batch/s, acc=96.9, loss=0.167]\n",
      "Epoch 76: 100%|██████████| 1875/1875 [00:34<00:00, 55.09batch/s, acc=96.9, loss=0.0493]\n",
      "Epoch 77: 100%|██████████| 1875/1875 [00:35<00:00, 53.26batch/s, acc=100, loss=0.0786]\n",
      "Epoch 78: 100%|██████████| 1875/1875 [00:34<00:00, 54.36batch/s, acc=96.9, loss=0.0811]\n",
      "Epoch 79: 100%|██████████| 1875/1875 [00:35<00:00, 52.74batch/s, acc=100, loss=0.012]\n",
      "Epoch 80: 100%|██████████| 1875/1875 [00:34<00:00, 53.64batch/s, acc=96.9, loss=0.0739]\n",
      "Epoch 81: 100%|██████████| 1875/1875 [00:35<00:00, 53.52batch/s, acc=96.9, loss=0.109]\n",
      "Epoch 82: 100%|██████████| 1875/1875 [00:34<00:00, 53.67batch/s, acc=93.8, loss=0.161]\n",
      "Epoch 83: 100%|██████████| 1875/1875 [00:34<00:00, 53.85batch/s, acc=96.9, loss=0.0666]\n",
      "Epoch 84: 100%|██████████| 1875/1875 [00:35<00:00, 52.74batch/s, acc=100, loss=0.00527]\n",
      "Epoch 85: 100%|██████████| 1875/1875 [00:34<00:00, 54.38batch/s, acc=93.8, loss=0.16]\n",
      "Epoch 86: 100%|██████████| 1875/1875 [00:34<00:00, 54.01batch/s, acc=93.8, loss=0.284]\n",
      "Epoch 87: 100%|██████████| 1875/1875 [00:34<00:00, 54.46batch/s, acc=96.9, loss=0.0817]\n",
      "Epoch 88: 100%|██████████| 1875/1875 [00:35<00:00, 53.48batch/s, acc=93.8, loss=0.0845]\n",
      "Epoch 89: 100%|██████████| 1875/1875 [00:35<00:00, 52.51batch/s, acc=96.9, loss=0.0518]\n",
      "Epoch 90: 100%|██████████| 1875/1875 [00:35<00:00, 53.23batch/s, acc=100, loss=0.026]\n",
      "Epoch 91: 100%|██████████| 1875/1875 [00:35<00:00, 53.25batch/s, acc=93.8, loss=0.0696]\n",
      "Epoch 92: 100%|██████████| 1875/1875 [00:35<00:00, 52.91batch/s, acc=100, loss=0.0204]\n",
      "Epoch 93: 100%|██████████| 1875/1875 [00:35<00:00, 52.95batch/s, acc=100, loss=0.0172]\n",
      "Epoch 94: 100%|██████████| 1875/1875 [00:35<00:00, 53.01batch/s, acc=93.8, loss=0.0917]\n",
      "Epoch 95: 100%|██████████| 1875/1875 [00:35<00:00, 53.37batch/s, acc=100, loss=0.0116]\n",
      "Epoch 96: 100%|██████████| 1875/1875 [00:35<00:00, 53.02batch/s, acc=96.9, loss=0.0739]\n",
      "Epoch 97: 100%|██████████| 1875/1875 [00:35<00:00, 53.14batch/s, acc=96.9, loss=0.0419]\n",
      "Epoch 98: 100%|██████████| 1875/1875 [00:35<00:00, 52.59batch/s, acc=100, loss=0.0364]\n",
      "Epoch 99: 100%|██████████| 1875/1875 [00:35<00:00, 52.35batch/s, acc=93.8, loss=0.0801]\n"
     ]
    }
   ],
   "source": [
    "net.train()\n",
    "for epoch in range(n_epochs):\n",
    "    with tqdm(train_loader, unit=\"batch\") as tepoch:\n",
    "        for i, sample in enumerate(tepoch):\n",
    "            tepoch.set_description(f\"Epoch {epoch}\")\n",
    "            input, target_set, target_mask = map(lambda x: x.cuda(), sample)\n",
    "            optimizer.zero_grad()\n",
    "            output = net(target_set,target_mask)\n",
    "            loss = F.cross_entropy(output, input)\n",
    "            acc = (output.max(dim=1)[1] == input).float().mean()\n",
    "            loss.backward()\n",
    "            optimizer.step()\n",
    "            tepoch.set_postfix(loss=loss.item(), acc=100. * acc.item())"
   ]
  },
  {
   "cell_type": "code",
   "execution_count": 13,
   "id": "eHXREpdVHywV",
   "metadata": {
    "colab": {
     "base_uri": "https://localhost:8080/"
    },
    "id": "eHXREpdVHywV",
    "outputId": "5eaf4c80-068a-499f-9455-b31ebcb5ec45"
   },
   "outputs": [
    {
     "name": "stderr",
     "output_type": "stream",
     "text": [
      "\r",
      "  0%|          | 0/312 [00:00<?, ?batch/s]/usr/local/lib/python3.7/dist-packages/torch/utils/data/dataloader.py:481: UserWarning: This DataLoader will create 4 worker processes in total. Our suggested max number of worker in current system is 2, which is smaller than what this DataLoader is going to create. Please be aware that excessive worker creation might get DataLoader running slow or even freeze, lower the worker number to avoid potential slowness/freeze if necessary.\n",
      "  cpuset_checked))\n",
      "Epoch 99: 100%|██████████| 312/312 [00:04<00:00, 63.70batch/s, acc=93.8, loss=0.275]\n"
     ]
    }
   ],
   "source": [
    "net.eval()\n",
    "with tqdm(test_loader, unit=\"batch\") as tepoch:\n",
    "    for i, sample in enumerate(tepoch):\n",
    "        tepoch.set_description(f\"Epoch {epoch}\")\n",
    "        input, target_set, target_mask = map(lambda x: x.cuda(), sample)\n",
    "        output = net(target_set,target_mask)\n",
    "        loss = F.cross_entropy(output, input)\n",
    "        acc = (output.max(dim=1)[1] == input).float().mean()\n",
    "        tepoch.set_postfix(loss=loss.item(), acc=100. * acc.item())"
   ]
  },
  {
   "cell_type": "code",
   "execution_count": 18,
   "id": "ac22cc0a",
   "metadata": {
    "id": "ac22cc0a"
   },
   "outputs": [],
   "source": [
    "#torch.save(net.state_dict(),'model.pth')"
   ]
  },
  {
   "cell_type": "code",
   "execution_count": 13,
   "id": "D8ViyjmmmjLp",
   "metadata": {
    "id": "D8ViyjmmmjLp"
   },
   "outputs": [],
   "source": [
    "model = torch.load('model.pth' ,map_location=torch.device('cpu'))\n",
    "miNet = FSEncoderClasification(set_channels,latent_dim,hidden_dim)"
   ]
  },
  {
   "cell_type": "code",
   "execution_count": 15,
   "id": "DAGv7KMIm5cA",
   "metadata": {
    "colab": {
     "base_uri": "https://localhost:8080/"
    },
    "id": "DAGv7KMIm5cA",
    "outputId": "3b0b7405-3f2c-4da7-c820-951df018a64b"
   },
   "outputs": [
    {
     "data": {
      "text/plain": [
       "<All keys matched successfully>"
      ]
     },
     "execution_count": 15,
     "metadata": {},
     "output_type": "execute_result"
    }
   ],
   "source": [
    "miNet.load_state_dict(torch.load('model.pth' ,map_location=torch.device('cpu')))"
   ]
  },
  {
   "cell_type": "code",
   "execution_count": 18,
   "id": "-ZqURtZOml2o",
   "metadata": {
    "colab": {
     "base_uri": "https://localhost:8080/"
    },
    "id": "-ZqURtZOml2o",
    "outputId": "da2fba4e-e25a-450d-94e9-3323b01c8e15"
   },
   "outputs": [
    {
     "name": "stderr",
     "output_type": "stream",
     "text": [
      "Epoch 0: 100%|███████| 312/312 [00:10<00:00, 28.52batch/s, acc=93.8, loss=0.129]\n"
     ]
    }
   ],
   "source": [
    "miNet = miNet\n",
    "miNet.eval()\n",
    "with tqdm(test_loader, unit=\"batch\") as tepoch:\n",
    "    for i, sample in enumerate(tepoch):\n",
    "        tepoch.set_description(f\"Epoch {0}\")\n",
    "        input, target_set, target_mask = map(lambda x: x, sample)\n",
    "        output = miNet(target_set,target_mask)\n",
    "        loss = F.cross_entropy(output, input)\n",
    "        acc = (output.max(dim=1)[1] == input).float().mean()\n",
    "        tepoch.set_postfix(loss=loss.item(), acc=100. * acc.item())"
   ]
  },
  {
   "cell_type": "code",
   "execution_count": 30,
   "id": "1ec454af",
   "metadata": {},
   "outputs": [
    {
     "data": {
      "text/plain": [
       "FSEncoderClasification(\n",
       "  (conv): Sequential(\n",
       "    (0): Conv1d(2, 32, kernel_size=(1,), stride=(1,))\n",
       "    (1): ReLU(inplace=True)\n",
       "    (2): Conv1d(32, 32, kernel_size=(1,), stride=(1,))\n",
       "  )\n",
       "  (lin): Sequential(\n",
       "    (0): Linear(in_features=32, out_features=32, bias=True)\n",
       "    (1): ReLU(inplace=True)\n",
       "    (2): Linear(in_features=32, out_features=16, bias=True)\n",
       "  )\n",
       "  (classifier): Sequential(\n",
       "    (0): Linear(in_features=16, out_features=16, bias=True)\n",
       "    (1): ReLU()\n",
       "    (2): Linear(in_features=16, out_features=10, bias=True)\n",
       "  )\n",
       "  (pool): FSPool()\n",
       ")"
      ]
     },
     "execution_count": 30,
     "metadata": {},
     "output_type": "execute_result"
    }
   ],
   "source": [
    "miNet"
   ]
  },
  {
   "cell_type": "markdown",
   "id": "f3e7a48e",
   "metadata": {},
   "source": [
    "## Visualización de los filtros"
   ]
  },
  {
   "cell_type": "code",
   "execution_count": 103,
   "id": "19da3587",
   "metadata": {},
   "outputs": [],
   "source": [
    "import seaborn as sn\n",
    "import matplotlib\n",
    "import matplotlib.pyplot as pyplot\n",
    "import numpy as np"
   ]
  },
  {
   "cell_type": "code",
   "execution_count": 50,
   "id": "707d4b61",
   "metadata": {},
   "outputs": [
    {
     "data": {
      "image/png": "[encoded data removed]",
      "text/plain": [
       "<Figure size 432x288 with 2 Axes>"
      ]
     },
     "metadata": {
      "needs_background": "light"
     },
     "output_type": "display_data"
    },
    {
     "data": {
      "image/png": "[encoded data removed]",
      "text/plain": [
       "<Figure size 432x288 with 2 Axes>"
      ]
     },
     "metadata": {
      "needs_background": "light"
     },
     "output_type": "display_data"
    }
   ],
   "source": [
    "filters= miNet.conv[0].weight\n",
    "data = filters.squeeze(2).detach().numpy()\n",
    "sn.heatmap(data, annot=False, fmt='g')\n",
    "pyplot.title(\"Primera capa de conv1d\")\n",
    "pyplot.show()\n",
    "filters= miNet.conv[2].weight\n",
    "data = filters.squeeze(2).detach().numpy()\n",
    "sn.heatmap(data, annot=False, fmt='g')\n",
    "pyplot.title(\"Segunda capa de conv1d\")\n",
    "pyplot.show()"
   ]
  },
  {
   "cell_type": "code",
   "execution_count": 56,
   "id": "7f594ab7",
   "metadata": {},
   "outputs": [
    {
     "name": "stdout",
     "output_type": "stream",
     "text": [
      "torch.Size([32, 21])\n"
     ]
    },
    {
     "data": {
      "image/png": "[encoded data removed]",
      "text/plain": [
       "<Figure size 432x288 with 2 Axes>"
      ]
     },
     "metadata": {
      "needs_background": "light"
     },
     "output_type": "display_data"
    }
   ],
   "source": [
    "filters= miNet.pool.weight\n",
    "print(filters.shape)\n",
    "data = filters.detach().numpy()\n",
    "sn.heatmap(data, annot=False, fmt='g')\n",
    "pyplot.title(\"Pesos de la capa fspool\")\n",
    "pyplot.show()"
   ]
  },
  {
   "cell_type": "code",
   "execution_count": 58,
   "id": "3f0304bd",
   "metadata": {},
   "outputs": [
    {
     "name": "stdout",
     "output_type": "stream",
     "text": [
      "torch.Size([32, 32])\n"
     ]
    },
    {
     "data": {
      "image/png": "[encoded data removed]",
      "text/plain": [
       "<Figure size 432x288 with 2 Axes>"
      ]
     },
     "metadata": {
      "needs_background": "light"
     },
     "output_type": "display_data"
    },
    {
     "data": {
      "image/png": "[encoded data removed]",
      "text/plain": [
       "<Figure size 432x288 with 2 Axes>"
      ]
     },
     "metadata": {
      "needs_background": "light"
     },
     "output_type": "display_data"
    },
    {
     "data": {
      "image/png": "[encoded data removed]",
      "text/plain": [
       "<Figure size 432x288 with 2 Axes>"
      ]
     },
     "metadata": {
      "needs_background": "light"
     },
     "output_type": "display_data"
    },
    {
     "data": {
      "image/png": "[encoded data removed]",
      "text/plain": [
       "<Figure size 432x288 with 2 Axes>"
      ]
     },
     "metadata": {
      "needs_background": "light"
     },
     "output_type": "display_data"
    }
   ],
   "source": [
    "filters= miNet.lin[0].weight\n",
    "print(filters.shape)\n",
    "data = filters.detach().numpy()\n",
    "sn.heatmap(data, annot=False, fmt='g')\n",
    "pyplot.title(\"Primera capa de redes neuronales\")\n",
    "pyplot.show()\n",
    "filters= miNet.lin[2].weight\n",
    "data = filters.detach().numpy()\n",
    "sn.heatmap(data, annot=False, fmt='g')\n",
    "pyplot.title(\"Segunda capa de redes neuronales\")\n",
    "pyplot.show()\n",
    "filters= miNet.classifier[0].weight\n",
    "data = filters.detach().numpy()\n",
    "sn.heatmap(data, annot=False, fmt='g')\n",
    "pyplot.title(\"Tercera capa de redes neuronales\")\n",
    "pyplot.show()\n",
    "filters= miNet.classifier[2].weight\n",
    "data = filters.detach().numpy()\n",
    "sn.heatmap(data, annot=False, fmt='g')\n",
    "pyplot.title(\"Última capa de redes neuronales\")\n",
    "pyplot.show()"
   ]
  },
  {
   "cell_type": "code",
   "execution_count": 116,
   "id": "77027b9c",
   "metadata": {},
   "outputs": [
    {
     "data": {
      "image/png": "[encoded data removed]",
      "text/plain": [
       "<Figure size 432x288 with 1 Axes>"
      ]
     },
     "metadata": {
      "needs_background": "light"
     },
     "output_type": "display_data"
    },
    {
     "data": {
      "text/plain": [
       "torch.Tensor"
      ]
     },
     "execution_count": 116,
     "metadata": {},
     "output_type": "execute_result"
    }
   ],
   "source": [
    "dataset = MNISTSet(train=False, full=True)\n",
    "expected, sample,mask_sample = dataset[0]\n",
    "x = sample[1, :]\n",
    "y = sample[0, :]\n",
    "pyplot.scatter(x, y,color ='b')\n",
    "pyplot.axis([0, 1, 1, 0])\n",
    "pyplot.title('Label: {}'.format(expected))\n",
    "#plt.savefig('test.png')\n",
    "pyplot.show()\n",
    "sample = sample.unsqueeze(0)\n",
    "mask_sample = mask_sample.unsqueeze(0)\n",
    "expected = torch.tensor(expected).unsqueeze(0)\n",
    "type(sample)\n"
   ]
  },
  {
   "cell_type": "code",
   "execution_count": 160,
   "id": "0a17c162",
   "metadata": {},
   "outputs": [
    {
     "name": "stdout",
     "output_type": "stream",
     "text": [
      "We obtained 7, and the expected is: 7\n"
     ]
    }
   ],
   "source": [
    "with torch.no_grad():\n",
    "    pred = miNet(sample,mask_sample)\n",
    "    print(\"We obtained {}, and the expected is: {}\".format(np.argmax(pred).item(),expected.item()))"
   ]
  },
  {
   "cell_type": "code",
   "execution_count": 206,
   "id": "81af855d",
   "metadata": {},
   "outputs": [],
   "source": [
    "#Creación del modelo pre-fspooling\n",
    "class Model1(nn.Module):\n",
    "    def __init__(self, input_channels, output_channels, dim):\n",
    "        super().__init__()\n",
    "        for m in self.modules():\n",
    "            if (\n",
    "                isinstance(m, nn.Linear)\n",
    "                or isinstance(m, nn.Conv2d)\n",
    "                or isinstance(m, nn.Conv1d)\n",
    "            ):\n",
    "                init.xavier_uniform_(m.weight)\n",
    "                if m.bias is not None:\n",
    "                    m.bias.data.zero_()\n",
    "        self.conv = nn.Sequential(\n",
    "            nn.Conv1d(input_channels, dim, 1),\n",
    "            nn.ReLU(inplace=True),\n",
    "            nn.Conv1d(dim, dim, 1),\n",
    "        )\n",
    "        #self.conv[0] = miNet.conv[0].weight\n",
    "        #self.conv[2] = miNet.conv[2].weight\n",
    "        #self.lin = self.lin.fill_(miNet.lin.weight)\n",
    "        #self.classifier = self.classifier.fill_(miNet.classifier.weight)\n",
    "        #self.pool = FSPool(dim, 20, relaxed=False)\n",
    "\n",
    "    def forward(self, x, mask=None):\n",
    "        x = self.conv(x)\n",
    "        #x, perm = self.pool(x)\n",
    "        #x = self.lin(x)\n",
    "        #x = self.classifier(x)\n",
    "        return x\n",
    "#Creación del modelo post-fspooling"
   ]
  },
  {
   "cell_type": "code",
   "execution_count": 221,
   "id": "bd1e9c1f",
   "metadata": {},
   "outputs": [],
   "source": [
    "#Creación del modelo pre-fspooling\n",
    "class Model2(nn.Module):\n",
    "    def __init__(self, input_channels, output_channels, dim):\n",
    "        super().__init__()\n",
    "        for m in self.modules():\n",
    "            if (\n",
    "                isinstance(m, nn.Linear)\n",
    "                or isinstance(m, nn.Conv2d)\n",
    "                or isinstance(m, nn.Conv1d)\n",
    "            ):\n",
    "                init.xavier_uniform_(m.weight)\n",
    "                if m.bias is not None:\n",
    "                    m.bias.data.zero_()\n",
    "        self.conv = nn.Sequential(\n",
    "            nn.Conv1d(input_channels, dim, 1),\n",
    "            nn.ReLU(inplace=True),\n",
    "            nn.Conv1d(dim, dim, 1),\n",
    "        )\n",
    "        #self.conv[0] = miNet.conv[0].weight\n",
    "        #self.conv[2] = miNet.conv[2].weight\n",
    "        #self.lin = self.lin.fill_(miNet.lin.weight)\n",
    "        #self.classifier = self.classifier.fill_(miNet.classifier.weight)\n",
    "        self.pool = FSPool(dim, 20, relaxed=False)\n",
    "\n",
    "    def forward(self, x, mask=None):\n",
    "        x = self.conv(x)\n",
    "        x, perm = self.pool(x)\n",
    "        #x = self.lin(x)\n",
    "        #x = self.classifier(x)\n",
    "        return x\n",
    "#Creación del modelo post-fspooling"
   ]
  },
  {
   "cell_type": "code",
   "execution_count": 280,
   "id": "ddb2c6fa",
   "metadata": {},
   "outputs": [],
   "source": [
    "#Creación del modelo pre-fspooling\n",
    "class Model3(nn.Module):\n",
    "    def __init__(self, input_channels, output_channels, dim):\n",
    "        super().__init__()\n",
    "        for m in self.modules():\n",
    "            if (\n",
    "                isinstance(m, nn.Linear)\n",
    "                or isinstance(m, nn.Conv2d)\n",
    "                or isinstance(m, nn.Conv1d)\n",
    "            ):\n",
    "                init.xavier_uniform_(m.weight)\n",
    "                if m.bias is not None:\n",
    "                    m.bias.data.zero_()\n",
    "        self.conv = nn.Sequential(\n",
    "            nn.Conv1d(input_channels, dim, 1),\n",
    "            nn.ReLU(inplace=True),\n",
    "            nn.Conv1d(dim, dim, 1),\n",
    "        )\n",
    "        #self.conv[0] = miNet.conv[0].weight\n",
    "        #self.conv[2] = miNet.conv[2].weight\n",
    "        self.lin = nn.Sequential(\n",
    "            nn.Linear(dim, dim, 1),\n",
    "            nn.ReLU(inplace=True),\n",
    "            nn.Linear(dim, output_channels, 1),\n",
    "        )\n",
    "        #self.classifier = self.classifier.fill_(miNet.classifier.weight)\n",
    "        self.pool = FSPool(dim, 20, relaxed=False)\n",
    "\n",
    "    def forward(self, x, mask=None):\n",
    "        x = self.conv(x)\n",
    "        x, perm = self.pool(x)\n",
    "        x = self.lin(x)\n",
    "        #x = self.classifier(x)\n",
    "        return x\n",
    "#Creación del modelo post-fspooling"
   ]
  },
  {
   "cell_type": "code",
   "execution_count": 212,
   "id": "46391ca9",
   "metadata": {},
   "outputs": [
    {
     "data": {
      "text/plain": [
       "Sequential(\n",
       "  (0): Conv1d(2, 32, kernel_size=(1,), stride=(1,))\n",
       "  (1): ReLU(inplace=True)\n",
       "  (2): Conv1d(32, 32, kernel_size=(1,), stride=(1,))\n",
       ")"
      ]
     },
     "execution_count": 212,
     "metadata": {},
     "output_type": "execute_result"
    }
   ],
   "source": [
    "pre_fspool = miNet.conv\n",
    "pre_fspool"
   ]
  },
  {
   "cell_type": "code",
   "execution_count": 228,
   "id": "7c9f46f0",
   "metadata": {},
   "outputs": [
    {
     "data": {
      "text/plain": [
       "FSPool()"
      ]
     },
     "execution_count": 228,
     "metadata": {},
     "output_type": "execute_result"
    }
   ],
   "source": [
    "post_fspool = miNet.pool\n",
    "post_fspool"
   ]
  },
  {
   "cell_type": "code",
   "execution_count": 284,
   "id": "fe9da133",
   "metadata": {},
   "outputs": [
    {
     "name": "stdout",
     "output_type": "stream",
     "text": [
      "torch.Size([1, 32, 342])\n"
     ]
    },
    {
     "data": {
      "image/png": "[encoded data removed]",
      "text/plain": [
       "<Figure size 432x288 with 2 Axes>"
      ]
     },
     "metadata": {
      "needs_background": "light"
     },
     "output_type": "display_data"
    },
    {
     "name": "stdout",
     "output_type": "stream",
     "text": [
      "torch.Size([1, 32])\n"
     ]
    },
    {
     "data": {
      "image/png": "[encoded data removed]",
      "text/plain": [
       "<Figure size 432x288 with 2 Axes>"
      ]
     },
     "metadata": {
      "needs_background": "light"
     },
     "output_type": "display_data"
    },
    {
     "name": "stdout",
     "output_type": "stream",
     "text": [
      "tensor([[  2.4619,   8.1123,  -0.4719,   5.4784,  -1.3521,  12.0079,  -2.5932,\n",
      "           9.9363,   1.9062,  -0.2056,   3.0833,   0.0487,   1.4858,  -0.4921,\n",
      "           0.0397,  -2.6345,   2.0616,  -3.7978,   3.7567,   2.1446, -11.0183,\n",
      "          -0.7330,   3.3015,   3.1608,   5.9236,   2.8803, -10.4164,  -7.3988,\n",
      "           1.0146,   0.4287,   2.0999,  -2.7661]])\n"
     ]
    }
   ],
   "source": [
    "model1 = Model1(set_channels,latent_dim,hidden_dim)\n",
    "model2 = Model2(set_channels,latent_dim,hidden_dim)\n",
    "model1.conv = pre_fspool\n",
    "model2.conv = pre_fspool\n",
    "model2.pool = post_fspool\n",
    "#print(miNet.conv[0].weight) \n",
    "#print(model1.conv[0].weight)\n",
    "with torch.no_grad():\n",
    "    pred = model1(sample,mask_sample)\n",
    "    print(pred.shape)\n",
    "    nfeatures_pred = pred\n",
    "    data = pred.squeeze(0).detach().numpy()\n",
    "    sn.heatmap(data, annot=False, fmt='g')\n",
    "    pyplot.title(\"Salida después de la primera capa\")\n",
    "    pyplot.show()\n",
    "    \n",
    "    pred = model2(sample,mask_sample)\n",
    "    print(pred.shape)\n",
    "    data = pred.detach().numpy()\n",
    "    sn.heatmap(data, annot=False, fmt='g')\n",
    "    pyplot.title(\"Salida después del fspool\")\n",
    "    pyplot.show()\n",
    "    print(pred)\n",
    "    nfeatures = pred\n",
    "    \n",
    "    "
   ]
  },
  {
   "cell_type": "markdown",
   "id": "7ba28630",
   "metadata": {},
   "source": [
    "## Visualización de los puntos críticos"
   ]
  },
  {
   "cell_type": "code",
   "execution_count": 293,
   "id": "d6e5ed08",
   "metadata": {},
   "outputs": [
    {
     "name": "stdout",
     "output_type": "stream",
     "text": [
      "torch.Size([32, 342])\n",
      "[  2.4619327    8.112284    -0.47186106   5.478394    -1.3520725\n",
      "  12.007883    -2.5931895    9.936328     1.90622     -0.20556091\n",
      "   3.0833201    0.04869604   1.4857514   -0.49212384   0.03970689\n",
      "  -2.634492     2.0615869   -3.7978432    3.7567182    2.1446004\n",
      " -11.018257    -0.7330489    3.3014803    3.1608384    5.9236\n",
      "   2.88028    -10.416417    -7.3988466    1.014563     0.4287213\n",
      "   2.09993     -2.7660809 ]\n",
      "[0. 0. 0. 0. 0. 0. 0. 0. 0. 0. 0. 0. 0. 0. 0. 0. 0. 0. 0. 0. 0. 0. 0. 0.\n",
      " 0. 0. 0. 0. 0. 0. 0. 0. 0. 0. 0. 0. 0. 0. 0. 0. 0. 0. 0. 0. 0. 0. 0. 0.\n",
      " 0. 0. 0. 0. 0. 0. 0. 0. 0. 0. 0. 0. 0. 0. 0. 0. 0. 0. 0. 0. 0. 0. 0. 0.\n",
      " 0. 0. 0. 0. 0. 0. 0. 0. 0. 0. 0. 0. 0. 0. 0. 0. 0. 0. 0. 0. 0. 0. 0. 0.\n",
      " 0. 0. 0. 0. 0. 0. 0. 0. 0. 0. 0. 0. 0. 0. 0. 0. 0. 0. 0. 0. 0. 0. 0. 0.\n",
      " 0. 0. 0. 0. 0. 0. 0. 0. 0. 0. 0. 0. 0. 0. 0. 0. 0. 0. 0. 0. 0. 0. 0. 0.\n",
      " 0. 0. 0. 0. 0. 0. 0. 0. 0. 0. 0. 0. 0. 0. 0. 0. 0. 0. 0. 0. 0. 0. 0. 0.\n",
      " 0. 0. 0. 0. 0. 0. 0. 0. 0. 0. 0. 0. 0. 0. 0. 0. 0. 0. 0. 0. 0. 0. 0. 0.\n",
      " 0. 0. 0. 0. 0. 0. 0. 0. 0. 0. 0. 0. 0. 0. 0. 0. 0. 0. 0. 0. 0. 0. 0. 0.\n",
      " 0. 0. 0. 0. 0. 0. 0. 0. 0. 0. 0. 0. 0. 0. 0. 0. 0. 0. 0. 0. 0. 0. 0. 0.\n",
      " 0. 0. 0. 0. 0. 0. 0. 0. 0. 0. 0. 0. 0. 0. 0. 0. 0. 0. 0. 0. 0. 0. 0. 0.\n",
      " 0. 0. 0. 0. 0. 0. 0. 0. 0. 0. 0. 0. 0. 0. 0. 0. 0. 0. 0. 0. 0. 0. 0. 0.\n",
      " 0. 0. 0. 0. 0. 0. 0. 0. 0. 0. 0. 0. 0. 0. 0. 0. 0. 0. 0. 0. 0. 0. 0. 0.\n",
      " 0. 0. 0. 0. 0. 0. 0. 0. 0. 0. 0. 0. 0. 0. 0. 0. 0. 0. 0. 0. 0. 0. 0. 0.\n",
      " 0. 0. 0. 0. 0. 0.]\n",
      "+++++++++++++++++\n",
      "torch.Size([32, 342])\n"
     ]
    }
   ],
   "source": [
    "npoints = sample.squeeze(0).squeeze(0).numpy()\n",
    "nfeatures.shape\n",
    "nfeatures_prev = nfeatures_pred.squeeze(0)\n",
    "print(nfeatures_prev.shape)\n",
    "critical = np.zeros(342)\n",
    "nfeature = nfeatures.squeeze(0).numpy()\n",
    "print(nfeature)\n",
    "for f in range(32):\n",
    "    for p in range(342):\n",
    "        if nfeatures_prev[f,p] == nfeature[f]:\n",
    "            critical[p] = critical[p] +1\n",
    "print(critical)\n",
    "print(\"+++++++++++++++++\")\n",
    "print(nfeatures_prev.shape)"
   ]
  }
 ],
 "metadata": {
  "accelerator": "GPU",
  "colab": {
   "collapsed_sections": [],
   "name": "Clasificador_DeepSet.ipynb",
   "provenance": []
  },
  "kernelspec": {
   "display_name": "Python 3 (ipykernel)",
   "language": "python",
   "name": "python3"
  },
  "language_info": {
   "codemirror_mode": {
    "name": "ipython",
    "version": 3
   },
   "file_extension": ".py",
   "mimetype": "text/x-python",
   "name": "python",
   "nbconvert_exporter": "python",
   "pygments_lexer": "ipython3",
   "version": "3.8.12"
  }
 },
 "nbformat": 4,
 "nbformat_minor": 5
}
