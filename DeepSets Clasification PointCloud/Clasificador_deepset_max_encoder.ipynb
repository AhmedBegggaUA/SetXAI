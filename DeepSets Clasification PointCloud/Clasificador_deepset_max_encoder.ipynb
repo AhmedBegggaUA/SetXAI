{
 "cells": [
  {
   "cell_type": "code",
   "execution_count": 145,
   "id": "aa890d21",
   "metadata": {},
   "outputs": [],
   "source": [
    "import sys\n",
    "sys.path.insert(0, '/Users/ahmedbegga/Desktop/TFG-Ahmed/SetXAI/src')"
   ]
  },
  {
   "cell_type": "code",
   "execution_count": 418,
   "id": "87f1d1fb",
   "metadata": {},
   "outputs": [],
   "source": [
    "import torch\n",
    "import torch.nn as nn\n",
    "import torch.nn.functional as F\n",
    "from model import MaxEncoder\n",
    "from MnistSet import MNISTSet\n",
    "from MnistSet import get_loader\n",
    "import trimesh\n",
    "from matplotlib import pyplot as plt\n",
    "import numpy as np\n",
    "import h5py\n",
    "from torch.utils.data import DataLoader, Dataset, TensorDataset\n",
    "from time import sleep\n",
    "from tqdm import tqdm"
   ]
  },
  {
   "cell_type": "code",
   "execution_count": 581,
   "id": "f2fb2372",
   "metadata": {},
   "outputs": [],
   "source": [
    "DATA_DIR = \"/Users/ahmedbegga/Desktop/TFG-Ahmed/SetXAI/DeepSets Clasification PointCloud/10/raw\""
   ]
  },
  {
   "cell_type": "code",
   "execution_count": 586,
   "id": "afcba65d",
   "metadata": {},
   "outputs": [
    {
     "data": {
      "image/png": "[encoded data removed]",
      "text/plain": [
       "<Figure size 360x360 with 1 Axes>"
      ]
     },
     "metadata": {
      "needs_background": "light"
     },
     "output_type": "display_data"
    }
   ],
   "source": [
    "mesh = trimesh.load(os.path.join(DATA_DIR, \"chair/train/chair_0001.off\"))\n",
    "points = mesh.sample(10000)\n",
    "fig = plt.figure(figsize=(5, 5))\n",
    "ax = fig.add_subplot(111, projection=\"3d\")\n",
    "ax.scatter(points[:, 0], points[:, 1], points[:, 2],color = 'r')\n",
    "ax.set_axis_off()\n",
    "plt.show()\n"
   ]
  },
  {
   "cell_type": "code",
   "execution_count": 169,
   "id": "0edcb09d",
   "metadata": {},
   "outputs": [
    {
     "name": "stdout",
     "output_type": "stream",
     "text": [
      "processing class: bed\n",
      "processing class: monitor\n",
      "processing class: desk\n",
      "processing class: chair\n",
      "processing class: dresser\n",
      "processing class: toilet\n",
      "processing class: sofa\n",
      "processing class: table\n",
      "processing class: night_stand\n",
      "processing class: bathtub\n"
     ]
    }
   ],
   "source": [
    "def parse_dataset(num_points=2048):\n",
    "\n",
    "    train_points = []\n",
    "    train_labels = []\n",
    "    test_points = []\n",
    "    test_labels = []\n",
    "    class_map = {}\n",
    "    folders = glob.glob(os.path.join(DATA_DIR, \"[!README]*\"))\n",
    "\n",
    "    for i, folder in enumerate(folders):\n",
    "        print(\"processing class: {}\".format(os.path.basename(folder)))\n",
    "        # store folder name with ID so we can retrieve later\n",
    "        class_map[i] = folder.split(\"/\")[-1]\n",
    "        # gather all files\n",
    "        train_files = glob.glob(os.path.join(folder, \"train/*\"))\n",
    "        test_files = glob.glob(os.path.join(folder, \"test/*\"))\n",
    "\n",
    "        for f in train_files:\n",
    "            train_points.append(trimesh.load(f).sample(num_points))\n",
    "            train_labels.append(i)\n",
    "\n",
    "        for f in test_files:\n",
    "            test_points.append(trimesh.load(f).sample(num_points))\n",
    "            test_labels.append(i)\n",
    "\n",
    "    return (\n",
    "        np.array(train_points),\n",
    "        np.array(test_points),\n",
    "        np.array(train_labels),\n",
    "        np.array(test_labels),\n",
    "        class_map,\n",
    "    )\n",
    "\n",
    "NUM_POINTS = 2048\n",
    "NUM_CLASSES = 10\n",
    "BATCH_SIZE = 32\n",
    "\n",
    "train_points, test_points, train_labels, test_labels, CLASS_MAP = parse_dataset(\n",
    "    NUM_POINTS\n",
    ")"
   ]
  },
  {
   "cell_type": "code",
   "execution_count": 333,
   "id": "9f916507",
   "metadata": {},
   "outputs": [
    {
     "data": {
      "text/plain": [
       "array([[ 23.06605756, -38.63527577,   6.4624    ],\n",
       "       [ -7.14184149,  12.86429609,  -5.3071    ],\n",
       "       [ 11.1825    , -31.88255005, -15.84869184],\n",
       "       ...,\n",
       "       [  2.30348181,  38.829     ,  -5.54678823],\n",
       "       [  7.08293089, -17.35180101, -16.7497    ],\n",
       "       [  8.78074202, -35.893     ,  -8.93111214]])"
      ]
     },
     "execution_count": 333,
     "metadata": {},
     "output_type": "execute_result"
    }
   ],
   "source": [
    "train_points[0]"
   ]
  },
  {
   "cell_type": "code",
   "execution_count": 174,
   "id": "d8880ab9",
   "metadata": {},
   "outputs": [],
   "source": [
    "h5f = h5py.File('pointcloud.h5', 'w')\n",
    "h5f.create_dataset('train_points', data=train_points)\n",
    "h5f.create_dataset('test_points', data=test_points)\n",
    "h5f.create_dataset('train_labels', data=train_labels)\n",
    "h5f.create_dataset('test_labels', data=test_labels)\n",
    "h5f.close()"
   ]
  },
  {
   "cell_type": "code",
   "execution_count": 609,
   "id": "ecaf2d9b",
   "metadata": {},
   "outputs": [],
   "source": [
    "h5f.close()"
   ]
  },
  {
   "cell_type": "code",
   "execution_count": 645,
   "id": "8399b324",
   "metadata": {},
   "outputs": [],
   "source": [
    "h5f = h5py.File('pointcloud.h5','r')\n",
    "train_points = h5f['train_points'][:]\n",
    "test_points = h5f['test_points'][:]\n",
    "train_labels = h5f['train_labels'][:]\n",
    "test_labels = h5f['test_labels'][:]"
   ]
  },
  {
   "cell_type": "code",
   "execution_count": 639,
   "id": "e6ee1fd6",
   "metadata": {},
   "outputs": [
    {
     "data": {
      "text/plain": [
       "array([[ 23.06605756, -38.63527577,   6.4624    ],\n",
       "       [ -7.14184149,  12.86429609,  -5.3071    ],\n",
       "       [ 11.1825    , -31.88255005, -15.84869184],\n",
       "       ...,\n",
       "       [  2.30348181,  38.829     ,  -5.54678823],\n",
       "       [  7.08293089, -17.35180101, -16.7497    ],\n",
       "       [  8.78074202, -35.893     ,  -8.93111214]])"
      ]
     },
     "execution_count": 639,
     "metadata": {},
     "output_type": "execute_result"
    }
   ],
   "source": [
    "train_points[0]"
   ]
  },
  {
   "cell_type": "code",
   "execution_count": 644,
   "id": "6d3dbaee",
   "metadata": {},
   "outputs": [],
   "source": [
    "#train_points = train_points.reshape(train_points.shape[0],3,2048)\n",
    "#test_points = test_points.reshape(test_points.shape[0],3,2048)"
   ]
  },
  {
   "cell_type": "code",
   "execution_count": 613,
   "id": "c1022396",
   "metadata": {},
   "outputs": [
    {
     "data": {
      "text/plain": [
       "(3991, 2048, 3)"
      ]
     },
     "execution_count": 613,
     "metadata": {},
     "output_type": "execute_result"
    }
   ],
   "source": [
    "train_points.shape"
   ]
  },
  {
   "cell_type": "code",
   "execution_count": 614,
   "id": "eae57c18",
   "metadata": {},
   "outputs": [
    {
     "data": {
      "text/plain": [
       "1"
      ]
     },
     "execution_count": 614,
     "metadata": {},
     "output_type": "execute_result"
    }
   ],
   "source": [
    "train_labels[800]"
   ]
  },
  {
   "cell_type": "code",
   "execution_count": 646,
   "id": "3e63a977",
   "metadata": {},
   "outputs": [],
   "source": [
    "# Les aplicamos un poco de ruido a las figuras y les metemos un suffle\n",
    "def augment(points):\n",
    "    # jitter points\n",
    "    points += np.random.uniform(points.shape, -0.005, 0.005, dtype=tf.float64)\n",
    "    # shuffle points\n",
    "    points = np.random.shuffle(points)\n",
    "    return points\n",
    "torch_train = TensorDataset(torch.from_numpy(train_points).float(), torch.from_numpy(train_labels).long())\n",
    "torch_test = TensorDataset(torch.from_numpy(test_points).float(), torch.from_numpy(test_labels).long())\n",
    "\n",
    "    "
   ]
  },
  {
   "cell_type": "code",
   "execution_count": 647,
   "id": "c1c31354",
   "metadata": {},
   "outputs": [],
   "source": [
    "train_loader = DataLoader(torch_train, batch_size=32)\n",
    "test_loader = DataLoader(torch_test, batch_size=32)"
   ]
  },
  {
   "cell_type": "code",
   "execution_count": 648,
   "id": "c68b1fbc",
   "metadata": {},
   "outputs": [],
   "source": [
    "data_iter = iter(train_loader)\n",
    "p,l=data_iter.next()"
   ]
  },
  {
   "cell_type": "code",
   "execution_count": 649,
   "id": "1510a495",
   "metadata": {},
   "outputs": [
    {
     "data": {
      "text/plain": [
       "tensor([0, 0, 0, 0, 0, 0, 0, 0, 0, 0, 0, 0, 0, 0, 0, 0, 0, 0, 0, 0, 0, 0, 0, 0,\n",
       "        0, 0, 0, 0, 0, 0, 0, 0])"
      ]
     },
     "execution_count": 649,
     "metadata": {},
     "output_type": "execute_result"
    }
   ],
   "source": [
    "p,l=data_iter.next()\n",
    "l"
   ]
  },
  {
   "cell_type": "code",
   "execution_count": 650,
   "id": "0e9247da",
   "metadata": {},
   "outputs": [
    {
     "name": "stdout",
     "output_type": "stream",
     "text": [
      "(32, 3, 2048)\n"
     ]
    }
   ],
   "source": [
    "a =p.squeeze(0).transpose(1,2).numpy()\n",
    "print(a.shape)"
   ]
  },
  {
   "cell_type": "code",
   "execution_count": 651,
   "id": "632f4a92",
   "metadata": {},
   "outputs": [
    {
     "data": {
      "image/png": "[encoded data removed]",
      "text/plain": [
       "<Figure size 360x360 with 1 Axes>"
      ]
     },
     "metadata": {
      "needs_background": "light"
     },
     "output_type": "display_data"
    }
   ],
   "source": [
    "fig = plt.figure(figsize=(5, 5))\n",
    "ax = fig.add_subplot(111, projection=\"3d\")\n",
    "ax.scatter(a[0,0,:], a[0,1,:], a[0,2, :],color = 'r')\n",
    "ax.set_axis_off()\n",
    "plt.show()"
   ]
  },
  {
   "cell_type": "code",
   "execution_count": 673,
   "id": "23c3356e",
   "metadata": {},
   "outputs": [],
   "source": [
    "set_channels = 3\n",
    "set_size = 2048\n",
    "  \n",
    "hidden_dim = 128\n",
    "iters = 10\n",
    "latent_dim = 64\n",
    "lr = 0.001\n",
    "n_epochs = 100\n",
    "net = MaxEncoder(set_channels,latent_dim,hidden_dim)"
   ]
  },
  {
   "cell_type": "code",
   "execution_count": 674,
   "id": "b6c70fbe",
   "metadata": {},
   "outputs": [
    {
     "data": {
      "text/plain": [
       "MaxEncoder(\n",
       "  (conv): Sequential(\n",
       "    (0): Conv1d(3, 128, kernel_size=(1,), stride=(1,))\n",
       "    (1): ReLU(inplace=True)\n",
       "    (2): Conv1d(128, 128, kernel_size=(1,), stride=(1,))\n",
       "  )\n",
       "  (lin): Sequential(\n",
       "    (0): Linear(in_features=128, out_features=128, bias=True)\n",
       "    (1): ReLU(inplace=True)\n",
       "    (2): Linear(in_features=128, out_features=64, bias=True)\n",
       "  )\n",
       "  (classifier): Sequential(\n",
       "    (0): Linear(in_features=64, out_features=64, bias=True)\n",
       "    (1): ReLU()\n",
       "    (2): Linear(in_features=64, out_features=10, bias=True)\n",
       "  )\n",
       ")"
      ]
     },
     "execution_count": 674,
     "metadata": {},
     "output_type": "execute_result"
    }
   ],
   "source": [
    "net"
   ]
  },
  {
   "cell_type": "code",
   "execution_count": 675,
   "id": "01d8a956",
   "metadata": {},
   "outputs": [],
   "source": [
    "optimizer = torch.optim.Adam([p for p in net.parameters() if p.requires_grad], lr=0.001)"
   ]
  },
  {
   "cell_type": "code",
   "execution_count": 676,
   "id": "13b2207d",
   "metadata": {},
   "outputs": [
    {
     "name": "stderr",
     "output_type": "stream",
     "text": [
      "Epoch 0:  39%|███████████████████▉                               | 49/125 [00:24<00:38,  1.97batch/s, acc=100, loss=1.28]\n"
     ]
    },
    {
     "ename": "KeyboardInterrupt",
     "evalue": "",
     "output_type": "error",
     "traceback": [
      "\u001b[0;31m---------------------------------------------------------------------------\u001b[0m",
      "\u001b[0;31mKeyboardInterrupt\u001b[0m                         Traceback (most recent call last)",
      "\u001b[0;32m/var/folders/y7/1blltvf14qn2pwnxm884rdt00000gn/T/ipykernel_99192/1726591378.py\u001b[0m in \u001b[0;36m<module>\u001b[0;34m\u001b[0m\n\u001b[1;32m     12\u001b[0m             \u001b[0macc\u001b[0m \u001b[0;34m=\u001b[0m \u001b[0;34m(\u001b[0m\u001b[0moutput\u001b[0m\u001b[0;34m.\u001b[0m\u001b[0mmax\u001b[0m\u001b[0;34m(\u001b[0m\u001b[0mdim\u001b[0m\u001b[0;34m=\u001b[0m\u001b[0;36m1\u001b[0m\u001b[0;34m)\u001b[0m\u001b[0;34m[\u001b[0m\u001b[0;36m1\u001b[0m\u001b[0;34m]\u001b[0m \u001b[0;34m==\u001b[0m \u001b[0mlabel\u001b[0m\u001b[0;34m)\u001b[0m\u001b[0;34m.\u001b[0m\u001b[0mfloat\u001b[0m\u001b[0;34m(\u001b[0m\u001b[0;34m)\u001b[0m\u001b[0;34m.\u001b[0m\u001b[0mmean\u001b[0m\u001b[0;34m(\u001b[0m\u001b[0;34m)\u001b[0m\u001b[0;34m\u001b[0m\u001b[0;34m\u001b[0m\u001b[0m\n\u001b[1;32m     13\u001b[0m             \u001b[0;31m#print(output.max(dim=1))\u001b[0m\u001b[0;34m\u001b[0m\u001b[0;34m\u001b[0m\u001b[0;34m\u001b[0m\u001b[0m\n\u001b[0;32m---> 14\u001b[0;31m             \u001b[0mloss\u001b[0m\u001b[0;34m.\u001b[0m\u001b[0mbackward\u001b[0m\u001b[0;34m(\u001b[0m\u001b[0;34m)\u001b[0m\u001b[0;34m\u001b[0m\u001b[0;34m\u001b[0m\u001b[0m\n\u001b[0m\u001b[1;32m     15\u001b[0m             \u001b[0moptimizer\u001b[0m\u001b[0;34m.\u001b[0m\u001b[0mstep\u001b[0m\u001b[0;34m(\u001b[0m\u001b[0;34m)\u001b[0m\u001b[0;34m\u001b[0m\u001b[0;34m\u001b[0m\u001b[0m\n\u001b[1;32m     16\u001b[0m             \u001b[0mtepoch\u001b[0m\u001b[0;34m.\u001b[0m\u001b[0mset_postfix\u001b[0m\u001b[0;34m(\u001b[0m\u001b[0mloss\u001b[0m\u001b[0;34m=\u001b[0m\u001b[0mloss\u001b[0m\u001b[0;34m.\u001b[0m\u001b[0mitem\u001b[0m\u001b[0;34m(\u001b[0m\u001b[0;34m)\u001b[0m\u001b[0;34m,\u001b[0m \u001b[0macc\u001b[0m\u001b[0;34m=\u001b[0m\u001b[0;36m100.\u001b[0m \u001b[0;34m*\u001b[0m \u001b[0macc\u001b[0m\u001b[0;34m.\u001b[0m\u001b[0mitem\u001b[0m\u001b[0;34m(\u001b[0m\u001b[0;34m)\u001b[0m\u001b[0;34m)\u001b[0m\u001b[0;34m\u001b[0m\u001b[0;34m\u001b[0m\u001b[0m\n",
      "\u001b[0;32m~/miniforge3/envs/pytorch_m1/lib/python3.8/site-packages/torch/_tensor.py\u001b[0m in \u001b[0;36mbackward\u001b[0;34m(self, gradient, retain_graph, create_graph, inputs)\u001b[0m\n\u001b[1;32m    305\u001b[0m                 \u001b[0mcreate_graph\u001b[0m\u001b[0;34m=\u001b[0m\u001b[0mcreate_graph\u001b[0m\u001b[0;34m,\u001b[0m\u001b[0;34m\u001b[0m\u001b[0;34m\u001b[0m\u001b[0m\n\u001b[1;32m    306\u001b[0m                 inputs=inputs)\n\u001b[0;32m--> 307\u001b[0;31m         \u001b[0mtorch\u001b[0m\u001b[0;34m.\u001b[0m\u001b[0mautograd\u001b[0m\u001b[0;34m.\u001b[0m\u001b[0mbackward\u001b[0m\u001b[0;34m(\u001b[0m\u001b[0mself\u001b[0m\u001b[0;34m,\u001b[0m \u001b[0mgradient\u001b[0m\u001b[0;34m,\u001b[0m \u001b[0mretain_graph\u001b[0m\u001b[0;34m,\u001b[0m \u001b[0mcreate_graph\u001b[0m\u001b[0;34m,\u001b[0m \u001b[0minputs\u001b[0m\u001b[0;34m=\u001b[0m\u001b[0minputs\u001b[0m\u001b[0;34m)\u001b[0m\u001b[0;34m\u001b[0m\u001b[0;34m\u001b[0m\u001b[0m\n\u001b[0m\u001b[1;32m    308\u001b[0m \u001b[0;34m\u001b[0m\u001b[0m\n\u001b[1;32m    309\u001b[0m     \u001b[0;32mdef\u001b[0m \u001b[0mregister_hook\u001b[0m\u001b[0;34m(\u001b[0m\u001b[0mself\u001b[0m\u001b[0;34m,\u001b[0m \u001b[0mhook\u001b[0m\u001b[0;34m)\u001b[0m\u001b[0;34m:\u001b[0m\u001b[0;34m\u001b[0m\u001b[0;34m\u001b[0m\u001b[0m\n",
      "\u001b[0;32m~/miniforge3/envs/pytorch_m1/lib/python3.8/site-packages/torch/autograd/__init__.py\u001b[0m in \u001b[0;36mbackward\u001b[0;34m(tensors, grad_tensors, retain_graph, create_graph, grad_variables, inputs)\u001b[0m\n\u001b[1;32m    152\u001b[0m         \u001b[0mretain_graph\u001b[0m \u001b[0;34m=\u001b[0m \u001b[0mcreate_graph\u001b[0m\u001b[0;34m\u001b[0m\u001b[0;34m\u001b[0m\u001b[0m\n\u001b[1;32m    153\u001b[0m \u001b[0;34m\u001b[0m\u001b[0m\n\u001b[0;32m--> 154\u001b[0;31m     Variable._execution_engine.run_backward(\n\u001b[0m\u001b[1;32m    155\u001b[0m         \u001b[0mtensors\u001b[0m\u001b[0;34m,\u001b[0m \u001b[0mgrad_tensors_\u001b[0m\u001b[0;34m,\u001b[0m \u001b[0mretain_graph\u001b[0m\u001b[0;34m,\u001b[0m \u001b[0mcreate_graph\u001b[0m\u001b[0;34m,\u001b[0m \u001b[0minputs\u001b[0m\u001b[0;34m,\u001b[0m\u001b[0;34m\u001b[0m\u001b[0;34m\u001b[0m\u001b[0m\n\u001b[1;32m    156\u001b[0m         allow_unreachable=True, accumulate_grad=True)  # allow_unreachable flag\n",
      "\u001b[0;31mKeyboardInterrupt\u001b[0m: "
     ]
    }
   ],
   "source": [
    "net.train()\n",
    "for epoch in range(n_epochs):\n",
    "    with tqdm(train_loader, unit=\"batch\") as tepoch:\n",
    "        for i, sample in enumerate(tepoch):\n",
    "            tepoch.set_description(f\"Epoch {epoch}\")\n",
    "            points, label = map(lambda x: x, sample)\n",
    "            #print(points.shape)\n",
    "            optimizer.zero_grad()\n",
    "            mask = torch.ones(32,2048)\n",
    "            output = net(points.transpose(1,2),mask)\n",
    "            loss = F.cross_entropy(output, label)\n",
    "            acc = (output.max(dim=1)[1] == label).float().mean()\n",
    "            #print(output.max(dim=1))\n",
    "            loss.backward()\n",
    "            optimizer.step()\n",
    "            tepoch.set_postfix(loss=loss.item(), acc=100. * acc.item())"
   ]
  }
 ],
 "metadata": {
  "kernelspec": {
   "display_name": "Python 3 (ipykernel)",
   "language": "python",
   "name": "python3"
  },
  "language_info": {
   "codemirror_mode": {
    "name": "ipython",
    "version": 3
   },
   "file_extension": ".py",
   "mimetype": "text/x-python",
   "name": "python",
   "nbconvert_exporter": "python",
   "pygments_lexer": "ipython3",
   "version": "3.8.12"
  }
 },
 "nbformat": 4,
 "nbformat_minor": 5
}
